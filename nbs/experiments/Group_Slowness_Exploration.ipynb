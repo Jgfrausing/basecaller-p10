{
 "cells": [
  {
   "cell_type": "markdown",
   "metadata": {},
   "source": [
    "# Group Slowness Exploration"
   ]
  },
  {
   "cell_type": "code",
   "execution_count": 56,
   "metadata": {},
   "outputs": [],
   "source": [
    "%reload_ext autoreload\n",
    "%autoreload 2"
   ]
  },
  {
   "cell_type": "code",
   "execution_count": 57,
   "metadata": {},
   "outputs": [],
   "source": [
    "import torch\n",
    "import jkbc.model.factory as factory\n",
    "import jkbc.utils.bonito.tune as bonito"
   ]
  },
  {
   "cell_type": "code",
   "execution_count": 58,
   "metadata": {},
   "outputs": [],
   "source": [
    "device = torch.device(\"cuda\")\n",
    "window_size = 4096\n",
    "groups_for_g = 2"
   ]
  },
  {
   "cell_type": "code",
   "execution_count": 59,
   "metadata": {},
   "outputs": [],
   "source": [
    "# Config for no groups\n",
    "config_nog = {'b1_dilation': 1,\n",
    " 'b1_filters': 256,\n",
    " 'b1_kernel': 33,\n",
    " 'b1_repeat': 5,\n",
    " 'b1_groups': 1,\n",
    " 'b1_shuffle': False,\n",
    " 'b2_dilation': 1,\n",
    " 'b2_filters': 256,\n",
    " 'b2_kernel': 39,\n",
    " 'b2_repeat': 5,\n",
    " 'b2_groups': 1,\n",
    " 'b2_shuffle': False,\n",
    " 'b3_dilation': 1,\n",
    " 'b3_filters': 512,\n",
    " 'b3_kernel': 51,\n",
    " 'b3_repeat': 5,\n",
    " 'b3_groups': 1,\n",
    " 'b3_shuffle': False,\n",
    " 'b4_dilation': 1,\n",
    " 'b4_filters': 512,\n",
    " 'b4_kernel': 63,\n",
    " 'b4_repeat': 5,\n",
    " 'b4_groups': 1,\n",
    " 'b4_shuffle': False,\n",
    " 'b5_dilation': 1,\n",
    " 'b5_filters': 512,\n",
    " 'b5_kernel': 75,\n",
    " 'b5_repeat': 5,\n",
    " 'b5_groups': 1,\n",
    " 'b5_shuffle': False,\n",
    " 'b_blocks': 5,\n",
    " 'c1_filters': 256,\n",
    " 'c1_kernel': 33,\n",
    " 'c1_stride': 3,\n",
    " 'c2_filters': 512,\n",
    " 'c2_kernel': 87,\n",
    " 'c3_filters': 1024,\n",
    " 'c3_kernel': 1,\n",
    " 'dropout': 0.0,\n",
    " 'scale_output_to_size': None}"
   ]
  },
  {
   "cell_type": "code",
   "execution_count": 61,
   "metadata": {},
   "outputs": [],
   "source": [
    "# Config for groups\n",
    "group_keys = ['b1_groups', 'b2_groups', 'b3_groups', 'b4_groups', 'b5_groups']\n",
    "config_g = config_nog.copy()\n",
    "for key in group_keys:\n",
    "    config_g[key] = groups_for_g"
   ]
  },
  {
   "cell_type": "code",
   "execution_count": 62,
   "metadata": {},
   "outputs": [],
   "source": [
    "# no groups\n",
    "bon_conf_nog = bonito.get_bonito_config(config_nog, double_kernel_sizes=False)\n",
    "model_nog, _ = factory.bonito(window_size, device, bon_conf_nog)"
   ]
  },
  {
   "cell_type": "code",
   "execution_count": 63,
   "metadata": {},
   "outputs": [],
   "source": [
    "# groups\n",
    "bon_conf_g = bonito.get_bonito_config(config_g, double_kernel_sizes=False)\n",
    "model_g, _ = factory.bonito(window_size, device, bon_conf_g);"
   ]
  },
  {
   "cell_type": "code",
   "execution_count": 64,
   "metadata": {},
   "outputs": [],
   "source": [
    "def signal_to_input_tensor(signal, device, dtype=torch.float16):\n",
    "    if type(signal) == torch.Tensor:\n",
    "        x = signal.to(device=device, dtype=dtype)\n",
    "    else:\n",
    "        x = torch.tensor(signal, dtype=dtype, device=device)\n",
    "    \n",
    "    return x.view(x.shape[0],1,x.shape[1])\n",
    "\n",
    "def time_model_prediction(model, device, count=100, dtype=torch.float16):\n",
    "    ## count increased to 100 from 20 to increase accuracy.\n",
    "    ## we device by 5 to make the measure backwards compatible \n",
    "    import timeit\n",
    "    signal = torch.ones(16, 4096, device=device)\n",
    "    input = signal_to_input_tensor(signal, device, dtype)\n",
    "    fn = lambda: model(input).detach().cpu()\n",
    "    return timeit.timeit(fn, number=count)/5"
   ]
  },
  {
   "cell_type": "markdown",
   "metadata": {},
   "source": [
    "# Experiments"
   ]
  },
  {
   "cell_type": "code",
   "execution_count": 65,
   "metadata": {},
   "outputs": [],
   "source": [
    "count = 100"
   ]
  },
  {
   "cell_type": "markdown",
   "metadata": {},
   "source": [
    "## dtype = half (float16)\n",
    "This is the current default in our setup"
   ]
  },
  {
   "cell_type": "code",
   "execution_count": 66,
   "metadata": {},
   "outputs": [],
   "source": [
    "model_nog.half();"
   ]
  },
  {
   "cell_type": "code",
   "execution_count": 67,
   "metadata": {},
   "outputs": [
    {
     "data": {
      "text/plain": [
       "0.6427324988064356"
      ]
     },
     "execution_count": 67,
     "metadata": {},
     "output_type": "execute_result"
    }
   ],
   "source": [
    "time_model_prediction(model_nog, device, count=count, dtype=torch.float16)"
   ]
  },
  {
   "cell_type": "markdown",
   "metadata": {},
   "source": [
    "Time : 0.6440459997975267"
   ]
  },
  {
   "cell_type": "code",
   "execution_count": null,
   "metadata": {},
   "outputs": [],
   "source": [
    "model_g.half();"
   ]
  },
  {
   "cell_type": "code",
   "execution_count": null,
   "metadata": {},
   "outputs": [],
   "source": [
    "time_model_prediction(model_g, device, count=count, dtype=torch.float16)"
   ]
  },
  {
   "cell_type": "markdown",
   "metadata": {},
   "source": [
    "Time: 3.0932368531939574"
   ]
  },
  {
   "cell_type": "markdown",
   "metadata": {},
   "source": [
    "## dtype = float (float32)"
   ]
  },
  {
   "cell_type": "code",
   "execution_count": 23,
   "metadata": {},
   "outputs": [
    {
     "data": {
      "text/plain": [
       "0.954584093997255"
      ]
     },
     "execution_count": 23,
     "metadata": {},
     "output_type": "execute_result"
    }
   ],
   "source": [
    "model_nog.float();\n",
    "time_model_prediction(model_nog, device, count=count, dtype=torch.float32)"
   ]
  },
  {
   "cell_type": "markdown",
   "metadata": {},
   "source": [
    "Time = 0.954584093997255"
   ]
  },
  {
   "cell_type": "code",
   "execution_count": 24,
   "metadata": {},
   "outputs": [
    {
     "data": {
      "text/plain": [
       "0.8280312177957967"
      ]
     },
     "execution_count": 24,
     "metadata": {},
     "output_type": "execute_result"
    }
   ],
   "source": [
    "model_g.float();\n",
    "time_model_prediction(model_g, device, count=count, dtype=torch.float32)"
   ]
  },
  {
   "cell_type": "markdown",
   "metadata": {},
   "source": [
    "Time = 0.8280312177957967"
   ]
  },
  {
   "cell_type": "markdown",
   "metadata": {},
   "source": [
    "## dtype = double"
   ]
  },
  {
   "cell_type": "code",
   "execution_count": 26,
   "metadata": {},
   "outputs": [
    {
     "data": {
      "text/plain": [
       "18.127830775198525"
      ]
     },
     "execution_count": 26,
     "metadata": {},
     "output_type": "execute_result"
    }
   ],
   "source": [
    "model_nog.double();\n",
    "time_model_prediction(model_nog, device, count=count, dtype=torch.double)"
   ]
  },
  {
   "cell_type": "code",
   "execution_count": 28,
   "metadata": {},
   "outputs": [
    {
     "data": {
      "text/plain": [
       "12.400196660601068"
      ]
     },
     "execution_count": 28,
     "metadata": {},
     "output_type": "execute_result"
    }
   ],
   "source": [
    "model_g.double();\n",
    "time_model_prediction(model_g, device, count=count, dtype=torch.double)"
   ]
  },
  {
   "cell_type": "markdown",
   "metadata": {},
   "source": [
    "# Stats"
   ]
  },
  {
   "cell_type": "code",
   "execution_count": 29,
   "metadata": {},
   "outputs": [],
   "source": [
    "import matplotlib.pyplot as plt"
   ]
  },
  {
   "cell_type": "code",
   "execution_count": 52,
   "metadata": {},
   "outputs": [
    {
     "data": {
      "text/plain": [
       "[Text(0, 0.5, 'prediction time (sec)'),\n",
       " Text(0.5, 0, 'data types'),\n",
       " Text(0.5, 1.0, 'The effect of Data types on Conv Groups')]"
      ]
     },
     "execution_count": 52,
     "metadata": {},
     "output_type": "execute_result"
    },
    {
     "data": {
      "image/png": "[encoded data removed]",
      "text/plain": [
       "<Figure size 432x288 with 1 Axes>"
      ]
     },
     "metadata": {
      "needs_background": "light"
     },
     "output_type": "display_data"
    }
   ],
   "source": [
    "fig, ax = plt.subplots()\n",
    "\n",
    "x = [0, 1, 2]\n",
    "\n",
    "x_labels = ['float16', 'float32', 'double']\n",
    "plt.xticks(x, x_labels)\n",
    "\n",
    "y_nog = [0.644, 0.954, 18.127]\n",
    "y_g = [3.093, 0.828, 12.400]\n",
    "\n",
    "sct_nog = plt.scatter(x, y_nog, label='nog')\n",
    "sct_g = plt.scatter(x, y_g, label='g')\n",
    "plt.legend([sct_nog, sct_g], ['No Groups', \"2 Groups\"])\n",
    "\n",
    "ax.set(xlabel=\"data types\", ylabel=\"prediction time (sec)\", title=\"The effect of Data types on Conv Groups\")"
   ]
  }
 ],
 "metadata": {
  "kernelspec": {
   "display_name": "jkbc",
   "language": "python",
   "name": "jkbc"
  },
  "language_info": {
   "codemirror_mode": {
    "name": "ipython",
    "version": 3
   },
   "file_extension": ".py",
   "mimetype": "text/x-python",
   "name": "python",
   "nbconvert_exporter": "python",
   "pygments_lexer": "ipython3",
   "version": "3.7.6"
  }
 },
 "nbformat": 4,
 "nbformat_minor": 4
}
