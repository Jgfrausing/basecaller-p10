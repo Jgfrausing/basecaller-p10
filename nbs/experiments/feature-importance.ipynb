{
 "cells": [
  {
   "cell_type": "code",
   "execution_count": 5,
   "metadata": {},
   "outputs": [],
   "source": [
    "%reload_ext autoreload\n",
    "%autoreload 2\n",
    "%matplotlib inline"
   ]
  },
  {
   "cell_type": "code",
   "execution_count": 71,
   "metadata": {},
   "outputs": [],
   "source": [
    "from fastai.basics import *\n",
    "import jkbc.utils.feature_importance as fi\n",
    "import pandas as pd\n",
    "import jkbc.utils.matrix_plot as mp"
   ]
  },
  {
   "cell_type": "markdown",
   "metadata": {},
   "source": [
    "# Get data"
   ]
  },
  {
   "cell_type": "code",
   "execution_count": 7,
   "metadata": {},
   "outputs": [],
   "source": [
    "def combine(x, y, alpha):\n",
    "    return x*alpha + y*(1-alpha)"
   ]
  },
  {
   "cell_type": "code",
   "execution_count": 54,
   "metadata": {},
   "outputs": [],
   "source": [
    "df_raw = pd.read_csv('wandb/export-2020-05-25.csv')\n",
    "#print(df['Tags'])\n",
    "indexNames = []\n",
    "for index, row in df_raw.iterrows():\n",
    "    if row['Tags'] == 'RANDOM_SWEEP':\n",
    "        indexNames.append(index)\n",
    "df_raw.drop(indexNames , inplace=True)"
   ]
  },
  {
   "cell_type": "code",
   "execution_count": 76,
   "metadata": {},
   "outputs": [],
   "source": [
    "def get_labels(df_raw, ignore = []):\n",
    "    labels = {}\n",
    "    i = 0\n",
    "    for label in df_raw.columns.values:\n",
    "        if 'b1_' in label or 'b_blocks' in label:\n",
    "            if label in ignore:\n",
    "                continue\n",
    "            labels[i] = label\n",
    "            i += 1\n",
    "            \n",
    "    return labels\n",
    "        \n",
    "def get_weigthed_score(df_raw, alpha):\n",
    "    accuracy = df_raw['valid_loss'].values\n",
    "    time = df_raw['time_predict'].values\n",
    "    return combine(accuracy, time, alpha)\n",
    "\n",
    "def prettify_labels(labels):\n",
    "    labels = labels.copy()\n",
    "    for k, v in labels.items():\n",
    "        labels[k] = v.replace('model_params.', '').replace('b1_', '')\n",
    "\n",
    "    return labels\n",
    "def generate_data(df_raw, labels):\n",
    "    x_trn = []\n",
    "    for label in labels.values():\n",
    "        if label in df_raw.columns.values:\n",
    "            x_trn.append(df_raw[label].values)\n",
    "\n",
    "    x_trn = pd.DataFrame(np.transpose(np.array(x_trn)))\n",
    "    x_trn.rename(prettify_labels(labels), axis='columns',inplace=True)\n",
    "    return x_trn\n",
    "    \n",
    "def finish(df_raw, x_trn, y_trn):\n",
    "    x_tup, y_tup, raw_tup = fi.convert_data(df_raw, x_trn, y_trn, train_pct = 0.8)\n",
    "    X_train, X_valid = x_tup\n",
    "    y_train, y_valid = y_tup\n",
    "    raw_train, raw_valid = raw_tup\n",
    "    \n",
    "    m = fi.train_regressor(X_train, y_train)\n",
    "    return fi.calculate_feature_importance(m, X_valid, y_valid, use_permutation=True, max_sample_size = 1000)"
   ]
  },
  {
   "cell_type": "code",
   "execution_count": 77,
   "metadata": {},
   "outputs": [],
   "source": [
    "labels = get_labels(df_raw, ignore=['model_params.b1_dilation'])\n",
    "x_trn = generate_data(df_raw, labels)\n",
    "\n",
    "percentiles = [v*0.1 for v in range(11)]\n",
    "cols = len(percentiles)\n",
    "rows = len(labels)\n",
    "matrix = torch.zeros(rows, cols)\n",
    "\n",
    "for col in range(cols):\n",
    "    alpha = percentiles[col]\n",
    "    y_trn = get_weigthed_score(df_raw, alpha)\n",
    "    res = finish(df_raw, x_trn, y_trn)\n",
    "    for row in range(rows):\n",
    "        matrix[row,col] = res['imp'][row]\n",
    "        "
   ]
  },
  {
   "cell_type": "code",
   "execution_count": 78,
   "metadata": {},
   "outputs": [
    {
     "data": {
      "text/plain": [
       "<module 'matplotlib.pyplot' from '/user/student.aau.dk/jfraus14/.conda/envs/jkbc/lib/python3.7/site-packages/matplotlib/pyplot.py'>"
      ]
     },
     "execution_count": 78,
     "metadata": {},
     "output_type": "execute_result"
    },
    {
     "data": {
      "text/plain": [
       "<Figure size 432x288 with 0 Axes>"
      ]
     },
     "metadata": {},
     "output_type": "display_data"
    },
    {
     "data": {
      "image/png": "[encoded data removed]",
      "text/plain": [
       "<Figure size 720x720 with 2 Axes>"
      ]
     },
     "metadata": {
      "needs_background": "light"
     },
     "output_type": "display_data"
    }
   ],
   "source": [
    "mp.get_matrix_plot(matrix, prettify_labels(labels).values(), [\"{0:0.1f}\".format(x) for x in percentiles], \"Kernel\", False)"
   ]
  },
  {
   "cell_type": "code",
   "execution_count": null,
   "metadata": {},
   "outputs": [],
   "source": []
  }
 ],
 "metadata": {
  "jupytext": {
   "cell_metadata_filter": "-all",
   "notebook_metadata_filter": "-all"
  },
  "kernelspec": {
   "display_name": "jkbc",
   "language": "python",
   "name": "jkbc"
  },
  "language_info": {
   "codemirror_mode": {
    "name": "ipython",
    "version": 3
   },
   "file_extension": ".py",
   "mimetype": "text/x-python",
   "name": "python",
   "nbconvert_exporter": "python",
   "pygments_lexer": "ipython3",
   "version": "3.7.6"
  }
 },
 "nbformat": 4,
 "nbformat_minor": 4
}
