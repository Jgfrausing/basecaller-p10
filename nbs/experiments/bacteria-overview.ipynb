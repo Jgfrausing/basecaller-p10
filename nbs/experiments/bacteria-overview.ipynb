{
 "cells": [
  {
   "cell_type": "code",
   "execution_count": 1,
   "metadata": {},
   "outputs": [],
   "source": [
    "import jkbc.utils.preprocessing as pre\n",
    "import h5py\n",
    "import json\n",
    "BASE_PATH = '../..'\n",
    "filename = BASE_PATH + '../mapped_reads/mapped_reads.hdf5'\n",
    "bacteria_ref_path = BASE_PATH + '../mapped_reads/readid_to_bacteria.json'\n",
    "bacillus_only = BASE_PATH + '../mapped_reads/readid_to_bacillus'"
   ]
  },
  {
   "cell_type": "code",
   "execution_count": 2,
   "metadata": {},
   "outputs": [],
   "source": [
    "s = pre.SignalCollection(filename, \n",
    "                         bacteria_ref_path, \n",
    "                         (300,300), 0, training_data=False)"
   ]
  },
  {
   "cell_type": "code",
   "execution_count": 3,
   "metadata": {},
   "outputs": [
    {
     "data": {
      "text/plain": [
       "['Bacillus',\n",
       " 'Enterococcus',\n",
       " 'Escherichia',\n",
       " 'Lactobacillus',\n",
       " 'Listeria',\n",
       " 'Pseudomonas',\n",
       " 'Salmonella',\n",
       " 'Staphylococcus']"
      ]
     },
     "execution_count": 3,
     "metadata": {},
     "output_type": "execute_result"
    }
   ],
   "source": [
    "s.get_bacteria(True)"
   ]
  },
  {
   "cell_type": "code",
   "execution_count": 4,
   "metadata": {},
   "outputs": [],
   "source": [
    "with open(bacteria_ref_path, 'r') as fp:\n",
    "    bacteria_dict = json.load(fp)"
   ]
  },
  {
   "cell_type": "code",
   "execution_count": 5,
   "metadata": {},
   "outputs": [],
   "source": [
    "with h5py.File(filename, 'r') as h5file:\n",
    "    read_idx = list(h5file['Reads'].keys())"
   ]
  },
  {
   "cell_type": "code",
   "execution_count": 10,
   "metadata": {},
   "outputs": [],
   "source": [
    "read_idx = [id for id in read_idx if id in bacteria_dict.keys() and 'Bacillus_' not in bacteria_dict[id]]\n",
    "read_idx_subset = read_idx[:1000]"
   ]
  },
  {
   "cell_type": "code",
   "execution_count": 11,
   "metadata": {},
   "outputs": [],
   "source": [
    "read_idx_set = list(set([bacteria_dict[id] for id in read_idx_subset]))"
   ]
  },
  {
   "cell_type": "code",
   "execution_count": 12,
   "metadata": {},
   "outputs": [
    {
     "data": {
      "text/plain": [
       "{'Salmonella_3': 5,\n",
       " 'Salmonella_7': 5,\n",
       " 'Escherichia_4': 14,\n",
       " 'Escherichia_7': 15,\n",
       " 'Staphylococcus_1': 56,\n",
       " 'Enterococcus_1': 7,\n",
       " 'Escherichia_2': 19,\n",
       " 'Staphylococcus_3': 42,\n",
       " 'Lactobacillus_2': 31,\n",
       " 'Lactobacillus_5': 31,\n",
       " 'Lactobacillus_3': 51,\n",
       " 'Escherichia_5': 24,\n",
       " 'Staphylococcus_4': 68,\n",
       " 'Listeria_2_5': 67,\n",
       " 'Staphylococcus_5': 63,\n",
       " 'Escherichia_1': 16,\n",
       " 'Salmonella_1': 5,\n",
       " 'Enterococcus_4': 17,\n",
       " 'Salmonella_5': 7,\n",
       " 'Salmonella_4': 1,\n",
       " 'Listeria_6': 35,\n",
       " 'Staphylococcus_2': 46,\n",
       " 'Listeria_1': 44,\n",
       " 'Staphylococcus_6': 46,\n",
       " 'Salmonella_2': 9,\n",
       " 'Salmonella_6': 15,\n",
       " 'Listeria_3': 23,\n",
       " 'Listeria_4': 21,\n",
       " 'Pseudomonas_1_2_3_4': 72,\n",
       " 'Escherichia_6': 13,\n",
       " 'Lactobacillus_1': 42,\n",
       " 'Enterococcus_3': 13,\n",
       " 'Lactobacillus_4': 39,\n",
       " 'Escherichia_3': 19,\n",
       " 'Enterococcus_2': 19}"
      ]
     },
     "execution_count": 12,
     "metadata": {},
     "output_type": "execute_result"
    }
   ],
   "source": [
    "bac_dict = {}\n",
    "for id in read_idx_set:\n",
    "    bac_dict[id] = len([x for x in read_idx_subset if bacteria_dict[x] == id])\n",
    "bac_dict"
   ]
  },
  {
   "cell_type": "code",
   "execution_count": 13,
   "metadata": {},
   "outputs": [
    {
     "data": {
      "text/plain": [
       "(44, 35)"
      ]
     },
     "execution_count": 13,
     "metadata": {},
     "output_type": "execute_result"
    }
   ],
   "source": [
    "len(list(set(bacteria_dict.values()))), len(bac_dict.values())"
   ]
  },
  {
   "cell_type": "code",
   "execution_count": 18,
   "metadata": {},
   "outputs": [],
   "source": [
    "with open(bacteria_ref_path, 'r') as fp:\n",
    "    bacteria_dict = json.load(fp)\n",
    "    \n",
    "data = {k:v for k,v in bacteria_dict.items() if 'Bacillus_' in v}\n",
    "\n",
    "with open(bacillus_only, 'w') as outfile:\n",
    "    json.dump(data, outfile)"
   ]
  },
  {
   "cell_type": "code",
   "execution_count": 19,
   "metadata": {},
   "outputs": [
    {
     "data": {
      "text/plain": [
       "480605"
      ]
     },
     "execution_count": 19,
     "metadata": {},
     "output_type": "execute_result"
    }
   ],
   "source": [
    "len(bacteria_dict.values())"
   ]
  }
 ],
 "metadata": {
  "kernelspec": {
   "display_name": "jkbc",
   "language": "python",
   "name": "jkbc"
  },
  "language_info": {
   "codemirror_mode": {
    "name": "ipython",
    "version": 3
   },
   "file_extension": ".py",
   "mimetype": "text/x-python",
   "name": "python",
   "nbconvert_exporter": "python",
   "pygments_lexer": "ipython3",
   "version": "3.7.6"
  }
 },
 "nbformat": 4,
 "nbformat_minor": 4
}
