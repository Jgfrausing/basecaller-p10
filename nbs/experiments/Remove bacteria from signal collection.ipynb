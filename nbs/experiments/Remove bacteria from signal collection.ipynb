{
 "cells": [
  {
   "cell_type": "code",
   "execution_count": 2,
   "metadata": {},
   "outputs": [],
   "source": [
    "import h5py\n",
    "import jkbc.constants as c\n",
    "import jkbc.utils.preprocessing as pre\n",
    "import jkbc.utils.postprocessing as post"
   ]
  },
  {
   "cell_type": "code",
   "execution_count": 11,
   "metadata": {},
   "outputs": [],
   "source": [
    "sc = pre.SignalCollection(f'../../{c.MAPPED_READS}', f'../../{c.BACTERIA_DICT_PATH}', (200,400), 0, training_data=False)"
   ]
  },
  {
   "cell_type": "markdown",
   "metadata": {},
   "source": [
    "## Get bacteria (with and without extension)"
   ]
  },
  {
   "cell_type": "code",
   "execution_count": 12,
   "metadata": {},
   "outputs": [
    {
     "data": {
      "text/plain": [
       "(7631, 46445)"
      ]
     },
     "execution_count": 12,
     "metadata": {},
     "output_type": "execute_result"
    }
   ],
   "source": [
    "bac_8 = sc.get_bacteria_ids(['Escherichia_3'], False)\n",
    "bac_all = sc.get_bacteria_ids(['Escherichia'], True)\n",
    "len(bac_8), len(bac_all)"
   ]
  },
  {
   "cell_type": "markdown",
   "metadata": {},
   "source": [
    "## Get list of bacteria and their count"
   ]
  },
  {
   "cell_type": "code",
   "execution_count": 16,
   "metadata": {},
   "outputs": [
    {
     "name": "stdout",
     "output_type": "stream",
     "text": [
      "8\n",
      "Bacillus 57076\n",
      "Enterococcus 17561\n",
      "Escherichia 46445\n",
      "Lactobacillus 80671\n",
      "Listeria 72249\n",
      "Pseudomonas 35605\n",
      "Salmonella 25243\n",
      "Staphylococcus 145755\n"
     ]
    }
   ],
   "source": [
    "ignore_extension = True\n",
    "bacs = sc.get_bacteria(ignore_extension)\n",
    "bacs\n",
    "print(len(bacs))\n",
    "for b in bacs:\n",
    "    print(b, len(sc.get_bacteria_ids([b], ignore_extension)))"
   ]
  },
  {
   "cell_type": "markdown",
   "metadata": {},
   "source": [
    "## Remove all signals of proviced bacteria (with and without extension)"
   ]
  },
  {
   "cell_type": "code",
   "execution_count": 6,
   "metadata": {},
   "outputs": [
    {
     "data": {
      "text/plain": [
       "434160"
      ]
     },
     "execution_count": 6,
     "metadata": {},
     "output_type": "execute_result"
    }
   ],
   "source": [
    "sc.remove_bacteria_from_collection(['Escherichia_3'], False)\n",
    "sc.remove_bacteria_from_collection(['Escherichia'], True)"
   ]
  }
 ],
 "metadata": {
  "kernelspec": {
   "display_name": "jkbc",
   "language": "python",
   "name": "jkbc"
  },
  "language_info": {
   "codemirror_mode": {
    "name": "ipython",
    "version": 3
   },
   "file_extension": ".py",
   "mimetype": "text/x-python",
   "name": "python",
   "nbconvert_exporter": "python",
   "pygments_lexer": "ipython3",
   "version": "3.7.6"
  }
 },
 "nbformat": 4,
 "nbformat_minor": 4
}
