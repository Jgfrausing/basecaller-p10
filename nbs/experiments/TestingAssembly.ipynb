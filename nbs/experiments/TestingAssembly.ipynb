{
 "cells": [
  {
   "cell_type": "code",
   "execution_count": null,
   "metadata": {},
   "outputs": [],
   "source": [
    "%reload_ext autoreload\n",
    "%autoreload 2\n",
    "%matplotlib inline"
   ]
  },
  {
   "cell_type": "code",
   "execution_count": 1,
   "metadata": {},
   "outputs": [],
   "source": [
    "import jkbc.utils.preprocessing as prep\n",
    "iterations = 5"
   ]
  },
  {
   "cell_type": "code",
   "execution_count": null,
   "metadata": {},
   "outputs": [],
   "source": [
    "%%time\n",
    "sc = prep.SignalCollection('../../../mapped_reads/mapped_reads.hdf5')\n",
    "for x in range(iterations):\n",
    "    sc[x]"
   ]
  },
  {
   "cell_type": "code",
   "execution_count": null,
   "metadata": {},
   "outputs": [],
   "source": [
    "%%time\n",
    "sc = prep.SignalCollection('../mapped_reads/mapped_reads.hdf5', training_data=False)\n",
    "for x in range(iterations):\n",
    "    sc[x]"
   ]
  },
  {
   "cell_type": "code",
   "execution_count": 147,
   "metadata": {},
   "outputs": [],
   "source": [
    "import random as r\n",
    "import numpy as np\n",
    "import jkbc.utils.postprocessing as pop\n",
    "import jkbc.utils.bonito.decode as bonito\n",
    "\n",
    "ref_length = 200\n",
    "reference = ''.join([pop.ALPHABET[x] for x in np.random.randint(1,5,ref_length)])\n",
    "\n",
    "def mutate_str(inp, chance=0.1, alphabet = pop.ALPHABET):\n",
    "    mutated = []\n",
    "    for c in inp:\n",
    "        if r.random() < chance:\n",
    "            mutated.append(alphabet[r.randint(1,4)])\n",
    "        else:\n",
    "            mutated.append(c)\n",
    "    return ''.join(mutated)"
   ]
  },
  {
   "cell_type": "code",
   "execution_count": 148,
   "metadata": {},
   "outputs": [],
   "source": [
    "windows = []\n",
    "index = 0\n",
    "while index < ref_length:\n",
    "    end = min(r.randint(30, 35)+index, ref_length)\n",
    "    window = reference[index:end]\n",
    "    index = max(r.randint(-1, 5)+index, 0)\n",
    "    if len(window) != 0:\n",
    "        mutated = mutate_str(window, chance=.2)\n",
    "        windows.append(mutated)  \n"
   ]
  },
  {
   "cell_type": "code",
   "execution_count": 152,
   "metadata": {},
   "outputs": [
    {
     "name": "stdout",
     "output_type": "stream",
     "text": [
      "CCAGCCACTATGTTGCTTGTGACTGGCTCGCTTGTGTGCGCCGCGATATACCCTCCTTTGTTCCGCACGAGGCCCATATCTCTCCACTACCCCTACAACTCAGCAACCAAGTCCTTACTTTTTCGCAAGGAACTCTGCCTATATGCATCCATAAACTTGGATAAAGGCTTTAATTCTAGAGGTATGGGGGGTCCG---GGAT-G\n",
      "|||||||||||||||||||||||||||||||||||||  ||||||||||||||||||||||||||||||||||||||||||||||||||||||||||||||||||||||||||||||||||||||||||||||||||||||||||||||||||||||||||||||||||||||||||||||||||||||||||||   |||| |\n",
      "CCAGCCACTATGTTGCTTGTGACTGGCTCGCTTGTGT--GCCGCGATATACCCTCCTTTGTTCCGCACGAGGCCCATATCTCTCCACTACCCCTACAACTCAGCAACCAAGTCCTTACTTTTTCGCAAGGAACTCTGCCTATATGCATCCATAAACTTGGATAAAGGCTTTAATTCTAGAGGTATGGGGGGTCCGGGAGGATGG\n",
      "0.9704433497536946\n"
     ]
    }
   ],
   "source": [
    "assembled = pop.assemble(windows, 1000, 1, pop.ALPHABET)\n",
    "acc, string = pop.calc_accuracy(reference, assembled, return_alignment=True)\n",
    "print(string)\n",
    "print(acc)"
   ]
  },
  {
   "cell_type": "code",
   "execution_count": null,
   "metadata": {},
   "outputs": [],
   "source": []
  }
 ],
 "metadata": {
  "kernelspec": {
   "display_name": "jkbc",
   "language": "python",
   "name": "jkbc"
  },
  "language_info": {
   "codemirror_mode": {
    "name": "ipython",
    "version": 3
   },
   "file_extension": ".py",
   "mimetype": "text/x-python",
   "name": "python",
   "nbconvert_exporter": "python",
   "pygments_lexer": "ipython3",
   "version": "3.7.6"
  }
 },
 "nbformat": 4,
 "nbformat_minor": 4
}
