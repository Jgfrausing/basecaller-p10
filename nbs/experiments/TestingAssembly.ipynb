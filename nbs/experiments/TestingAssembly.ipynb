{
 "cells": [
  {
   "cell_type": "code",
   "execution_count": null,
   "metadata": {},
   "outputs": [],
   "source": [
    "%reload_ext autoreload\n",
    "%autoreload 2\n",
    "%matplotlib inline"
   ]
  },
  {
   "cell_type": "code",
   "execution_count": 1,
   "metadata": {},
   "outputs": [],
   "source": [
    "import jkbc.utils.preprocessing as prep\n",
    "iterations = 5"
   ]
  },
  {
   "cell_type": "code",
   "execution_count": null,
   "metadata": {},
   "outputs": [],
   "source": [
    "%%time\n",
    "sc = prep.SignalCollection('../../../mapped_reads/mapped_reads.hdf5')\n",
    "for x in range(iterations):\n",
    "    sc[x]"
   ]
  },
  {
   "cell_type": "code",
   "execution_count": null,
   "metadata": {},
   "outputs": [],
   "source": [
    "%%time\n",
    "sc = prep.SignalCollection('../mapped_reads/mapped_reads.hdf5', training_data=False)\n",
    "for x in range(iterations):\n",
    "    sc[x]"
   ]
  },
  {
   "cell_type": "code",
   "execution_count": 2,
   "metadata": {},
   "outputs": [],
   "source": [
    "import random as r\n",
    "import numpy as np\n",
    "import jkbc.utils.postprocessing as pop\n",
    "\n",
    "ref_length = 50\n",
    "reference = ''.join([pop.ALPHABET[x] for x in np.random.randint(1,5,ref_length)])"
   ]
  },
  {
   "cell_type": "code",
   "execution_count": 53,
   "metadata": {},
   "outputs": [
    {
     "data": {
      "text/plain": [
       "100.0"
      ]
     },
     "execution_count": 53,
     "metadata": {},
     "output_type": "execute_result"
    }
   ],
   "source": [
    "windows = []\n",
    "index = 0\n",
    "while index < ref_length-1:\n",
    "    end = min(r.randint(11, 16)+index, ref_length)\n",
    "    window = reference[index:end]\n",
    "    index = max(r.randint(-1, 5)+index, 0)\n",
    "    if len(window) != 0:\n",
    "        windows.append(window)  \n",
    "\n",
    "assembled = pop.assemble(windows, 1000, 1, pop.ALPHABET, 0)\n",
    "pop.calc_accuracy(reference, assembled)"
   ]
  },
  {
   "cell_type": "code",
   "execution_count": 54,
   "metadata": {},
   "outputs": [
    {
     "data": {
      "text/plain": [
       "('TTGCATTCGGCGCCTATCCTAAAAGTCTGTCTGGAACCGTTTACCAAACG',\n",
       " 'TTGCATTCGGCGCCTATCCTAAAAGTCTGTCTGGAACCGTTTACCAAACG')"
      ]
     },
     "execution_count": 54,
     "metadata": {},
     "output_type": "execute_result"
    }
   ],
   "source": [
    "reference, assembled"
   ]
  },
  {
   "cell_type": "code",
   "execution_count": 55,
   "metadata": {},
   "outputs": [
    {
     "data": {
      "text/plain": [
       "['TTGCATTCGGCG',\n",
       " 'ATTCGGCGCCTATCCT',\n",
       " 'TCGGCGCCTATCC',\n",
       " 'TTCGGCGCCTA',\n",
       " 'GGCGCCTATCC',\n",
       " 'GCGCCTATCCTAAAAG',\n",
       " 'CTATCCTAAAAGTCTG',\n",
       " 'CTATCCTAAAA',\n",
       " 'ATCCTAAAAGTCT',\n",
       " 'ATCCTAAAAGTCT']"
      ]
     },
     "execution_count": 55,
     "metadata": {},
     "output_type": "execute_result"
    }
   ],
   "source": [
    "windows[:10]"
   ]
  },
  {
   "cell_type": "code",
   "execution_count": null,
   "metadata": {},
   "outputs": [],
   "source": []
  }
 ],
 "metadata": {
  "kernelspec": {
   "display_name": "jkbc",
   "language": "python",
   "name": "jkbc"
  },
  "language_info": {
   "codemirror_mode": {
    "name": "ipython",
    "version": 3
   },
   "file_extension": ".py",
   "mimetype": "text/x-python",
   "name": "python",
   "nbconvert_exporter": "python",
   "pygments_lexer": "ipython3",
   "version": "3.7.6"
  }
 },
 "nbformat": 4,
 "nbformat_minor": 4
}
