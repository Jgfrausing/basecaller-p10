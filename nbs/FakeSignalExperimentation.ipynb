{
 "cells": [
  {
   "cell_type": "markdown",
   "metadata": {},
   "source": [
    "# Fake Signal Experimentation"
   ]
  },
  {
   "cell_type": "code",
   "execution_count": 20,
   "metadata": {},
   "outputs": [],
   "source": [
    "%reload_ext autoreload\n",
    "%autoreload 2\n",
    "%matplotlib inline"
   ]
  },
  {
   "cell_type": "code",
   "execution_count": 68,
   "metadata": {},
   "outputs": [],
   "source": [
    "from fastai.basics import *\n",
    "import jkbc.utils.signal_faker as faker\n",
    "import jkbc.types as t"
   ]
  },
  {
   "cell_type": "code",
   "execution_count": 104,
   "metadata": {},
   "outputs": [],
   "source": [
    "map_t = lambda f, x : torch.tensor(list(map(f, x)))\n",
    "def convert_to_databunch(x, y, bs, split: float = 0.8):    \n",
    "    # Get split\n",
    "    split_train = int(len(x)*split)\n",
    "    \n",
    "    if not isinstance(x, torch.Tensor): \n",
    "        print(\"x is not a tensor\")\n",
    "        x = torch.tensor(x)\n",
    "    if not isinstance(y, torch.Tensor): \n",
    "        print(\"y is not a tensor\")\n",
    "        y = torch.tensor(y)\n",
    "\n",
    "    print(type(x), type(y))\n",
    "    # Split into test/valid sets\n",
    "    x_train = x[:split_train]\n",
    "    y_train = y[:split_train]\n",
    "    x_valid = x[split_train:]\n",
    "    y_valid = y[split_train:]\n",
    "\n",
    "    # Create TensorDataset\n",
    "    ds_train = TensorDataset(x_train, y_train)\n",
    "    ds_valid = TensorDataset(x_valid, y_valid)\n",
    "\n",
    "    return DataBunch.create(ds_train, ds_valid, bs=bs)"
   ]
  },
  {
   "cell_type": "code",
   "execution_count": 105,
   "metadata": {},
   "outputs": [],
   "source": [
    "N = 1000\n",
    "BS = 100"
   ]
  },
  {
   "cell_type": "code",
   "execution_count": 106,
   "metadata": {},
   "outputs": [],
   "source": [
    "alphabet = \"AB\"\n",
    "signal_dict = faker.make_signal_dict()"
   ]
  },
  {
   "cell_type": "code",
   "execution_count": 107,
   "metadata": {},
   "outputs": [],
   "source": [
    "x, y_str = faker.generate_signal_and_ref(N, alphabet, signal_dict, (1,3))"
   ]
  },
  {
   "cell_type": "code",
   "execution_count": 108,
   "metadata": {},
   "outputs": [
    {
     "data": {
      "text/plain": [
       "'xxxABABBBBAAABBBABABBABABABAABABBABAABABBAABABAAAAABABAABAAAAAABAAABAAABBABAABAABBBBAABAABBABABABABAAABBABAABBBBBBBBAAAABABBBAAABAAAABAABBAAAAABBAABABABBBAABBBAAAABAAABAAABAAABBBABABBBABABAAABBBBBBABABBBBBBABBABAABABAAABABBABABBAABABABABBBBBBBBAABBABBBABABBAAAABBAAABBABABBBBBABAABBAABBAAAABBAAABABABBBBBAABBABBBBBAAAAABABBBBAAAABBBBABABAABBBBABABAAAAABABAAAAABAAAABABBAAAABBBBAAABAAABBABABABBABBAAAAAABBABBBBABBBABABAAABBAAAAAABABBBABBABBABBABBABBBABBBABAABABAABBAAAABABBABAAABBBBBBBABBABAAABAABAABBBABABBAABAABAAAAAABABAAABABABBABABBAABAAAABBAABAAAAAAAAAABABABABABABAABABABABAAABBABABAAABAABAABBAAAAABBABAABABBAABBBBAAAAAABABBABBBBBABBABAAABABBBBBAABAABAAAABAABABAABAABBBAABBBAABBABBBABAABABAABAAAABBAAABAAAABABABBBBBBAAAAABBBABABABBABAAABBAAABBABBAABAABABABAAABAABAAAABBBBBBBBABBABBBABBBBABABBABABABBBBAABAAAABAAABABBABABBABAABBBABBBABBABBBBABAAAAABAABBABAABBBAABABBABBBBAABABABAABBBAAABAABBBBBBBBBAAAABABABBABABBAAAAABBABBAABAAABBABBAAABAAABABBBABBAABBAAABAABABABBABBBAAABAAAABBBAAABABAAAABBAAABAAAAxxx'"
      ]
     },
     "execution_count": 108,
     "metadata": {},
     "output_type": "execute_result"
    }
   ],
   "source": [
    "y_str"
   ]
  },
  {
   "cell_type": "code",
   "execution_count": 109,
   "metadata": {},
   "outputs": [],
   "source": [
    "# Convert xxxABCxxx -> [1, 2, 3], because 0 is reserved for blank\n",
    "letter_to_label_dict = dict(zip(alphabet, range(1, len(alphabet) + 1)))\n",
    "def letter_to_label(l): return letter_to_label_dict[l]\n",
    "def convert_ref_to_labels(ref: str) -> t.List[int]:\n",
    "    return [letter_to_label(l) for l in ref if l != 'x']    "
   ]
  },
  {
   "cell_type": "code",
   "execution_count": 110,
   "metadata": {},
   "outputs": [],
   "source": [
    "y = convert_ref_to_labels(y_str)"
   ]
  },
  {
   "cell_type": "code",
   "execution_count": 113,
   "metadata": {},
   "outputs": [
    {
     "data": {
      "text/plain": [
       "(2030, 1000)"
      ]
     },
     "execution_count": 113,
     "metadata": {},
     "output_type": "execute_result"
    }
   ],
   "source": [
    "len(x), len(y)"
   ]
  },
  {
   "cell_type": "code",
   "execution_count": 115,
   "metadata": {},
   "outputs": [],
   "source": [
    "# NEXT: FIX WINDOWS (hopeless task)"
   ]
  },
  {
   "cell_type": "code",
   "execution_count": null,
   "metadata": {},
   "outputs": [],
   "source": []
  }
 ],
 "metadata": {
  "kernelspec": {
   "display_name": "Python 3",
   "language": "python",
   "name": "python3"
  },
  "language_info": {
   "codemirror_mode": {
    "name": "ipython",
    "version": 3
   },
   "file_extension": ".py",
   "mimetype": "text/x-python",
   "name": "python",
   "nbconvert_exporter": "python",
   "pygments_lexer": "ipython3",
   "version": "3.6.7"
  }
 },
 "nbformat": 4,
 "nbformat_minor": 2
}
