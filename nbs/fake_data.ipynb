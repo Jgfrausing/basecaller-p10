{
 "cells": [
  {
   "cell_type": "code",
   "execution_count": 68,
   "metadata": {},
   "outputs": [],
   "source": [
    "%reload_ext autoreload\n",
    "%autoreload 2\n",
    "%matplotlib inline"
   ]
  },
  {
   "cell_type": "code",
   "execution_count": 69,
   "metadata": {},
   "outputs": [],
   "source": [
    "import jkbc.utils.files as f\n",
    "import h5py as h5py\n",
    "import jkbc.utils.preprocessing as prep\n",
    "import numpy as np\n",
    "import pickle\n",
    "from tqdm import tqdm\n",
    "import matplotlib.pyplot as plt\n",
    "import random"
   ]
  },
  {
   "cell_type": "code",
   "execution_count": 70,
   "metadata": {},
   "outputs": [],
   "source": [
    "def load_obj(name ):\n",
    "    with open(name + '.pkl', 'rb') as f:\n",
    "        return pickle.load(f)"
   ]
  },
  {
   "cell_type": "code",
   "execution_count": 100,
   "metadata": {},
   "outputs": [],
   "source": [
    "data = load_obj(\"5mer_values_range(0, 76033)\")\n",
    "count = 10000\n",
    "max_label_len = 70"
   ]
  },
  {
   "cell_type": "code",
   "execution_count": 101,
   "metadata": {},
   "outputs": [],
   "source": [
    "def get_base():\n",
    "    return random.randint(1,4)-1\n",
    "\n",
    "def get_kmer(k):\n",
    "    kmer = []\n",
    "    for x in range(k):\n",
    "        base = get_base()\n",
    "        kmer.append(base)\n",
    "    \n",
    "    while True:\n",
    "        base = get_base()\n",
    "        kmer.append(base)\n",
    "        kmer.pop(0)\n",
    "        yield kmer, base\n",
    "\n",
    "def get_reps():\n",
    "    return random.randint(5, 15)"
   ]
  },
  {
   "cell_type": "code",
   "execution_count": 102,
   "metadata": {},
   "outputs": [],
   "source": [
    "def get_window(kmer_dict, kmer_size, window_size=300):\n",
    "    signal = []\n",
    "    reference = []\n",
    "    for mer, base in get_kmer(kmer_size):\n",
    "        reference.append(base+1)\n",
    "        reps = get_reps()\n",
    "        mer_string = ''.join([str(x) for x in mer])\n",
    "        value =  float(kmer_dict[mer_string])\n",
    "        signal += [value] * reps\n",
    "\n",
    "        if len(signal) > window_size:\n",
    "            return signal[:window_size], reference, len(reference)"
   ]
  },
  {
   "cell_type": "code",
   "execution_count": 103,
   "metadata": {},
   "outputs": [],
   "source": [
    "x, y, y_lengths = [], [], []\n",
    "for _ in range(count):\n",
    "    x_, y_, y_lengths_ = get_window(data, 5)\n",
    "    x.append(x_)\n",
    "    y.append(y_)\n",
    "    y_lengths.append(y_lengths_)\n",
    "\n",
    "y = prep.add_label_padding(y, max_label_len)"
   ]
  },
  {
   "cell_type": "code",
   "execution_count": 104,
   "metadata": {},
   "outputs": [],
   "source": [
    "f.write_data_to_feather_file(f\"data/feather-files/fake_data{count}\", (np.array(x), np.array(y), y_lengths))"
   ]
  },
  {
   "cell_type": "code",
   "execution_count": null,
   "metadata": {},
   "outputs": [],
   "source": []
  }
 ],
 "metadata": {
  "kernelspec": {
   "display_name": "jkbc",
   "language": "python",
   "name": "jkbc"
  },
  "language_info": {
   "codemirror_mode": {
    "name": "ipython",
    "version": 3
   },
   "file_extension": ".py",
   "mimetype": "text/x-python",
   "name": "python",
   "nbconvert_exporter": "python",
   "pygments_lexer": "ipython3",
   "version": "3.7.6"
  }
 },
 "nbformat": 4,
 "nbformat_minor": 4
}
