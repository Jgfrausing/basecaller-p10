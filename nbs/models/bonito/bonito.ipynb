{
 "cells": [
  {
   "cell_type": "code",
   "execution_count": 1,
   "metadata": {},
   "outputs": [],
   "source": [
    "%reload_ext autoreload\n",
    "%autoreload 2\n",
    "%matplotlib inline"
   ]
  },
  {
   "cell_type": "code",
   "execution_count": 2,
   "metadata": {
    "scrolled": true
   },
   "outputs": [],
   "source": [
    "from fastai.basics import *\n",
    "import json\n",
    "from tqdm import tqdm\n",
    "\n",
    "import jkbc.model as m\n",
    "import jkbc.utils.constants as constants\n",
    "import jkbc.utils.torch_files as f\n",
    "import jkbc.utils.general as g\n",
    "import jkbc.utils.metrics as metric\n",
    "import jkbc.utils.preprocessing as prep"
   ]
  },
  {
   "cell_type": "code",
   "execution_count": 3,
   "metadata": {},
   "outputs": [],
   "source": [
    "# Initialise random libs and setup cudnn\n",
    "random_seed = 25 # MAGIC!!\n",
    "random.seed(random_seed)\n",
    "np.random.seed(random_seed)\n",
    "torch.manual_seed(random_seed)\n",
    "torch.backends.cudnn.enabled = True\n",
    "torch.backends.cudnn.deterministic = True\n",
    "torch.backends.cudnn.benchmark = False"
   ]
  },
  {
   "cell_type": "markdown",
   "metadata": {},
   "source": [
    "## Constants"
   ]
  },
  {
   "cell_type": "markdown",
   "metadata": {},
   "source": [
    "### Data"
   ]
  },
  {
   "cell_type": "code",
   "execution_count": 4,
   "metadata": {},
   "outputs": [],
   "source": [
    "BASE_DIR = Path(\"../../..\")\n",
    "PATH_DATA = 'data/feather-files'\n",
    "DATA_SET = 'Range0-10000-FixLabelLen400-winsize4096'\n",
    "FEATHER_FOLDER = BASE_DIR/PATH_DATA/DATA_SET\n",
    "\n",
    "with open(FEATHER_FOLDER/'config.json', 'r') as fp:\n",
    "    config = json.load(fp)\n",
    "\n",
    "ALPHABET       = constants.ALPHABET\n",
    "ALPHABET_SIZE  = len(ALPHABET.keys())\n",
    "WINDOW_SIZE    = int(config['maxw']) #maxw = max windowsize\n",
    "DIMENSIONS_OUT = int(config['maxl']) # maxl = max label length\n",
    "STRIDE         = WINDOW_SIZE\n",
    "\n",
    "KNOWLEGDE_DISTILLATION = False\n",
    "TEACHER_OUTPUT = 'bonito-pretrained-Valid[3.625368118286133]-CTC[90.3227304562121]' # Set to name of y_teacher output\n",
    "if KNOWLEGDE_DISTILLATION and not TEACHER_OUTPUT:\n",
    "    print('WARNING! Must provide name of teacher output when doing knowledge distillation')"
   ]
  },
  {
   "cell_type": "markdown",
   "metadata": {},
   "source": [
    "### Train/Predict"
   ]
  },
  {
   "cell_type": "code",
   "execution_count": 5,
   "metadata": {},
   "outputs": [],
   "source": [
    "LR = 1e-3  # default learning rate\n",
    "BS = 2**6  # batch size\n",
    "EPOCHS = 400\n",
    "DEVICE = torch.device(\"cuda:0\") #torch.device(\"cpu\")"
   ]
  },
  {
   "cell_type": "markdown",
   "metadata": {},
   "source": [
    "### Model"
   ]
  },
  {
   "cell_type": "code",
   "execution_count": 6,
   "metadata": {},
   "outputs": [],
   "source": [
    "import bonito_basic as model_file\n",
    "DIMENSIONS_PREDICTION_OUT = WINDOW_SIZE//3+1\n",
    "DROP_LAST = False # SET TO TRUE IF IT FAILS ON LAST BATCH\n",
    "model, MODEL_NAME = model_file.model(DEVICE, WINDOW_SIZE, DIMENSIONS_PREDICTION_OUT)\n",
    "MODEL_NAME = f'{MODEL_NAME}-windowsize={WINDOW_SIZE}'\n",
    "MODEL_DIR = f'weights/{MODEL_NAME}'\n",
    "SPECIFIC_MODEL_WEIGHTS = None #'bonito-pretrained-Valid[1.545677900314331]-CTC[91.66666666666667]' #Set to specific name of model ('None' uses the newest)"
   ]
  },
  {
   "cell_type": "markdown",
   "metadata": {},
   "source": [
    "### Loss, metrics and callback"
   ]
  },
  {
   "cell_type": "code",
   "execution_count": 7,
   "metadata": {},
   "outputs": [],
   "source": [
    "_ctc_loss = metric.CtcLoss(WINDOW_SIZE, DIMENSIONS_PREDICTION_OUT, BS, ALPHABET_SIZE)\n",
    "_kd_loss = metric.KdLoss(alpha=.3, temperature=5, label_loss=_ctc_loss)\n",
    "LOSS_FUNC = _kd_loss.loss() if KNOWLEGDE_DISTILLATION else _ctc_loss.loss()\n",
    "#LOSS_FUNC = nn.CTCLoss()\n",
    "METRICS = []#[metric.ctc_accuracy(ALPHABET, 5)]\n",
    "SAVE_CALLBACK = partial(metric.SaveModelCallback, every='epoch', monitor='valid_loss')"
   ]
  },
  {
   "cell_type": "markdown",
   "metadata": {},
   "source": [
    "## Load data"
   ]
  },
  {
   "cell_type": "code",
   "execution_count": 8,
   "metadata": {},
   "outputs": [],
   "source": [
    "# Read data from feather\n",
    "data = f.load_training_data(FEATHER_FOLDER) \n",
    "\n",
    "# Convert to databunch\n",
    "train_dl, valid_dl = prep.convert_to_dataloaders(data, split=.8, batch_size=BS, drop_last=DROP_LAST)\n",
    "databunch = DataBunch(train_dl, valid_dl, device=DEVICE)"
   ]
  },
  {
   "cell_type": "markdown",
   "metadata": {},
   "source": [
    "## Model"
   ]
  },
  {
   "cell_type": "code",
   "execution_count": 9,
   "metadata": {},
   "outputs": [],
   "source": [
    "optimizer = partial(torch.optim.AdamW, amsgrad=True, lr=LR)"
   ]
  },
  {
   "cell_type": "code",
   "execution_count": 10,
   "metadata": {},
   "outputs": [],
   "source": [
    "learner = Learner(databunch, model, loss_func=LOSS_FUNC, model_dir=MODEL_DIR, metrics=METRICS, opt_func=optimizer)"
   ]
  },
  {
   "cell_type": "code",
   "execution_count": null,
   "metadata": {},
   "outputs": [],
   "source": [
    "#m.load_model_weights(learner, SPECIFIC_MODEL_WEIGHTS)"
   ]
  },
  {
   "cell_type": "markdown",
   "metadata": {},
   "source": [
    "## Train"
   ]
  },
  {
   "cell_type": "code",
   "execution_count": null,
   "metadata": {},
   "outputs": [],
   "source": [
    "#learner.lr_find()\n",
    "#learner.recorder.plot(suggestion=True)"
   ]
  },
  {
   "cell_type": "code",
   "execution_count": 11,
   "metadata": {},
   "outputs": [],
   "source": [
    "# Default to LR if lr_find() has not been run\n",
    "try: lr = learner.recorder.min_grad_lr\n",
    "except: lr = LR\n",
    "lr = LR"
   ]
  },
  {
   "cell_type": "code",
   "execution_count": 12,
   "metadata": {},
   "outputs": [
    {
     "data": {
      "text/html": [
       "\n",
       "    <div>\n",
       "        <style>\n",
       "            /* Turns off some styling */\n",
       "            progress {\n",
       "                /* gets rid of default border in Firefox and Opera. */\n",
       "                border: none;\n",
       "                /* Needs to be in here for Safari polyfill so background images work as expected. */\n",
       "                background-size: auto;\n",
       "            }\n",
       "            .progress-bar-interrupted, .progress-bar-interrupted::-webkit-progress-bar {\n",
       "                background: #F44336;\n",
       "            }\n",
       "        </style>\n",
       "      <progress value='7' class='' max='400', style='width:300px; height:20px; vertical-align: middle;'></progress>\n",
       "      1.75% [7/400 11:57:51<671:42:20]\n",
       "    </div>\n",
       "    \n",
       "<table border=\"1\" class=\"dataframe\">\n",
       "  <thead>\n",
       "    <tr style=\"text-align: left;\">\n",
       "      <th>epoch</th>\n",
       "      <th>train_loss</th>\n",
       "      <th>valid_loss</th>\n",
       "      <th>time</th>\n",
       "    </tr>\n",
       "  </thead>\n",
       "  <tbody>\n",
       "    <tr>\n",
       "      <td>0</td>\n",
       "      <td>0.158281</td>\n",
       "      <td>0.150863</td>\n",
       "      <td>1:42:38</td>\n",
       "    </tr>\n",
       "    <tr>\n",
       "      <td>1</td>\n",
       "      <td>0.099687</td>\n",
       "      <td>0.103246</td>\n",
       "      <td>1:42:35</td>\n",
       "    </tr>\n",
       "    <tr>\n",
       "      <td>2</td>\n",
       "      <td>0.075319</td>\n",
       "      <td>0.082522</td>\n",
       "      <td>1:42:33</td>\n",
       "    </tr>\n",
       "    <tr>\n",
       "      <td>3</td>\n",
       "      <td>0.060427</td>\n",
       "      <td>0.070214</td>\n",
       "      <td>1:42:32</td>\n",
       "    </tr>\n",
       "    <tr>\n",
       "      <td>4</td>\n",
       "      <td>0.051279</td>\n",
       "      <td>0.060069</td>\n",
       "      <td>1:42:30</td>\n",
       "    </tr>\n",
       "    <tr>\n",
       "      <td>5</td>\n",
       "      <td>0.046517</td>\n",
       "      <td>0.059549</td>\n",
       "      <td>1:42:29</td>\n",
       "    </tr>\n",
       "    <tr>\n",
       "      <td>6</td>\n",
       "      <td>0.045783</td>\n",
       "      <td>0.058853</td>\n",
       "      <td>1:42:29</td>\n",
       "    </tr>\n",
       "  </tbody>\n",
       "</table><p>\n",
       "\n",
       "    <div>\n",
       "        <style>\n",
       "            /* Turns off some styling */\n",
       "            progress {\n",
       "                /* gets rid of default border in Firefox and Opera. */\n",
       "                border: none;\n",
       "                /* Needs to be in here for Safari polyfill so background images work as expected. */\n",
       "                background-size: auto;\n",
       "            }\n",
       "            .progress-bar-interrupted, .progress-bar-interrupted::-webkit-progress-bar {\n",
       "                background: #F44336;\n",
       "            }\n",
       "        </style>\n",
       "      <progress value='1931' class='' max='8287', style='width:300px; height:20px; vertical-align: middle;'></progress>\n",
       "      23.30% [1931/8287 22:30<1:14:03 0.0364]\n",
       "    </div>\n",
       "    "
      ],
      "text/plain": [
       "<IPython.core.display.HTML object>"
      ]
     },
     "metadata": {},
     "output_type": "display_data"
    },
    {
     "ename": "KeyboardInterrupt",
     "evalue": "",
     "output_type": "error",
     "traceback": [
      "\u001b[0;31m---------------------------------------------------------------------------\u001b[0m",
      "\u001b[0;31mKeyboardInterrupt\u001b[0m                         Traceback (most recent call last)",
      "\u001b[0;32m<ipython-input-12-5d9419d6c027>\u001b[0m in \u001b[0;36m<module>\u001b[0;34m\u001b[0m\n\u001b[0;32m----> 1\u001b[0;31m \u001b[0mlearner\u001b[0m\u001b[0;34m.\u001b[0m\u001b[0mfit\u001b[0m\u001b[0;34m(\u001b[0m\u001b[0mEPOCHS\u001b[0m\u001b[0;34m,\u001b[0m \u001b[0mlr\u001b[0m\u001b[0;34m=\u001b[0m\u001b[0mlr\u001b[0m\u001b[0;34m,\u001b[0m \u001b[0mcallbacks\u001b[0m\u001b[0;34m=\u001b[0m\u001b[0;34m[\u001b[0m\u001b[0mSAVE_CALLBACK\u001b[0m\u001b[0;34m(\u001b[0m\u001b[0mlearner\u001b[0m\u001b[0;34m)\u001b[0m\u001b[0;34m]\u001b[0m\u001b[0;34m)\u001b[0m\u001b[0;34m\u001b[0m\u001b[0;34m\u001b[0m\u001b[0m\n\u001b[0m",
      "\u001b[0;32m~/.conda/envs/jkbc/lib/python3.7/site-packages/fastai/basic_train.py\u001b[0m in \u001b[0;36mfit\u001b[0;34m(self, epochs, lr, wd, callbacks)\u001b[0m\n\u001b[1;32m    198\u001b[0m         \u001b[0;32melse\u001b[0m\u001b[0;34m:\u001b[0m \u001b[0mself\u001b[0m\u001b[0;34m.\u001b[0m\u001b[0mopt\u001b[0m\u001b[0;34m.\u001b[0m\u001b[0mlr\u001b[0m\u001b[0;34m,\u001b[0m\u001b[0mself\u001b[0m\u001b[0;34m.\u001b[0m\u001b[0mopt\u001b[0m\u001b[0;34m.\u001b[0m\u001b[0mwd\u001b[0m \u001b[0;34m=\u001b[0m \u001b[0mlr\u001b[0m\u001b[0;34m,\u001b[0m\u001b[0mwd\u001b[0m\u001b[0;34m\u001b[0m\u001b[0;34m\u001b[0m\u001b[0m\n\u001b[1;32m    199\u001b[0m         \u001b[0mcallbacks\u001b[0m \u001b[0;34m=\u001b[0m \u001b[0;34m[\u001b[0m\u001b[0mcb\u001b[0m\u001b[0;34m(\u001b[0m\u001b[0mself\u001b[0m\u001b[0;34m)\u001b[0m \u001b[0;32mfor\u001b[0m \u001b[0mcb\u001b[0m \u001b[0;32min\u001b[0m \u001b[0mself\u001b[0m\u001b[0;34m.\u001b[0m\u001b[0mcallback_fns\u001b[0m \u001b[0;34m+\u001b[0m \u001b[0mlistify\u001b[0m\u001b[0;34m(\u001b[0m\u001b[0mdefaults\u001b[0m\u001b[0;34m.\u001b[0m\u001b[0mextra_callback_fns\u001b[0m\u001b[0;34m)\u001b[0m\u001b[0;34m]\u001b[0m \u001b[0;34m+\u001b[0m \u001b[0mlistify\u001b[0m\u001b[0;34m(\u001b[0m\u001b[0mcallbacks\u001b[0m\u001b[0;34m)\u001b[0m\u001b[0;34m\u001b[0m\u001b[0;34m\u001b[0m\u001b[0m\n\u001b[0;32m--> 200\u001b[0;31m         \u001b[0mfit\u001b[0m\u001b[0;34m(\u001b[0m\u001b[0mepochs\u001b[0m\u001b[0;34m,\u001b[0m \u001b[0mself\u001b[0m\u001b[0;34m,\u001b[0m \u001b[0mmetrics\u001b[0m\u001b[0;34m=\u001b[0m\u001b[0mself\u001b[0m\u001b[0;34m.\u001b[0m\u001b[0mmetrics\u001b[0m\u001b[0;34m,\u001b[0m \u001b[0mcallbacks\u001b[0m\u001b[0;34m=\u001b[0m\u001b[0mself\u001b[0m\u001b[0;34m.\u001b[0m\u001b[0mcallbacks\u001b[0m\u001b[0;34m+\u001b[0m\u001b[0mcallbacks\u001b[0m\u001b[0;34m)\u001b[0m\u001b[0;34m\u001b[0m\u001b[0;34m\u001b[0m\u001b[0m\n\u001b[0m\u001b[1;32m    201\u001b[0m \u001b[0;34m\u001b[0m\u001b[0m\n\u001b[1;32m    202\u001b[0m     \u001b[0;32mdef\u001b[0m \u001b[0mcreate_opt\u001b[0m\u001b[0;34m(\u001b[0m\u001b[0mself\u001b[0m\u001b[0;34m,\u001b[0m \u001b[0mlr\u001b[0m\u001b[0;34m:\u001b[0m\u001b[0mFloats\u001b[0m\u001b[0;34m,\u001b[0m \u001b[0mwd\u001b[0m\u001b[0;34m:\u001b[0m\u001b[0mFloats\u001b[0m\u001b[0;34m=\u001b[0m\u001b[0;36m0.\u001b[0m\u001b[0;34m)\u001b[0m\u001b[0;34m->\u001b[0m\u001b[0;32mNone\u001b[0m\u001b[0;34m:\u001b[0m\u001b[0;34m\u001b[0m\u001b[0;34m\u001b[0m\u001b[0m\n",
      "\u001b[0;32m~/.conda/envs/jkbc/lib/python3.7/site-packages/fastai/basic_train.py\u001b[0m in \u001b[0;36mfit\u001b[0;34m(epochs, learn, callbacks, metrics)\u001b[0m\n\u001b[1;32m     99\u001b[0m             \u001b[0;32mfor\u001b[0m \u001b[0mxb\u001b[0m\u001b[0;34m,\u001b[0m\u001b[0myb\u001b[0m \u001b[0;32min\u001b[0m \u001b[0mprogress_bar\u001b[0m\u001b[0;34m(\u001b[0m\u001b[0mlearn\u001b[0m\u001b[0;34m.\u001b[0m\u001b[0mdata\u001b[0m\u001b[0;34m.\u001b[0m\u001b[0mtrain_dl\u001b[0m\u001b[0;34m,\u001b[0m \u001b[0mparent\u001b[0m\u001b[0;34m=\u001b[0m\u001b[0mpbar\u001b[0m\u001b[0;34m)\u001b[0m\u001b[0;34m:\u001b[0m\u001b[0;34m\u001b[0m\u001b[0;34m\u001b[0m\u001b[0m\n\u001b[1;32m    100\u001b[0m                 \u001b[0mxb\u001b[0m\u001b[0;34m,\u001b[0m \u001b[0myb\u001b[0m \u001b[0;34m=\u001b[0m \u001b[0mcb_handler\u001b[0m\u001b[0;34m.\u001b[0m\u001b[0mon_batch_begin\u001b[0m\u001b[0;34m(\u001b[0m\u001b[0mxb\u001b[0m\u001b[0;34m,\u001b[0m \u001b[0myb\u001b[0m\u001b[0;34m)\u001b[0m\u001b[0;34m\u001b[0m\u001b[0;34m\u001b[0m\u001b[0m\n\u001b[0;32m--> 101\u001b[0;31m                 \u001b[0mloss\u001b[0m \u001b[0;34m=\u001b[0m \u001b[0mloss_batch\u001b[0m\u001b[0;34m(\u001b[0m\u001b[0mlearn\u001b[0m\u001b[0;34m.\u001b[0m\u001b[0mmodel\u001b[0m\u001b[0;34m,\u001b[0m \u001b[0mxb\u001b[0m\u001b[0;34m,\u001b[0m \u001b[0myb\u001b[0m\u001b[0;34m,\u001b[0m \u001b[0mlearn\u001b[0m\u001b[0;34m.\u001b[0m\u001b[0mloss_func\u001b[0m\u001b[0;34m,\u001b[0m \u001b[0mlearn\u001b[0m\u001b[0;34m.\u001b[0m\u001b[0mopt\u001b[0m\u001b[0;34m,\u001b[0m \u001b[0mcb_handler\u001b[0m\u001b[0;34m)\u001b[0m\u001b[0;34m\u001b[0m\u001b[0;34m\u001b[0m\u001b[0m\n\u001b[0m\u001b[1;32m    102\u001b[0m                 \u001b[0;32mif\u001b[0m \u001b[0mcb_handler\u001b[0m\u001b[0;34m.\u001b[0m\u001b[0mon_batch_end\u001b[0m\u001b[0;34m(\u001b[0m\u001b[0mloss\u001b[0m\u001b[0;34m)\u001b[0m\u001b[0;34m:\u001b[0m \u001b[0;32mbreak\u001b[0m\u001b[0;34m\u001b[0m\u001b[0;34m\u001b[0m\u001b[0m\n\u001b[1;32m    103\u001b[0m \u001b[0;34m\u001b[0m\u001b[0m\n",
      "\u001b[0;32m~/.conda/envs/jkbc/lib/python3.7/site-packages/fastai/basic_train.py\u001b[0m in \u001b[0;36mloss_batch\u001b[0;34m(model, xb, yb, loss_func, opt, cb_handler)\u001b[0m\n\u001b[1;32m     33\u001b[0m         \u001b[0mloss\u001b[0m\u001b[0;34m,\u001b[0m\u001b[0mskip_bwd\u001b[0m \u001b[0;34m=\u001b[0m \u001b[0mcb_handler\u001b[0m\u001b[0;34m.\u001b[0m\u001b[0mon_backward_begin\u001b[0m\u001b[0;34m(\u001b[0m\u001b[0mloss\u001b[0m\u001b[0;34m)\u001b[0m\u001b[0;34m\u001b[0m\u001b[0;34m\u001b[0m\u001b[0m\n\u001b[1;32m     34\u001b[0m         \u001b[0;32mif\u001b[0m \u001b[0;32mnot\u001b[0m \u001b[0mskip_bwd\u001b[0m\u001b[0;34m:\u001b[0m                     \u001b[0mloss\u001b[0m\u001b[0;34m.\u001b[0m\u001b[0mbackward\u001b[0m\u001b[0;34m(\u001b[0m\u001b[0;34m)\u001b[0m\u001b[0;34m\u001b[0m\u001b[0;34m\u001b[0m\u001b[0m\n\u001b[0;32m---> 35\u001b[0;31m         \u001b[0;32mif\u001b[0m \u001b[0;32mnot\u001b[0m \u001b[0mcb_handler\u001b[0m\u001b[0;34m.\u001b[0m\u001b[0mon_backward_end\u001b[0m\u001b[0;34m(\u001b[0m\u001b[0;34m)\u001b[0m\u001b[0;34m:\u001b[0m \u001b[0mopt\u001b[0m\u001b[0;34m.\u001b[0m\u001b[0mstep\u001b[0m\u001b[0;34m(\u001b[0m\u001b[0;34m)\u001b[0m\u001b[0;34m\u001b[0m\u001b[0;34m\u001b[0m\u001b[0m\n\u001b[0m\u001b[1;32m     36\u001b[0m         \u001b[0;32mif\u001b[0m \u001b[0;32mnot\u001b[0m \u001b[0mcb_handler\u001b[0m\u001b[0;34m.\u001b[0m\u001b[0mon_step_end\u001b[0m\u001b[0;34m(\u001b[0m\u001b[0;34m)\u001b[0m\u001b[0;34m:\u001b[0m     \u001b[0mopt\u001b[0m\u001b[0;34m.\u001b[0m\u001b[0mzero_grad\u001b[0m\u001b[0;34m(\u001b[0m\u001b[0;34m)\u001b[0m\u001b[0;34m\u001b[0m\u001b[0;34m\u001b[0m\u001b[0m\n\u001b[1;32m     37\u001b[0m \u001b[0;34m\u001b[0m\u001b[0m\n",
      "\u001b[0;32m~/.conda/envs/jkbc/lib/python3.7/site-packages/fastai/callback.py\u001b[0m in \u001b[0;36mstep\u001b[0;34m(self)\u001b[0m\n\u001b[1;32m     55\u001b[0m                     \u001b[0;32mfor\u001b[0m \u001b[0mp\u001b[0m \u001b[0;32min\u001b[0m \u001b[0mpg2\u001b[0m\u001b[0;34m[\u001b[0m\u001b[0;34m'params'\u001b[0m\u001b[0;34m]\u001b[0m\u001b[0;34m:\u001b[0m \u001b[0mp\u001b[0m\u001b[0;34m.\u001b[0m\u001b[0mdata\u001b[0m\u001b[0;34m.\u001b[0m\u001b[0mmul_\u001b[0m\u001b[0;34m(\u001b[0m\u001b[0;36m1\u001b[0m \u001b[0;34m-\u001b[0m \u001b[0mwd\u001b[0m\u001b[0;34m*\u001b[0m\u001b[0mlr\u001b[0m\u001b[0;34m)\u001b[0m\u001b[0;34m\u001b[0m\u001b[0;34m\u001b[0m\u001b[0m\n\u001b[1;32m     56\u001b[0m             \u001b[0mself\u001b[0m\u001b[0;34m.\u001b[0m\u001b[0mset_val\u001b[0m\u001b[0;34m(\u001b[0m\u001b[0;34m'weight_decay'\u001b[0m\u001b[0;34m,\u001b[0m \u001b[0mlistify\u001b[0m\u001b[0;34m(\u001b[0m\u001b[0;36m0\u001b[0m\u001b[0;34m,\u001b[0m \u001b[0mself\u001b[0m\u001b[0;34m.\u001b[0m\u001b[0m_wd\u001b[0m\u001b[0;34m)\u001b[0m\u001b[0;34m)\u001b[0m\u001b[0;34m\u001b[0m\u001b[0;34m\u001b[0m\u001b[0m\n\u001b[0;32m---> 57\u001b[0;31m         \u001b[0mself\u001b[0m\u001b[0;34m.\u001b[0m\u001b[0mopt\u001b[0m\u001b[0;34m.\u001b[0m\u001b[0mstep\u001b[0m\u001b[0;34m(\u001b[0m\u001b[0;34m)\u001b[0m\u001b[0;34m\u001b[0m\u001b[0;34m\u001b[0m\u001b[0m\n\u001b[0m\u001b[1;32m     58\u001b[0m \u001b[0;34m\u001b[0m\u001b[0m\n\u001b[1;32m     59\u001b[0m     \u001b[0;32mdef\u001b[0m \u001b[0mzero_grad\u001b[0m\u001b[0;34m(\u001b[0m\u001b[0mself\u001b[0m\u001b[0;34m)\u001b[0m\u001b[0;34m->\u001b[0m\u001b[0;32mNone\u001b[0m\u001b[0;34m:\u001b[0m\u001b[0;34m\u001b[0m\u001b[0;34m\u001b[0m\u001b[0m\n",
      "\u001b[0;32m~/.conda/envs/jkbc/lib/python3.7/site-packages/torch/optim/adamw.py\u001b[0m in \u001b[0;36mstep\u001b[0;34m(self, closure)\u001b[0m\n\u001b[1;32m    104\u001b[0m                     \u001b[0mtorch\u001b[0m\u001b[0;34m.\u001b[0m\u001b[0mmax\u001b[0m\u001b[0;34m(\u001b[0m\u001b[0mmax_exp_avg_sq\u001b[0m\u001b[0;34m,\u001b[0m \u001b[0mexp_avg_sq\u001b[0m\u001b[0;34m,\u001b[0m \u001b[0mout\u001b[0m\u001b[0;34m=\u001b[0m\u001b[0mmax_exp_avg_sq\u001b[0m\u001b[0;34m)\u001b[0m\u001b[0;34m\u001b[0m\u001b[0;34m\u001b[0m\u001b[0m\n\u001b[1;32m    105\u001b[0m                     \u001b[0;31m# Use the max. for normalizing running avg. of gradient\u001b[0m\u001b[0;34m\u001b[0m\u001b[0;34m\u001b[0m\u001b[0;34m\u001b[0m\u001b[0m\n\u001b[0;32m--> 106\u001b[0;31m                     \u001b[0mdenom\u001b[0m \u001b[0;34m=\u001b[0m \u001b[0;34m(\u001b[0m\u001b[0mmax_exp_avg_sq\u001b[0m\u001b[0;34m.\u001b[0m\u001b[0msqrt\u001b[0m\u001b[0;34m(\u001b[0m\u001b[0;34m)\u001b[0m \u001b[0;34m/\u001b[0m \u001b[0mmath\u001b[0m\u001b[0;34m.\u001b[0m\u001b[0msqrt\u001b[0m\u001b[0;34m(\u001b[0m\u001b[0mbias_correction2\u001b[0m\u001b[0;34m)\u001b[0m\u001b[0;34m)\u001b[0m\u001b[0;34m.\u001b[0m\u001b[0madd_\u001b[0m\u001b[0;34m(\u001b[0m\u001b[0mgroup\u001b[0m\u001b[0;34m[\u001b[0m\u001b[0;34m'eps'\u001b[0m\u001b[0;34m]\u001b[0m\u001b[0;34m)\u001b[0m\u001b[0;34m\u001b[0m\u001b[0;34m\u001b[0m\u001b[0m\n\u001b[0m\u001b[1;32m    107\u001b[0m                 \u001b[0;32melse\u001b[0m\u001b[0;34m:\u001b[0m\u001b[0;34m\u001b[0m\u001b[0;34m\u001b[0m\u001b[0m\n\u001b[1;32m    108\u001b[0m                     \u001b[0mdenom\u001b[0m \u001b[0;34m=\u001b[0m \u001b[0;34m(\u001b[0m\u001b[0mexp_avg_sq\u001b[0m\u001b[0;34m.\u001b[0m\u001b[0msqrt\u001b[0m\u001b[0;34m(\u001b[0m\u001b[0;34m)\u001b[0m \u001b[0;34m/\u001b[0m \u001b[0mmath\u001b[0m\u001b[0;34m.\u001b[0m\u001b[0msqrt\u001b[0m\u001b[0;34m(\u001b[0m\u001b[0mbias_correction2\u001b[0m\u001b[0;34m)\u001b[0m\u001b[0;34m)\u001b[0m\u001b[0;34m.\u001b[0m\u001b[0madd_\u001b[0m\u001b[0;34m(\u001b[0m\u001b[0mgroup\u001b[0m\u001b[0;34m[\u001b[0m\u001b[0;34m'eps'\u001b[0m\u001b[0;34m]\u001b[0m\u001b[0;34m)\u001b[0m\u001b[0;34m\u001b[0m\u001b[0;34m\u001b[0m\u001b[0m\n",
      "\u001b[0;31mKeyboardInterrupt\u001b[0m: "
     ]
    }
   ],
   "source": [
    "learner.fit(EPOCHS, lr=lr, callbacks=[SAVE_CALLBACK(learner)])"
   ]
  },
  {
   "cell_type": "code",
   "execution_count": 13,
   "metadata": {},
   "outputs": [
    {
     "data": {
      "image/png": "[encoded data removed]",
      "text/plain": [
       "<Figure size 432x288 with 1 Axes>"
      ]
     },
     "metadata": {
      "needs_background": "light"
     },
     "output_type": "display_data"
    }
   ],
   "source": [
    "learner.recorder.plot_losses()"
   ]
  },
  {
   "cell_type": "markdown",
   "metadata": {},
   "source": [
    "## Predict"
   ]
  },
  {
   "cell_type": "code",
   "execution_count": 14,
   "metadata": {},
   "outputs": [],
   "source": [
    "sc = prep.SignalCollection(BASE_DIR/constants.MAPPED_READS, training_data=False, stride=1, window_size=(WINDOW_SIZE-1, WINDOW_SIZE), blank_id=constants.BLANK_ID)\n",
    "validate_signal_count = 1"
   ]
  },
  {
   "cell_type": "code",
   "execution_count": 20,
   "metadata": {},
   "outputs": [
    {
     "name": "stderr",
     "output_type": "stream",
     "text": [
      "100%|██████████| 552/552 [02:19<00:00,  3.97it/s]\n"
     ]
    }
   ],
   "source": [
    "#for index in range(validate_signal_count): \n",
    "# Get read object (signal and reference)\n",
    "read_object = sc[5]\n",
    "# Predict signals\n",
    "x = read_object.x\n",
    "x_size= len(x)\n",
    "outputs = []\n",
    "x = torch.tensor(read_object.x, dtype=torch.float32)\n",
    "for from_ in tqdm(range(0, x_size, 100)):\n",
    "    to = min(x_size-1, from_+100)\n",
    "    x_ = m.signal_to_input_tensor(x[from_:to], DEVICE)\n",
    "    outputs += learner.model(x_).detach().cpu()"
   ]
  },
  {
   "cell_type": "code",
   "execution_count": 21,
   "metadata": {},
   "outputs": [],
   "source": [
    "assembled, (accuracy, alignment) = m.predict(learner, outputs, ALPHABET, WINDOW_SIZE, 1, read_object.reference, beam_size=500, beam_threshold=0.1)"
   ]
  },
  {
   "cell_type": "code",
   "execution_count": 23,
   "metadata": {},
   "outputs": [
    {
     "data": {
      "text/plain": [
       "(0.29857369255150557,\n",
       " 'CCGGGCGAAGCCAGACCGCACAGCCACCACGCAAGGAGCACGACCACACCACCCAGGCAGGAGAGCGCGGCACCACCACCCGCCGAACGCCGAAGAAGGCAGCCCGAGGACCCAACCCAGGAACCGGGGGGCAACAGCCGGACGCCACCGAGGCAGCGAAGGGCGCCGAACACAGCAGGCAGCGGCCGCCGACCAGGAACCAACGCAGCAACAAGCCCCCGCGACCAAAAGCCAGCCAACCGAACAGAAGACCCCCACACGCCCGAGGAACAGCCCACCAAGCACCCAACAACACGCCGCGCCCGA-GGACCGACGAGAGCGGGGCCCCAGGCGCGCGAGCGCAAGAGGCACCGAAGGACCAAACCAGAGACGCAACACAACACCGGACGCCGCCACACGGGAACCGGGGCCCACGCACACACGCCACCGGGGGGCGAGCGCGCCAAAACCAGAAACGCCCCCGAGGCCAGCCAGGCCGCACCCCCGCCGGAAGCGCGCACCGCGCACACCGGCCCCAAACGCCACCCACAGGGAGCCGAGCGAGCACAGCGCGCACCACGCCCCGAACCGGCGAAAGCCGCGAAACAACGACGCCGCAGCGCGGCCCCCGGGAACAAAAGGCGCAGCACAGACAGGCAAGAACAAGCCCCCGACAACACCGGCAGACCGGCACCCCAAACAACACCGCCCAGCGCCGGGGGAC-CAACACCAAGGAAGAGGCAGAAGGGCAAGAGCCGCCAGGGAAAAGGACCCCCACGCACCGCCGCAGCCGGCGACGACAGACGCGACGCCGCGGCCCGGCGAAACAACCACAAAAGGCAGGCGGCAAGAGGCGGCCCAAGAGCGGCAGCAACCGCAAACCCCCCGCCCCGCACGAGAGAGCAAAAGGGCGGGCCCAGAAACGCAGAGCCAGACCCACACAACACCCGACAGAAAGCGGCGGAGACGGACCGGCGCGAGCAAGACAGAGCCAGCCGACAGCGGACGCGACAGCAGACCGCGACGGAAACCCGAGGCGAAAACAAACGAAAAACCCGGGCGAAAACCAACCGCCCGAAGGGGCCCAGCAACGACCCGCCCAGCGGCCCCGCCGACGACCGCAACGGACCCCGCACCAGCCGAAAGAAGGGAGCCGGGGACCAGAGGAGGACCGCACCGGCGCAGGGCGGGACGGGGCGCGGGGGGAGGAGGGGGGGCCGGCGCGGGCAGGGCACCACAGGCAGCGGCGAGGCAGCGCGCGGGCGGGGAACAAACCGCGCCGGGGGCAGGCGGAGCGGACAGCGCGGACCAAGAACGGGACACGGGGAGGGGGGCACGAGGAGCGGACGGGCAGGGGCCGCCAGCGGCGGGGCCCACAACCGCCGCAAGGCCAAGCCAACGCCCACGGAGACACGGCAGGGCCCCCAGCGCGCAGGGCGAACCGGGAACGCCCCAAACAGCCGGGCGAGCGGGACGGCGCGAGCAGGACCCAAAAACCCAGCAGAGGCGAAACCCCCCCGGACGGAAAGGCGCACCACCACACCCCCAAAAAACAGGCAGGCGGCCCCGGCGCCAAGAGGACCCGGACCACAGGCACGAGAGCCCGCGACCCGGGAAGCGCGACGCGGCGAGAGAGGCCGCCGAAGCCGACACCCAACGCGGAACGACCGAGCCCCCAAGAGAAGCCAGGAGAGAGCGCAACGCGCAACGAACGCCCCCCGCCAAAAACCCCCCCGCGCAAGCAACGCGCAGGACGCGACCGAACGGGCCCGCGCCACGCAAGGGGCGCGCAACCACCGGACGGGCGCACCGGCACGGCGCCCAACGCACCACCGAGCGCCCACGGGCGGGGCCGACGCAAACAACCGCGAGAAAGGCCGACCGGCCGGACCGAAGCGCCCCAACAACAGGACGGCCGCCACCGCAGCCCCGCACCCGGAAGACAAGCCCGCAGCCGGAGAGAACGCAGGGCCCAGCAAGACGCGCGGGGCCCCGCCAAGCGGGCCACCCCCAAAAGAGACCCGGAACGGACAAGAACGCAAGGGGGAGGCCCCGACAGCCCGCGCCGAACGCGGACCCCACAAACAAAACAGCCGAAAGGGCGGCGCCCCGCGCCACGGCAAACAAGCCGCGGCCAGGCCACAAGAGGGCCGCACGGCAGAAGCGACCGCAAGCACAACGCGAACCCCAGAGGGAACCAGCGCCGGCGAAGGGCCAGCCGCCCCACGGAGCCCACGGCCAGCGACGCCAGCGCCCACAGGCCGCCGCAACCGCGCCGCACCACCCGCCGAAACGAAAACGGCAGCCGGGAACCCCCAGACGAACAGAGCCCGGCGACCCGAAGCAGCCCAACACCACGCCACGCCGACCGGCGGGAAGCGAAAAGGGACGGGGGACGCCCCCCACACGCCGCCACCACGCACGGCCGGCAACGAGCACGCCAGCCGGGCCAGAACCGAGACGGCCAGCCAGCGCGCCCCCCAGGCGCGAGGACCGACGGCGGGAAAGCAACCCAAGAGCGCGCCGCAAACGAACAAACAACCGCGACGCCGGAGCCGCCACCACAGAGACGGCCAGACCAGCAAAACGAGGACCCCCCCCGCAGAGGGCCCGGACAAACCCAACACGCGCCAAACACAGCGGGGAAACCGAGAGCAGAACGCCGCGCGGCCCCAGCACAAGCAAACCGCAGCCCCGGCCCCGCCGGCAGGAGCACCAGACGACCAAAACGACCACCAACGAGGACCGAAGCCGCACGGAAGGCGACCCGCGGAACAAACAACCCACGACGGGCCCAAGCGAGAACCCAGACCGCGAGCGAAGCGCCGCACCGGAAACACACCACCCAAAACGCCCAGGGAGCGCAAGCGGGCGGACCAACAGGCGACCGCCGCCCAAGGGCACGCCACAGCAGGACGCCCCACAGCCGCCCGAGAAAGCAGCGCGGCCAGGGAGAAACAAAAGGGACGCCGCCCCACGCGACCACCCACGGGCAGCCCCACCGACAAGAAGCCGACCCCACAGACCGGAAAGACGCCGGCCGAGGAGCCGCGCCAGCCCCAGGCAGCACCAAGACGACCACCCGACCACCAGGCGCGAACCGCCGGAACAGCCCCCAAGACAGAACCGCAGAAAACCCCGACCAGGGAGAAAAACCGGAAGACACCCCCCGGGC\\n       .||                   |||||           |||      |||||           ||             |||||  |      ||     ||||   ||||             ||||       || .||   ||  |   ||   |    ||| ||.||   |.|        |||.|.|.|.|| ||                  |||||   ||.|||    |||     .|.||||.||         |.|      .||                    ||||| |||   |..||         |.| || ||.|||       ||.|.||  |    |||||| ||  |||||         || .|| |.|   |     |.||.|   .| |                  |||             ||        .||  |||||||     ||      |.|||       ||.|.| ||| ||| .|||   |.|.||.|| |||||    ||        |||              ||..|||||                                     .|.|||||                              ||.|||||     .||       |.||.||.| |              ||.|| ||||||    |||       ||  .|               |||.||    ||.|       .||            ||      ||||    ||      |||||||||               ||||       .|.|  .||...||                   ..|||   .||                 ||||||   |    .|||||||.||              .||||||               || ||||| |  ||||           |..||                           |||.|| |     |||     |||  |||           ||.|||  |  |       .||                     ||||||||..|       ||      |.||    ..|| .|                    |.|.|||            ..||.|                  |    |  |                               || ||||| ||.|    .|   | ||.|      ..|.|| .|| ||    |             |||  |                                      ||       ||   ||||   .||.|  ..|||| |  ||||                     ||.|.||  |     ...|.||     |||  .||      |     ||     ||||| .|    ||.|     |||||||   ||                   .|.|||.||   |            ..|||    ||||  ||     |||  | |              |....|         |.|     |||  |.|  ||||...||   |||  .|||.|  |||.||||             |.|||                      ||||..|||        ||||    |    |||   |||.|||               ||||        |       .|||.| | |    ||        ||  |...|        |.|.|.|          .||.|       || ..|||      ||  |.|   ||     .|||                                .|.||          |||  |||||.|  ||.||    .||            .|||||                  ||||   |   ..|...|             ||.||    ||                     |||||..||..|.| .||  |                       |||| |||  |     |||.||.||                   |||        |||||     ||        |||         |||     .|       ||   |  |||||                               ||        |||||       ||  |||.|  .||  .||||          |||||.|  |.||.|    .||  |    |||||| ||      .||       ||||     ||.||      |        |||       |||   ||           ||     ||||      ||||||| || ...|||     ||||      | ..|..||.|   |      |||| |.|  .||| ||| ||         ||||       |||      |      |||| | |    |.|| |     |||| .|  ||||||..|              ||||      ||| .|||||      |...|||  |..|    |||                     ||||||| |||||                            ||||    |||| ||                     |||||||   ||  ||            ||           .||||   | ||        ||            |||.|| ||| ||||||                           |||         .|...||.||         |||                     .||||.||| .||   |   |||.|                ||| |          |.|||.|  |.||.|...|..|                  ||| ||        |                    ||||||       |||||   |          |||       ||| | |||   |.|| |    | .|    ||         .|.|.|||.|                 .\\n-------TAG-------------------CGCAA-----------ACA------AGGCA-----------CA-------------AACGC--A------CA-----AGGA---AACC-------------GCAA-------AC-TCA---AG--A---AA---C----AAC-CAACA---ATC--------ACCTGTATCTAA-GC------------------CCAAA---CATCCA----AAC-----TCTCCCATAC---------ATA------TAA--------------------CCCGATGGA---ATTAG---------CTA-GC-CGGGAG-------GGTAACG--G----AAACCA-AG--GCAAC---------GA-TCC-CTA---G-----CTGGTC---TG-A------------------GAG-------------GA--------TGA--CCAGCCA-----CA------CTGGA-------ACTGAG-ACA-CGG-TCCA---GACTCCTAC-GGGAG----GC--------CGC--------------ACTTGCGAA-------------------------------------TATAAAAG------------------------------CGTCAACA-----TGA-------CTCATACTA-A--------------GGTACGCAACAC----GAA-------AA--TC---------------AAATGA----CATG-------TCA------------AG------CGCC----CC------AACAACCAC---------------AGAG-------TATA--TGCTTTAA-------------------TTCGA---TGC-----------------AACGCA---C----TCCACACATCA--------------TCGGAGA---------------AA-ACAGA-C--GCCG-----------GTTAG---------------------------AACTAA-G-----CCC-----AAA--CAA-----------GGTCCA--A--G-------TAG---------------------CGGACCCCTTA-------AA------GTGC----TTCC-TA--------------------GTCTGGA------------TTAGTA------------------A----A--A-------------------------------AA-AAACC-CGAC----TC---C-GATC------TTCTGA-TAA-AA----A-------------GCA--A--------------------------------------AA-------AA---CAAG---TCGTC--TTGAGA-A--GCAG---------------------ACTGAGA--G-----TTTATCC-----AGC--TAC------A-----AC-----AACCC-TC----GCTA-----CCCCGGA---AA-------------------TATAAATCA---A------------TTCAA----ACCC--AC-----GCA--A-A--------------ATTTTC---------ATA-----CGC--ATG--GACATTAAA---GGA--TACCAA--CCCTAAGA-------------ATCGC----------------------CCAATTACC--------CAAG----G----GGA---GACAGAA---------------CAAG--------A-------TACGTG-G-A----CA--------AA--CTTTA--------CTATGTG----------TCATA-------GA-TTAGG------GG--GTA---AA-----TCAA--------------------------------TGTAA----------CAG--GGAGATA--GCTGG----TGC------------TCCCCG------------------AAAG---C---TTATTTA-------------GGTAG----CG---------------------CCCCATTAATTATA-TGC--A-----------------------CAAA-AAG--G-----AGGTCATAA-------------------CGA--------ACAAC-----CC--------AAC---------CGA-----TA-------CA---A--CCACG-------------------------------AA--------CACCA-------AA--GAATA--TCA--AGGGA----------GAACACA--CTGGTG----TAA--A----AACACC-CG------TGA-------GAAG-----AGAGA------A--------ACA-------ACC---CA-----------GA-----CCAG------CAGAACC-AG-TTTCCA-----CGCG------A-AAGTTAGTA---A------GAAA-CGA--TAAG-GCG-GC---------ACAA-------CGA------A------ACCA-A-A----GTCA-A-----AAAA-TA--ACCCCCTTC--------------CAAA------ACG-TCCAAA------GTCTAAA--GTTA----AAC---------------------CAAACCG-AGCCC----------------------------CCAA----ACCA-CA---------------------AAGGCGA---GC--AA------------GA-----------TAGAA---A-AC--------AA------------AAATAC-CCA-CCAAAA---------------------------AAC---------TCTTTCATGG---------AGC---------------------TGAAATCAG-TCG---A---AGATA----------------CCA-G----------CTGGCTG--CAACTGTTTATTA------------------AAA-AC--------A--------------------CAGCAC-------ACCAC---A----------CGA-------GAA-A-CCC---ATAC-G----G-TG----CC---------TATATAAATC-----------------T')"
      ]
     },
     "execution_count": 23,
     "metadata": {},
     "output_type": "execute_result"
    }
   ],
   "source": [
    "accuracy, alignment"
   ]
  },
  {
   "cell_type": "code",
   "execution_count": null,
   "metadata": {},
   "outputs": [],
   "source": []
  }
 ],
 "metadata": {
  "jupytext": {
   "cell_metadata_filter": "-all",
   "notebook_metadata_filter": "-all"
  },
  "kernelspec": {
   "display_name": "jkbc",
   "language": "python",
   "name": "jkbc"
  },
  "language_info": {
   "codemirror_mode": {
    "name": "ipython",
    "version": 3
   },
   "file_extension": ".py",
   "mimetype": "text/x-python",
   "name": "python",
   "nbconvert_exporter": "python",
   "pygments_lexer": "ipython3",
   "version": "3.7.6"
  }
 },
 "nbformat": 4,
 "nbformat_minor": 4
}
