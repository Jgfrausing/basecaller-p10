{
 "cells": [
  {
   "cell_type": "code",
   "execution_count": 1,
   "metadata": {},
   "outputs": [],
   "source": [
    "%reload_ext autoreload\n",
    "%autoreload 2\n",
    "%matplotlib inline"
   ]
  },
  {
   "cell_type": "code",
   "execution_count": 2,
   "metadata": {
    "scrolled": true
   },
   "outputs": [],
   "source": [
    "from datetime import datetime\n",
    "import os\n",
    "from IPython.display import clear_output\n",
    "import itertools\n",
    "\n",
    "from fastai.basics import *\n",
    "import json\n",
    "from tqdm import tqdm\n",
    "\n",
    "import jkbc.model as m\n",
    "import jkbc.model.factory as factory\n",
    "import jkbc.model.schedulers as schedulers\n",
    "import jkbc.constants as constants\n",
    "import jkbc.files.torch_files as f\n",
    "import jkbc.model.metrics as metric\n",
    "import jkbc.utils.preprocessing as prep\n",
    "import jkbc.utils.postprocessing as pop\n",
    "import jkbc.files.fasta as fasta"
   ]
  },
  {
   "cell_type": "markdown",
   "metadata": {},
   "source": [
    "## Constants"
   ]
  },
  {
   "cell_type": "markdown",
   "metadata": {},
   "source": [
    "### Data"
   ]
  },
  {
   "cell_type": "code",
   "execution_count": null,
   "metadata": {},
   "outputs": [],
   "source": [
    "BASE_DIR = Path(\"../..\")\n",
    "PATH_DATA = 'data/feather-files'\n",
    "DATA_SET = 'Range0-50-FixLabelLen400-winsize4096'\n",
    "FEATHER_FOLDER = BASE_DIR/PATH_DATA/DATA_SET\n",
    "\n",
    "with open(FEATHER_FOLDER/'config.json', 'r') as fp:\n",
    "    config = json.load(fp)\n",
    "\n",
    "ALPHABET       = constants.ALPHABET\n",
    "ALPHABET_VAL   = list(ALPHABET.values())\n",
    "ALPHABET_STR   = ''.join(ALPHABET_VAL)\n",
    "ALPHABET_SIZE  = len(ALPHABET.keys())\n",
    "WINDOW_SIZE    = int(config['maxw']) #maxw = max windowsize\n",
    "DIMENSIONS_OUT = int(config['maxl']) # maxl = max label length\n",
    "STRIDE         = WINDOW_SIZE\n",
    "\n",
    "KNOWLEGDE_DISTILLATION = True\n",
    "TEACHER_OUTPUT = 'bonito-csv' # Set to name of y_teacher output\n",
    "if KNOWLEGDE_DISTILLATION and not TEACHER_OUTPUT:\n",
    "    print('WARNING! Must provide name of teacher output when doing knowledge distillation')"
   ]
  },
  {
   "cell_type": "code",
   "execution_count": null,
   "metadata": {},
   "outputs": [],
   "source": [
    "METRICS = [metric.ctc_accuracy(ALPHABET, 5)]"
   ]
  },
  {
   "cell_type": "markdown",
   "metadata": {},
   "source": [
    "### Train/Predict"
   ]
  },
  {
   "cell_type": "code",
   "execution_count": null,
   "metadata": {},
   "outputs": [],
   "source": [
    "LR = 1e-3  # default learning rate\n",
    "BS = 2**6  # batch size\n",
    "EPOCHS = 1\n",
    "DEVICE = DEVICE = m.get_available_gpu() #torch.device(\"cpu\")\n",
    "DEVICE"
   ]
  },
  {
   "cell_type": "markdown",
   "metadata": {},
   "source": [
    "### Model"
   ]
  },
  {
   "cell_type": "code",
   "execution_count": null,
   "metadata": {},
   "outputs": [],
   "source": [
    "DROP_LAST = False # SET TO TRUE IF IT FAILS ON LAST BATCH"
   ]
  },
  {
   "cell_type": "markdown",
   "metadata": {},
   "source": [
    "## Load data"
   ]
  },
  {
   "cell_type": "code",
   "execution_count": null,
   "metadata": {},
   "outputs": [],
   "source": [
    "# Read data from feather\n",
    "if KNOWLEGDE_DISTILLATION:\n",
    "    data, teacher = f.load_training_data_with_teacher(FEATHER_FOLDER, TEACHER_OUTPUT)\n",
    "    train_dl, valid_dl = prep.convert_to_dataloaders(data, split=.8, batch_size=BS, teacher=teacher, drop_last=DROP_LAST)\n",
    "else:\n",
    "    data = f.load_training_data(FEATHER_FOLDER) \n",
    "    train_dl, valid_dl = prep.convert_to_dataloaders(data, split=.8, batch_size=BS, drop_last=DROP_LAST)\n",
    "\n",
    "# Convert to databunch\n",
    "databunch = DataBunch(train_dl, valid_dl, device=DEVICE)"
   ]
  },
  {
   "cell_type": "markdown",
   "metadata": {},
   "source": [
    "## Model"
   ]
  },
  {
   "cell_type": "code",
   "execution_count": null,
   "metadata": {},
   "outputs": [],
   "source": [
    "_ctc_loss = lambda dim_pred_out : metric.CtcLoss(WINDOW_SIZE, dim_pred_out, BS, ALPHABET_SIZE)\n",
    "loss_funcs = {}\n",
    "for t in [1,2,4,8,16,32]:\n",
    "    for a in np.arange(0,1.1,.1):\n",
    "        loss_funcs[f't={t},a={a}'] = lambda dim_pred_out : metric.KdLoss(alpha=a, temperature=t, label_loss=_ctc_loss(dim_pred_out)).loss()"
   ]
  },
  {
   "cell_type": "code",
   "execution_count": null,
   "metadata": {},
   "outputs": [],
   "source": [
    "optimizers = {'AdamW': partial(torch.optim.AdamW, amsgrad=True, lr=LR)}"
   ]
  },
  {
   "cell_type": "code",
   "execution_count": null,
   "metadata": {},
   "outputs": [],
   "source": [
    "moms = [0.8, 0.9]; cycles = [3, 5, 7, 9]\n",
    "schedulers = schedulers.get_named_schedulers(EPOCHS, LR, moms, cycles)"
   ]
  },
  {
   "cell_type": "code",
   "execution_count": null,
   "metadata": {},
   "outputs": [],
   "source": [
    "## Model_name, loss_function, optimizer, ctc_accuracy\n",
    "models = [partial(factory.bonito, WINDOW_SIZE, DEVICE, BASE_DIR)]\n",
    "\n",
    "folder_id = f'hyper/{datetime.now()}'\n",
    "if not os.path.exists(folder_id):\n",
    "    os.makedirs(folder_id)\n",
    "with open(f'{folder_id}/hyper-output.csv', 'w') as f:\n",
    "    f.write('Model_name, loss_function, optimizer, scheduler, ctc_accuracy, run_id')\n",
    "    hyperparameters = list(itertools.product(models, loss_funcs.items(), optimizers.items(), schedulers.items()))\n",
    "    for model, (l_key, loss), (o_key, optim), (s_key, scheduler) in tqdm(hyperparameters, 'Hyperparameter progress'): \n",
    "        # Get model\n",
    "        m, (MODEL_NAME, dim_pred_out) = model()\n",
    "        run_id = f'{MODEL_NAME}-{l_key}-{o_key}-{s_key}'\n",
    "        # Set loss with model output dimension \n",
    "        loss_ = loss(dim_pred_out)\n",
    "        # Create learner\n",
    "        learner = Learner(databunch, m, loss_func=loss_, metrics=METRICS, opt_func=optim).to_fp16()\n",
    "        # Set scheduler\n",
    "        scheduler(learner)\n",
    "        # Create callbacks\n",
    "        # Stop if no improvement after patience epochs\n",
    "        early_stop_callback = metrics.EarlyStoppingCallback(learner, monitor='ctc_accuracy' mode='max', patience=10) \n",
    "        # Save output for each epoch\n",
    "        csv_log_callback = metric.CSVLogger(learner, filename=f'{folder_id}/{run_id}', append=True)\n",
    "        callbacks=[early_stop_callback, csv_log_callback]\n",
    "        # FIT\n",
    "        learner.fit(EPOCHS, lr=LR, callbacks=callbacks)\n",
    "        # Save results\n",
    "        score = learner.validate()[1]\n",
    "        f.write(f'{MODEL_NAME}, {l_key}, {o_key}, {s_key}, {score}, {run_id}\\n')\n",
    "        clear_output(wait=True)\n",
    "        print('Previous score:', score)"
   ]
  },
  {
   "cell_type": "code",
   "execution_count": null,
   "metadata": {},
   "outputs": [],
   "source": []
  }
 ],
 "metadata": {
  "jupytext": {
   "cell_metadata_filter": "-all",
   "notebook_metadata_filter": "-all"
  },
  "kernelspec": {
   "display_name": "jkbc",
   "language": "python",
   "name": "jkbc"
  },
  "language_info": {
   "codemirror_mode": {
    "name": "ipython",
    "version": 3
   },
   "file_extension": ".py",
   "mimetype": "text/x-python",
   "name": "python",
   "nbconvert_exporter": "python",
   "pygments_lexer": "ipython3",
   "version": "3.7.6"
  }
 },
 "nbformat": 4,
 "nbformat_minor": 4
}
