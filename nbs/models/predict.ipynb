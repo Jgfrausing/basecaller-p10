{
 "cells": [
  {
   "cell_type": "code",
   "execution_count": null,
   "metadata": {},
   "outputs": [],
   "source": [
    "%reload_ext autoreload\n",
    "%autoreload 2\n",
    "%matplotlib inline"
   ]
  },
  {
   "cell_type": "code",
   "execution_count": null,
   "metadata": {
    "scrolled": true
   },
   "outputs": [],
   "source": [
    "from fastai.basics import *\n",
    "import json\n",
    "\n",
    "import jkbc.model as m\n",
    "import jkbc.model.factory as factory\n",
    "import jkbc.constants as constants\n",
    "import jkbc.files.fasta as fasta\n",
    "import jkbc.files.torch_files as f\n",
    "import jkbc.utils.kd as kd\n",
    "import jkbc.utils.preprocessing as prep\n",
    "import jkbc.utils.postprocessing as pop"
   ]
  },
  {
   "cell_type": "markdown",
   "metadata": {},
   "source": [
    "## Constants"
   ]
  },
  {
   "cell_type": "markdown",
   "metadata": {},
   "source": [
    "### Data"
   ]
  },
  {
   "cell_type": "code",
   "execution_count": null,
   "metadata": {},
   "outputs": [],
   "source": [
    "BASE_DIR = Path(\"../..\")\n",
    "PATH_DATA = 'data/feather-files'\n",
    "DATA_SET = 'Range0-50-FixLabelLen400-winsize4096'\n",
    "FEATHER_FOLDER = BASE_DIR/PATH_DATA/DATA_SET\n",
    "\n",
    "with open(FEATHER_FOLDER/'config.json', 'r') as fp:\n",
    "    config = json.load(fp)\n",
    "\n",
    "ALPHABET       = constants.ALPHABET\n",
    "ALPHABET_VAL   = list(ALPHABET.values())\n",
    "ALPHABET_STR   = ''.join(ALPHABET_VAL)\n",
    "ALPHABET_SIZE  = len(ALPHABET.keys())\n",
    "WINDOW_SIZE    = int(config['maxw']) #maxw = max windowsize\n",
    "DIMENSIONS_OUT = int(config['maxl']) # maxl = max label length\n",
    "MIN_LABEL_LEN  = int(config['minl']) # maxl = max label length\n",
    "STRIDE         = WINDOW_SIZE"
   ]
  },
  {
   "cell_type": "markdown",
   "metadata": {},
   "source": [
    "### Train/Predict"
   ]
  },
  {
   "cell_type": "code",
   "execution_count": 4,
   "metadata": {},
   "outputs": [
    {
     "data": {
      "text/plain": [
       "device(type='cuda', index=4)"
      ]
     },
     "execution_count": 4,
     "metadata": {},
     "output_type": "execute_result"
    }
   ],
   "source": [
    "BS = 2**3  # batch size\n",
    "DEVICE = m.get_available_gpu() #torch.device(\"cpu\")\n",
    "DEVICE"
   ]
  },
  {
   "cell_type": "markdown",
   "metadata": {},
   "source": [
    "### Model"
   ]
  },
  {
   "cell_type": "code",
   "execution_count": 5,
   "metadata": {},
   "outputs": [],
   "source": [
    "model, (MODEL_NAME, _) = factory.bonito(WINDOW_SIZE, DEVICE, BASE_DIR)\n",
    "MODEL_NAME = f'{MODEL_NAME}'\n",
    "MODEL_DIR = f'{MODEL_NAME}/weights'\n",
    "model_weights = 'bestmodel_8'\n",
    "predicter = m.get_predicter(model, MODEL_DIR, DEVICE).to_fp16()"
   ]
  },
  {
   "cell_type": "code",
   "execution_count": 6,
   "metadata": {},
   "outputs": [
    {
     "data": {
      "text/plain": [
       "'bestmodel_8'"
      ]
     },
     "execution_count": 6,
     "metadata": {},
     "output_type": "execute_result"
    }
   ],
   "source": [
    "if not model_weights:\n",
    "    model_weights = m.get_newest_model(MODEL_DIR)\n",
    "\n",
    "predicter.load(model_weights);\n",
    "model_weights"
   ]
  },
  {
   "cell_type": "markdown",
   "metadata": {},
   "source": [
    "## Save teacher output"
   ]
  },
  {
   "cell_type": "code",
   "execution_count": null,
   "metadata": {},
   "outputs": [],
   "source": [
    "# Read data from feather\n",
    "data = f.load_training_data(FEATHER_FOLDER) \n",
    "kd.generate_and_save_y_teacher(FEATHER_FOLDER, MODEL_NAME, m.signal_to_input_tensor(data.x, DEVICE), predicter.model, bs=BS)"
   ]
  },
  {
   "cell_type": "markdown",
   "metadata": {},
   "source": [
    "## Get accuracies"
   ]
  },
  {
   "cell_type": "code",
   "execution_count": 9,
   "metadata": {},
   "outputs": [],
   "source": [
    "sc = prep.SignalCollection(BASE_DIR/constants.MAPPED_READS, BASE_DIR/constants.BACTERIA_DICT_PATH, labels_per_window=(MIN_LABEL_LEN,DIMENSIONS_OUT), \n",
    "                           stride=STRIDE, window_size=(WINDOW_SIZE-1, WINDOW_SIZE), blank_id=constants.BLANK_ID)"
   ]
  },
  {
   "cell_type": "code",
   "execution_count": 14,
   "metadata": {},
   "outputs": [
    {
     "name": "stderr",
     "output_type": "stream",
     "text": [
      "\n",
      "  0%|          | 0/1000 [00:00<?, ?it/s]\u001b[A\n",
      "  0%|          | 1/1000 [00:01<16:58,  1.02s/it]\u001b[A\n",
      "  0%|          | 2/1000 [00:01<16:27,  1.01it/s]\u001b[A\n",
      "  0%|          | 3/1000 [00:02<12:23,  1.34it/s]\u001b[A\n",
      "  0%|          | 4/1000 [00:03<13:16,  1.25it/s]\u001b[A\n",
      "  0%|          | 5/1000 [00:03<13:42,  1.21it/s]\u001b[A\n",
      "  1%|          | 6/1000 [00:04<13:28,  1.23it/s]\u001b[A\n",
      "  1%|          | 7/1000 [00:05<11:18,  1.46it/s]\u001b[A\n",
      "  1%|          | 8/1000 [00:05<12:14,  1.35it/s]\u001b[A\n",
      "  1%|          | 9/1000 [00:06<13:32,  1.22it/s]\u001b[A\n",
      "  1%|          | 10/1000 [00:07<10:32,  1.57it/s]\u001b[A\n",
      "  1%|          | 11/1000 [00:08<12:33,  1.31it/s]\u001b[A\n",
      "  1%|          | 12/1000 [00:09<13:41,  1.20it/s]\u001b[A\n",
      "  1%|▏         | 13/1000 [00:10<14:31,  1.13it/s]\u001b[A\n",
      "  1%|▏         | 14/1000 [00:11<16:14,  1.01it/s]\u001b[A\n",
      "  2%|▏         | 15/1000 [00:12<14:13,  1.15it/s]\u001b[A\n",
      "  2%|▏         | 16/1000 [00:13<17:48,  1.09s/it]\u001b[A\n",
      "  2%|▏         | 17/1000 [00:15<19:08,  1.17s/it]\u001b[A\n",
      "  2%|▏         | 18/1000 [00:15<15:26,  1.06it/s]\u001b[A\n",
      "  2%|▏         | 19/1000 [00:16<14:22,  1.14it/s]\u001b[A\n",
      "  2%|▏         | 20/1000 [00:17<16:09,  1.01it/s]\u001b[A\n",
      "  2%|▏         | 21/1000 [00:18<15:03,  1.08it/s]\u001b[A\n",
      "  2%|▏         | 22/1000 [00:19<14:53,  1.09it/s]\u001b[A\n",
      "  2%|▏         | 23/1000 [00:20<16:26,  1.01s/it]\u001b[A\n",
      "  2%|▏         | 24/1000 [00:21<17:26,  1.07s/it]\u001b[A\n",
      "  2%|▎         | 25/1000 [00:22<17:47,  1.09s/it]\u001b[A\n",
      "  3%|▎         | 26/1000 [00:23<16:53,  1.04s/it]\u001b[A\n",
      "  3%|▎         | 27/1000 [00:24<17:09,  1.06s/it]\u001b[A\n",
      "  3%|▎         | 28/1000 [00:25<16:55,  1.04s/it]\u001b[A\n",
      "  3%|▎         | 29/1000 [00:26<17:46,  1.10s/it]\u001b[A\n",
      "  3%|▎         | 30/1000 [00:27<13:55,  1.16it/s]\u001b[A\n",
      "  3%|▎         | 32/1000 [00:28<13:39,  1.18it/s]\u001b[A\n",
      "  3%|▎         | 33/1000 [00:29<14:11,  1.14it/s]\u001b[A\n",
      "  3%|▎         | 34/1000 [00:30<14:22,  1.12it/s]\u001b[A\n",
      "  4%|▎         | 35/1000 [00:30<10:38,  1.51it/s]\u001b[A\n",
      "  4%|▎         | 36/1000 [00:31<09:50,  1.63it/s]\u001b[A\n",
      "  4%|▎         | 37/1000 [00:32<13:19,  1.20it/s]\u001b[A\n",
      "  4%|▍         | 38/1000 [00:32<10:36,  1.51it/s]\u001b[A\n",
      "  4%|▍         | 39/1000 [00:33<11:43,  1.37it/s]\u001b[A\n",
      "  4%|▍         | 40/1000 [00:34<12:31,  1.28it/s]\u001b[A\n",
      "  4%|▍         | 41/1000 [00:35<14:28,  1.10it/s]\u001b[A\n",
      "  4%|▍         | 42/1000 [00:37<15:33,  1.03it/s]\u001b[A\n",
      "  4%|▍         | 43/1000 [00:38<16:01,  1.01s/it]\u001b[A\n",
      "  4%|▍         | 44/1000 [00:39<15:25,  1.03it/s]\u001b[A\n",
      "  4%|▍         | 45/1000 [00:39<12:21,  1.29it/s]\u001b[A\n",
      "  5%|▍         | 46/1000 [00:40<12:55,  1.23it/s]\u001b[A\n",
      "  5%|▍         | 47/1000 [00:40<11:09,  1.42it/s]\u001b[A\n",
      "  5%|▍         | 48/1000 [00:41<11:08,  1.42it/s]\u001b[A\n",
      "  5%|▍         | 49/1000 [00:42<13:26,  1.18it/s]\u001b[A\n",
      "  5%|▌         | 50/1000 [00:43<13:03,  1.21it/s]\u001b[A\n",
      "  5%|▌         | 51/1000 [00:44<12:37,  1.25it/s]\u001b[A\n",
      "  5%|▌         | 52/1000 [00:44<12:17,  1.29it/s]\u001b[A\n",
      "  5%|▌         | 53/1000 [00:45<13:23,  1.18it/s]\u001b[A\n",
      "  5%|▌         | 54/1000 [00:47<15:11,  1.04it/s]\u001b[A\n",
      "  6%|▌         | 55/1000 [00:47<13:50,  1.14it/s]\u001b[A\n",
      "  6%|▌         | 56/1000 [00:48<13:33,  1.16it/s]\u001b[A\n",
      "  6%|▌         | 57/1000 [00:49<12:58,  1.21it/s]\u001b[A\n",
      "  6%|▌         | 58/1000 [00:49<09:46,  1.61it/s]\u001b[A\n",
      "  6%|▌         | 59/1000 [00:49<08:37,  1.82it/s]\u001b[A"
     ]
    },
    {
     "name": "stdout",
     "output_type": "stream",
     "text": [
      "Error: Skipping index 350713. No windows in signal\n"
     ]
    },
    {
     "name": "stderr",
     "output_type": "stream",
     "text": [
      "\n",
      "  6%|▌         | 61/1000 [00:50<08:24,  1.86it/s]\u001b[A\n",
      "  6%|▌         | 62/1000 [00:51<09:58,  1.57it/s]\u001b[A\n",
      "  6%|▋         | 63/1000 [00:52<11:02,  1.41it/s]\u001b[A\n",
      "  6%|▋         | 64/1000 [00:53<10:57,  1.42it/s]\u001b[A"
     ]
    },
    {
     "name": "stdout",
     "output_type": "stream",
     "text": [
      "Error: Skipping index 407922. No windows in signal\n"
     ]
    },
    {
     "name": "stderr",
     "output_type": "stream",
     "text": [
      "\n",
      "  7%|▋         | 66/1000 [00:54<10:10,  1.53it/s]\u001b[A\n",
      "  7%|▋         | 67/1000 [00:54<09:02,  1.72it/s]\u001b[A"
     ]
    },
    {
     "name": "stdout",
     "output_type": "stream",
     "text": [
      "Error: Skipping index 152898. No windows in signal\n"
     ]
    },
    {
     "name": "stderr",
     "output_type": "stream",
     "text": [
      "\n",
      "  7%|▋         | 69/1000 [00:55<08:10,  1.90it/s]\u001b[A\n",
      "  7%|▋         | 70/1000 [00:55<06:58,  2.22it/s]\u001b[A\n",
      "  7%|▋         | 71/1000 [00:56<09:10,  1.69it/s]\u001b[A\n",
      "  7%|▋         | 72/1000 [00:56<07:02,  2.19it/s]\u001b[A\n",
      "  7%|▋         | 73/1000 [00:57<06:41,  2.31it/s]\u001b[A\n",
      "  7%|▋         | 74/1000 [00:58<08:10,  1.89it/s]\u001b[A\n",
      "  8%|▊         | 75/1000 [00:59<10:48,  1.43it/s]\u001b[A\n",
      "  8%|▊         | 76/1000 [00:59<08:33,  1.80it/s]\u001b[A"
     ]
    },
    {
     "ename": "KeyboardInterrupt",
     "evalue": "",
     "output_type": "error",
     "traceback": [
      "\u001b[0;31m---------------------------------------------------------------------------\u001b[0m",
      "\u001b[0;31mKeyboardInterrupt\u001b[0m                         Traceback (most recent call last)",
      "\u001b[0;32m<ipython-input-14-ec3f166b095a>\u001b[0m in \u001b[0;36m<module>\u001b[0;34m\u001b[0m\n\u001b[1;32m      1\u001b[0m \u001b[0;31m# predict range\u001b[0m\u001b[0;34m\u001b[0m\u001b[0;34m\u001b[0m\u001b[0;34m\u001b[0m\u001b[0m\n\u001b[0;32m----> 2\u001b[0;31m \u001b[0mpredict_objects\u001b[0m \u001b[0;34m=\u001b[0m \u001b[0mm\u001b[0m\u001b[0;34m.\u001b[0m\u001b[0mpredict_range\u001b[0m\u001b[0;34m(\u001b[0m\u001b[0mpredicter\u001b[0m\u001b[0;34m.\u001b[0m\u001b[0mmodel\u001b[0m\u001b[0;34m,\u001b[0m \u001b[0msc\u001b[0m\u001b[0;34m,\u001b[0m \u001b[0mALPHABET_STR\u001b[0m\u001b[0;34m,\u001b[0m \u001b[0mWINDOW_SIZE\u001b[0m\u001b[0;34m,\u001b[0m \u001b[0mDEVICE\u001b[0m\u001b[0;34m,\u001b[0m \u001b[0mindexes\u001b[0m\u001b[0;34m=\u001b[0m\u001b[0mnp\u001b[0m\u001b[0;34m.\u001b[0m\u001b[0mrandom\u001b[0m\u001b[0;34m.\u001b[0m\u001b[0mrandint\u001b[0m\u001b[0;34m(\u001b[0m\u001b[0;36m0\u001b[0m\u001b[0;34m,\u001b[0m \u001b[0mlen\u001b[0m\u001b[0;34m(\u001b[0m\u001b[0msc\u001b[0m\u001b[0;34m)\u001b[0m\u001b[0;34m,\u001b[0m \u001b[0;36m1000\u001b[0m\u001b[0;34m)\u001b[0m\u001b[0;34m)\u001b[0m\u001b[0;34m\u001b[0m\u001b[0;34m\u001b[0m\u001b[0m\n\u001b[0m",
      "\u001b[0;32m~/basecaller-p10/jkbc/jkbc/model/__init__.py\u001b[0m in \u001b[0;36mpredict_range\u001b[0;34m(model, signal_collection, alphabet_string, window_size, device, indexes, beam_size, beam_threshold)\u001b[0m\n\u001b[1;32m     56\u001b[0m             \u001b[0;32mcontinue\u001b[0m\u001b[0;34m\u001b[0m\u001b[0;34m\u001b[0m\u001b[0m\n\u001b[1;32m     57\u001b[0m         \u001b[0mx\u001b[0m \u001b[0;34m=\u001b[0m \u001b[0msignal_to_input_tensor\u001b[0m\u001b[0;34m(\u001b[0m\u001b[0mread_object\u001b[0m\u001b[0;34m.\u001b[0m\u001b[0mx\u001b[0m\u001b[0;34m,\u001b[0m \u001b[0mdevice\u001b[0m\u001b[0;34m)\u001b[0m\u001b[0;34m\u001b[0m\u001b[0;34m\u001b[0m\u001b[0m\n\u001b[0;32m---> 58\u001b[0;31m         \u001b[0massembled\u001b[0m\u001b[0;34m,\u001b[0m \u001b[0mdecoded\u001b[0m \u001b[0;34m=\u001b[0m \u001b[0mpredict_and_assemble\u001b[0m\u001b[0;34m(\u001b[0m\u001b[0mmodel\u001b[0m\u001b[0;34m,\u001b[0m \u001b[0mx\u001b[0m\u001b[0;34m,\u001b[0m \u001b[0malphabet_string\u001b[0m\u001b[0;34m,\u001b[0m \u001b[0mwindow_size\u001b[0m\u001b[0;34m,\u001b[0m \u001b[0;36m1\u001b[0m\u001b[0;34m,\u001b[0m \u001b[0mbeam_size\u001b[0m\u001b[0;34m,\u001b[0m \u001b[0mbeam_threshold\u001b[0m\u001b[0;34m)\u001b[0m\u001b[0;34m\u001b[0m\u001b[0;34m\u001b[0m\u001b[0m\n\u001b[0m\u001b[1;32m     59\u001b[0m         \u001b[0mpo\u001b[0m \u001b[0;34m=\u001b[0m \u001b[0mpop\u001b[0m\u001b[0;34m.\u001b[0m\u001b[0mPredictObject\u001b[0m\u001b[0;34m(\u001b[0m\u001b[0mread_object\u001b[0m\u001b[0;34m.\u001b[0m\u001b[0mid\u001b[0m\u001b[0;34m,\u001b[0m \u001b[0mread_object\u001b[0m\u001b[0;34m.\u001b[0m\u001b[0mbacteria\u001b[0m\u001b[0;34m,\u001b[0m \u001b[0mdecoded\u001b[0m\u001b[0;34m,\u001b[0m \u001b[0mread_object\u001b[0m\u001b[0;34m.\u001b[0m\u001b[0my\u001b[0m\u001b[0;34m,\u001b[0m \u001b[0massembled\u001b[0m\u001b[0;34m,\u001b[0m \u001b[0mread_object\u001b[0m\u001b[0;34m.\u001b[0m\u001b[0mreference\u001b[0m\u001b[0;34m)\u001b[0m\u001b[0;34m\u001b[0m\u001b[0;34m\u001b[0m\u001b[0m\n\u001b[1;32m     60\u001b[0m         \u001b[0mpredict_objects\u001b[0m\u001b[0;34m.\u001b[0m\u001b[0mappend\u001b[0m\u001b[0;34m(\u001b[0m\u001b[0mpo\u001b[0m\u001b[0;34m)\u001b[0m\u001b[0;34m\u001b[0m\u001b[0;34m\u001b[0m\u001b[0m\n",
      "\u001b[0;32m~/basecaller-p10/jkbc/jkbc/model/__init__.py\u001b[0m in \u001b[0;36mpredict_and_assemble\u001b[0;34m(model, x, alphabet, window_size, stride, beam_size, beam_threshold)\u001b[0m\n\u001b[1;32m     24\u001b[0m     \u001b[0mdecoded\u001b[0m \u001b[0;34m=\u001b[0m \u001b[0mpop\u001b[0m\u001b[0;34m.\u001b[0m\u001b[0mdecode\u001b[0m\u001b[0;34m(\u001b[0m\u001b[0mpred\u001b[0m\u001b[0;34m,\u001b[0m \u001b[0malphabet\u001b[0m\u001b[0;34m,\u001b[0m \u001b[0mbeam_size\u001b[0m\u001b[0;34m=\u001b[0m\u001b[0mbeam_size\u001b[0m\u001b[0;34m,\u001b[0m \u001b[0mthreshold\u001b[0m\u001b[0;34m=\u001b[0m\u001b[0mbeam_threshold\u001b[0m\u001b[0;34m)\u001b[0m\u001b[0;34m\u001b[0m\u001b[0;34m\u001b[0m\u001b[0m\n\u001b[1;32m     25\u001b[0m     \u001b[0;31m# Assemble most likely sequence\u001b[0m\u001b[0;34m\u001b[0m\u001b[0;34m\u001b[0m\u001b[0;34m\u001b[0m\u001b[0m\n\u001b[0;32m---> 26\u001b[0;31m     \u001b[0massembled\u001b[0m \u001b[0;34m=\u001b[0m \u001b[0mpop\u001b[0m\u001b[0;34m.\u001b[0m\u001b[0massemble\u001b[0m\u001b[0;34m(\u001b[0m\u001b[0mdecoded\u001b[0m\u001b[0;34m,\u001b[0m \u001b[0mwindow_size\u001b[0m\u001b[0;34m,\u001b[0m \u001b[0mstride\u001b[0m\u001b[0;34m,\u001b[0m \u001b[0malphabet\u001b[0m\u001b[0;34m)\u001b[0m\u001b[0;34m\u001b[0m\u001b[0;34m\u001b[0m\u001b[0m\n\u001b[0m\u001b[1;32m     27\u001b[0m \u001b[0;34m\u001b[0m\u001b[0m\n\u001b[1;32m     28\u001b[0m     \u001b[0;32mreturn\u001b[0m \u001b[0massembled\u001b[0m\u001b[0;34m,\u001b[0m \u001b[0mdecoded\u001b[0m\u001b[0;34m\u001b[0m\u001b[0;34m\u001b[0m\u001b[0m\n",
      "\u001b[0;32m~/basecaller-p10/jkbc/jkbc/utils/postprocessing.py\u001b[0m in \u001b[0;36massemble\u001b[0;34m(reads, window_size, stride, alphabet)\u001b[0m\n\u001b[1;32m     38\u001b[0m \u001b[0;34m\u001b[0m\u001b[0m\n\u001b[1;32m     39\u001b[0m     assembled_with_probabilities: t.List[t.List[float]] = chiron.simple_assembly(\n\u001b[0;32m---> 40\u001b[0;31m         reads, jump_step_ratio)\n\u001b[0m\u001b[1;32m     41\u001b[0m \u001b[0;34m\u001b[0m\u001b[0m\n\u001b[1;32m     42\u001b[0m     assembled_as_numbers: np.ndarray[int] = np.argmax(\n",
      "\u001b[0;32m~/basecaller-p10/jkbc/jkbc/utils/chiron/assembly.py\u001b[0m in \u001b[0;36msimple_assembly\u001b[0;34m(bpreads, jump_step_ratio, error_rate, kernal)\u001b[0m\n\u001b[1;32m    330\u001b[0m                 bpread, prev_bpread, error_rate, jump_step_ratio)\n\u001b[1;32m    331\u001b[0m         \u001b[0;32melif\u001b[0m \u001b[0mkernal\u001b[0m \u001b[0;34m==\u001b[0m \u001b[0;34m'global'\u001b[0m\u001b[0;34m:\u001b[0m\u001b[0;34m\u001b[0m\u001b[0;34m\u001b[0m\u001b[0m\n\u001b[0;32m--> 332\u001b[0;31m             \u001b[0mdisp\u001b[0m \u001b[0;34m=\u001b[0m \u001b[0mglobal_alignment_kernal\u001b[0m\u001b[0;34m(\u001b[0m\u001b[0mbpread\u001b[0m\u001b[0;34m,\u001b[0m \u001b[0mprev_bpread\u001b[0m\u001b[0;34m)\u001b[0m\u001b[0;34m\u001b[0m\u001b[0;34m\u001b[0m\u001b[0m\n\u001b[0m\u001b[1;32m    333\u001b[0m         \u001b[0;32melif\u001b[0m \u001b[0mkernal\u001b[0m \u001b[0;34m==\u001b[0m \u001b[0;34m'glue'\u001b[0m\u001b[0;34m:\u001b[0m\u001b[0;34m\u001b[0m\u001b[0;34m\u001b[0m\u001b[0m\n\u001b[1;32m    334\u001b[0m             \u001b[0mdisp\u001b[0m \u001b[0;34m=\u001b[0m \u001b[0mglue_kernal\u001b[0m\u001b[0;34m(\u001b[0m\u001b[0mbpread\u001b[0m\u001b[0;34m,\u001b[0m \u001b[0mprev_bpread\u001b[0m\u001b[0;34m)\u001b[0m\u001b[0;34m\u001b[0m\u001b[0;34m\u001b[0m\u001b[0m\n",
      "\u001b[0;32m~/basecaller-p10/jkbc/jkbc/utils/chiron/assembly.py\u001b[0m in \u001b[0;36mglobal_alignment_kernal\u001b[0;34m(bpread, prev_bpread)\u001b[0m\n\u001b[1;32m    261\u001b[0m     \u001b[0mmin_block_size\u001b[0m \u001b[0;34m=\u001b[0m \u001b[0;36m3\u001b[0m\u001b[0;34m\u001b[0m\u001b[0;34m\u001b[0m\u001b[0m\n\u001b[1;32m    262\u001b[0m     global_alignment = pairwise2.align.globalms(\n\u001b[0;32m--> 263\u001b[0;31m         prev_bpread, bpread, match, mismatch, gap_open, gap_extend)\n\u001b[0m\u001b[1;32m    264\u001b[0m     \u001b[0;32mif\u001b[0m \u001b[0mlen\u001b[0m\u001b[0;34m(\u001b[0m\u001b[0mglobal_alignment\u001b[0m\u001b[0;34m)\u001b[0m \u001b[0;34m==\u001b[0m \u001b[0;36m0\u001b[0m\u001b[0;34m:\u001b[0m\u001b[0;34m\u001b[0m\u001b[0;34m\u001b[0m\u001b[0m\n\u001b[1;32m    265\u001b[0m         \u001b[0mprint\u001b[0m\u001b[0;34m(\u001b[0m\u001b[0mbpread\u001b[0m\u001b[0;34m)\u001b[0m\u001b[0;34m\u001b[0m\u001b[0;34m\u001b[0m\u001b[0m\n",
      "\u001b[0;32m~/.conda/envs/jkbc/lib/python3.7/site-packages/Bio/pairwise2.py\u001b[0m in \u001b[0;36m__call__\u001b[0;34m(self, *args, **keywds)\u001b[0m\n\u001b[1;32m    429\u001b[0m             \u001b[0;34m\"\"\"Call the alignment instance already created.\"\"\"\u001b[0m\u001b[0;34m\u001b[0m\u001b[0;34m\u001b[0m\u001b[0m\n\u001b[1;32m    430\u001b[0m             \u001b[0mkeywds\u001b[0m \u001b[0;34m=\u001b[0m \u001b[0mself\u001b[0m\u001b[0;34m.\u001b[0m\u001b[0mdecode\u001b[0m\u001b[0;34m(\u001b[0m\u001b[0;34m*\u001b[0m\u001b[0margs\u001b[0m\u001b[0;34m,\u001b[0m \u001b[0;34m**\u001b[0m\u001b[0mkeywds\u001b[0m\u001b[0;34m)\u001b[0m\u001b[0;34m\u001b[0m\u001b[0;34m\u001b[0m\u001b[0m\n\u001b[0;32m--> 431\u001b[0;31m             \u001b[0;32mreturn\u001b[0m \u001b[0m_align\u001b[0m\u001b[0;34m(\u001b[0m\u001b[0;34m**\u001b[0m\u001b[0mkeywds\u001b[0m\u001b[0;34m)\u001b[0m\u001b[0;34m\u001b[0m\u001b[0;34m\u001b[0m\u001b[0m\n\u001b[0m\u001b[1;32m    432\u001b[0m \u001b[0;34m\u001b[0m\u001b[0m\n\u001b[1;32m    433\u001b[0m     \u001b[0;32mdef\u001b[0m \u001b[0m__getattr__\u001b[0m\u001b[0;34m(\u001b[0m\u001b[0mself\u001b[0m\u001b[0;34m,\u001b[0m \u001b[0mattr\u001b[0m\u001b[0;34m)\u001b[0m\u001b[0;34m:\u001b[0m\u001b[0;34m\u001b[0m\u001b[0;34m\u001b[0m\u001b[0m\n",
      "\u001b[0;32m~/.conda/envs/jkbc/lib/python3.7/site-packages/Bio/pairwise2.py\u001b[0m in \u001b[0;36m_align\u001b[0;34m(sequenceA, sequenceB, match_fn, gap_A_fn, gap_B_fn, penalize_extend_when_opening, penalize_end_gaps, align_globally, gap_char, force_generic, score_only, one_alignment_only)\u001b[0m\n\u001b[1;32m    503\u001b[0m                                      \u001b[0mscore_matrix\u001b[0m\u001b[0;34m,\u001b[0m \u001b[0mtrace_matrix\u001b[0m\u001b[0;34m,\u001b[0m\u001b[0;34m\u001b[0m\u001b[0;34m\u001b[0m\u001b[0m\n\u001b[1;32m    504\u001b[0m                                      \u001b[0malign_globally\u001b[0m\u001b[0;34m,\u001b[0m \u001b[0mgap_char\u001b[0m\u001b[0;34m,\u001b[0m\u001b[0;34m\u001b[0m\u001b[0;34m\u001b[0m\u001b[0m\n\u001b[0;32m--> 505\u001b[0;31m                                      one_alignment_only, gap_A_fn, gap_B_fn)\n\u001b[0m\u001b[1;32m    506\u001b[0m     \u001b[0;32mif\u001b[0m \u001b[0;32mnot\u001b[0m \u001b[0malignments\u001b[0m\u001b[0;34m:\u001b[0m\u001b[0;34m\u001b[0m\u001b[0;34m\u001b[0m\u001b[0m\n\u001b[1;32m    507\u001b[0m         \u001b[0;31m# This may happen, see recover_alignments for explanation\u001b[0m\u001b[0;34m\u001b[0m\u001b[0;34m\u001b[0m\u001b[0;34m\u001b[0m\u001b[0m\n",
      "\u001b[0;32m~/.conda/envs/jkbc/lib/python3.7/site-packages/Bio/pairwise2.py\u001b[0m in \u001b[0;36m_recover_alignments\u001b[0;34m(sequenceA, sequenceB, starts, best_score, score_matrix, trace_matrix, align_globally, gap_char, one_alignment_only, gap_A_fn, gap_B_fn, reverse)\u001b[0m\n\u001b[1;32m    847\u001b[0m                     \u001b[0mali_seqB\u001b[0m \u001b[0;34m+=\u001b[0m \u001b[0msequenceB\u001b[0m\u001b[0;34m[\u001b[0m\u001b[0mcol\u001b[0m\u001b[0;34m:\u001b[0m\u001b[0mcol\u001b[0m \u001b[0;34m+\u001b[0m \u001b[0;36m1\u001b[0m\u001b[0;34m]\u001b[0m\u001b[0;34m\u001b[0m\u001b[0;34m\u001b[0m\u001b[0m\n\u001b[1;32m    848\u001b[0m                     \u001b[0mcol_gap\u001b[0m \u001b[0;34m=\u001b[0m \u001b[0;32mFalse\u001b[0m\u001b[0;34m\u001b[0m\u001b[0;34m\u001b[0m\u001b[0m\n\u001b[0;32m--> 849\u001b[0;31m             \u001b[0;32melif\u001b[0m \u001b[0mtrace\u001b[0m \u001b[0;34m%\u001b[0m \u001b[0;36m4\u001b[0m \u001b[0;34m==\u001b[0m \u001b[0;36m2\u001b[0m\u001b[0;34m:\u001b[0m  \u001b[0;31m# = match/mismatch of seqA with seqB\u001b[0m\u001b[0;34m\u001b[0m\u001b[0;34m\u001b[0m\u001b[0m\n\u001b[0m\u001b[1;32m    850\u001b[0m                 \u001b[0mtrace\u001b[0m \u001b[0;34m-=\u001b[0m \u001b[0;36m2\u001b[0m\u001b[0;34m\u001b[0m\u001b[0;34m\u001b[0m\u001b[0m\n\u001b[1;32m    851\u001b[0m                 \u001b[0mrow\u001b[0m \u001b[0;34m-=\u001b[0m \u001b[0;36m1\u001b[0m\u001b[0;34m\u001b[0m\u001b[0;34m\u001b[0m\u001b[0m\n",
      "\u001b[0;31mKeyboardInterrupt\u001b[0m: "
     ]
    }
   ],
   "source": [
    "# predict range\n",
    "predict_objects = m.predict_range(predicter.model, sc, ALPHABET_STR, WINDOW_SIZE, DEVICE, indexes=np.random.randint(0, len(sc), 1000))"
   ]
  },
  {
   "cell_type": "code",
   "execution_count": null,
   "metadata": {},
   "outputs": [],
   "source": [
    "# convert outputs to dictionaries\n",
    "references = []\n",
    "predictions = []\n",
    "accuracies = []\n",
    "for po in predict_objects:\n",
    "    [accuracies.append(a) for a in m.get_accuracies(po.references, po.predictions, ALPHABET_VAL)]\n",
    "    ref, pred = fasta.map_decoded(po, ALPHABET_VAL, False)\n",
    "    references.append(ref)\n",
    "    predictions.append(pred)\n",
    "\n",
    "# Sanity tjek\n",
    "np.mean(accuracies)"
   ]
  },
  {
   "cell_type": "code",
   "execution_count": null,
   "metadata": {},
   "outputs": [],
   "source": [
    "# make dicts ready to be saved\n",
    "ref_dict = fasta.merge(references)\n",
    "pred_dict = fasta.merge(predictions)"
   ]
  },
  {
   "cell_type": "code",
   "execution_count": null,
   "metadata": {},
   "outputs": [],
   "source": [
    "# save dicts\n",
    "fasta.save_dicts(pred_dict, ref_dict, f'{MODEL_NAME}/predictions/{DATA_SET}')"
   ]
  },
  {
   "cell_type": "code",
   "execution_count": null,
   "metadata": {},
   "outputs": [],
   "source": []
  }
 ],
 "metadata": {
  "jupytext": {
   "cell_metadata_filter": "-all",
   "notebook_metadata_filter": "-all"
  },
  "kernelspec": {
   "display_name": "jkbc",
   "language": "python",
   "name": "jkbc"
  },
  "language_info": {
   "codemirror_mode": {
    "name": "ipython",
    "version": 3
   },
   "file_extension": ".py",
   "mimetype": "text/x-python",
   "name": "python",
   "nbconvert_exporter": "python",
   "pygments_lexer": "ipython3",
   "version": "3.7.6"
  }
 },
 "nbformat": 4,
 "nbformat_minor": 4
}
