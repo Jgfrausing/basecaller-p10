{
 "cells": [
  {
   "cell_type": "code",
   "execution_count": 274,
   "metadata": {},
   "outputs": [],
   "source": [
    "import matplotlib.pyplot as plt\n",
    "import numpy as np\n",
    "import torch\n",
    "\n",
    "import jkbc.utils.constants as constants\n",
    "import jkbc.utils.torch_files as f"
   ]
  },
  {
   "cell_type": "code",
   "execution_count": 306,
   "metadata": {},
   "outputs": [],
   "source": [
    "labels = list(constants.ALPHABET.values())\n",
    "label_count = len(labels)\n",
    "\n",
    "folder = './data/feather-files/Range0-50-FixLabelLen400-winsize4096'\n",
    "bonito_best_ = 'bonito-csv'\n",
    "bonito_0_ = 'bestmodel_0'\n",
    "bonito_8_ = 'bestmodel_8' "
   ]
  },
  {
   "cell_type": "code",
   "execution_count": 325,
   "metadata": {},
   "outputs": [
    {
     "name": "stdout",
     "output_type": "stream",
     "text": [
      "torch.Size([3342, 1366, 5])\n"
     ]
    }
   ],
   "source": [
    "bonito_0 = f.load_teacher_data(folder, bonito_0_)\n",
    "bonito_8 = f.load_teacher_data(folder, bonito_8_)\n",
    "random_pred = random(bonito_best.shape)\n",
    "print(bonito_best.shape)"
   ]
  },
  {
   "cell_type": "code",
   "execution_count": 447,
   "metadata": {},
   "outputs": [],
   "source": [
    "def get_covariance_diff(teacher, student):\n",
    "    return np.corrcoef(teacher)-np.corrcoef(student)\n",
    "\n",
    "def plot_image(data, vmin=-.25, vmax=.25):\n",
    "    fig = plt.figure()\n",
    "    ax = fig.add_subplot()\n",
    "    cax = ax.matshow(data, vmin=vmin, vmax=vmax, cmap='RdBu')\n",
    "    #cax = ax.matshow(data, cmap='RdBu')\n",
    "    fig.colorbar(cax)\n",
    "\n",
    "    ax.set_xticklabels(alpha)\n",
    "    ax.set_yticklabels(alpha)\n",
    "\n",
    "    plt.show()\n",
    "    \n",
    "def get_diff_matrix(teacher, student):\n",
    "    assert student.shape == teacher.shape, \"student and teacher does not have the same size\"\n",
    "    diffs = np.zeros((label_count, label_count))\n",
    "\n",
    "    for t, s in zip(student, teacher):\n",
    "        diffs += get_covariance_diff(torch.t(s), torch.t(t))\n",
    "    diffs /= len(student)\n",
    "    return diffs, np.mean(diffs)\n",
    "    "
   ]
  },
  {
   "cell_type": "code",
   "execution_count": 451,
   "metadata": {},
   "outputs": [
    {
     "name": "stdout",
     "output_type": "stream",
     "text": [
      "-0.013711688516227056 0.05143187764337329 0.03248479597393155\n"
     ]
    },
    {
     "data": {
      "image/png": "[encoded data removed]",
      "text/plain": [
       "<Figure size 432x288 with 2 Axes>"
      ]
     },
     "metadata": {
      "needs_background": "light"
     },
     "output_type": "display_data"
    },
    {
     "data": {
      "image/png": "[encoded data removed]",
      "text/plain": [
       "<Figure size 432x288 with 2 Axes>"
      ]
     },
     "metadata": {
      "needs_background": "light"
     },
     "output_type": "display_data"
    },
    {
     "data": {
      "image/png": "[encoded data removed]",
      "text/plain": [
       "<Figure size 432x288 with 2 Axes>"
      ]
     },
     "metadata": {
      "needs_background": "light"
     },
     "output_type": "display_data"
    }
   ],
   "source": [
    "diffs_random, sumrand = get_diff_matrix(bonito_best, (torch.rand(bonito_0.shape)))\n",
    "diffs_0, sum0 = get_diff_matrix(bonito_0, bonito_8)\n",
    "diffs_0_rand, sum0rand = get_diff_matrix(bonito_0, bonito_0+(torch.rand(bonito_0.shape)-.5))\n",
    "\n",
    "print(sumrand, sum0, sum0rand)\n",
    "plot_image(diffs_random)\n",
    "plot_image(diffs_0)\n",
    "plot_image(diffs_0_rand)"
   ]
  },
  {
   "cell_type": "code",
   "execution_count": null,
   "metadata": {},
   "outputs": [],
   "source": []
  },
  {
   "cell_type": "code",
   "execution_count": 361,
   "metadata": {},
   "outputs": [],
   "source": [
    "def mean(a, b): return abs(torch.mean(a**2-b**2).item())"
   ]
  },
  {
   "cell_type": "code",
   "execution_count": 374,
   "metadata": {},
   "outputs": [
    {
     "data": {
      "text/plain": [
       "(0.19590996205806732,\n",
       " 0.03147593140602112,\n",
       " 0.8312955498695374,\n",
       " 0.16891466081142426,\n",
       " 0.1656007617712021)"
      ]
     },
     "execution_count": 374,
     "metadata": {},
     "output_type": "execute_result"
    }
   ],
   "source": [
    "a = mean(bonito_best, torch.rand(bonito_0.shape))\n",
    "b = mean(bonito_0, bonito_8)\n",
    "c = mean(bonito_0,torch.ones(bonito_0.shape))\n",
    "d = mean(bonito_0,torch.zeros(bonito_0.shape))\n",
    "a,b,c,d,e"
   ]
  },
  {
   "cell_type": "code",
   "execution_count": 383,
   "metadata": {},
   "outputs": [
    {
     "data": {
      "text/plain": [
       "(tensor([[-7.8412e-02,  3.3808e-01,  5.3025e-04, -6.7084e-02,  2.0491e-01],\n",
       "         [-4.1566e-01,  7.2413e-01, -3.2481e-01, -5.7379e-01,  4.8660e-01],\n",
       "         [-1.5784e-01,  1.6172e-01,  3.3707e-02,  1.5046e-02,  1.6343e-01],\n",
       "         ...,\n",
       "         [-5.8281e-02,  4.8530e-02, -1.5555e-01, -2.4188e-01,  2.1628e-02],\n",
       "         [-2.0304e-01,  4.1171e-02, -3.0886e-01, -3.3002e-01, -8.3886e-02],\n",
       "         [-2.1466e-01,  1.2043e-01, -2.1140e-01, -2.3304e-01, -2.0913e-01]]),\n",
       " (2732,))"
      ]
     },
     "execution_count": 383,
     "metadata": {},
     "output_type": "execute_result"
    }
   ],
   "source": [
    "bonito_0[0], np.cov(bonito_0[0], bonito_8[0])[0]"
   ]
  },
  {
   "cell_type": "code",
   "execution_count": null,
   "metadata": {},
   "outputs": [],
   "source": []
  },
  {
   "cell_type": "code",
   "execution_count": null,
   "metadata": {},
   "outputs": [],
   "source": []
  },
  {
   "cell_type": "code",
   "execution_count": null,
   "metadata": {},
   "outputs": [],
   "source": []
  }
 ],
 "metadata": {
  "kernelspec": {
   "display_name": "jkbc",
   "language": "python",
   "name": "jkbc"
  },
  "language_info": {
   "codemirror_mode": {
    "name": "ipython",
    "version": 3
   },
   "file_extension": ".py",
   "mimetype": "text/x-python",
   "name": "python",
   "nbconvert_exporter": "python",
   "pygments_lexer": "ipython3",
   "version": "3.7.6"
  }
 },
 "nbformat": 4,
 "nbformat_minor": 4
}
