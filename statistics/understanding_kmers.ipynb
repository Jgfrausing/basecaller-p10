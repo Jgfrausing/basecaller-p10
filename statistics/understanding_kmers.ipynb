{
 "cells": [
  {
   "cell_type": "code",
   "execution_count": 1,
   "metadata": {},
   "outputs": [],
   "source": [
    "%reload_ext autoreload\n",
    "%autoreload 2\n",
    "%matplotlib inline"
   ]
  },
  {
   "cell_type": "code",
   "execution_count": 2,
   "metadata": {},
   "outputs": [],
   "source": [
    "import jkbc.utils.files as f\n",
    "import h5py as h5py\n",
    "import jkbc.utils.preprocessing as prep\n",
    "import numpy as np\n",
    "import pickle\n",
    "from tqdm import tqdm\n",
    "import matplotlib.pyplot as plt"
   ]
  },
  {
   "cell_type": "code",
   "execution_count": 3,
   "metadata": {},
   "outputs": [],
   "source": [
    "filename = '/mnt/sdb/taiyaki_mapped/mapped_umi16to9.hdf5'\n",
    "mer_size = 5\n",
    "pre  = int(mer_size/2)\n",
    "post = int(mer_size/2+1)\n",
    "reads_range = (0, 76033)"
   ]
  },
  {
   "cell_type": "code",
   "execution_count": 4,
   "metadata": {},
   "outputs": [],
   "source": [
    "def convert_to_string(lst):\n",
    "    str_lst = [str(x) for x in lst]\n",
    "    return ''.join(str_lst)\n",
    "\n",
    "def make_mer_dict(lst, length):\n",
    "    import itertools as iter\n",
    "    combinations = list(iter.product(lst,repeat=length))\n",
    "    \n",
    "    mer_dict = {}\n",
    "    for mer in combinations:\n",
    "        mer_str = convert_to_string(mer)\n",
    "        mer_dict[mer_str] = []\n",
    "    \n",
    "    return mer_dict\n",
    "\n",
    "def save_obj(obj, name ):\n",
    "    with open('data/'+ name + '.pkl', 'wb') as f:\n",
    "        pickle.dump(obj, f, pickle.HIGHEST_PROTOCOL)\n",
    "\n",
    "def load_obj(name ):\n",
    "    with open('data/' + name + '.pkl', 'rb') as f:\n",
    "        return pickle.load(f)\n",
    "    \n",
    "def flatten_(lst):\n",
    "    return [item for sublist in lst for item in sublist]\n",
    "    "
   ]
  },
  {
   "cell_type": "code",
   "execution_count": 5,
   "metadata": {},
   "outputs": [],
   "source": [
    "with h5py.File(filename, 'r') as h5file:\n",
    "    read_idx = list(h5file['Reads'].keys())[reads_range[0]:reads_range[1]]"
   ]
  },
  {
   "cell_type": "code",
   "execution_count": null,
   "metadata": {},
   "outputs": [
    {
     "name": "stderr",
     "output_type": "stream",
     "text": [
      "  8%|▊         | 6419/76033 [06:20<1:15:22, 15.39it/s] "
     ]
    }
   ],
   "source": [
    "%%time\n",
    "mer_dict = make_mer_dict(range(4), mer_size)\n",
    "\n",
    "for read_id in tqdm(read_idx):\n",
    "    dac, ref_to_signal, reference = f.get_read_info_from_file(filename, read_id)\n",
    "    signal = prep._standardize(dac)\n",
    "    \n",
    "    for mer in range(len(reference)-post):\n",
    "        first = mer-pre\n",
    "        last  = mer+post\n",
    "        group = convert_to_string(reference[first:last])\n",
    "        \n",
    "        if group == '':\n",
    "            continue\n",
    "        \n",
    "        window_range  = (ref_to_signal[first], ref_to_signal[last])\n",
    "        window_signal = signal[window_range[0]:window_range[1]]\n",
    "        mer_dict[group].append(window_signal)"
   ]
  },
  {
   "cell_type": "markdown",
   "metadata": {},
   "source": [
    "## Making tabel for average values"
   ]
  },
  {
   "cell_type": "code",
   "execution_count": null,
   "metadata": {},
   "outputs": [],
   "source": [
    "%%time\n",
    "averaged_mer_dict = {}\n",
    "for key, value in tqdm(mer_dict.items()):\n",
    "    mer_sum = sum([sum(inner) for inner in value])\n",
    "    mer_count = sum([len(inner) for inner in value])\n",
    "    if mer_count == 0:\n",
    "        print(f'{key} has no examples')\n",
    "        continue\n",
    "    averaged_mer_dict[key] = mer_sum/mer_count"
   ]
  },
  {
   "cell_type": "code",
   "execution_count": null,
   "metadata": {},
   "outputs": [],
   "source": [
    "filename = f'{mer_size}mer_values_range{reads_range}'\n",
    "save_obj(averaged_mer_dict, filename)"
   ]
  },
  {
   "cell_type": "markdown",
   "metadata": {},
   "source": [
    "# Statistics"
   ]
  },
  {
   "cell_type": "markdown",
   "metadata": {},
   "source": [
    "### Find the k-mers with highest/lowest distribution"
   ]
  },
  {
   "cell_type": "code",
   "execution_count": null,
   "metadata": {},
   "outputs": [],
   "source": [
    "mean_distanct_mer_dict = {}\n",
    "for key, value in tqdm(mer_dict.items()):\n",
    "    if key not in averaged_mer_dict:\n",
    "        continue\n",
    "    mean = averaged_mer_dict[key]\n",
    "    flat_lst = flatten_(value)\n",
    "    mean_distanct_mer_dict[key] = sum([abs(x-mean) for x in flat_lst])"
   ]
  },
  {
   "cell_type": "code",
   "execution_count": null,
   "metadata": {},
   "outputs": [],
   "source": [
    "sorted_dict = sorted(mean_distanct_mer_dict, key=mean_distanct_mer_dict.get, reverse=True)"
   ]
  },
  {
   "cell_type": "code",
   "execution_count": null,
   "metadata": {},
   "outputs": [],
   "source": [
    "## BEST\n",
    "key = sorted_dict[0]\n",
    "lst = mer_dict[key]\n",
    "flat_list = flatten_(lst)\n",
    "plt.hist(flat_list)\n",
    "print(key, averaged_mer_dict[key])"
   ]
  },
  {
   "cell_type": "code",
   "execution_count": null,
   "metadata": {},
   "outputs": [],
   "source": [
    "## WORST\n",
    "key = sorted_dict[-1]\n",
    "lst = mer_dict[key]\n",
    "flat_list = flatten_(lst)\n",
    "plt.hist(flat_list)\n",
    "print(key, averaged_mer_dict[key])"
   ]
  },
  {
   "cell_type": "markdown",
   "metadata": {},
   "source": [
    "### Validating whether the reverse k-mer has different output"
   ]
  },
  {
   "cell_type": "code",
   "execution_count": null,
   "metadata": {},
   "outputs": [],
   "source": [
    "reverse_diff = {}\n",
    "for key in averaged_mer_dict.keys():\n",
    "    reverse = key[::-1]\n",
    "    if reverse not in averaged_mer_dict:\n",
    "        continue\n",
    "    diff = abs(averaged_mer_dict[key]-averaged_mer_dict[reverse])\n",
    "    reverse_diff[key] = diff\n",
    "plt.hist(reverse_diff.values())\n",
    "\n",
    "sorted_reverse_dict = sorted(reverse_diff, key=reverse_diff.get, reverse=True)\n",
    "key = sorted_reverse_dict[0]\n",
    "reverse_key = sorted_reverse_dict[1]\n",
    "print(key, reverse_key, reverse_diff[key])"
   ]
  },
  {
   "cell_type": "code",
   "execution_count": null,
   "metadata": {},
   "outputs": [],
   "source": [
    "## BIGGEST DIFF\n",
    "lst = mer_dict[key]\n",
    "flat_list = flatten_(lst)\n",
    "plt.hist(flat_list)\n",
    "print(key, averaged_mer_dict[key])"
   ]
  },
  {
   "cell_type": "code",
   "execution_count": null,
   "metadata": {},
   "outputs": [],
   "source": [
    "lst = mer_dict[reverse_key]\n",
    "flat_list = flatten_(lst)\n",
    "plt.hist(flat_list)\n",
    "print(key, averaged_mer_dict[key])"
   ]
  },
  {
   "cell_type": "markdown",
   "metadata": {},
   "source": [
    "### Is the throughput dependent on the current k-mer?"
   ]
  },
  {
   "cell_type": "code",
   "execution_count": null,
   "metadata": {},
   "outputs": [],
   "source": [
    "lengths = {}\n",
    "for key, value in tqdm(mer_dict.items()):\n",
    "    current_lengths = [len(x) for x in value]\n",
    "    mean = sum(current_lengths)/len(current_lengths)\n",
    "    lengths[key] = mean\n",
    "plt.hist(lengths.values())\n",
    "\n",
    "sorted_lengths_dict = sorted(lengths, key=lengths.get, reverse=True)"
   ]
  }
 ],
 "metadata": {
  "kernelspec": {
   "display_name": "jkbc",
   "language": "python",
   "name": "jkbc"
  },
  "language_info": {
   "codemirror_mode": {
    "name": "ipython",
    "version": 3
   },
   "file_extension": ".py",
   "mimetype": "text/x-python",
   "name": "python",
   "nbconvert_exporter": "python",
   "pygments_lexer": "ipython3",
   "version": "3.7.6"
  }
 },
 "nbformat": 4,
 "nbformat_minor": 4
}
