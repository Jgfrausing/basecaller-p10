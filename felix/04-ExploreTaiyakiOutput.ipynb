{
 "cells": [
  {
   "cell_type": "code",
   "execution_count": null,
   "metadata": {},
   "outputs": [],
   "source": [
    "import pandas as pd\n",
    "from matplotlib import pyplot as plt\n",
    "import h5py\n",
    "import numpy as np"
   ]
  },
  {
   "cell_type": "code",
   "execution_count": null,
   "metadata": {},
   "outputs": [],
   "source": [
    "# from taiyaki encoding\n",
    "labelBaseMap = {\n",
    "    0: \"A\",\n",
    "    1: \"C\",\n",
    "    2: \"G\",\n",
    "    3: \"T\"\n",
    "}\n",
    "\n",
    "#ensure colours are consistent\n",
    "baseColourMap = {\n",
    "    \"A\": \"b\",\n",
    "    \"C\": \"c\",\n",
    "    \"G\": \"g\",\n",
    "    \"T\": \"r\"\n",
    "}\n",
    "\n",
    "def get_reads_dict(filename):\n",
    "    file = h5py.File(filename, \"r\")\n",
    "    file = file['Reads']\n",
    "    reads = []\n",
    "    for r in file.keys():\n",
    "        elem = {}\n",
    "        elem['UUID'] = r\n",
    "        for k in file[r].keys():\n",
    "            elem[k]=file[r][k][()]\n",
    "        reads.append(elem)\n",
    "    return reads\n",
    "\n",
    "def make_dna_list(read):\n",
    "    dnalist = []\n",
    "    pos = 0\n",
    "    signalrefs = list(read['Ref_to_signal'])\n",
    "    dnaref = list(read['Reference'])\n",
    "    for idx in range(len(signalrefs)):\n",
    "        if idx == 0:\n",
    "            dnalist.extend([-1]*signalrefs[idx])\n",
    "        else:\n",
    "            for i in range(signalrefs[idx]-signalrefs[idx-1]):\n",
    "                dnalist.append(dnaref[idx-1])\n",
    "    return dnalist\n",
    "\n",
    "def normalise_list(lst):\n",
    "    mmin = min(lst)\n",
    "    mmax = max(lst)\n",
    "    lst = (lst - mmin)/(mmax - mmin)\n",
    "    return lst\n",
    "\n",
    "def makeOHE(dnalist):\n",
    "    ohes = {}\n",
    "    for i in range(4):\n",
    "        ohes[labelBaseMap[i]] = list(map(lambda x: 1 if x==i else 0, dnalist))\n",
    "    return ohes\n",
    "\n",
    "\n",
    "def plotInterestingFromFile(file, start, end):\n",
    "    reads = get_reads_dict(file)\n",
    "    dnalist = make_dna_list(reads[0])\n",
    "    ohes = makeOHE(dnalist)\n",
    "    \n",
    "    plt.figure(figsize=(30,10))\n",
    "    dacs = normalise_list(reads[0]['Dacs'])*4\n",
    "    plt.plot(range(start, end), dacs[start:end], 'k', label=\"raw\")\n",
    "    for base in ohes.keys():\n",
    "        plt.plot(range(start,end), ohes[base][start:end], baseColourMap[base], label=base)\n",
    "    plt.legend()"
   ]
  },
  {
   "cell_type": "code",
   "execution_count": null,
   "metadata": {},
   "outputs": [],
   "source": [
    "plotInterestingFromFile(\"../taiyakiOutputs/output_justfromfasta.hdf5\" ,700, 1500)"
   ]
  },
  {
   "cell_type": "code",
   "execution_count": null,
   "metadata": {},
   "outputs": [],
   "source": [
    "plotInterestingFromFile(\"../taiyakiOutputs/output_createfasta.hdf5\" ,750, 2400)"
   ]
  },
  {
   "cell_type": "code",
   "execution_count": null,
   "metadata": {},
   "outputs": [],
   "source": [
    "plotInterestingFromFile(\"../taiyakiOutputs/output_flappiealigned.hdf5\" ,750, 2400)"
   ]
  },
  {
   "cell_type": "code",
   "execution_count": null,
   "metadata": {},
   "outputs": [],
   "source": [
    "plotInterestingFromFile(\"../taiyakiOutputs/output_walkthrough.hdf5\" ,750, 2400)"
   ]
  },
  {
   "cell_type": "code",
   "execution_count": null,
   "metadata": {},
   "outputs": [],
   "source": []
  }
 ],
 "metadata": {
  "kernelspec": {
   "display_name": "Python 3",
   "language": "python",
   "name": "python3"
  },
  "language_info": {
   "codemirror_mode": {
    "name": "ipython",
    "version": 3
   },
   "file_extension": ".py",
   "mimetype": "text/x-python",
   "name": "python",
   "nbconvert_exporter": "python",
   "pygments_lexer": "ipython3",
   "version": "3.7.3"
  }
 },
 "nbformat": 4,
 "nbformat_minor": 4
}
