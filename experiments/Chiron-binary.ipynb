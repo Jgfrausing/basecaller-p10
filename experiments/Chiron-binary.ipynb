{
 "cells": [
  {
   "cell_type": "markdown",
   "metadata": {},
   "source": [
    "# Creating a Databunch for Basecalling"
   ]
  },
  {
   "cell_type": "code",
   "execution_count": null,
   "metadata": {},
   "outputs": [],
   "source": [
    "%reload_ext autoreload\n",
    "%autoreload 2\n",
    "%matplotlib inline"
   ]
  },
  {
   "cell_type": "code",
   "execution_count": null,
   "metadata": {
    "scrolled": true
   },
   "outputs": [],
   "source": [
    "import functools\n",
    "\n",
    "from fastai.basics import *\n",
    "\n",
    "import jkbc.utils.preprocessing as prep\n",
    "import jkbc.utils.postprocessing as pop\n",
    "import jkbc.utils.files as f\n",
    "import jkbc.types as t\n",
    "import jkbc.utils.loss as loss\n"
   ]
  },
  {
   "cell_type": "markdown",
   "metadata": {},
   "source": [
    "## Constants"
   ]
  },
  {
   "cell_type": "code",
   "execution_count": null,
   "metadata": {},
   "outputs": [],
   "source": [
    "BLANK_ID = prep.BLANK_ID\n",
    "C = 3\n",
    "D_in = 300\n",
    "D_out_max = 70\n",
    "n_hidden = 200\n",
    "BS = 1024  # batch size\n",
    "LR = 0.05\n",
    "NF = 256 # features in residualblock\n",
    "PRED_OUT_DIM = D_out_max*2-1\n",
    "MODEL_NAME = 'chiron-binary-capped-output'\n",
    "\n",
    "#DEVICE = torch.device(\"cpu\")\n",
    "DEVICE = torch.device(\"cuda:0\")"
   ]
  },
  {
   "cell_type": "markdown",
   "metadata": {},
   "source": [
    "## Load Data"
   ]
  },
  {
   "cell_type": "code",
   "execution_count": null,
   "metadata": {},
   "outputs": [],
   "source": [
    "base_dir = \"data/feather-files/\"\n",
    "path_data = Path(base_dir)\n",
    "data_set_name = \"fake_data10000-binary\"\n",
    "feather_folder = path_data/data_set_name"
   ]
  },
  {
   "cell_type": "code",
   "execution_count": null,
   "metadata": {},
   "outputs": [],
   "source": [
    "# Read data from feather\n",
    "data = f.read_data_from_feather_file(feather_folder)\n",
    "\n",
    "# Convert to databunch\n",
    "train_dl, valid_dl = prep.convert_to_dataloaders(data, split=.8, batch_size=BS, drop_last=True)\n",
    "databunch = DataBunch(train_dl, valid_dl, device=DEVICE)"
   ]
  },
  {
   "cell_type": "markdown",
   "metadata": {},
   "source": [
    "## Model"
   ]
  },
  {
   "cell_type": "code",
   "execution_count": null,
   "metadata": {},
   "outputs": [],
   "source": [
    "loss_func = loss.ctc_loss(PRED_OUT_DIM, BS, C)"
   ]
  },
  {
   "cell_type": "code",
   "execution_count": null,
   "metadata": {},
   "outputs": [],
   "source": [
    "def conv(ni, nf, ks=1, padding=0): return nn.Conv1d(ni, nf, kernel_size=ks, stride=1, padding=padding)\n",
    "def conv_layers(ni, nf): \n",
    "    return nn.Sequential(\n",
    "        conv(ni, NF)\n",
    "        ,nn.BatchNorm1d(NF)\n",
    "        ,nn.ReLU()\n",
    "        ,conv(NF, NF, 3, padding=1)\n",
    "        ,nn.BatchNorm1d(NF)\n",
    "        ,nn.ReLU()\n",
    "        ,conv(NF, nf)\n",
    "    )"
   ]
  },
  {
   "cell_type": "code",
   "execution_count": null,
   "metadata": {},
   "outputs": [],
   "source": [
    "class ResidualBlock(nn.Module):\n",
    "    def __init__(self, ni, nf):\n",
    "        super().__init__()\n",
    "        self.module = conv_layers(ni, nf)\n",
    "        self.residual = conv(ni, nf)\n",
    "    \n",
    "    def forward(self, x):\n",
    "        out_a = self.module(x)\n",
    "        out_b = self.residual(x)\n",
    "        \n",
    "        return nn.ReLU()(out_a + out_b)\n",
    "\n",
    "class LstmBlock(nn.Module):\n",
    "    def __init__(self, input_size, window_size, output_size, no_of_layers, device):\n",
    "        super().__init__()\n",
    "        self.lstm = nn.LSTM(input_size, output_size, no_of_layers, bidirectional=True, batch_first=True)\n",
    "        \n",
    "        ## Multiply by 2 because of bidirectional\n",
    "        h0 = torch.zeros(2*no_of_layers, window_size, output_size).to(device=DEVICE)\n",
    "        c0 = torch.zeros(2*no_of_layers, window_size, output_size).to(device=DEVICE)\n",
    "        \n",
    "        self.hidden=(h0,c0)\n",
    "        \n",
    "    def forward(self, x):                \n",
    "        res, _ = self.lstm(x, self.hidden)\n",
    "        \n",
    "        return res\n",
    "        \n",
    "res = ResidualBlock(NF, NF)\n",
    "lstm = LstmBlock(D_in, BS, n_hidden, no_of_layers=4, device=DEVICE)\n",
    "model = nn.Sequential(\n",
    "    ResidualBlock(1, NF)\n",
    "    ,res\n",
    "    ,res\n",
    "    ,res\n",
    "    ,ResidualBlock(NF, PRED_OUT_DIM)\n",
    "    ,nn.BatchNorm1d(PRED_OUT_DIM)\n",
    "    \n",
    "    ,lstm\n",
    "    \n",
    "    ,nn.Linear(n_hidden*2,C)\n",
    "    ,nn.LogSoftmax(dim=2) \n",
    ").to(device=DEVICE)"
   ]
  },
  {
   "cell_type": "code",
   "execution_count": null,
   "metadata": {},
   "outputs": [],
   "source": [
    "learner = Learner(databunch, model, loss_func=loss_func)"
   ]
  },
  {
   "cell_type": "code",
   "execution_count": null,
   "metadata": {},
   "outputs": [],
   "source": [
    "try:\n",
    "    learner = learner.load(MODEL_NAME)\n",
    "    print('Model weights loaded')\n",
    "except:\n",
    "    print('No model weights available')"
   ]
  },
  {
   "cell_type": "code",
   "execution_count": null,
   "metadata": {},
   "outputs": [],
   "source": [
    "learner.lr_find()\n",
    "learner.recorder.plot(suggestion=True)"
   ]
  },
  {
   "cell_type": "code",
   "execution_count": null,
   "metadata": {},
   "outputs": [],
   "source": [
    "learner.fit_one_cycle(100, max_lr=2.75e-5)"
   ]
  },
  {
   "cell_type": "code",
   "execution_count": null,
   "metadata": {},
   "outputs": [],
   "source": [
    "learner.save(MODEL_NAME)"
   ]
  },
  {
   "cell_type": "code",
   "execution_count": null,
   "metadata": {},
   "outputs": [],
   "source": [
    "x, (y, _) = databunch.one_batch()\n",
    "y_pred = model(x.to(device=DEVICE)).detach().cpu().numpy()"
   ]
  },
  {
   "cell_type": "code",
   "execution_count": null,
   "metadata": {},
   "outputs": [],
   "source": [
    "index = 0\n",
    "actual = pop.convert_idx_to_base_sequence(y[index], alphabet_val)\n",
    "actual_len = len(actual)\n",
    "print(actual)\n",
    "for beam in range(10, 25):\n",
    "    decoded = pop.decode(y_pred, threshold=.01, beam_size=beam, alphabet=alphabet_str)   \n",
    "    predicted = decoded[index]\n",
    "    error = pop.calc_sequence_error_metrics(actual, predicted)\n",
    "    print(predicted, beam, error.error, abs(len(predicted)-actual_len)/actual_len)\n",
    "    del predicted"
   ]
  },
  {
   "cell_type": "code",
   "execution_count": null,
   "metadata": {},
   "outputs": [],
   "source": []
  }
 ],
 "metadata": {
  "kernelspec": {
   "display_name": "jkbc",
   "language": "python",
   "name": "jkbc"
  },
  "language_info": {
   "codemirror_mode": {
    "name": "ipython",
    "version": 3
   },
   "file_extension": ".py",
   "mimetype": "text/x-python",
   "name": "python",
   "nbconvert_exporter": "python",
   "pygments_lexer": "ipython3",
   "version": "3.7.6"
  }
 },
 "nbformat": 4,
 "nbformat_minor": 2
}
