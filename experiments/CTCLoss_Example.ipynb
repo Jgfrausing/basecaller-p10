{
 "cells": [
  {
   "cell_type": "markdown",
   "metadata": {},
   "source": [
    "# CTCLoss Example"
   ]
  },
  {
   "cell_type": "code",
   "execution_count": 22,
   "metadata": {},
   "outputs": [],
   "source": [
    "%reload_ext autoreload\n",
    "%autoreload 2\n",
    "%matplotlib inline"
   ]
  },
  {
   "cell_type": "code",
   "execution_count": 23,
   "metadata": {},
   "outputs": [],
   "source": [
    "from fastai.basics import *"
   ]
  },
  {
   "cell_type": "code",
   "execution_count": 24,
   "metadata": {},
   "outputs": [],
   "source": [
    "T = 50     # Input sequence length\n",
    "C = 20     # Number of classes (including blank)\n",
    "BS = 16    # Batch size\n",
    "S = 30     # Target sequence length of longest target in batch\n",
    "S_min = 10 # Minimum target length, for demonstration purposes"
   ]
  },
  {
   "cell_type": "code",
   "execution_count": 27,
   "metadata": {},
   "outputs": [
    {
     "data": {
      "text/plain": [
       "torch.Size([50, 16, 20])"
      ]
     },
     "execution_count": 27,
     "metadata": {},
     "output_type": "execute_result"
    }
   ],
   "source": [
    "# Initialize random batch of input vectors, for size = (T, BS, C)\n",
    "x = torch.randn(T, BS, C)\n",
    "x.shape"
   ]
  },
  {
   "cell_type": "code",
   "execution_count": 28,
   "metadata": {},
   "outputs": [
    {
     "data": {
      "text/plain": [
       "torch.Size([16, 30])"
      ]
     },
     "execution_count": 28,
     "metadata": {},
     "output_type": "execute_result"
    }
   ],
   "source": [
    "# Initialize random batch of targets (0 = blank, 1:C = classes)\n",
    "y = torch.randint(low=1, high=C, size=(BS, S), dtype=torch.long)\n",
    "y.shape"
   ]
  },
  {
   "cell_type": "code",
   "execution_count": 29,
   "metadata": {
    "scrolled": true
   },
   "outputs": [
    {
     "data": {
      "text/plain": [
       "(torch.Size([16]),\n",
       " tensor([50, 50, 50, 50, 50, 50, 50, 50, 50, 50, 50, 50, 50, 50, 50, 50]),\n",
       " torch.Size([16]),\n",
       " tensor([20, 10, 24, 28, 20, 17, 18, 18, 13, 20, 23, 17, 11, 19, 10, 17]))"
      ]
     },
     "execution_count": 29,
     "metadata": {},
     "output_type": "execute_result"
    }
   ],
   "source": [
    "x_lengths = torch.full(size=(BS,), fill_value=T, dtype=torch.long)\n",
    "y_lengths = torch.randint(low=S_min, high=S, size=(BS,), dtype=torch.long)\n",
    "x_lengths.shape, x_lengths, x_lengths.shape, y_lengths"
   ]
  },
  {
   "cell_type": "code",
   "execution_count": 30,
   "metadata": {},
   "outputs": [],
   "source": [
    "ctc_loss = nn.CTCLoss()"
   ]
  },
  {
   "cell_type": "code",
   "execution_count": 36,
   "metadata": {},
   "outputs": [
    {
     "name": "stdout",
     "output_type": "stream",
     "text": [
      "SHAPES FOR:\n",
      "x:\t   torch.Size([50, 16, 20])\n",
      "x_lengths: torch.Size([16])\n",
      "y:\t   torch.Size([16, 30])\n",
      "y_lengths: torch.Size([16])\n"
     ]
    }
   ],
   "source": [
    "print(f'SHAPES FOR:\\nx:\\t   {x.shape}\\nx_lengths: {x_lengths.shape}\\ny:\\t   {y.shape}\\ny_lengths: {y_lengths.shape}')"
   ]
  },
  {
   "cell_type": "code",
   "execution_count": 79,
   "metadata": {},
   "outputs": [
    {
     "data": {
      "text/plain": [
       "tensor(-3.3712)"
      ]
     },
     "execution_count": 79,
     "metadata": {},
     "output_type": "execute_result"
    }
   ],
   "source": [
    "loss = ctc_loss(x, y, x_lengths, y_lengths)\n",
    "loss"
   ]
  },
  {
   "cell_type": "markdown",
   "metadata": {},
   "source": [
    "## Training with CTC"
   ]
  },
  {
   "cell_type": "code",
   "execution_count": 37,
   "metadata": {},
   "outputs": [],
   "source": [
    "D_in = 20 # Input length (dimension)\n",
    "D_h = 10 # Dimensions for our hidden layer\n",
    "D_out_min = 2 # Min length of target sequence (just need to generate fake labels)\n",
    "D_out_max = 10 # Max length of target sequence\n",
    "C = 3 # Number of classes\n",
    "BS = 5 # Batch size"
   ]
  },
  {
   "cell_type": "code",
   "execution_count": 39,
   "metadata": {},
   "outputs": [
    {
     "data": {
      "text/plain": [
       "(torch.Size([20, 5]), tensor([[ 0.9014,  0.9543,  1.4251, -2.0495,  0.3011],\n",
       "         [ 0.8824, -1.9735, -1.2247, -1.8914,  1.1710],\n",
       "         [ 0.0798, -0.3068,  0.6544,  0.8421,  1.3926],\n",
       "         [ 0.8845, -0.3418, -0.3809,  0.5868, -1.2867],\n",
       "         [ 0.7351,  0.1894,  1.2139, -1.3322,  1.2937],\n",
       "         [ 0.2711,  0.5403,  0.6609,  0.1060,  0.6406],\n",
       "         [ 0.6543, -0.3593, -1.1068, -0.2209,  0.4220],\n",
       "         [ 1.6591, -0.5491, -0.2098, -0.6653, -0.5481],\n",
       "         [ 2.0071, -0.0620,  0.5180, -0.2954,  1.4854],\n",
       "         [-0.3092,  0.9510, -2.5934,  0.8796, -1.6304],\n",
       "         [-0.7577, -0.2102, -0.3208,  1.0099,  0.3255],\n",
       "         [-1.7686,  0.5548, -0.0961,  0.2410, -0.4326],\n",
       "         [ 0.8506, -2.7586, -0.4315,  0.7594,  0.2403],\n",
       "         [-0.5911,  0.2198,  1.2644,  0.2383,  0.4312],\n",
       "         [-0.1069, -1.0194, -0.4832,  1.3745,  1.5038],\n",
       "         [-1.4627,  0.4866, -0.2184,  2.6489,  0.5106],\n",
       "         [-0.4791,  0.9483,  1.2445, -1.3985,  0.0889],\n",
       "         [ 0.4164, -2.1300, -2.3340,  0.3466,  0.5240],\n",
       "         [-0.6305,  2.2933, -0.0363, -1.7598,  1.0092],\n",
       "         [-1.3236,  1.0283,  1.8073, -0.1887,  0.5262]]))"
      ]
     },
     "execution_count": 39,
     "metadata": {},
     "output_type": "execute_result"
    }
   ],
   "source": [
    "# Generate random input\n",
    "x = torch.randn(D_in, BS)\n",
    "x.shape, x"
   ]
  },
  {
   "cell_type": "code",
   "execution_count": 40,
   "metadata": {},
   "outputs": [
    {
     "data": {
      "text/plain": [
       "(torch.Size([5, 10]), tensor([[2, 2, 1, 2, 1, 2, 2, 2, 2, 2],\n",
       "         [1, 2, 2, 2, 2, 2, 2, 2, 1, 1],\n",
       "         [2, 2, 1, 1, 2, 2, 2, 1, 2, 1],\n",
       "         [1, 2, 1, 2, 1, 2, 1, 2, 2, 2],\n",
       "         [1, 2, 2, 1, 2, 2, 2, 2, 2, 1]]))"
      ]
     },
     "execution_count": 40,
     "metadata": {},
     "output_type": "execute_result"
    }
   ],
   "source": [
    "# Generate random labels (0 = blank, 1:C = classes)\n",
    "# All of them have the same length, but we will only use a subset of each to mimic different lengths of ouputs\n",
    "# It is just easier than generating ragged arrays.\n",
    "y = torch.randint(low=1, high=C, size=(BS, D_out_max), dtype=torch.long)\n",
    "y.shape, y"
   ]
  },
  {
   "cell_type": "code",
   "execution_count": 41,
   "metadata": {},
   "outputs": [
    {
     "data": {
      "text/plain": [
       "(torch.Size([5]), tensor([20, 20, 20, 20, 20]))"
      ]
     },
     "execution_count": 41,
     "metadata": {},
     "output_type": "execute_result"
    }
   ],
   "source": [
    "x_lengths = torch.full(size=(BS,), fill_value=D_in, dtype=torch.long)\n",
    "x_lengths.shape, x_lengths"
   ]
  },
  {
   "cell_type": "code",
   "execution_count": 85,
   "metadata": {},
   "outputs": [
    {
     "data": {
      "text/plain": [
       "(torch.Size([5]), tensor([3, 2, 4, 7, 3]))"
      ]
     },
     "execution_count": 85,
     "metadata": {},
     "output_type": "execute_result"
    }
   ],
   "source": [
    "# Generate various lengths for the output sequences.\n",
    "y_lengths = torch.randint(low=D_out_min, high=D_out_max, size=(BS,), dtype=torch.long)\n",
    "y_lengths.shape, y_lengths"
   ]
  },
  {
   "cell_type": "code",
   "execution_count": 99,
   "metadata": {},
   "outputs": [],
   "source": [
    "class Simple_Model(nn.Module):\n",
    "    def __init__(self):\n",
    "        super().__init__()\n",
    "        self.lin1 = nn.Linear(1, D_h)\n",
    "        self.lin2 = nn.Linear(D_h, C)\n",
    "    \n",
    "    #   forward(self, x: Tensor[D_in, BS]) -> Tensor[D_in, BS, C]\n",
    "    def forward(self, xb):\n",
    "        xb_ = xb.view((D_in, BS, 1)) # reshape, this should happen outside\n",
    "        xb_ = self.lin1(xb_).clamp(min=0)\n",
    "        return self.lin2(xb_)        "
   ]
  },
  {
   "cell_type": "code",
   "execution_count": 121,
   "metadata": {},
   "outputs": [],
   "source": [
    "model = Simple_Model()"
   ]
  },
  {
   "cell_type": "code",
   "execution_count": 122,
   "metadata": {},
   "outputs": [],
   "source": [
    "ctc_loss = nn.CTCLoss()"
   ]
  },
  {
   "cell_type": "code",
   "execution_count": 123,
   "metadata": {},
   "outputs": [],
   "source": [
    "learning_rate = 1e-03"
   ]
  },
  {
   "cell_type": "code",
   "execution_count": 124,
   "metadata": {},
   "outputs": [],
   "source": [
    "optimizer = torch.optim.Adam(model.parameters(), lr=learning_rate)"
   ]
  },
  {
   "cell_type": "code",
   "execution_count": 125,
   "metadata": {},
   "outputs": [],
   "source": [
    "def train(n: int) -> None:\n",
    "    for t in range(n):\n",
    "        # forward pass\n",
    "        y_pred = model(x)\n",
    "        \n",
    "        loss = ctc_loss(y_pred, y, x_lengths, y_lengths)\n",
    "        \n",
    "        if t % 100 == 99:\n",
    "            print(t, loss.item())\n",
    "            \n",
    "        optimizer.zero_grad()\n",
    "        \n",
    "        # backward pass\n",
    "        loss.backward()\n",
    "        \n",
    "        optimizer.step()"
   ]
  },
  {
   "cell_type": "code",
   "execution_count": 128,
   "metadata": {},
   "outputs": [
    {
     "name": "stdout",
     "output_type": "stream",
     "text": [
      "99 0.3844801187515259\n"
     ]
    }
   ],
   "source": [
    "train(100)"
   ]
  },
  {
   "cell_type": "code",
   "execution_count": 129,
   "metadata": {
    "scrolled": false
   },
   "outputs": [
    {
     "data": {
      "text/plain": [
       "tensor([[[-2.0171e-01, -1.6125e+00, -1.7318e+00],\n",
       "         [-1.8790e-01, -1.6632e+00, -1.7780e+00],\n",
       "         [-7.5500e-02, -2.1091e+00, -2.1921e+00],\n",
       "         [-3.1848e-01, -2.1307e+00, -2.2251e+00],\n",
       "         [-3.6987e-01, -1.1025e+00, -1.2712e+00]],\n",
       "\n",
       "        [[-2.0666e-01, -1.5943e+00, -1.7153e+00],\n",
       "         [-3.1092e-01, -2.0520e+00, -2.1637e+00],\n",
       "         [-3.0341e-01, -1.3631e+00, -1.5993e+00],\n",
       "         [-3.0274e-01, -1.9670e+00, -2.0974e+00],\n",
       "         [-1.3107e-01, -1.8708e+00, -1.9666e+00]],\n",
       "\n",
       "        [[-4.1101e-01, -9.4895e-01, -1.1335e+00],\n",
       "         [-4.0171e-01, -8.2321e-01, -1.0412e+00],\n",
       "         [-2.6623e-01, -1.3758e+00, -1.5162e+00],\n",
       "         [-2.1720e-01, -1.5557e+00, -1.6801e+00],\n",
       "         [-8.1881e-02, -2.0789e+00, -2.1628e+00]],\n",
       "\n",
       "        [[-2.0612e-01, -1.5963e+00, -1.7171e+00],\n",
       "         [-3.9268e-01, -8.3254e-01, -1.0557e+00],\n",
       "         [-3.8374e-01, -8.4288e-01, -1.0728e+00],\n",
       "         [-2.8389e-01, -1.3111e+00, -1.4572e+00],\n",
       "         [-2.9654e-01, -1.4104e+00, -1.6415e+00]],\n",
       "\n",
       "        [[-2.4515e-01, -1.4532e+00, -1.5867e+00],\n",
       "         [-4.0121e-01, -1.0206e+00, -1.1978e+00],\n",
       "         [-1.1950e-01, -1.9121e+00, -2.0033e+00],\n",
       "         [-2.9150e-01, -1.4452e+00, -1.6725e+00],\n",
       "         [-1.0130e-01, -1.9873e+00, -2.0737e+00]],\n",
       "\n",
       "        [[-3.7828e-01, -1.0805e+00, -1.2515e+00],\n",
       "         [-2.9698e-01, -1.2718e+00, -1.4217e+00],\n",
       "         [-2.6452e-01, -1.3821e+00, -1.5219e+00],\n",
       "         [-4.0951e-01, -9.6576e-01, -1.1486e+00],\n",
       "         [-2.6984e-01, -1.3626e+00, -1.5042e+00]],\n",
       "\n",
       "        [[-2.6626e-01, -1.3757e+00, -1.5161e+00],\n",
       "         [-3.8815e-01, -8.3722e-01, -1.0630e+00],\n",
       "         [-3.1471e-01, -1.2744e+00, -1.5194e+00],\n",
       "         [-4.1948e-01, -8.0594e-01, -1.0129e+00],\n",
       "         [-3.3337e-01, -1.1883e+00, -1.3476e+00]],\n",
       "\n",
       "        [[-2.9551e-02, -2.3260e+00, -2.4030e+00],\n",
       "         [-3.5175e-01, -8.8687e-01, -1.1511e+00],\n",
       "         [-4.2138e-01, -8.0420e-01, -1.0099e+00],\n",
       "         [-3.4052e-01, -9.5530e-01, -1.2223e+00],\n",
       "         [-3.5194e-01, -8.8661e-01, -1.1506e+00]],\n",
       "\n",
       "        [[ 3.8796e-02, -2.6486e+00, -2.7167e+00],\n",
       "         [-4.1910e-01, -8.5816e-01, -1.0519e+00],\n",
       "         [-3.0385e-01, -1.2560e+00, -1.4077e+00],\n",
       "         [-4.0467e-01, -8.2016e-01, -1.0364e+00],\n",
       "         [-6.3668e-02, -2.1649e+00, -2.2464e+00]],\n",
       "\n",
       "        [[-4.0109e-01, -8.2386e-01, -1.0422e+00],\n",
       "         [-1.8876e-01, -1.6600e+00, -1.7751e+00],\n",
       "         [-3.7266e-01, -2.6940e+00, -2.6646e+00],\n",
       "         [-2.0740e-01, -1.5916e+00, -1.7128e+00],\n",
       "         [-2.7674e-01, -1.6966e+00, -1.8866e+00]],\n",
       "\n",
       "        [[-3.3512e-01, -1.0221e+00, -1.2844e+00],\n",
       "         [-4.2132e-01, -8.0425e-01, -1.0100e+00],\n",
       "         [-3.9810e-01, -8.2694e-01, -1.0470e+00],\n",
       "         [-1.7336e-01, -1.7165e+00, -1.8266e+00],\n",
       "         [-3.6303e-01, -1.1203e+00, -1.2872e+00]],\n",
       "\n",
       "        [[-2.9051e-01, -1.8397e+00, -1.9982e+00],\n",
       "         [-2.9252e-01, -1.2820e+00, -1.4308e+00],\n",
       "         [-4.2104e-01, -8.3637e-01, -1.0324e+00],\n",
       "         [-3.8673e-01, -1.0584e+00, -1.2317e+00],\n",
       "         [-3.7390e-01, -8.5641e-01, -1.0969e+00]],\n",
       "\n",
       "        [[-2.1496e-01, -1.5639e+00, -1.6875e+00],\n",
       "         [-3.8911e-01, -2.8651e+00, -2.7980e+00],\n",
       "         [-3.7411e-01, -8.5612e-01, -1.0964e+00],\n",
       "         [-2.3880e-01, -1.4764e+00, -1.6079e+00],\n",
       "         [-3.8691e-01, -1.0579e+00, -1.2313e+00]],\n",
       "\n",
       "        [[-3.4486e-01, -9.0169e-01, -1.1724e+00],\n",
       "         [-3.9267e-01, -1.0429e+00, -1.2178e+00],\n",
       "         [-1.0707e-01, -1.9600e+00, -2.0472e+00],\n",
       "         [-3.8748e-01, -1.0564e+00, -1.2299e+00],\n",
       "         [-3.3052e-01, -1.1949e+00, -1.3534e+00]],\n",
       "\n",
       "        [[-4.2166e-01, -8.2947e-01, -1.0262e+00],\n",
       "         [-3.1982e-01, -1.2113e+00, -1.4606e+00],\n",
       "         [-3.6428e-01, -8.6964e-01, -1.1204e+00],\n",
       "         [-8.5443e-02, -2.0621e+00, -2.1464e+00],\n",
       "         [-6.0042e-02, -2.1820e+00, -2.2630e+00]],\n",
       "\n",
       "        [[-2.7704e-01, -1.5449e+00, -1.7614e+00],\n",
       "         [-3.1350e-01, -1.2339e+00, -1.3881e+00],\n",
       "         [-4.1991e-01, -8.0554e-01, -1.0123e+00],\n",
       "         [ 1.6483e-01, -3.2436e+00, -3.2953e+00],\n",
       "         [-3.0612e-01, -1.2508e+00, -1.4031e+00]],\n",
       "\n",
       "        [[-3.6506e-01, -8.6857e-01, -1.1185e+00],\n",
       "         [-1.8946e-01, -1.6574e+00, -1.7728e+00],\n",
       "         [-1.1128e-01, -1.9414e+00, -2.0294e+00],\n",
       "         [-2.8415e-01, -1.4959e+00, -1.7177e+00],\n",
       "         [-4.1049e-01, -9.5476e-01, -1.1387e+00]],\n",
       "\n",
       "        [[-3.3508e-01, -1.1844e+00, -1.3441e+00],\n",
       "         [-3.2651e-01, -2.2141e+00, -2.2902e+00],\n",
       "         [-3.4682e-01, -2.4253e+00, -2.4550e+00],\n",
       "         [-3.5655e-01, -1.1352e+00, -1.3004e+00],\n",
       "         [-3.0199e-01, -1.2603e+00, -1.4115e+00]],\n",
       "\n",
       "        [[-3.4255e-01, -9.3019e-01, -1.1989e+00],\n",
       "         [ 9.5001e-02, -2.9139e+00, -2.9747e+00],\n",
       "         [-4.1763e-01, -8.7463e-01, -1.0667e+00],\n",
       "         [-2.8963e-01, -1.8306e+00, -1.9911e+00],\n",
       "         [-1.7356e-01, -1.7158e+00, -1.8259e+00]],\n",
       "\n",
       "        [[-2.9245e-01, -1.4387e+00, -1.6667e+00],\n",
       "         [-1.6856e-01, -1.7341e+00, -1.8426e+00],\n",
       "         [-4.5329e-04, -2.4633e+00, -2.5366e+00],\n",
       "         [-4.2390e-01, -8.0256e-01, -1.0060e+00],\n",
       "         [-3.0131e-01, -1.2618e+00, -1.4129e+00]]], grad_fn=<AddBackward0>)"
      ]
     },
     "execution_count": 129,
     "metadata": {},
     "output_type": "execute_result"
    }
   ],
   "source": [
    "y_pred = model(x)\n",
    "y_pred"
   ]
  }
 ],
 "metadata": {
  "kernelspec": {
   "display_name": "Python 3",
   "language": "python",
   "name": "python3"
  },
  "language_info": {
   "codemirror_mode": {
    "name": "ipython",
    "version": 3
   },
   "file_extension": ".py",
   "mimetype": "text/x-python",
   "name": "python",
   "nbconvert_exporter": "python",
   "pygments_lexer": "ipython3",
   "version": "3.6.7"
  }
 },
 "nbformat": 4,
 "nbformat_minor": 2
}
