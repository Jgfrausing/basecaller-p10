{
 "cells": [
  {
   "cell_type": "code",
   "execution_count": 1,
   "metadata": {},
   "outputs": [],
   "source": [
    "%reload_ext autoreload\n",
    "%autoreload 2\n",
    "%matplotlib inline"
   ]
  },
  {
   "cell_type": "code",
   "execution_count": 2,
   "metadata": {
    "scrolled": true
   },
   "outputs": [],
   "source": [
    "from fastai.basics import *\n",
    "from fastai.callbacks.tracker import SaveModelCallback\n",
    "\n",
    "import jkbc.utils.general as g\n",
    "import jkbc.utils.files as f\n",
    "import jkbc.utils.metrics as metric\n",
    "import jkbc.utils.postprocessing as pop\n",
    "import jkbc.utils.preprocessing as prep"
   ]
  },
  {
   "cell_type": "markdown",
   "metadata": {},
   "source": [
    "## Constants"
   ]
  },
  {
   "cell_type": "markdown",
   "metadata": {},
   "source": [
    "### Data"
   ]
  },
  {
   "cell_type": "code",
   "execution_count": 3,
   "metadata": {},
   "outputs": [],
   "source": [
    "BLANK_ID       = pop.BLANK_ID\n",
    "ALPHABET       = pop.ALPHABET # {0: '-', 1: 'A', 2: 'B'}\n",
    "ALPHABET_VAL   = list(ALPHABET.values())\n",
    "ALPHABET_STR   = ''.join(ALPHABET_VAL)\n",
    "ALPHABET_SIZE  = len(ALPHABET_VAL)\n",
    "WINDOW_SIZE    = 300\n",
    "STRIDE         = 300\n",
    "DIMENSIONS_OUT = 70\n",
    "\n",
    "BASE_DIR = Path(\"../..\")\n",
    "PATH_DATA = 'data/feather-files'\n",
    "DATA_SET = f'Range0-5000-FixLabelLen{DIMENSIONS_OUT}'\n",
    "FEATHER_FOLDER = BASE_DIR/PATH_DATA/DATA_SET"
   ]
  },
  {
   "cell_type": "markdown",
   "metadata": {},
   "source": [
    "### Train/Predict"
   ]
  },
  {
   "cell_type": "code",
   "execution_count": 4,
   "metadata": {},
   "outputs": [],
   "source": [
    "LR = 1e-3  # default learning rate\n",
    "BS = 1024  # batch size\n",
    "EPOCHS = 1000\n",
    "DEVICE = torch.device(\"cuda:0\") #torch.device(\"cpu\")\n",
    "MODEL_NAME = g.get_notebook_name()\n",
    "MODEL_DIR = BASE_DIR/'models'/MODEL_NAME\n",
    "SPECIFIC_MODEL = None #Set to specific name of model ('None' uses the newest)"
   ]
  },
  {
   "cell_type": "markdown",
   "metadata": {},
   "source": [
    "### Model"
   ]
  },
  {
   "cell_type": "code",
   "execution_count": 5,
   "metadata": {},
   "outputs": [],
   "source": [
    "DIMENSIONS_PREDICTION_OUT = DIMENSIONS_OUT*2-1\n",
    "DROP_LAST    = True # SET TO TRUE IF IT FAILS ON LAST BATCH\n",
    "LOSS_FUNC = metric.ctc_loss(DIMENSIONS_PREDICTION_OUT, BS, ALPHABET_SIZE)\n",
    "METRICS = [metric.ErrorRate(metric.ctc_error(ALPHABET, 5))]\n",
    "SAVE_CALLBACK = partial(SaveModelCallback, every='epoch', monitor='valid_loss')"
   ]
  },
  {
   "cell_type": "markdown",
   "metadata": {},
   "source": [
    "## Load data"
   ]
  },
  {
   "cell_type": "code",
   "execution_count": 6,
   "metadata": {},
   "outputs": [],
   "source": [
    "# Read data from feather\n",
    "data = f.read_data_from_feather_file(FEATHER_FOLDER)\n",
    "\n",
    "# Convert to databunch\n",
    "train_dl, valid_dl = prep.convert_to_dataloaders(data, split=.8, batch_size=BS, drop_last=DROP_LAST)\n",
    "del data\n",
    "databunch = DataBunch(train_dl, valid_dl, device=DEVICE)\n",
    "del train_dl\n",
    "del valid_dl"
   ]
  },
  {
   "cell_type": "markdown",
   "metadata": {},
   "source": [
    "## Model"
   ]
  },
  {
   "cell_type": "markdown",
   "metadata": {},
   "source": [
    "## Build\n",
    "*Put entire model definition and constants in the same field*"
   ]
  },
  {
   "cell_type": "code",
   "execution_count": 7,
   "metadata": {},
   "outputs": [],
   "source": [
    "## REPLACE THIS FIELD\n",
    "NF = 256\n",
    "HIDDEN_UNITS = 200\n",
    "\n",
    "def conv(ni, nf, ks=1, padding=0): return nn.Conv1d(ni, nf, kernel_size=ks, stride=1, padding=padding)\n",
    "def conv_layers(ni, nf): \n",
    "    return nn.Sequential(\n",
    "        conv(ni, NF)\n",
    "        ,nn.BatchNorm1d(NF)\n",
    "        ,nn.ReLU()\n",
    "        ,conv(NF, NF, 3, padding=1)\n",
    "        ,nn.BatchNorm1d(NF)\n",
    "        ,nn.ReLU()\n",
    "        ,conv(NF, nf)\n",
    "    )\n",
    "\n",
    "class ResidualBlock(nn.Module):\n",
    "    def __init__(self, ni, nf):\n",
    "        super().__init__()\n",
    "        self.module = conv_layers(ni, nf)\n",
    "        self.residual = conv(ni, nf)\n",
    "    \n",
    "    def forward(self, x):\n",
    "        out_a = self.module(x)\n",
    "        out_b = self.residual(x)\n",
    "        \n",
    "        return nn.ReLU()(out_a + out_b)\n",
    "\n",
    "class LstmBlock(nn.Module):\n",
    "    def __init__(self, input_size, batch_size, hidden_units, no_of_layers, device):\n",
    "        super().__init__()\n",
    "        self.lstm = nn.LSTM(input_size, hidden_units, no_of_layers, bidirectional=True, batch_first=True)\n",
    "        \n",
    "        ## Multiply by 2 because of bidirectional\n",
    "        h0 = torch.zeros(2*no_of_layers, batch_size, hidden_units).to(device=DEVICE)\n",
    "        c0 = torch.zeros(2*no_of_layers, batch_size, hidden_units).to(device=DEVICE)\n",
    "        \n",
    "        self.hidden=(h0,c0)\n",
    "        \n",
    "    def forward(self, x):                \n",
    "        res, _ = self.lstm(x, self.hidden)\n",
    "        \n",
    "        return res\n",
    "        \n",
    "res = ResidualBlock(NF, NF)\n",
    "lstm = LstmBlock(WINDOW_SIZE, BS, HIDDEN_UNITS, no_of_layers=4, device=DEVICE)\n",
    "model = nn.Sequential(\n",
    "    ResidualBlock(1, NF)\n",
    "    ,res\n",
    "    ,res\n",
    "    ,res\n",
    "    ,ResidualBlock(NF, DIMENSIONS_PREDICTION_OUT)\n",
    "    ,nn.BatchNorm1d(DIMENSIONS_PREDICTION_OUT)\n",
    "    \n",
    "    ,lstm\n",
    "    \n",
    "    ,nn.Linear(HIDDEN_UNITS*2,ALPHABET_SIZE)\n",
    "    ,nn.LogSoftmax(dim=2) \n",
    ").to(device=DEVICE)"
   ]
  },
  {
   "cell_type": "code",
   "execution_count": 8,
   "metadata": {},
   "outputs": [],
   "source": [
    "learner = Learner(databunch, model, loss_func=LOSS_FUNC, model_dir=MODEL_DIR, metrics=METRICS)"
   ]
  },
  {
   "cell_type": "code",
   "execution_count": null,
   "metadata": {},
   "outputs": [],
   "source": [
    "try:\n",
    "    if SPECIFIC_MODEL:\n",
    "        model_name = SPECIFIC_MODEL\n",
    "    else:\n",
    "        model_name = g.get_newest_model(MODEL_DIR)\n",
    "        \n",
    "    learner = learner.load(model_name)\n",
    "    print('Model weights loaded', model_name)\n",
    "except:\n",
    "    print('No model weights available')"
   ]
  },
  {
   "cell_type": "markdown",
   "metadata": {},
   "source": [
    "## Train"
   ]
  },
  {
   "cell_type": "code",
   "execution_count": 9,
   "metadata": {},
   "outputs": [
    {
     "data": {
      "text/html": [
       "\n",
       "    <div>\n",
       "        <style>\n",
       "            /* Turns off some styling */\n",
       "            progress {\n",
       "                /* gets rid of default border in Firefox and Opera. */\n",
       "                border: none;\n",
       "                /* Needs to be in here for Safari polyfill so background images work as expected. */\n",
       "                background-size: auto;\n",
       "            }\n",
       "            .progress-bar-interrupted, .progress-bar-interrupted::-webkit-progress-bar {\n",
       "                background: #F44336;\n",
       "            }\n",
       "        </style>\n",
       "      <progress value='0' class='' max='1', style='width:300px; height:20px; vertical-align: middle;'></progress>\n",
       "      0.00% [0/1 00:00<00:00]\n",
       "    </div>\n",
       "    \n",
       "<table border=\"1\" class=\"dataframe\">\n",
       "  <thead>\n",
       "    <tr style=\"text-align: left;\">\n",
       "      <th>epoch</th>\n",
       "      <th>train_loss</th>\n",
       "      <th>valid_loss</th>\n",
       "      <th>ctc_error</th>\n",
       "      <th>time</th>\n",
       "    </tr>\n",
       "  </thead>\n",
       "  <tbody>\n",
       "  </tbody>\n",
       "</table><p>\n",
       "\n",
       "    <div>\n",
       "        <style>\n",
       "            /* Turns off some styling */\n",
       "            progress {\n",
       "                /* gets rid of default border in Firefox and Opera. */\n",
       "                border: none;\n",
       "                /* Needs to be in here for Safari polyfill so background images work as expected. */\n",
       "                background-size: auto;\n",
       "            }\n",
       "            .progress-bar-interrupted, .progress-bar-interrupted::-webkit-progress-bar {\n",
       "                background: #F44336;\n",
       "            }\n",
       "        </style>\n",
       "      <progress value='96' class='' max='648', style='width:300px; height:20px; vertical-align: middle;'></progress>\n",
       "      14.81% [96/648 01:13<07:03 10.4467]\n",
       "    </div>\n",
       "    "
      ],
      "text/plain": [
       "<IPython.core.display.HTML object>"
      ]
     },
     "metadata": {},
     "output_type": "display_data"
    },
    {
     "name": "stdout",
     "output_type": "stream",
     "text": [
      "LR Finder is complete, type {learner_name}.recorder.plot() to see the graph.\n",
      "Min numerical gradient: 4.79E-04\n",
      "Min loss divided by 10: 9.12E-02\n"
     ]
    },
    {
     "data": {
      "image/png": "[encoded data removed]",
      "text/plain": [
       "<Figure size 432x288 with 1 Axes>"
      ]
     },
     "metadata": {
      "needs_background": "light"
     },
     "output_type": "display_data"
    }
   ],
   "source": [
    "learner.lr_find()\n",
    "learner.recorder.plot(suggestion=True)"
   ]
  },
  {
   "cell_type": "code",
   "execution_count": 10,
   "metadata": {},
   "outputs": [
    {
     "data": {
      "text/plain": [
       "0.0004786300923226385"
      ]
     },
     "execution_count": 10,
     "metadata": {},
     "output_type": "execute_result"
    }
   ],
   "source": [
    "# Default to LR if lr_find() has not been run\n",
    "try:\n",
    "    lr = learner.recorder.min_grad_lr\n",
    "except:\n",
    "    lr = LR\n",
    "lr"
   ]
  },
  {
   "cell_type": "code",
   "execution_count": null,
   "metadata": {},
   "outputs": [
    {
     "data": {
      "text/html": [
       "\n",
       "    <div>\n",
       "        <style>\n",
       "            /* Turns off some styling */\n",
       "            progress {\n",
       "                /* gets rid of default border in Firefox and Opera. */\n",
       "                border: none;\n",
       "                /* Needs to be in here for Safari polyfill so background images work as expected. */\n",
       "                background-size: auto;\n",
       "            }\n",
       "            .progress-bar-interrupted, .progress-bar-interrupted::-webkit-progress-bar {\n",
       "                background: #F44336;\n",
       "            }\n",
       "        </style>\n",
       "      <progress value='7' class='' max='1000', style='width:300px; height:20px; vertical-align: middle;'></progress>\n",
       "      0.70% [7/1000 1:03:59<151:16:36]\n",
       "    </div>\n",
       "    \n",
       "<table border=\"1\" class=\"dataframe\">\n",
       "  <thead>\n",
       "    <tr style=\"text-align: left;\">\n",
       "      <th>epoch</th>\n",
       "      <th>train_loss</th>\n",
       "      <th>valid_loss</th>\n",
       "      <th>ctc_error</th>\n",
       "      <th>time</th>\n",
       "    </tr>\n",
       "  </thead>\n",
       "  <tbody>\n",
       "    <tr>\n",
       "      <td>0</td>\n",
       "      <td>1.539776</td>\n",
       "      <td>1.960304</td>\n",
       "      <td>0.841610</td>\n",
       "      <td>09:08</td>\n",
       "    </tr>\n",
       "    <tr>\n",
       "      <td>1</td>\n",
       "      <td>1.539668</td>\n",
       "      <td>1.657411</td>\n",
       "      <td>0.910686</td>\n",
       "      <td>09:08</td>\n",
       "    </tr>\n",
       "    <tr>\n",
       "      <td>2</td>\n",
       "      <td>1.539710</td>\n",
       "      <td>1.582668</td>\n",
       "      <td>0.931015</td>\n",
       "      <td>09:07</td>\n",
       "    </tr>\n",
       "    <tr>\n",
       "      <td>3</td>\n",
       "      <td>1.539732</td>\n",
       "      <td>1.552890</td>\n",
       "      <td>0.949631</td>\n",
       "      <td>09:08</td>\n",
       "    </tr>\n",
       "    <tr>\n",
       "      <td>4</td>\n",
       "      <td>1.539555</td>\n",
       "      <td>1.542713</td>\n",
       "      <td>0.957888</td>\n",
       "      <td>09:07</td>\n",
       "    </tr>\n",
       "    <tr>\n",
       "      <td>5</td>\n",
       "      <td>1.539104</td>\n",
       "      <td>1.539147</td>\n",
       "      <td>0.960311</td>\n",
       "      <td>09:08</td>\n",
       "    </tr>\n",
       "    <tr>\n",
       "      <td>6</td>\n",
       "      <td>1.537900</td>\n",
       "      <td>1.541429</td>\n",
       "      <td>0.958440</td>\n",
       "      <td>09:08</td>\n",
       "    </tr>\n",
       "  </tbody>\n",
       "</table><p>\n",
       "\n",
       "    <div>\n",
       "        <style>\n",
       "            /* Turns off some styling */\n",
       "            progress {\n",
       "                /* gets rid of default border in Firefox and Opera. */\n",
       "                border: none;\n",
       "                /* Needs to be in here for Safari polyfill so background images work as expected. */\n",
       "                background-size: auto;\n",
       "            }\n",
       "            .progress-bar-interrupted, .progress-bar-interrupted::-webkit-progress-bar {\n",
       "                background: #F44336;\n",
       "            }\n",
       "        </style>\n",
       "      <progress value='390' class='' max='648', style='width:300px; height:20px; vertical-align: middle;'></progress>\n",
       "      60.19% [390/648 05:01<03:19 1.5339]\n",
       "    </div>\n",
       "    "
      ],
      "text/plain": [
       "<IPython.core.display.HTML object>"
      ]
     },
     "metadata": {},
     "output_type": "display_data"
    }
   ],
   "source": [
    "learner.fit_one_cycle(EPOCHS, max_lr=lr, callbacks=[SAVE_CALLBACK(learner)])"
   ]
  },
  {
   "cell_type": "markdown",
   "metadata": {},
   "source": [
    "## Predict"
   ]
  },
  {
   "cell_type": "code",
   "execution_count": null,
   "metadata": {},
   "outputs": [],
   "source": [
    "x, y, _ = databunch.valid_dl.tensors\n",
    "x_device = x.to(device=DEVICE)\n",
    "y_pred = model(x_device).detach().cpu().numpy()"
   ]
  },
  {
   "cell_type": "code",
   "execution_count": null,
   "metadata": {},
   "outputs": [],
   "source": [
    "r = range(min(5, DIMENSIONS_PREDICTION_OUT), min(DIMENSIONS_PREDICTION_OUT+1, 50)) #Range can't contain values larger than PRED_OUT_DIM\n",
    "\n",
    "for index in [0, BS-1]:\n",
    "    actual = pop.convert_idx_to_base_sequence(y[index], ALPHABET_VAL)\n",
    "    prediction = y_pred[index]\n",
    "    for pred, beam, error in g.get_stats(prediction, actual, ALPHABET_STR, r):\n",
    "        print(pred, beam, error.error)\n",
    "    print('')"
   ]
  },
  {
   "cell_type": "code",
   "execution_count": null,
   "metadata": {},
   "outputs": [],
   "source": [
    "# Run assemble only if data is not fetched from featherfile\n",
    "# TODO: Assembled should not be on a batch, but instead on a complete signal\n",
    "if STRIDE != WINDOW_SIZE:\n",
    "    decoded = pop.decode(y_pred, ALPHABET_STR, beam_size=15)\n",
    "    assembled = pop.assemble(decoded, WINDOW_SIZE, STRIDE, ALPHABET)\n",
    "    print('Assembled:', assembled)"
   ]
  }
 ],
 "metadata": {
  "jupytext": {
   "cell_metadata_filter": "-all",
   "notebook_metadata_filter": "-all"
  },
  "kernelspec": {
   "display_name": "jkbc",
   "language": "python",
   "name": "jkbc"
  },
  "language_info": {
   "codemirror_mode": {
    "name": "ipython",
    "version": 3
   },
   "file_extension": ".py",
   "mimetype": "text/x-python",
   "name": "python",
   "nbconvert_exporter": "python",
   "pygments_lexer": "ipython3",
   "version": "3.7.6"
  }
 },
 "nbformat": 4,
 "nbformat_minor": 2
}
