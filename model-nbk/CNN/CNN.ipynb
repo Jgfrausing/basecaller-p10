{
 "cells": [
  {
   "cell_type": "code",
<<<<<<< HEAD
   "execution_count": 1,
=======
   "execution_count": null,
>>>>>>> feature/bonito
   "metadata": {},
   "outputs": [],
   "source": [
    "%reload_ext autoreload\n",
    "%autoreload 2\n",
    "%matplotlib inline"
   ]
  },
  {
   "cell_type": "code",
<<<<<<< HEAD
   "execution_count": 2,
=======
   "execution_count": null,
>>>>>>> feature/bonito
   "metadata": {
    "scrolled": true
   },
   "outputs": [],
   "source": [
    "from fastai.basics import *\n",
    "\n",
    "import jkbc.utils.general as g\n",
    "import jkbc.utils.files as f\n",
    "import jkbc.utils.metrics as metric\n",
    "import jkbc.utils.postprocessing as pop\n",
    "import jkbc.utils.preprocessing as prep"
   ]
  },
  {
   "cell_type": "markdown",
   "metadata": {},
   "source": [
    "## Constants"
   ]
  },
  {
   "cell_type": "markdown",
   "metadata": {},
   "source": [
    "### Data"
   ]
  },
  {
   "cell_type": "code",
<<<<<<< HEAD
   "execution_count": 3,
=======
   "execution_count": null,
>>>>>>> feature/bonito
   "metadata": {},
   "outputs": [],
   "source": [
    "BLANK_ID       = pop.BLANK_ID\n",
    "ALPHABET       = pop.ALPHABET # {0: '-', 1: 'A', 2: 'B'}\n",
    "ALPHABET_VAL   = list(ALPHABET.values())\n",
    "ALPHABET_STR   = ''.join(ALPHABET_VAL)\n",
    "ALPHABET_SIZE  = len(ALPHABET_VAL)\n",
    "WINDOW_SIZE    = 300\n",
    "STRIDE         = 300\n",
    "DIMENSIONS_OUT = 70\n",
    "\n",
    "BASE_DIR = Path(\"../..\")\n",
    "PATH_DATA = 'data/feather-files'\n",
<<<<<<< HEAD
    "DATA_SET = f'Range0-100-FixLabelLen{DIMENSIONS_OUT}'\n",
=======
    "DATA_SET = f'Range0-5000-FixLabelLen{DIMENSIONS_OUT}'\n",
>>>>>>> feature/bonito
    "FEATHER_FOLDER = BASE_DIR/PATH_DATA/DATA_SET"
   ]
  },
  {
   "cell_type": "markdown",
   "metadata": {},
   "source": [
    "### Train/Predict"
   ]
  },
  {
   "cell_type": "code",
<<<<<<< HEAD
   "execution_count": 4,
=======
   "execution_count": null,
>>>>>>> feature/bonito
   "metadata": {},
   "outputs": [],
   "source": [
    "LR = 1e-3  # default learning rate\n",
    "BS = 1024  # batch size\n",
<<<<<<< HEAD
    "EPOCHS_BEFORE_SAVING = 3\n",
    "SAVE_MODEL_ITERATIONS = 3\n",
=======
    "EPOCHS_BEFORE_SAVING = 10\n",
    "SAVE_MODEL_ITERATIONS = 500\n",
>>>>>>> feature/bonito
    "DEVICE = torch.device(\"cuda:0\") #torch.device(\"cpu\")\n",
    "MODEL_NAME = g.get_notebook_name()\n",
    "MODEL_DIR = BASE_DIR/'models'/MODEL_NAME\n",
    "SPECIFIC_MODEL = None #Set to specific name of model ('None' uses the newest)"
   ]
  },
  {
   "cell_type": "markdown",
   "metadata": {},
   "source": [
    "### Model"
   ]
  },
  {
   "cell_type": "code",
<<<<<<< HEAD
   "execution_count": 5,
=======
   "execution_count": null,
>>>>>>> feature/bonito
   "metadata": {},
   "outputs": [],
   "source": [
    "DIMENSIONS_PREDICTION_OUT = DIMENSIONS_OUT*2-1\n",
    "DROP_LAST    = True # SET TO TRUE IF IT FAILS ON LAST BATCH\n",
    "LOSS_FUNC = metric.ctc_loss(DIMENSIONS_PREDICTION_OUT, BS, ALPHABET_SIZE)\n",
    "METRICS = [metric.ErrorRate(metric.ctc_error(ALPHABET, 5))]"
   ]
  },
  {
   "cell_type": "markdown",
   "metadata": {},
   "source": [
    "## Load data"
   ]
  },
  {
   "cell_type": "code",
<<<<<<< HEAD
   "execution_count": 6,
=======
   "execution_count": null,
>>>>>>> feature/bonito
   "metadata": {},
   "outputs": [],
   "source": [
    "# Read data from feather\n",
    "data = f.read_data_from_feather_file(FEATHER_FOLDER)\n",
    "\n",
    "# Convert to databunch\n",
    "train_dl, valid_dl = prep.convert_to_dataloaders(data, split=.8, batch_size=BS, drop_last=DROP_LAST)\n",
    "del data\n",
    "databunch = DataBunch(train_dl, valid_dl, device=DEVICE)\n",
    "del train_dl\n",
    "del valid_dl"
   ]
  },
  {
   "cell_type": "markdown",
   "metadata": {},
   "source": [
    "## Model"
   ]
  },
  {
   "cell_type": "markdown",
   "metadata": {},
   "source": [
    "## Build\n",
    "*Put entire model definition and constants in the same field*"
   ]
  },
  {
   "cell_type": "code",
<<<<<<< HEAD
   "execution_count": 7,
=======
   "execution_count": null,
>>>>>>> feature/bonito
   "metadata": {},
   "outputs": [],
   "source": [
    "NF = 123\n",
    "def conv(ni, nf, ks):\n",
    "    padding = ks//2\n",
    "    return nn.Conv1d(ni, nf, kernel_size=ks, stride=1, padding=padding)\n",
    "\n",
    "def ConvLayer(ni, nf, ks):\n",
    "    return nn.Sequential(\n",
    "        conv(ni, nf, ks)\n",
    "        ,nn.BatchNorm1d(nf)\n",
    "        ,nn.ReLU()\n",
    "    )\n",
    "\n",
    "def ConvBlock(a, b, c, ni, nf):\n",
    "    return nn.Sequential(\n",
    "        ConvLayer(ni, nf, a)\n",
    "    )\n",
    "\n",
    "class ResidualBlock(nn.Module):\n",
    "    def __init__(self, a, b, c, ni, nf):\n",
    "        super().__init__()\n",
    "        self.module = ConvBlock(a, b, c, ni, nf)\n",
    "        self.residual = ConvBlock(a, b, c, ni, nf)\n",
    "    \n",
    "    def forward(self, x):\n",
    "        out_a = self.module(x)\n",
    "        out_b = self.residual(x)\n",
    "        \n",
    "        return nn.ReLU()(out_a + out_b)\n",
    "\n",
    "model = nn.Sequential(\n",
    "    ResidualBlock(2+1, 2^2+1, 2^3+1, 1, NF)\n",
    "    ,ResidualBlock(2^2+1, 2^5+1, 2^6+1, NF, NF)\n",
    "    ,ResidualBlock(2^3+1, 2^8+1, 2^8+1, NF, NF)\n",
    "    ,ResidualBlock(2^4+1, 2^8+1, 2^8+1, NF, NF)\n",
    "    ,ResidualBlock(2^5+1, 2^8+1, 2^8+1, NF, NF)\n",
    "    ,ResidualBlock(2^6+1, 2^8+1, 2^8+1, NF, DIMENSIONS_PREDICTION_OUT)\n",
    "    ,nn.Linear(WINDOW_SIZE+2, ALPHABET_SIZE)\n",
    "    ,nn.LogSoftmax(dim=2)\n",
    ").to(device=DEVICE)"
   ]
  },
  {
   "cell_type": "code",
<<<<<<< HEAD
   "execution_count": 8,
=======
   "execution_count": null,
>>>>>>> feature/bonito
   "metadata": {},
   "outputs": [],
   "source": [
    "learner = Learner(databunch, model, loss_func=LOSS_FUNC, model_dir=MODEL_DIR, metrics=METRICS)"
   ]
  },
  {
   "cell_type": "code",
<<<<<<< HEAD
   "execution_count": 9,
   "metadata": {},
   "outputs": [
    {
     "name": "stdout",
     "output_type": "stream",
     "text": [
      "No model weights available\n"
     ]
    }
   ],
=======
   "execution_count": null,
   "metadata": {},
   "outputs": [],
>>>>>>> feature/bonito
   "source": [
    "try:\n",
    "    if SPECIFIC_MODEL:\n",
    "        model_name = SPECIFIC_MODEL\n",
    "    else:\n",
    "        model_name = g.get_newest_model(MODEL_DIR)\n",
    "        \n",
    "    learner = learner.load(model_name)\n",
    "    print('Model weights loaded', model_name)\n",
    "except:\n",
    "    print('No model weights available')"
   ]
  },
  {
   "cell_type": "markdown",
   "metadata": {},
   "source": [
    "## Train"
   ]
  },
  {
   "cell_type": "code",
<<<<<<< HEAD
   "execution_count": 10,
   "metadata": {},
   "outputs": [
    {
     "data": {
      "text/html": [
       "\n",
       "    <div>\n",
       "        <style>\n",
       "            /* Turns off some styling */\n",
       "            progress {\n",
       "                /* gets rid of default border in Firefox and Opera. */\n",
       "                border: none;\n",
       "                /* Needs to be in here for Safari polyfill so background images work as expected. */\n",
       "                background-size: auto;\n",
       "            }\n",
       "            .progress-bar-interrupted, .progress-bar-interrupted::-webkit-progress-bar {\n",
       "                background: #F44336;\n",
       "            }\n",
       "        </style>\n",
       "      <progress value='8' class='' max='9', style='width:300px; height:20px; vertical-align: middle;'></progress>\n",
       "      88.89% [8/9 00:21<00:02]\n",
       "    </div>\n",
       "    \n",
       "<table border=\"1\" class=\"dataframe\">\n",
       "  <thead>\n",
       "    <tr style=\"text-align: left;\">\n",
       "      <th>epoch</th>\n",
       "      <th>train_loss</th>\n",
       "      <th>valid_loss</th>\n",
       "      <th>ctc_error</th>\n",
       "      <th>time</th>\n",
       "    </tr>\n",
       "  </thead>\n",
       "  <tbody>\n",
       "    <tr>\n",
       "      <td>0</td>\n",
       "      <td>5.297019</td>\n",
       "      <td>#na#</td>\n",
       "      <td>00:02</td>\n",
       "    </tr>\n",
       "    <tr>\n",
       "      <td>1</td>\n",
       "      <td>5.291467</td>\n",
       "      <td>#na#</td>\n",
       "      <td>00:02</td>\n",
       "    </tr>\n",
       "    <tr>\n",
       "      <td>2</td>\n",
       "      <td>5.248305</td>\n",
       "      <td>#na#</td>\n",
       "      <td>00:02</td>\n",
       "    </tr>\n",
       "    <tr>\n",
       "      <td>3</td>\n",
       "      <td>4.899168</td>\n",
       "      <td>#na#</td>\n",
       "      <td>00:02</td>\n",
       "    </tr>\n",
       "    <tr>\n",
       "      <td>4</td>\n",
       "      <td>4.375802</td>\n",
       "      <td>#na#</td>\n",
       "      <td>00:02</td>\n",
       "    </tr>\n",
       "    <tr>\n",
       "      <td>5</td>\n",
       "      <td>3.992117</td>\n",
       "      <td>#na#</td>\n",
       "      <td>00:02</td>\n",
       "    </tr>\n",
       "    <tr>\n",
       "      <td>6</td>\n",
       "      <td>3.777358</td>\n",
       "      <td>#na#</td>\n",
       "      <td>00:02</td>\n",
       "    </tr>\n",
       "    <tr>\n",
       "      <td>7</td>\n",
       "      <td>3.264548</td>\n",
       "      <td>#na#</td>\n",
       "      <td>00:02</td>\n",
       "    </tr>\n",
       "  </tbody>\n",
       "</table><p>\n",
       "\n",
       "    <div>\n",
       "        <style>\n",
       "            /* Turns off some styling */\n",
       "            progress {\n",
       "                /* gets rid of default border in Firefox and Opera. */\n",
       "                border: none;\n",
       "                /* Needs to be in here for Safari polyfill so background images work as expected. */\n",
       "                background-size: auto;\n",
       "            }\n",
       "            .progress-bar-interrupted, .progress-bar-interrupted::-webkit-progress-bar {\n",
       "                background: #F44336;\n",
       "            }\n",
       "        </style>\n",
       "      <progress value='3' class='' max='12', style='width:300px; height:20px; vertical-align: middle;'></progress>\n",
       "      25.00% [3/12 00:00<00:01 3.1635]\n",
       "    </div>\n",
       "    "
      ],
      "text/plain": [
       "<IPython.core.display.HTML object>"
      ]
     },
     "metadata": {},
     "output_type": "display_data"
    },
    {
     "name": "stdout",
     "output_type": "stream",
     "text": [
      "LR Finder is complete, type {learner_name}.recorder.plot() to see the graph.\n",
      "Min numerical gradient: 5.75E-04\n",
      "Min loss divided by 10: 3.31E-01\n"
     ]
    },
    {
     "data": {
      "image/png": "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\n",
      "text/plain": [
       "<Figure size 432x288 with 1 Axes>"
      ]
     },
     "metadata": {
      "needs_background": "light"
     },
     "output_type": "display_data"
    }
   ],
=======
   "execution_count": null,
   "metadata": {},
   "outputs": [],
>>>>>>> feature/bonito
   "source": [
    "learner.lr_find()\n",
    "learner.recorder.plot(suggestion=True)"
   ]
  },
  {
   "cell_type": "code",
<<<<<<< HEAD
   "execution_count": 11,
   "metadata": {},
   "outputs": [
    {
     "data": {
      "text/plain": [
       "0.0005754399373371565"
      ]
     },
     "execution_count": 11,
     "metadata": {},
     "output_type": "execute_result"
    }
   ],
=======
   "execution_count": null,
   "metadata": {},
   "outputs": [],
>>>>>>> feature/bonito
   "source": [
    "# Default to LR if lr_find() has not been run\n",
    "try:\n",
    "    lr = learner.recorder.min_grad_lr\n",
    "except:\n",
    "    lr = LR\n",
    "lr"
   ]
  },
  {
   "cell_type": "code",
<<<<<<< HEAD
   "execution_count": 12,
   "metadata": {},
   "outputs": [
    {
     "data": {
      "text/html": [
       "<table border=\"1\" class=\"dataframe\">\n",
       "  <thead>\n",
       "    <tr style=\"text-align: left;\">\n",
       "      <th>epoch</th>\n",
       "      <th>train_loss</th>\n",
       "      <th>valid_loss</th>\n",
       "      <th>ctc_error</th>\n",
       "      <th>time</th>\n",
       "    </tr>\n",
       "  </thead>\n",
       "  <tbody>\n",
       "    <tr>\n",
       "      <td>0</td>\n",
       "      <td>4.604537</td>\n",
       "      <td>4.186776</td>\n",
       "      <td>1.140760</td>\n",
       "      <td>00:03</td>\n",
       "    </tr>\n",
       "    <tr>\n",
       "      <td>1</td>\n",
       "      <td>3.783351</td>\n",
       "      <td>3.458442</td>\n",
       "      <td>1.113002</td>\n",
       "      <td>00:03</td>\n",
       "    </tr>\n",
       "    <tr>\n",
       "      <td>2</td>\n",
       "      <td>3.467927</td>\n",
       "      <td>3.263273</td>\n",
       "      <td>0.993748</td>\n",
       "      <td>00:03</td>\n",
       "    </tr>\n",
       "  </tbody>\n",
       "</table>"
      ],
      "text/plain": [
       "<IPython.core.display.HTML object>"
      ]
     },
     "metadata": {},
     "output_type": "display_data"
    },
    {
     "data": {
      "text/html": [],
      "text/plain": [
       "<IPython.core.display.HTML object>"
      ]
     },
     "metadata": {},
     "output_type": "display_data"
    },
    {
     "data": {
      "text/html": [
       "<table border=\"1\" class=\"dataframe\">\n",
       "  <thead>\n",
       "    <tr style=\"text-align: left;\">\n",
       "      <th>epoch</th>\n",
       "      <th>train_loss</th>\n",
       "      <th>valid_loss</th>\n",
       "      <th>ctc_error</th>\n",
       "      <th>time</th>\n",
       "    </tr>\n",
       "  </thead>\n",
       "  <tbody>\n",
       "    <tr>\n",
       "      <td>0</td>\n",
       "      <td>3.007926</td>\n",
       "      <td>3.341193</td>\n",
       "      <td>1.053585</td>\n",
       "      <td>00:02</td>\n",
       "    </tr>\n",
       "    <tr>\n",
       "      <td>1</td>\n",
       "      <td>2.999958</td>\n",
       "      <td>3.253822</td>\n",
       "      <td>1.057443</td>\n",
       "      <td>00:03</td>\n",
       "    </tr>\n",
       "    <tr>\n",
       "      <td>2</td>\n",
       "      <td>2.982571</td>\n",
       "      <td>3.186901</td>\n",
       "      <td>1.061709</td>\n",
       "      <td>00:02</td>\n",
       "    </tr>\n",
       "  </tbody>\n",
       "</table>"
      ],
      "text/plain": [
       "<IPython.core.display.HTML object>"
      ]
     },
     "metadata": {},
     "output_type": "display_data"
    },
    {
     "data": {
      "text/html": [],
      "text/plain": [
       "<IPython.core.display.HTML object>"
      ]
     },
     "metadata": {},
     "output_type": "display_data"
    },
    {
     "data": {
      "text/html": [
       "<table border=\"1\" class=\"dataframe\">\n",
       "  <thead>\n",
       "    <tr style=\"text-align: left;\">\n",
       "      <th>epoch</th>\n",
       "      <th>train_loss</th>\n",
       "      <th>valid_loss</th>\n",
       "      <th>ctc_error</th>\n",
       "      <th>time</th>\n",
       "    </tr>\n",
       "  </thead>\n",
       "  <tbody>\n",
       "    <tr>\n",
       "      <td>0</td>\n",
       "      <td>2.955054</td>\n",
       "      <td>3.166713</td>\n",
       "      <td>1.069085</td>\n",
       "      <td>00:02</td>\n",
       "    </tr>\n",
       "    <tr>\n",
       "      <td>1</td>\n",
       "      <td>2.922144</td>\n",
       "      <td>2.922617</td>\n",
       "      <td>0.970342</td>\n",
       "      <td>00:03</td>\n",
       "    </tr>\n",
       "    <tr>\n",
       "      <td>2</td>\n",
       "      <td>2.852679</td>\n",
       "      <td>2.882097</td>\n",
       "      <td>0.904093</td>\n",
       "      <td>00:03</td>\n",
       "    </tr>\n",
       "  </tbody>\n",
       "</table>"
      ],
      "text/plain": [
       "<IPython.core.display.HTML object>"
      ]
     },
     "metadata": {},
     "output_type": "display_data"
    },
    {
     "data": {
      "text/html": [],
      "text/plain": [
       "<IPython.core.display.HTML object>"
      ]
     },
     "metadata": {},
     "output_type": "display_data"
    }
   ],
=======
   "execution_count": null,
   "metadata": {},
   "outputs": [],
>>>>>>> feature/bonito
   "source": [
    "for iter in range(SAVE_MODEL_ITERATIONS):\n",
    "    print(iter)\n",
    "    learner.fit_one_cycle(EPOCHS_BEFORE_SAVING, max_lr=lr)\n",
    "    valid, ctc  = learner.validate()\n",
    "    learner.save(MODEL_NAME+f'-Valid[{valid}]-CTC[{ctc}]')"
   ]
  },
  {
   "cell_type": "markdown",
   "metadata": {},
   "source": [
    "## Predict"
   ]
  },
  {
   "cell_type": "code",
<<<<<<< HEAD
   "execution_count": 13,
   "metadata": {},
   "outputs": [],
   "source": [
    "x, (y, _) = databunch.one_batch()\n",
=======
   "execution_count": null,
   "metadata": {},
   "outputs": [],
   "source": [
    "x, y, _ = databunch.valid_dl.tensors\n",
>>>>>>> feature/bonito
    "x_device = x.to(device=DEVICE)\n",
    "y_pred = model(x_device).detach().cpu().numpy()"
   ]
  },
  {
   "cell_type": "code",
<<<<<<< HEAD
   "execution_count": 14,
   "metadata": {},
   "outputs": [
    {
     "name": "stdout",
     "output_type": "stream",
     "text": [
      "CGACATCGAGGTGCCAAACCTCC\n",
      "GGGGGGGGGGGGGG 5 0.8695652173913043\n",
      "GGGGGGGGGGGGGG 6 0.8695652173913043\n",
      "GGGGGGGGGGGGG 7 0.8695652173913043\n",
      "GGGGGGGGGGGGGG 8 0.8695652173913043\n",
      "GGGGGGGGGGGGGG 9 0.8695652173913043\n",
      "GGGGGGGGGGGGGG 10 0.8695652173913043\n",
      "GGGGGGGGGGGGGG 11 0.8695652173913043\n",
      "GGGGGGGGGGGGGG 12 0.8695652173913043\n",
      "GGGGGGGGGGGGGG 13 0.8695652173913043\n",
      "GGGGGGGGGGGGGG 14 0.8695652173913043\n",
      "GGGGGGGGGGGGGG 15 0.8695652173913043\n",
      "GGGGGGGGGGGGGG 16 0.8695652173913043\n",
      "GGGGGGGGGGGGGG 17 0.8695652173913043\n",
      "GGGGGGGGGGGGGG 18 0.8695652173913043\n",
      "GGGGGGGGGGGGGG 19 0.8695652173913043\n",
      "GGGGGGGGGGGGGG 20 0.8695652173913043\n",
      "GGGGGGGGGGGGGG 21 0.8695652173913043\n",
      "GGGGGGGGGGGGGG 22 0.8695652173913043\n",
      "GGGGGGGGGGGGGG 23 0.8695652173913043\n",
      "GGGGGGGGGGGGGG 24 0.8695652173913043\n",
      "GGGGGGGGGGGGGG 25 0.8695652173913043\n",
      "GGGGGGGGGGGGGG 26 0.8695652173913043\n",
      "GGGGGGGGGGGGGG 27 0.8695652173913043\n",
      "GGGGGGGGGGGGGG 28 0.8695652173913043\n",
      "GGGGGGGGGGGGGG 29 0.8695652173913043\n",
      "GGGGGGGGGGGGGG 30 0.8695652173913043\n",
      "GGGGGGGGGGGGGG 31 0.8695652173913043\n",
      "GGGGGGGGGGGGGG 32 0.8695652173913043\n",
      "GGGGGGGGGGGGGG 33 0.8695652173913043\n",
      "GGGGGGGGGGGGGG 34 0.8695652173913043\n",
      "GGGGGGGGGGGGGG 35 0.8695652173913043\n",
      "GGGGGGGGGGGGGG 36 0.8695652173913043\n",
      "GGGGGGGGGGGGGG 37 0.8695652173913043\n",
      "GGGGGGGGGGGGGG 38 0.8695652173913043\n",
      "GGGGGGGGGGGGGG 39 0.8695652173913043\n",
      "GGGGGGGGGGGGGG 40 0.8695652173913043\n",
      "GGGGGGGGGGGGGG 41 0.8695652173913043\n",
      "GGGGGGGGGGGGGG 42 0.8695652173913043\n",
      "GGGGGGGGGGGGGG 43 0.8695652173913043\n",
      "GGGGGGGGGGGGGG 44 0.8695652173913043\n",
      "GGGGGGGGGGGGGG 45 0.8695652173913043\n",
      "GGGGGGGGGGGGGG 46 0.8695652173913043\n",
      "GGGGGGGGGGGGGG 47 0.8695652173913043\n",
      "GGGGGGGGGGGGGG 48 0.8695652173913043\n",
      "GGGGGGGGGGGGGG 49 0.8695652173913043\n",
      "\n",
      "AGATGATTCGTCTAATGTCGTCCTTTG\n",
      "GGGGGGGGGGGGGGGGGGG 5 1.2592592592592593\n",
      "GGGGGGGGGGGGGGGGGGG 6 1.2592592592592593\n",
      "GGGGGGGGGGGGGGGGGGGG 7 1.2962962962962963\n",
      "GGGGGGGGGGGGGGGGGGGG 8 1.2962962962962963\n",
      "GGGGGGGGGGGGGGGGGGGG 9 1.2962962962962963\n",
      "GGGGGGGGGGGGGGGGGGGG 10 1.2962962962962963\n",
      "GGGGGGGGGGGGGGGGGGGG 11 1.2962962962962963\n",
      "GGGGGGGGGGGGGGGGGGGG 12 1.2962962962962963\n",
      "GGGGGGGGGGGGGGGGGGGG 13 1.2962962962962963\n",
      "GGGGGGGGGGGGGGGGGGGG 14 1.2962962962962963\n",
      "GGGGGGGGGGGGGGGGGGGG 15 1.2962962962962963\n",
      "GGGGGGGGGGGGGGGGGGGG 16 1.2962962962962963\n",
      "GGGGGGGGGGGGGGGGGGGG 17 1.2962962962962963\n",
      "GGGGGGGGGGGGGGGGGGGG 18 1.2962962962962963\n",
      "GGGGGGGGGGGGGGGGGGGG 19 1.2962962962962963\n",
      "GGGGGGGGGGGGGGGGGGGG 20 1.2962962962962963\n",
      "GGGGGGGGGGGGGGGGGGGG 21 1.2962962962962963\n",
      "GGGGGGGGGGGGGGGGGGGG 22 1.2962962962962963\n",
      "GGGGGGGGGGGGGGGGGGGG 23 1.2962962962962963\n",
      "GGGGGGGGGGGGGGGGGGGG 24 1.2962962962962963\n",
      "GGGGGGGGGGGGGGGGGGGG 25 1.2962962962962963\n",
      "GGGGGGGGGGGGGGGGGGGG 26 1.2962962962962963\n",
      "GGGGGGGGGGGGGGGGGGGG 27 1.2962962962962963\n",
      "GGGGGGGGGGGGGGGGGGGG 28 1.2962962962962963\n",
      "GGGGGGGGGGGGGGGGGGGG 29 1.2962962962962963\n",
      "GGGGGGGGGGGGGGGGGGGG 30 1.2962962962962963\n",
      "GGGGGGGGGGGGGGGGGGGG 31 1.2962962962962963\n",
      "GGGGGGGGGGGGGGGGGGGG 32 1.2962962962962963\n",
      "GGGGGGGGGGGGGGGGGGGG 33 1.2962962962962963\n",
      "GGGGGGGGGGGGGGGGGGGG 34 1.2962962962962963\n",
      "GGGGGGGGGGGGGGGGGGGG 35 1.2962962962962963\n",
      "GGGGGGGGGGGGGGGGGGGG 36 1.2962962962962963\n",
      "GGGGGGGGGGGGGGGGGGGG 37 1.2962962962962963\n",
      "GGGGGGGGGGGGGGGGGGGG 38 1.2962962962962963\n",
      "GGGGGGGGGGGGGGGGGGGG 39 1.2962962962962963\n",
      "GGGGGGGGGGGGGGGGGGGG 40 1.2962962962962963\n",
      "GGGGGGGGGGGGGGGGGGGG 41 1.2962962962962963\n",
      "GGGGGGGGGGGGGGGGGGGG 42 1.2962962962962963\n",
      "GGGGGGGGGGGGGGGGGGGG 43 1.2962962962962963\n",
      "GGGGGGGGGGGGGGGGGGGG 44 1.2962962962962963\n",
      "GGGGGGGGGGGGGGGGGGGG 45 1.2962962962962963\n",
      "GGGGGGGGGGGGGGGGGGGG 46 1.2962962962962963\n",
      "GGGGGGGGGGGGGGGGGGGG 47 1.2962962962962963\n",
      "GGGGGGGGGGGGGGGGGGGG 48 1.2962962962962963\n",
      "GGGGGGGGGGGGGGGGGGGG 49 1.2962962962962963\n",
      "\n"
     ]
    }
   ],
=======
   "execution_count": null,
   "metadata": {},
   "outputs": [],
>>>>>>> feature/bonito
   "source": [
    "r = range(min(5, DIMENSIONS_PREDICTION_OUT), min(DIMENSIONS_PREDICTION_OUT+1, 50)) #Range can't contain values larger than PRED_OUT_DIM\n",
    "\n",
    "for index in [0, BS-1]:\n",
    "    actual = pop.convert_idx_to_base_sequence(y[index], ALPHABET_VAL)\n",
    "    prediction = y_pred[index]\n",
    "    for pred, beam, error in g.get_stats(prediction, actual, ALPHABET_STR, r):\n",
    "        print(pred, beam, error.error)\n",
    "    print('')"
   ]
  },
  {
   "cell_type": "code",
<<<<<<< HEAD
   "execution_count": 15,
=======
   "execution_count": null,
>>>>>>> feature/bonito
   "metadata": {},
   "outputs": [],
   "source": [
    "# Run assemble only if data is not fetched from featherfile\n",
    "# TODO: Assembled should not be on a batch, but instead on a complete signal\n",
    "if STRIDE != WINDOW_SIZE:\n",
    "    decoded = pop.decode(y_pred, ALPHABET_STR, beam_size=15)\n",
    "    assembled = pop.assemble(decoded, WINDOW_SIZE, STRIDE, ALPHABET)\n",
    "    print('Assembled:', assembled)"
   ]
  }
 ],
 "metadata": {
<<<<<<< HEAD
=======
  "jupytext": {
   "cell_metadata_filter": "-all",
   "notebook_metadata_filter": "-all"
  },
>>>>>>> feature/bonito
  "kernelspec": {
   "display_name": "jkbc",
   "language": "python",
   "name": "jkbc"
  },
  "language_info": {
   "codemirror_mode": {
    "name": "ipython",
    "version": 3
   },
   "file_extension": ".py",
   "mimetype": "text/x-python",
   "name": "python",
   "nbconvert_exporter": "python",
   "pygments_lexer": "ipython3",
   "version": "3.7.6"
  }
 },
 "nbformat": 4,
 "nbformat_minor": 2
}
