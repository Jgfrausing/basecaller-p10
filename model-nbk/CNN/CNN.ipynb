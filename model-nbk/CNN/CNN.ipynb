{
 "cells": [
  {
   "cell_type": "code",
   "execution_count": null,
   "metadata": {},
   "outputs": [],
   "source": [
    "%reload_ext autoreload\n",
    "%autoreload 2\n",
    "%matplotlib inline"
   ]
  },
  {
   "cell_type": "code",
   "execution_count": null,
   "metadata": {
    "scrolled": true
   },
   "outputs": [],
   "source": [
    "from fastai.basics import *\n",
    "\n",
    "import jkbc.utils.general as g\n",
    "import jkbc.utils.files as f\n",
    "import jkbc.utils.metrics as metric\n",
    "import jkbc.utils.postprocessing as pop\n",
    "import jkbc.utils.preprocessing as prep"
   ]
  },
  {
   "cell_type": "markdown",
   "metadata": {},
   "source": [
    "## Constants"
   ]
  },
  {
   "cell_type": "markdown",
   "metadata": {},
   "source": [
    "### Data"
   ]
  },
  {
   "cell_type": "code",
   "execution_count": null,
   "metadata": {},
   "outputs": [],
   "source": [
    "BLANK_ID       = pop.BLANK_ID\n",
    "ALPHABET       = pop.ALPHABET # {0: '-', 1: 'A', 2: 'B'}\n",
    "ALPHABET_VAL   = list(ALPHABET.values())\n",
    "ALPHABET_STR   = ''.join(ALPHABET_VAL)\n",
    "ALPHABET_SIZE  = len(ALPHABET_VAL)\n",
    "WINDOW_SIZE    = 300\n",
    "STRIDE         = 300\n",
    "DIMENSIONS_OUT = 70\n",
    "\n",
    "BASE_DIR = Path(\"../..\")\n",
    "PATH_DATA = 'data/feather-files'\n",
    "DATA_SET = f'Range0-5000-FixLabelLen{DIMENSIONS_OUT}'\n",
    "FEATHER_FOLDER = BASE_DIR/PATH_DATA/DATA_SET"
   ]
  },
  {
   "cell_type": "markdown",
   "metadata": {},
   "source": [
    "### Train/Predict"
   ]
  },
  {
   "cell_type": "code",
   "execution_count": null,
   "metadata": {},
   "outputs": [],
   "source": [
    "LR = 1e-3  # default learning rate\n",
    "BS = 1024  # batch size\n",
    "EPOCHS_BEFORE_SAVING = 10\n",
    "SAVE_MODEL_ITERATIONS = 500\n",
    "DEVICE = torch.device(\"cuda:0\") #torch.device(\"cpu\")\n",
    "MODEL_NAME = g.get_notebook_name()\n",
    "MODEL_DIR = BASE_DIR/'models'/MODEL_NAME\n",
    "SPECIFIC_MODEL = None #Set to specific name of model ('None' uses the newest)"
   ]
  },
  {
   "cell_type": "markdown",
   "metadata": {},
   "source": [
    "### Model"
   ]
  },
  {
   "cell_type": "code",
   "execution_count": null,
   "metadata": {},
   "outputs": [],
   "source": [
    "DIMENSIONS_PREDICTION_OUT = DIMENSIONS_OUT*2-1\n",
    "DROP_LAST    = True # SET TO TRUE IF IT FAILS ON LAST BATCH\n",
    "LOSS_FUNC = metric.ctc_loss(DIMENSIONS_PREDICTION_OUT, BS, ALPHABET_SIZE)\n",
    "METRICS = [metric.ErrorRate(metric.ctc_error(ALPHABET, 5))]"
   ]
  },
  {
   "cell_type": "markdown",
   "metadata": {},
   "source": [
    "## Load data"
   ]
  },
  {
   "cell_type": "code",
   "execution_count": null,
   "metadata": {},
   "outputs": [],
   "source": [
    "# Read data from feather\n",
    "data = f.read_data_from_feather_file(FEATHER_FOLDER)\n",
    "\n",
    "# Convert to databunch\n",
    "train_dl, valid_dl = prep.convert_to_dataloaders(data, split=.8, batch_size=BS, drop_last=DROP_LAST)\n",
    "del data\n",
    "databunch = DataBunch(train_dl, valid_dl, device=DEVICE)\n",
    "del train_dl\n",
    "del valid_dl"
   ]
  },
  {
   "cell_type": "markdown",
   "metadata": {},
   "source": [
    "## Model"
   ]
  },
  {
   "cell_type": "markdown",
   "metadata": {},
   "source": [
    "## Build\n",
    "*Put entire model definition and constants in the same field*"
   ]
  },
  {
   "cell_type": "code",
   "execution_count": null,
   "metadata": {},
   "outputs": [],
   "source": [
    "NF = 123\n",
    "def conv(ni, nf, ks):\n",
    "    padding = ks//2\n",
    "    return nn.Conv1d(ni, nf, kernel_size=ks, stride=1, padding=padding)\n",
    "\n",
    "def ConvLayer(ni, nf, ks):\n",
    "    return nn.Sequential(\n",
    "        conv(ni, nf, ks)\n",
    "        ,nn.BatchNorm1d(nf)\n",
    "        ,nn.ReLU()\n",
    "    )\n",
    "\n",
    "def ConvBlock(a, b, c, ni, nf):\n",
    "    return nn.Sequential(\n",
    "        ConvLayer(ni, nf, a)\n",
    "    )\n",
    "\n",
    "class ResidualBlock(nn.Module):\n",
    "    def __init__(self, a, b, c, ni, nf):\n",
    "        super().__init__()\n",
    "        self.module = ConvBlock(a, b, c, ni, nf)\n",
    "        self.residual = ConvBlock(a, b, c, ni, nf)\n",
    "    \n",
    "    def forward(self, x):\n",
    "        out_a = self.module(x)\n",
    "        out_b = self.residual(x)\n",
    "        \n",
    "        return nn.ReLU()(out_a + out_b)\n",
    "\n",
    "model = nn.Sequential(\n",
    "    ResidualBlock(2+1, 2^2+1, 2^3+1, 1, NF)\n",
    "    ,ResidualBlock(2^2+1, 2^5+1, 2^6+1, NF, NF)\n",
    "    ,ResidualBlock(2^3+1, 2^8+1, 2^8+1, NF, NF)\n",
    "    ,ResidualBlock(2^4+1, 2^8+1, 2^8+1, NF, NF)\n",
    "    ,ResidualBlock(2^5+1, 2^8+1, 2^8+1, NF, NF)\n",
    "    ,ResidualBlock(2^6+1, 2^8+1, 2^8+1, NF, DIMENSIONS_PREDICTION_OUT)\n",
    "    ,nn.Linear(WINDOW_SIZE+2, ALPHABET_SIZE)\n",
    "    ,nn.LogSoftmax(dim=2)\n",
    ").to(device=DEVICE)"
   ]
  },
  {
   "cell_type": "code",
   "execution_count": null,
   "metadata": {},
   "outputs": [],
   "source": [
    "learner = Learner(databunch, model, loss_func=LOSS_FUNC, model_dir=MODEL_DIR, metrics=METRICS)"
   ]
  },
  {
   "cell_type": "code",
   "execution_count": null,
   "metadata": {},
   "outputs": [],
   "source": [
    "try:\n",
    "    if SPECIFIC_MODEL:\n",
    "        model_name = SPECIFIC_MODEL\n",
    "    else:\n",
    "        model_name = g.get_newest_model(MODEL_DIR)\n",
    "        \n",
    "    learner = learner.load(model_name)\n",
    "    print('Model weights loaded', model_name)\n",
    "except:\n",
    "    print('No model weights available')"
   ]
  },
  {
   "cell_type": "markdown",
   "metadata": {},
   "source": [
    "## Train"
   ]
  },
  {
   "cell_type": "code",
   "execution_count": null,
   "metadata": {},
   "outputs": [],
   "source": [
    "learner.lr_find()\n",
    "learner.recorder.plot(suggestion=True)"
   ]
  },
  {
   "cell_type": "code",
   "execution_count": null,
   "metadata": {},
   "outputs": [],
   "source": [
    "# Default to LR if lr_find() has not been run\n",
    "try:\n",
    "    lr = learner.recorder.min_grad_lr\n",
    "except:\n",
    "    lr = LR\n",
    "lr"
   ]
  },
  {
   "cell_type": "code",
   "execution_count": null,
   "metadata": {},
   "outputs": [],
   "source": [
    "for iter in range(SAVE_MODEL_ITERATIONS):\n",
    "    print(iter)\n",
    "    learner.fit_one_cycle(EPOCHS_BEFORE_SAVING, max_lr=lr)\n",
    "    valid, ctc  = learner.validate()\n",
    "    learner.save(MODEL_NAME+f'-Valid[{valid}]-CTC[{ctc}]')"
   ]
  },
  {
   "cell_type": "markdown",
   "metadata": {},
   "source": [
    "## Predict"
   ]
  },
  {
   "cell_type": "code",
   "execution_count": null,
   "metadata": {},
   "outputs": [],
   "source": [
    "x, y, _ = databunch.valid_dl.tensors\n",
    "x_device = x.to(device=DEVICE)\n",
    "y_pred = model(x_device).detach().cpu().numpy()"
   ]
  },
  {
   "cell_type": "code",
   "execution_count": null,
   "metadata": {},
   "outputs": [],
   "source": [
    "r = range(min(5, DIMENSIONS_PREDICTION_OUT), min(DIMENSIONS_PREDICTION_OUT+1, 50)) #Range can't contain values larger than PRED_OUT_DIM\n",
    "\n",
    "for index in [0, BS-1]:\n",
    "    actual = pop.convert_idx_to_base_sequence(y[index], ALPHABET_VAL)\n",
    "    prediction = y_pred[index]\n",
    "    for pred, beam, error in g.get_stats(prediction, actual, ALPHABET_STR, r):\n",
    "        print(pred, beam, error.error)\n",
    "    print('')"
   ]
  },
  {
   "cell_type": "code",
   "execution_count": null,
   "metadata": {},
   "outputs": [],
   "source": [
    "# Run assemble only if data is not fetched from featherfile\n",
    "# TODO: Assembled should not be on a batch, but instead on a complete signal\n",
    "if STRIDE != WINDOW_SIZE:\n",
    "    decoded = pop.decode(y_pred, ALPHABET_STR, beam_size=15)\n",
    "    assembled = pop.assemble(decoded, WINDOW_SIZE, STRIDE, ALPHABET)\n",
    "    print('Assembled:', assembled)"
   ]
  }
 ],
 "metadata": {
  "jupytext": {
   "cell_metadata_filter": "-all",
   "notebook_metadata_filter": "-all"
  },
  "kernelspec": {
   "display_name": "jkbc",
   "language": "python",
   "name": "jkbc"
  },
  "language_info": {
   "codemirror_mode": {
    "name": "ipython",
    "version": 3
   },
   "file_extension": ".py",
   "mimetype": "text/x-python",
   "name": "python",
   "nbconvert_exporter": "python",
   "pygments_lexer": "ipython3",
   "version": "3.7.6"
  }
 },
 "nbformat": 4,
 "nbformat_minor": 2
}
