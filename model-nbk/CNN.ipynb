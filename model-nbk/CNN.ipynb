{
 "cells": [
  {
   "cell_type": "markdown",
   "metadata": {},
   "source": [
    "# Creating a Databunch for Basecalling"
   ]
  },
  {
   "cell_type": "code",
   "execution_count": 63,
   "metadata": {},
   "outputs": [],
   "source": [
    "%reload_ext autoreload\n",
    "%autoreload 2\n",
    "%matplotlib inline"
   ]
  },
  {
   "cell_type": "code",
   "execution_count": 64,
   "metadata": {
    "scrolled": true
   },
   "outputs": [],
   "source": [
    "import functools\n",
    "\n",
    "from fastai.basics import *\n",
    "\n",
    "import jkbc.utils.preprocessing as prep\n",
    "import jkbc.utils.postprocessing as pop\n",
    "import jkbc.utils.files as f\n",
    "import jkbc.types as t\n",
    "import jkbc.utils.loss as loss\n"
   ]
  },
  {
   "cell_type": "markdown",
   "metadata": {},
   "source": [
    "## Constants"
   ]
  },
  {
   "cell_type": "code",
   "execution_count": 65,
   "metadata": {},
   "outputs": [],
   "source": [
    "BLANK_ID = prep.BLANK_ID\n",
    "C = 5\n",
    "D_in = 300\n",
    "D_out_max = 70\n",
    "n_hidden = 200\n",
    "BS = 256  # batch size\n",
    "LR = 0.05\n",
    "NF = 256 # features in residualblock\n",
    "\n",
    "#DEVICE = torch.device(\"cpu\")\n",
    "DEVICE = torch.device(\"cuda:0\")"
   ]
  },
  {
   "cell_type": "markdown",
   "metadata": {},
   "source": [
    "## Load Data"
   ]
  },
  {
   "cell_type": "code",
   "execution_count": 66,
   "metadata": {},
   "outputs": [],
   "source": [
    "base_dir = \"data/feather-files/\"\n",
    "path_data = Path(base_dir)\n",
    "data_set_name = f'Range0-100-FixLabelLen{D_out_max}'\n",
    "feather_folder = path_data/data_set_name"
   ]
  },
  {
   "cell_type": "code",
   "execution_count": 67,
   "metadata": {},
   "outputs": [],
   "source": [
    "# Read data from feather\n",
    "data = f.read_data_from_feather_file(feather_folder)\n",
    "\n",
    "# Convert to databunch\n",
    "train_dl, valid_dl = prep.convert_to_dataloaders(data, split=.8, batch_size=BS, drop_last=True)\n",
    "databunch = DataBunch(train_dl, valid_dl, device=DEVICE)"
   ]
  },
  {
   "cell_type": "markdown",
   "metadata": {},
   "source": [
    "## Model"
   ]
  },
  {
   "cell_type": "code",
   "execution_count": 68,
   "metadata": {},
   "outputs": [],
   "source": [
    "loss_func = loss.ctc_loss(NF, BS, C)"
   ]
  },
  {
   "cell_type": "code",
   "execution_count": 174,
   "metadata": {},
   "outputs": [],
   "source": [
    "NF = 123\n",
    "def conv(ni, nf, ks):\n",
    "    padding = ks//2\n",
    "    return nn.Conv1d(ni, nf, kernel_size=ks, stride=1, padding=padding)\n",
    "\n",
    "def ConvLayer(ni, nf, ks):\n",
    "    return nn.Sequential(\n",
    "        conv(ni, nf, ks)\n",
    "        ,nn.BatchNorm1d(nf)\n",
    "        ,nn.ReLU()\n",
    "    )\n",
    "\n",
    "def ConvBlock(a, b, c, ni, nf):\n",
    "    return nn.Sequential(\n",
    "        ConvLayer(ni, nf, a)\n",
    "    )\n",
    "\n",
    "class ResidualBlock(nn.Module):\n",
    "    def __init__(self, a, b, c, ni, nf):\n",
    "        super().__init__()\n",
    "        self.module = ConvBlock(a, b, c, ni, nf)\n",
    "        self.residual = ConvBlock(a, b, c, ni, nf)\n",
    "    \n",
    "    def forward(self, x):\n",
    "        out_a = self.module(x)\n",
    "        out_b = self.residual(x)\n",
    "        \n",
    "        return nn.ReLU()(out_a + out_b)\n",
    "\n",
    "model = nn.Sequential(\n",
    "    ResidualBlock(2+1, 2^2+1, 2^3+1, 1, NF)\n",
    "    ,ResidualBlock(2^2+1, 2^5+1, 2^6+1, NF, NF)\n",
    "    ,ResidualBlock(2^3+1, 2^8+1, 2^8+1, NF, NF)\n",
    "    ,ResidualBlock(2^4+1, 2^8+1, 2^8+1, NF, NF)\n",
    "    ,ResidualBlock(2^5+1, 2^8+1, 2^8+1, NF, NF)\n",
    "    ,ResidualBlock(2^6+1, 2^8+1, 2^8+1, NF, NF)\n",
    "    ,nn.Linear(D_in+2, 5)\n",
    "    ,nn.LogSoftmax(dim=2)\n",
    ").to(device=DEVICE)"
   ]
  },
  {
   "cell_type": "code",
   "execution_count": 228,
   "metadata": {},
   "outputs": [],
   "source": []
  },
  {
   "cell_type": "code",
   "execution_count": 229,
   "metadata": {},
   "outputs": [],
   "source": [
    "learner = Learner(databunch, model, loss_func=loss_func)"
   ]
  },
  {
   "cell_type": "code",
   "execution_count": 147,
   "metadata": {},
   "outputs": [
    {
     "ename": "RuntimeError",
     "evalue": "Error(s) in loading state_dict for Sequential:\n\tMissing key(s) in state_dict: \"0.module.0.0.weight\", \"0.module.0.0.bias\", \"0.module.0.1.weight\", \"0.module.0.1.bias\", \"0.module.0.1.running_mean\", \"0.module.0.1.running_var\", \"0.module.1.0.weight\", \"0.module.1.0.bias\", \"0.module.1.1.weight\", \"0.module.1.1.bias\", \"0.module.1.1.running_mean\", \"0.module.1.1.running_var\", \"0.residual.weight\", \"0.residual.bias\", \"1.weight\", \"1.bias\". \n\tUnexpected key(s) in state_dict: \"3.weight\", \"3.bias\", \"0.0.0.weight\", \"0.0.0.bias\", \"0.0.1.weight\", \"0.0.1.bias\", \"0.0.1.running_mean\", \"0.0.1.running_var\", \"0.0.1.num_batches_tracked\", \"0.1.0.weight\", \"0.1.0.bias\", \"0.1.1.weight\", \"0.1.1.bias\", \"0.1.1.running_mean\", \"0.1.1.running_var\", \"0.1.1.num_batches_tracked\", \"0.2.0.weight\", \"0.2.0.bias\", \"0.2.1.weight\", \"0.2.1.bias\", \"0.2.1.running_mean\", \"0.2.1.running_var\", \"0.2.1.num_batches_tracked\", \"1.0.0.weight\", \"1.0.0.bias\", \"1.0.1.weight\", \"1.0.1.bias\", \"1.0.1.running_mean\", \"1.0.1.running_var\", \"1.0.1.num_batches_tracked\", \"1.1.0.weight\", \"1.1.0.bias\", \"1.1.1.weight\", \"1.1.1.bias\", \"1.1.1.running_mean\", \"1.1.1.running_var\", \"1.1.1.num_batches_tracked\", \"1.2.0.weight\", \"1.2.0.bias\", \"1.2.1.weight\", \"1.2.1.bias\", \"1.2.1.running_mean\", \"1.2.1.running_var\", \"1.2.1.num_batches_tracked\", \"2.0.0.weight\", \"2.0.0.bias\", \"2.0.1.weight\", \"2.0.1.bias\", \"2.0.1.running_mean\", \"2.0.1.running_var\", \"2.0.1.num_batches_tracked\", \"2.1.0.weight\", \"2.1.0.bias\", \"2.1.1.weight\", \"2.1.1.bias\", \"2.1.1.running_mean\", \"2.1.1.running_var\", \"2.1.1.num_batches_tracked\", \"2.2.0.weight\", \"2.2.0.bias\", \"2.2.1.weight\", \"2.2.1.bias\", \"2.2.1.running_mean\", \"2.2.1.running_var\", \"2.2.1.num_batches_tracked\". ",
     "output_type": "error",
     "traceback": [
      "\u001b[0;31m---------------------------------------------------------------------------\u001b[0m",
      "\u001b[0;31mRuntimeError\u001b[0m                              Traceback (most recent call last)",
      "\u001b[0;32m<ipython-input-147-b6948c575998>\u001b[0m in \u001b[0;36m<module>\u001b[0;34m\u001b[0m\n\u001b[0;32m----> 1\u001b[0;31m \u001b[0mlearner\u001b[0m \u001b[0;34m=\u001b[0m \u001b[0mlearner\u001b[0m\u001b[0;34m.\u001b[0m\u001b[0mload\u001b[0m\u001b[0;34m(\u001b[0m\u001b[0;34m'CNN'\u001b[0m\u001b[0;34m)\u001b[0m\u001b[0;34m\u001b[0m\u001b[0;34m\u001b[0m\u001b[0m\n\u001b[0m",
      "\u001b[0;32m~/.conda/envs/jkbc/lib/python3.7/site-packages/fastai/basic_train.py\u001b[0m in \u001b[0;36mload\u001b[0;34m(self, file, device, strict, with_opt, purge, remove_module)\u001b[0m\n\u001b[1;32m    271\u001b[0m             \u001b[0mmodel_state\u001b[0m \u001b[0;34m=\u001b[0m \u001b[0mstate\u001b[0m\u001b[0;34m[\u001b[0m\u001b[0;34m'model'\u001b[0m\u001b[0;34m]\u001b[0m\u001b[0;34m\u001b[0m\u001b[0;34m\u001b[0m\u001b[0m\n\u001b[1;32m    272\u001b[0m             \u001b[0;32mif\u001b[0m \u001b[0mremove_module\u001b[0m\u001b[0;34m:\u001b[0m \u001b[0mmodel_state\u001b[0m \u001b[0;34m=\u001b[0m \u001b[0mremove_module_load\u001b[0m\u001b[0;34m(\u001b[0m\u001b[0mmodel_state\u001b[0m\u001b[0;34m)\u001b[0m\u001b[0;34m\u001b[0m\u001b[0;34m\u001b[0m\u001b[0m\n\u001b[0;32m--> 273\u001b[0;31m             \u001b[0mget_model\u001b[0m\u001b[0;34m(\u001b[0m\u001b[0mself\u001b[0m\u001b[0;34m.\u001b[0m\u001b[0mmodel\u001b[0m\u001b[0;34m)\u001b[0m\u001b[0;34m.\u001b[0m\u001b[0mload_state_dict\u001b[0m\u001b[0;34m(\u001b[0m\u001b[0mmodel_state\u001b[0m\u001b[0;34m,\u001b[0m \u001b[0mstrict\u001b[0m\u001b[0;34m=\u001b[0m\u001b[0mstrict\u001b[0m\u001b[0;34m)\u001b[0m\u001b[0;34m\u001b[0m\u001b[0;34m\u001b[0m\u001b[0m\n\u001b[0m\u001b[1;32m    274\u001b[0m             \u001b[0;32mif\u001b[0m \u001b[0mifnone\u001b[0m\u001b[0;34m(\u001b[0m\u001b[0mwith_opt\u001b[0m\u001b[0;34m,\u001b[0m\u001b[0;32mTrue\u001b[0m\u001b[0;34m)\u001b[0m\u001b[0;34m:\u001b[0m\u001b[0;34m\u001b[0m\u001b[0;34m\u001b[0m\u001b[0m\n\u001b[1;32m    275\u001b[0m                 \u001b[0;32mif\u001b[0m \u001b[0;32mnot\u001b[0m \u001b[0mhasattr\u001b[0m\u001b[0;34m(\u001b[0m\u001b[0mself\u001b[0m\u001b[0;34m,\u001b[0m \u001b[0;34m'opt'\u001b[0m\u001b[0;34m)\u001b[0m\u001b[0;34m:\u001b[0m \u001b[0mself\u001b[0m\u001b[0;34m.\u001b[0m\u001b[0mcreate_opt\u001b[0m\u001b[0;34m(\u001b[0m\u001b[0mdefaults\u001b[0m\u001b[0;34m.\u001b[0m\u001b[0mlr\u001b[0m\u001b[0;34m,\u001b[0m \u001b[0mself\u001b[0m\u001b[0;34m.\u001b[0m\u001b[0mwd\u001b[0m\u001b[0;34m)\u001b[0m\u001b[0;34m\u001b[0m\u001b[0;34m\u001b[0m\u001b[0m\n",
      "\u001b[0;32m~/.conda/envs/jkbc/lib/python3.7/site-packages/torch/nn/modules/module.py\u001b[0m in \u001b[0;36mload_state_dict\u001b[0;34m(self, state_dict, strict)\u001b[0m\n\u001b[1;32m    828\u001b[0m         \u001b[0;32mif\u001b[0m \u001b[0mlen\u001b[0m\u001b[0;34m(\u001b[0m\u001b[0merror_msgs\u001b[0m\u001b[0;34m)\u001b[0m \u001b[0;34m>\u001b[0m \u001b[0;36m0\u001b[0m\u001b[0;34m:\u001b[0m\u001b[0;34m\u001b[0m\u001b[0;34m\u001b[0m\u001b[0m\n\u001b[1;32m    829\u001b[0m             raise RuntimeError('Error(s) in loading state_dict for {}:\\n\\t{}'.format(\n\u001b[0;32m--> 830\u001b[0;31m                                self.__class__.__name__, \"\\n\\t\".join(error_msgs)))\n\u001b[0m\u001b[1;32m    831\u001b[0m         \u001b[0;32mreturn\u001b[0m \u001b[0m_IncompatibleKeys\u001b[0m\u001b[0;34m(\u001b[0m\u001b[0mmissing_keys\u001b[0m\u001b[0;34m,\u001b[0m \u001b[0munexpected_keys\u001b[0m\u001b[0;34m)\u001b[0m\u001b[0;34m\u001b[0m\u001b[0;34m\u001b[0m\u001b[0m\n\u001b[1;32m    832\u001b[0m \u001b[0;34m\u001b[0m\u001b[0m\n",
      "\u001b[0;31mRuntimeError\u001b[0m: Error(s) in loading state_dict for Sequential:\n\tMissing key(s) in state_dict: \"0.module.0.0.weight\", \"0.module.0.0.bias\", \"0.module.0.1.weight\", \"0.module.0.1.bias\", \"0.module.0.1.running_mean\", \"0.module.0.1.running_var\", \"0.module.1.0.weight\", \"0.module.1.0.bias\", \"0.module.1.1.weight\", \"0.module.1.1.bias\", \"0.module.1.1.running_mean\", \"0.module.1.1.running_var\", \"0.residual.weight\", \"0.residual.bias\", \"1.weight\", \"1.bias\". \n\tUnexpected key(s) in state_dict: \"3.weight\", \"3.bias\", \"0.0.0.weight\", \"0.0.0.bias\", \"0.0.1.weight\", \"0.0.1.bias\", \"0.0.1.running_mean\", \"0.0.1.running_var\", \"0.0.1.num_batches_tracked\", \"0.1.0.weight\", \"0.1.0.bias\", \"0.1.1.weight\", \"0.1.1.bias\", \"0.1.1.running_mean\", \"0.1.1.running_var\", \"0.1.1.num_batches_tracked\", \"0.2.0.weight\", \"0.2.0.bias\", \"0.2.1.weight\", \"0.2.1.bias\", \"0.2.1.running_mean\", \"0.2.1.running_var\", \"0.2.1.num_batches_tracked\", \"1.0.0.weight\", \"1.0.0.bias\", \"1.0.1.weight\", \"1.0.1.bias\", \"1.0.1.running_mean\", \"1.0.1.running_var\", \"1.0.1.num_batches_tracked\", \"1.1.0.weight\", \"1.1.0.bias\", \"1.1.1.weight\", \"1.1.1.bias\", \"1.1.1.running_mean\", \"1.1.1.running_var\", \"1.1.1.num_batches_tracked\", \"1.2.0.weight\", \"1.2.0.bias\", \"1.2.1.weight\", \"1.2.1.bias\", \"1.2.1.running_mean\", \"1.2.1.running_var\", \"1.2.1.num_batches_tracked\", \"2.0.0.weight\", \"2.0.0.bias\", \"2.0.1.weight\", \"2.0.1.bias\", \"2.0.1.running_mean\", \"2.0.1.running_var\", \"2.0.1.num_batches_tracked\", \"2.1.0.weight\", \"2.1.0.bias\", \"2.1.1.weight\", \"2.1.1.bias\", \"2.1.1.running_mean\", \"2.1.1.running_var\", \"2.1.1.num_batches_tracked\", \"2.2.0.weight\", \"2.2.0.bias\", \"2.2.1.weight\", \"2.2.1.bias\", \"2.2.1.running_mean\", \"2.2.1.running_var\", \"2.2.1.num_batches_tracked\". "
     ]
    }
   ],
   "source": [
    "learner = learner.load('CNN')"
   ]
  },
  {
   "cell_type": "code",
   "execution_count": 230,
   "metadata": {},
   "outputs": [
    {
     "data": {
      "text/html": [
       "\n",
       "    <div>\n",
       "        <style>\n",
       "            /* Turns off some styling */\n",
       "            progress {\n",
       "                /* gets rid of default border in Firefox and Opera. */\n",
       "                border: none;\n",
       "                /* Needs to be in here for Safari polyfill so background images work as expected. */\n",
       "                background-size: auto;\n",
       "            }\n",
       "            .progress-bar-interrupted, .progress-bar-interrupted::-webkit-progress-bar {\n",
       "                background: #F44336;\n",
       "            }\n",
       "        </style>\n",
       "      <progress value='1' class='' max='2', style='width:300px; height:20px; vertical-align: middle;'></progress>\n",
       "      50.00% [1/2 00:06<00:06]\n",
       "    </div>\n",
       "    \n",
       "<table border=\"1\" class=\"dataframe\">\n",
       "  <thead>\n",
       "    <tr style=\"text-align: left;\">\n",
       "      <th>epoch</th>\n",
       "      <th>train_loss</th>\n",
       "      <th>valid_loss</th>\n",
       "      <th>time</th>\n",
       "    </tr>\n",
       "  </thead>\n",
       "  <tbody>\n",
       "    <tr>\n",
       "      <td>0</td>\n",
       "      <td>6.313816</td>\n",
       "      <td>#na#</td>\n",
       "      <td>00:06</td>\n",
       "    </tr>\n",
       "  </tbody>\n",
       "</table><p>\n",
       "\n",
       "    <div>\n",
       "        <style>\n",
       "            /* Turns off some styling */\n",
       "            progress {\n",
       "                /* gets rid of default border in Firefox and Opera. */\n",
       "                border: none;\n",
       "                /* Needs to be in here for Safari polyfill so background images work as expected. */\n",
       "                background-size: auto;\n",
       "            }\n",
       "            .progress-bar-interrupted, .progress-bar-interrupted::-webkit-progress-bar {\n",
       "                background: #F44336;\n",
       "            }\n",
       "        </style>\n",
       "      <progress value='49' class='' max='50', style='width:300px; height:20px; vertical-align: middle;'></progress>\n",
       "      98.00% [49/50 00:06<00:00 5.9317]\n",
       "    </div>\n",
       "    "
      ],
      "text/plain": [
       "<IPython.core.display.HTML object>"
      ]
     },
     "metadata": {},
     "output_type": "display_data"
    },
    {
     "name": "stdout",
     "output_type": "stream",
     "text": [
      "LR Finder is complete, type {learner_name}.recorder.plot() to see the graph.\n",
      "Min numerical gradient: 3.31E-04\n",
      "Min loss divided by 10: 5.25E-02\n"
     ]
    },
    {
     "data": {
      "image/png": "[encoded data removed]",
      "text/plain": [
       "<Figure size 432x288 with 1 Axes>"
      ]
     },
     "metadata": {
      "needs_background": "light"
     },
     "output_type": "display_data"
    }
   ],
   "source": [
    "learner.lr_find()\n",
    "learner.recorder.plot(suggestion=True)"
   ]
  },
  {
   "cell_type": "code",
   "execution_count": 232,
   "metadata": {},
   "outputs": [
    {
     "data": {
      "text/html": [
       "<table border=\"1\" class=\"dataframe\">\n",
       "  <thead>\n",
       "    <tr style=\"text-align: left;\">\n",
       "      <th>epoch</th>\n",
       "      <th>train_loss</th>\n",
       "      <th>valid_loss</th>\n",
       "      <th>time</th>\n",
       "    </tr>\n",
       "  </thead>\n",
       "  <tbody>\n",
       "    <tr>\n",
       "      <td>0</td>\n",
       "      <td>3.742536</td>\n",
       "      <td>4.556297</td>\n",
       "      <td>00:07</td>\n",
       "    </tr>\n",
       "    <tr>\n",
       "      <td>1</td>\n",
       "      <td>3.768437</td>\n",
       "      <td>4.752322</td>\n",
       "      <td>00:07</td>\n",
       "    </tr>\n",
       "    <tr>\n",
       "      <td>2</td>\n",
       "      <td>3.800988</td>\n",
       "      <td>4.730158</td>\n",
       "      <td>00:07</td>\n",
       "    </tr>\n",
       "    <tr>\n",
       "      <td>3</td>\n",
       "      <td>3.798256</td>\n",
       "      <td>4.693400</td>\n",
       "      <td>00:07</td>\n",
       "    </tr>\n",
       "    <tr>\n",
       "      <td>4</td>\n",
       "      <td>3.771749</td>\n",
       "      <td>4.692694</td>\n",
       "      <td>00:07</td>\n",
       "    </tr>\n",
       "    <tr>\n",
       "      <td>5</td>\n",
       "      <td>3.733126</td>\n",
       "      <td>4.608558</td>\n",
       "      <td>00:07</td>\n",
       "    </tr>\n",
       "    <tr>\n",
       "      <td>6</td>\n",
       "      <td>3.682818</td>\n",
       "      <td>4.785477</td>\n",
       "      <td>00:07</td>\n",
       "    </tr>\n",
       "    <tr>\n",
       "      <td>7</td>\n",
       "      <td>3.623072</td>\n",
       "      <td>4.755531</td>\n",
       "      <td>00:07</td>\n",
       "    </tr>\n",
       "    <tr>\n",
       "      <td>8</td>\n",
       "      <td>3.547312</td>\n",
       "      <td>4.725859</td>\n",
       "      <td>00:07</td>\n",
       "    </tr>\n",
       "    <tr>\n",
       "      <td>9</td>\n",
       "      <td>3.483608</td>\n",
       "      <td>4.731873</td>\n",
       "      <td>00:07</td>\n",
       "    </tr>\n",
       "  </tbody>\n",
       "</table>"
      ],
      "text/plain": [
       "<IPython.core.display.HTML object>"
      ]
     },
     "metadata": {},
     "output_type": "display_data"
    }
   ],
   "source": [
    "learner.fit_one_cycle(10, max_lr=3e-4)"
   ]
  },
  {
   "cell_type": "code",
   "execution_count": 116,
   "metadata": {},
   "outputs": [],
   "source": [
    "learner.save('CNN')"
   ]
  },
  {
   "cell_type": "code",
   "execution_count": 191,
   "metadata": {},
   "outputs": [
    {
     "data": {
      "text/plain": [
       "(256, 5)"
      ]
     },
     "execution_count": 191,
     "metadata": {},
     "output_type": "execute_result"
    }
   ],
   "source": [
    "x, (y, _) = databunch.one_batch()\n",
    "y_pred = model(x.to(device=DEVICE)).detach().cpu().numpy()\n",
    "len(y_pred[0]), len(y_pred[0][0])"
   ]
  },
  {
   "cell_type": "code",
   "execution_count": 192,
   "metadata": {},
   "outputs": [
    {
     "name": "stdout",
     "output_type": "stream",
     "text": [
      "CGACATCGAGGTGCCAAACCTCC\n",
      "AAAAAAAA 5 0.8695652173913043\n",
      "AAAAAAAAA 6 0.8695652173913043\n",
      "AAAAAAAAAA 7 0.8695652173913043\n",
      "AAAAAAAAAA 8 0.8695652173913043\n",
      "AAAAAAAAAA 9 0.8695652173913043\n",
      "AAAAAAAAAA 10 0.8695652173913043\n",
      "AAAAAAAAAA 11 0.8695652173913043\n",
      "AAAAAAAAAA 12 0.8695652173913043\n",
      "AAAAAAAAAA 13 0.8695652173913043\n",
      "AAAAAAAAAAA 14 0.8695652173913043\n",
      "AAAAAAAAAAA 15 0.8695652173913043\n",
      "AAAAAAAAAA 16 0.8695652173913043\n",
      "AAAAAAAAAAA 17 0.8695652173913043\n",
      "AAAAAAAAAAA 18 0.8695652173913043\n",
      "AAAAAAAAAAA 19 0.8695652173913043\n",
      "AAAAAAAAAAA 20 0.8695652173913043\n",
      "AAAAAAAAAAA 21 0.8695652173913043\n",
      "AAAAAAAAAAA 22 0.8695652173913043\n",
      "AAAAAAAAAAA 23 0.8695652173913043\n",
      "AAAAAAAAAAA 24 0.8695652173913043\n",
      "AAAAAAAAAAA 25 0.8695652173913043\n",
      "AAAAAAAAAAA 26 0.8695652173913043\n",
      "AAAAAAAAAAA 27 0.8695652173913043\n",
      "AAAAAAAAAAA 28 0.8695652173913043\n",
      "AAAAAAAAAAA 29 0.8695652173913043\n",
      "AAAAAAAAAAA 30 0.8695652173913043\n",
      "AAAAAAAAAAA 31 0.8695652173913043\n",
      "AAAAAAAAAAA 32 0.8695652173913043\n",
      "ATAAAAAAAAAA 33 0.7826086956521738\n",
      "AAAAAAAAAAA 34 0.8695652173913043\n"
     ]
    }
   ],
   "source": [
    "index = 0\n",
    "actual = pop.convert_idx_to_base_sequence(y[index])\n",
    "print(actual)\n",
    "for beam in range(5, 35):\n",
    "    decoded = pop.decode(y_pred, threshold=.01, beam_size=beam)   \n",
    "    predicted = decoded[index]\n",
    "    error = pop.calc_sequence_error_metrics(actual, predicted)\n",
    "    print(predicted, beam, error.error)\n",
    "    del predicted"
   ]
  },
  {
   "cell_type": "code",
   "execution_count": null,
   "metadata": {},
   "outputs": [],
   "source": []
  }
 ],
 "metadata": {
  "kernelspec": {
   "display_name": "jkbc",
   "language": "python",
   "name": "jkbc"
  },
  "language_info": {
   "codemirror_mode": {
    "name": "ipython",
    "version": 3
   },
   "file_extension": ".py",
   "mimetype": "text/x-python",
   "name": "python",
   "nbconvert_exporter": "python",
   "pygments_lexer": "ipython3",
   "version": "3.7.6"
  }
 },
 "nbformat": 4,
 "nbformat_minor": 2
}
