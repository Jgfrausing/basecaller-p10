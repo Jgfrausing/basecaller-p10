{
 "cells": [
  {
   "cell_type": "code",
   "execution_count": 260,
   "metadata": {},
   "outputs": [],
   "source": [
    "%reload_ext autoreload\n",
    "%autoreload 2\n",
    "%matplotlib inline"
   ]
  },
  {
   "cell_type": "code",
   "execution_count": 261,
   "metadata": {
    "scrolled": true
   },
   "outputs": [],
   "source": [
    "from fastai.basics import *\n",
    "\n",
    "import jkbc.utils.general as g\n",
    "import jkbc.utils.files as f\n",
    "import jkbc.utils.metrics as metric\n",
    "import jkbc.utils.postprocessing as pop\n",
    "import jkbc.utils.preprocessing as prep"
   ]
  },
  {
   "cell_type": "markdown",
   "metadata": {},
   "source": [
    "## Constants"
   ]
  },
  {
   "cell_type": "markdown",
   "metadata": {},
   "source": [
    "### Data"
   ]
  },
  {
   "cell_type": "code",
   "execution_count": 186,
   "metadata": {},
   "outputs": [],
   "source": [
    "BLANK_ID       = pop.BLANK_ID\n",
    "ALPHABET       = pop.ALPHABET # {0: '-', 1: 'A', 2: 'B'}\n",
    "ALPHABET_VAL   = list(ALPHABET.values())\n",
    "ALPHABET_STR   = ''.join(ALPHABET_VAL)\n",
    "ALPHABET_SIZE  = len(ALPHABET_VAL)\n",
    "WINDOW_SIZE    = 300\n",
    "STRIDE         = 300\n",
    "DIMENSIONS_OUT = 70\n",
    "\n",
    "BASE_DIR = Path(\"../..\")\n",
    "PATH_DATA = 'data/feather-files'\n",
    "DATA_SET = f'Range0-50-FixLabelLen{DIMENSIONS_OUT}'\n",
    "FEATHER_FOLDER = BASE_DIR/PATH_DATA/DATA_SET"
   ]
  },
  {
   "cell_type": "markdown",
   "metadata": {},
   "source": [
    "### Train/Predict"
   ]
  },
  {
   "cell_type": "code",
   "execution_count": 187,
   "metadata": {},
   "outputs": [],
   "source": [
    "LR = 1e-3  # default learning rate\n",
    "BS = 1024  # batch size\n",
    "EPOCHS_BEFORE_SAVING = 3\n",
    "SAVE_MODEL_ITERATIONS = 3\n",
    "DEVICE = torch.device(\"cuda:0\") #torch.device(\"cpu\")\n",
    "MODEL_NAME = g.get_notebook_name()\n",
    "MODEL_DIR = BASE_DIR/'models'/MODEL_NAME\n",
    "SPECIFIC_MODEL = None #Set to specific name of model ('None' uses the newest)"
   ]
  },
  {
   "cell_type": "markdown",
   "metadata": {},
   "source": [
    "### Model"
   ]
  },
  {
   "cell_type": "code",
   "execution_count": 188,
   "metadata": {},
   "outputs": [],
   "source": [
    "DIMENSIONS_PREDICTION_OUT = 100\n",
    "DROP_LAST    = True # SET TO TRUE IF IT FAILS ON LAST BATCH\n",
    "LOSS_FUNC = metric.ctc_loss(DIMENSIONS_PREDICTION_OUT, BS, ALPHABET_SIZE)\n",
    "METRICS = [metric.ErrorRate(metric.ctc_error(ALPHABET, 5))]"
   ]
  },
  {
   "cell_type": "markdown",
   "metadata": {},
   "source": [
    "## Load data"
   ]
  },
  {
   "cell_type": "code",
   "execution_count": 189,
   "metadata": {},
   "outputs": [],
   "source": [
    "# Read data from feather\n",
    "data = f.read_data_from_feather_file(FEATHER_FOLDER)\n",
    "\n",
    "# Convert to databunch\n",
    "train_dl, valid_dl = prep.convert_to_dataloaders(data, split=.8, batch_size=BS, drop_last=DROP_LAST)\n",
    "del data\n",
    "databunch = DataBunch(train_dl, valid_dl, device=DEVICE)\n",
    "del train_dl\n",
    "del valid_dl"
   ]
  },
  {
   "cell_type": "markdown",
   "metadata": {},
   "source": [
    "## Model"
   ]
  },
  {
   "cell_type": "markdown",
   "metadata": {},
   "source": [
    "## Build\n",
    "*Put entire model definition and constants in the same field*"
   ]
  },
  {
   "cell_type": "code",
   "execution_count": 190,
   "metadata": {},
   "outputs": [],
   "source": [
    "activations = {\n",
    "    \"relu\": nn.ReLU,\n",
    "    \"leaky_relu\": nn.LeakyReLU,\n",
    "}\n",
    "\n",
    "\n",
    "class Model(nn.Module):\n",
    "    \"\"\"\n",
    "    Model template for QuartzNet style architectures\n",
    "\n",
    "    https://arxiv.org/pdf/1910.10261.pdf\n",
    "    \"\"\"\n",
    "    def __init__(self, config):\n",
    "        super(Model, self).__init__()\n",
    "        self.stride = config['block'][0]['stride'][0]\n",
    "        self.alphabet = config['labels']['labels']\n",
    "        self.features = config['block'][-1]['filters']\n",
    "        self.encoder = Encoder(config)\n",
    "        self.decoder = Decoder(self.features, len(self.alphabet))\n",
    "\n",
    "    def forward(self, x):\n",
    "        encoded = self.encoder(x)\n",
    "        return self.decoder(encoded)\n",
    "\n",
    "\n",
    "class Encoder(nn.Module):\n",
    "    \"\"\"\n",
    "    Builds the model encoder\n",
    "    \"\"\"\n",
    "    def __init__(self, config):\n",
    "        super(Encoder, self).__init__()\n",
    "        self.config = config\n",
    "\n",
    "        features = self.config['input']['features']\n",
    "        activation = activations[self.config['encoder']['activation']]()\n",
    "        encoder_layers = []\n",
    "\n",
    "        for layer in self.config['block']:\n",
    "            encoder_layers.append(\n",
    "                Block(\n",
    "                    features, layer['filters'], activation,\n",
    "                    repeat=layer['repeat'], kernel_size=layer['kernel'],\n",
    "                    stride=layer['stride'], dilation=layer['dilation'],\n",
    "                    dropout=layer['dropout'], residual=layer['residual'],\n",
    "                    separable=layer['separable'],\n",
    "                )\n",
    "            )\n",
    "\n",
    "            features = layer['filters']\n",
    "\n",
    "        self.encoder = nn.Sequential(*encoder_layers)\n",
    "\n",
    "    def forward(self, x):\n",
    "        return self.encoder([x])\n",
    "\n",
    "\n",
    "class TCSConv1d(nn.Module):\n",
    "    \"\"\"\n",
    "    Time-Channel Separable 1D Convolution\n",
    "    \"\"\"\n",
    "    def __init__(self, in_channels, out_channels, kernel_size, stride=1, padding=0, dilation=1, groups=1, bias=False, separable=False):\n",
    "\n",
    "        super(TCSConv1d, self).__init__()\n",
    "        self.separable = separable\n",
    "\n",
    "        if separable:\n",
    "            self.depthwise = nn.Conv1d(\n",
    "                in_channels, in_channels, kernel_size=kernel_size, stride=stride,\n",
    "                padding=padding, dilation=dilation, bias=bias, groups=in_channels\n",
    "            )\n",
    "\n",
    "            self.pointwise = nn.Conv1d(\n",
    "                in_channels, out_channels, kernel_size=1, stride=stride,\n",
    "                dilation=dilation, bias=bias, padding=0\n",
    "            )\n",
    "        else:\n",
    "            self.conv = nn.Conv1d(\n",
    "                in_channels, out_channels, kernel_size=kernel_size,\n",
    "                stride=stride, padding=padding, dilation=dilation, bias=bias\n",
    "            )\n",
    "\n",
    "    def forward(self, x):\n",
    "        if self.separable:\n",
    "            x = self.depthwise(x)\n",
    "            x = self.pointwise(x)\n",
    "        else:\n",
    "            x = self.conv(x)\n",
    "        return x\n",
    "\n",
    "\n",
    "class Block(nn.Module):\n",
    "    \"\"\"\n",
    "    TCSConv, Batch Normalisation, Activation, Dropout\n",
    "    \"\"\"\n",
    "    def __init__(self, in_channels, out_channels, activation, repeat=5, kernel_size=1, stride=1, dilation=1, dropout=0.0, residual=False, separable=False):\n",
    "\n",
    "        super(Block, self).__init__()\n",
    "\n",
    "        self.use_res = residual\n",
    "        self.conv = nn.ModuleList()\n",
    "\n",
    "        _in_channels = in_channels\n",
    "        padding = self.get_padding(kernel_size[0], stride[0], dilation[0])\n",
    "\n",
    "        # add the first n - 1 convolutions + activation\n",
    "        for _ in range(repeat - 1):\n",
    "            self.conv.extend(\n",
    "                self.get_tcs(\n",
    "                    _in_channels, out_channels, kernel_size=kernel_size,\n",
    "                    stride=stride, dilation=dilation,\n",
    "                    padding=padding, separable=separable\n",
    "                )\n",
    "            )\n",
    "\n",
    "            self.conv.extend(self.get_activation(activation, dropout))\n",
    "            _in_channels = out_channels\n",
    "\n",
    "        # add the last conv and batch norm\n",
    "        self.conv.extend(\n",
    "            self.get_tcs(\n",
    "                _in_channels, out_channels,\n",
    "                kernel_size=kernel_size,\n",
    "                stride=stride, dilation=dilation,\n",
    "                padding=padding, separable=separable\n",
    "            )\n",
    "        )\n",
    "\n",
    "        # add the residual connection\n",
    "        if self.use_res:\n",
    "            self.residual = nn.Sequential(*self.get_tcs(in_channels, out_channels))\n",
    "\n",
    "        # add the activation and dropout\n",
    "        self.activation = nn.Sequential(*self.get_activation(activation, dropout))\n",
    "\n",
    "    def get_activation(self, activation, dropout):\n",
    "        return activation, nn.Dropout(p=dropout)\n",
    "\n",
    "    def get_padding(self, kernel_size, stride, dilation):\n",
    "        if stride > 1 and dilation > 1:\n",
    "            raise ValueError(\"Dilation and stride can not both be greater than 1\")\n",
    "        return (kernel_size // 2) * dilation\n",
    "\n",
    "    def get_tcs(self, in_channels, out_channels, kernel_size=1, stride=1, dilation=1, padding=0, bias=False, separable=False):\n",
    "        return [\n",
    "            TCSConv1d(\n",
    "                in_channels, out_channels, kernel_size,\n",
    "                stride=stride, dilation=dilation, padding=padding,\n",
    "                bias=bias, separable=separable\n",
    "            ),\n",
    "            nn.BatchNorm1d(out_channels, eps=1e-3, momentum=0.1)\n",
    "        ]\n",
    "\n",
    "    def forward(self, x):\n",
    "        _x = x[0]\n",
    "        for layer in self.conv:\n",
    "            _x = layer(_x)\n",
    "        if self.use_res:\n",
    "            _x += self.residual(x[0])\n",
    "        return [self.activation(_x)]\n",
    "\n",
    "\n",
    "class Decoder(Module):\n",
    "    \"\"\"\n",
    "    Decoder\n",
    "    \"\"\"\n",
    "    def __init__(self, features, classes):\n",
    "        super(Decoder, self).__init__()\n",
    "        self.layers = nn.Sequential(nn.Conv1d(features, classes, kernel_size=1, bias=True))\n",
    "\n",
    "    def forward(self, x):\n",
    "        x = self.layers(x[-1])\n",
    "        return nn.functional.log_softmax(x.transpose(1, 2), dim=2)\n",
    "\n",
    "    \n",
    "## \n",
    "\n",
    "import toml\n",
    "config = toml.load(\"quartznet5x5.toml\")\n",
    "model = Model(config).to(device=DEVICE)\n",
    "\n",
    "''' \n",
    "state_dict = torch.load(\"weights_1.tar\", map_location=DEVICE)\n",
    "\n",
    "# These lines come from bonito/utils\n",
    "new_state_dict = OrderedDict()\n",
    "for k, v in state_dict.items():\n",
    "    name = k.replace('module.', '')\n",
    "    new_state_dict[name] = v\n",
    "    \n",
    "model.load_state_dict(new_state_dict)\n",
    "''';"
   ]
  },
  {
   "cell_type": "code",
   "execution_count": 239,
   "metadata": {},
   "outputs": [],
   "source": [
    "learner = Learner(databunch, model, loss_func=LOSS_FUNC, model_dir=MODEL_DIR, metrics=METRICS).to_fp16()"
   ]
  },
  {
   "cell_type": "code",
   "execution_count": 240,
   "metadata": {},
   "outputs": [
    {
     "name": "stdout",
     "output_type": "stream",
     "text": [
      "Model weights loaded tmp\n"
     ]
    }
   ],
   "source": [
    "try:\n",
    "    if SPECIFIC_MODEL:\n",
    "        model_name = SPECIFIC_MODEL\n",
    "    else:\n",
    "        model_name = g.get_newest_model(MODEL_DIR)\n",
    "        \n",
    "    learner = learner.load(model_name)\n",
    "    print('Model weights loaded', model_name)\n",
    "except:\n",
    "    print('No model weights available')"
   ]
  },
  {
   "cell_type": "markdown",
   "metadata": {},
   "source": [
    "## Train"
   ]
  },
  {
   "cell_type": "code",
   "execution_count": 247,
   "metadata": {},
   "outputs": [
    {
     "data": {
      "text/html": [
       "\n",
       "    <div>\n",
       "        <style>\n",
       "            /* Turns off some styling */\n",
       "            progress {\n",
       "                /* gets rid of default border in Firefox and Opera. */\n",
       "                border: none;\n",
       "                /* Needs to be in here for Safari polyfill so background images work as expected. */\n",
       "                background-size: auto;\n",
       "            }\n",
       "            .progress-bar-interrupted, .progress-bar-interrupted::-webkit-progress-bar {\n",
       "                background: #F44336;\n",
       "            }\n",
       "        </style>\n",
       "      <progress value='15' class='' max='17', style='width:300px; height:20px; vertical-align: middle;'></progress>\n",
       "      88.24% [15/17 02:21<00:18]\n",
       "    </div>\n",
       "    \n",
       "<table border=\"1\" class=\"dataframe\">\n",
       "  <thead>\n",
       "    <tr style=\"text-align: left;\">\n",
       "      <th>epoch</th>\n",
       "      <th>train_loss</th>\n",
       "      <th>valid_loss</th>\n",
       "      <th>ctc_error</th>\n",
       "      <th>time</th>\n",
       "    </tr>\n",
       "  </thead>\n",
       "  <tbody>\n",
       "    <tr>\n",
       "      <td>0</td>\n",
       "      <td>1.552076</td>\n",
       "      <td>#na#</td>\n",
       "      <td>00:09</td>\n",
       "    </tr>\n",
       "    <tr>\n",
       "      <td>1</td>\n",
       "      <td>1.552065</td>\n",
       "      <td>#na#</td>\n",
       "      <td>00:09</td>\n",
       "    </tr>\n",
       "    <tr>\n",
       "      <td>2</td>\n",
       "      <td>1.552030</td>\n",
       "      <td>#na#</td>\n",
       "      <td>00:09</td>\n",
       "    </tr>\n",
       "    <tr>\n",
       "      <td>3</td>\n",
       "      <td>1.551890</td>\n",
       "      <td>#na#</td>\n",
       "      <td>00:09</td>\n",
       "    </tr>\n",
       "    <tr>\n",
       "      <td>4</td>\n",
       "      <td>1.551497</td>\n",
       "      <td>#na#</td>\n",
       "      <td>00:09</td>\n",
       "    </tr>\n",
       "    <tr>\n",
       "      <td>5</td>\n",
       "      <td>1.550586</td>\n",
       "      <td>#na#</td>\n",
       "      <td>00:09</td>\n",
       "    </tr>\n",
       "    <tr>\n",
       "      <td>6</td>\n",
       "      <td>1.548196</td>\n",
       "      <td>#na#</td>\n",
       "      <td>00:09</td>\n",
       "    </tr>\n",
       "    <tr>\n",
       "      <td>7</td>\n",
       "      <td>1.543159</td>\n",
       "      <td>#na#</td>\n",
       "      <td>00:09</td>\n",
       "    </tr>\n",
       "    <tr>\n",
       "      <td>8</td>\n",
       "      <td>1.534346</td>\n",
       "      <td>#na#</td>\n",
       "      <td>00:09</td>\n",
       "    </tr>\n",
       "    <tr>\n",
       "      <td>9</td>\n",
       "      <td>1.550785</td>\n",
       "      <td>#na#</td>\n",
       "      <td>00:09</td>\n",
       "    </tr>\n",
       "    <tr>\n",
       "      <td>10</td>\n",
       "      <td>1.729062</td>\n",
       "      <td>#na#</td>\n",
       "      <td>00:09</td>\n",
       "    </tr>\n",
       "    <tr>\n",
       "      <td>11</td>\n",
       "      <td>1.708879</td>\n",
       "      <td>#na#</td>\n",
       "      <td>00:09</td>\n",
       "    </tr>\n",
       "    <tr>\n",
       "      <td>12</td>\n",
       "      <td>1.706820</td>\n",
       "      <td>#na#</td>\n",
       "      <td>00:09</td>\n",
       "    </tr>\n",
       "    <tr>\n",
       "      <td>13</td>\n",
       "      <td>1.707355</td>\n",
       "      <td>#na#</td>\n",
       "      <td>00:09</td>\n",
       "    </tr>\n",
       "    <tr>\n",
       "      <td>14</td>\n",
       "      <td>1.750534</td>\n",
       "      <td>#na#</td>\n",
       "      <td>00:09</td>\n",
       "    </tr>\n",
       "  </tbody>\n",
       "</table><p>\n",
       "\n",
       "    <div>\n",
       "        <style>\n",
       "            /* Turns off some styling */\n",
       "            progress {\n",
       "                /* gets rid of default border in Firefox and Opera. */\n",
       "                border: none;\n",
       "                /* Needs to be in here for Safari polyfill so background images work as expected. */\n",
       "                background-size: auto;\n",
       "            }\n",
       "            .progress-bar-interrupted, .progress-bar-interrupted::-webkit-progress-bar {\n",
       "                background: #F44336;\n",
       "            }\n",
       "        </style>\n",
       "      <progress value='1' class='' max='6', style='width:300px; height:20px; vertical-align: middle;'></progress>\n",
       "      16.67% [1/6 00:01<00:09 1.8121]\n",
       "    </div>\n",
       "    "
      ],
      "text/plain": [
       "<IPython.core.display.HTML object>"
      ]
     },
     "metadata": {},
     "output_type": "display_data"
    },
    {
     "name": "stdout",
     "output_type": "stream",
     "text": [
      "LR Finder is complete, type {learner_name}.recorder.plot() to see the graph.\n",
      "Min numerical gradient: 2.29E-02\n",
      "Min loss divided by 10: 3.63E-04\n"
     ]
    },
    {
     "data": {
      "image/png": "[encoded data removed]",
      "text/plain": [
       "<Figure size 432x288 with 1 Axes>"
      ]
     },
     "metadata": {
      "needs_background": "light"
     },
     "output_type": "display_data"
    }
   ],
   "source": [
    "learner.lr_find()\n",
    "learner.recorder.plot(suggestion=True)"
   ]
  },
  {
   "cell_type": "code",
   "execution_count": 229,
   "metadata": {},
   "outputs": [
    {
     "data": {
      "text/plain": [
       "0.0003311311214825911"
      ]
     },
     "execution_count": 229,
     "metadata": {},
     "output_type": "execute_result"
    }
   ],
   "source": [
    "# Default to LR if lr_find() has not been run\n",
    "try:\n",
    "    lr = learner.recorder.min_grad_lr\n",
    "except:\n",
    "    lr = LR\n",
    "lr"
   ]
  },
  {
   "cell_type": "code",
   "execution_count": 249,
   "metadata": {},
   "outputs": [
    {
     "name": "stdout",
     "output_type": "stream",
     "text": [
      "0\n"
     ]
    },
    {
     "data": {
      "text/html": [
       "<table border=\"1\" class=\"dataframe\">\n",
       "  <thead>\n",
       "    <tr style=\"text-align: left;\">\n",
       "      <th>epoch</th>\n",
       "      <th>train_loss</th>\n",
       "      <th>valid_loss</th>\n",
       "      <th>ctc_error</th>\n",
       "      <th>time</th>\n",
       "    </tr>\n",
       "  </thead>\n",
       "  <tbody>\n",
       "    <tr>\n",
       "      <td>0</td>\n",
       "      <td>1.554023</td>\n",
       "      <td>1.542756</td>\n",
       "      <td>82.142857</td>\n",
       "      <td>00:09</td>\n",
       "    </tr>\n",
       "    <tr>\n",
       "      <td>1</td>\n",
       "      <td>1.544157</td>\n",
       "      <td>1.554961</td>\n",
       "      <td>91.333333</td>\n",
       "      <td>00:09</td>\n",
       "    </tr>\n",
       "    <tr>\n",
       "      <td>2</td>\n",
       "      <td>1.531856</td>\n",
       "      <td>1.541755</td>\n",
       "      <td>78.500000</td>\n",
       "      <td>00:09</td>\n",
       "    </tr>\n",
       "  </tbody>\n",
       "</table>"
      ],
      "text/plain": [
       "<IPython.core.display.HTML object>"
      ]
     },
     "metadata": {},
     "output_type": "display_data"
    },
    {
     "data": {
      "text/html": [],
      "text/plain": [
       "<IPython.core.display.HTML object>"
      ]
     },
     "metadata": {},
     "output_type": "display_data"
    },
    {
     "name": "stdout",
     "output_type": "stream",
     "text": [
      "1\n"
     ]
    },
    {
     "data": {
      "text/html": [
       "<table border=\"1\" class=\"dataframe\">\n",
       "  <thead>\n",
       "    <tr style=\"text-align: left;\">\n",
       "      <th>epoch</th>\n",
       "      <th>train_loss</th>\n",
       "      <th>valid_loss</th>\n",
       "      <th>ctc_error</th>\n",
       "      <th>time</th>\n",
       "    </tr>\n",
       "  </thead>\n",
       "  <tbody>\n",
       "    <tr>\n",
       "      <td>0</td>\n",
       "      <td>1.511155</td>\n",
       "      <td>1.544416</td>\n",
       "      <td>77.888889</td>\n",
       "      <td>00:09</td>\n",
       "    </tr>\n",
       "    <tr>\n",
       "      <td>1</td>\n",
       "      <td>1.503020</td>\n",
       "      <td>1.552669</td>\n",
       "      <td>85.545455</td>\n",
       "      <td>00:10</td>\n",
       "    </tr>\n",
       "    <tr>\n",
       "      <td>2</td>\n",
       "      <td>1.491845</td>\n",
       "      <td>1.547943</td>\n",
       "      <td>79.333333</td>\n",
       "      <td>00:09</td>\n",
       "    </tr>\n",
       "  </tbody>\n",
       "</table>"
      ],
      "text/plain": [
       "<IPython.core.display.HTML object>"
      ]
     },
     "metadata": {},
     "output_type": "display_data"
    },
    {
     "data": {
      "text/html": [],
      "text/plain": [
       "<IPython.core.display.HTML object>"
      ]
     },
     "metadata": {},
     "output_type": "display_data"
    },
    {
     "name": "stdout",
     "output_type": "stream",
     "text": [
      "2\n"
     ]
    },
    {
     "data": {
      "text/html": [
       "<table border=\"1\" class=\"dataframe\">\n",
       "  <thead>\n",
       "    <tr style=\"text-align: left;\">\n",
       "      <th>epoch</th>\n",
       "      <th>train_loss</th>\n",
       "      <th>valid_loss</th>\n",
       "      <th>ctc_error</th>\n",
       "      <th>time</th>\n",
       "    </tr>\n",
       "  </thead>\n",
       "  <tbody>\n",
       "    <tr>\n",
       "      <td>0</td>\n",
       "      <td>1.472363</td>\n",
       "      <td>1.558629</td>\n",
       "      <td>74.714286</td>\n",
       "      <td>00:09</td>\n",
       "    </tr>\n",
       "    <tr>\n",
       "      <td>1</td>\n",
       "      <td>1.463174</td>\n",
       "      <td>1.556959</td>\n",
       "      <td>86.545455</td>\n",
       "      <td>00:09</td>\n",
       "    </tr>\n",
       "    <tr>\n",
       "      <td>2</td>\n",
       "      <td>1.451706</td>\n",
       "      <td>1.563110</td>\n",
       "      <td>82.380952</td>\n",
       "      <td>00:10</td>\n",
       "    </tr>\n",
       "  </tbody>\n",
       "</table>"
      ],
      "text/plain": [
       "<IPython.core.display.HTML object>"
      ]
     },
     "metadata": {},
     "output_type": "display_data"
    },
    {
     "data": {
      "text/html": [],
      "text/plain": [
       "<IPython.core.display.HTML object>"
      ]
     },
     "metadata": {},
     "output_type": "display_data"
    }
   ],
   "source": [
    "for iter in range(SAVE_MODEL_ITERATIONS):\n",
    "    print(iter)\n",
    "    learner.fit_one_cycle(EPOCHS_BEFORE_SAVING, max_lr=lr)\n",
    "    valid, ctc  = learner.validate()\n",
    "    learner.save(MODEL_NAME+f'-Valid[{valid}]-CTC[{ctc}]')"
   ]
  },
  {
   "cell_type": "markdown",
   "metadata": {},
   "source": [
    "## Predict"
   ]
  },
  {
   "cell_type": "code",
   "execution_count": 258,
   "metadata": {},
   "outputs": [],
   "source": [
    "x, y, _ = databunch.valid_dl.tensors\n",
    "x_device = x[:BS].to(device=DEVICE)\n",
    "learner.to_fp32()\n",
    "y_pred = model(x_device).detach().cpu().numpy()"
   ]
  },
  {
   "cell_type": "code",
   "execution_count": 116,
   "metadata": {},
   "outputs": [],
   "source": [
    "#gc.collect()\n",
    "#torch.cuda.empty_cache()"
   ]
  },
  {
   "cell_type": "code",
   "execution_count": 232,
   "metadata": {},
   "outputs": [
    {
     "name": "stdout",
     "output_type": "stream",
     "text": [
      "Tue Mar 31 12:25:35 2020       \n",
      "+-----------------------------------------------------------------------------+\n",
      "| NVIDIA-SMI 418.116.00   Driver Version: 418.116.00   CUDA Version: 10.2     |\n",
      "|-------------------------------+----------------------+----------------------+\n",
      "| GPU  Name        Persistence-M| Bus-Id        Disp.A | Volatile Uncorr. ECC |\n",
      "| Fan  Temp  Perf  Pwr:Usage/Cap|         Memory-Usage | GPU-Util  Compute M. |\n",
      "|===============================+======================+======================|\n",
      "|   0  Tesla V100-SXM3...  On   | 00000000:BC:00.0 Off |                    0 |\n",
      "| N/A   43C    P0    74W / 350W |  22790MiB / 32480MiB |      0%      Default |\n",
      "+-------------------------------+----------------------+----------------------+\n",
      "                                                                               \n",
      "+-----------------------------------------------------------------------------+\n",
      "| Processes:                                                       GPU Memory |\n",
      "|  GPU       PID   Type   Process name                             Usage      |\n",
      "|=============================================================================|\n",
      "|    0     42215      C   ...dk/kbargs15/.conda/envs/jkbc/bin/python 22777MiB |\n",
      "+-----------------------------------------------------------------------------+\n"
     ]
    }
   ],
   "source": [
    "!nvidia-smi"
   ]
  },
  {
   "cell_type": "code",
   "execution_count": 259,
   "metadata": {},
   "outputs": [
    {
     "name": "stdout",
     "output_type": "stream",
     "text": [
      "CCCAATAATTCCGGACAACGCTTGCCACCTACG\n",
      "AGTACGATACTATCATCA 100 100.0\n",
      "\n",
      "CATCTTCTTCAGAAGATGCGGAATAACGTG\n",
      "ACCTCTCTCTCAGGCGA 100 70.58823529411765\n",
      "\n"
     ]
    }
   ],
   "source": [
    "r = range(100, 101) #Range can't contain values larger than PRED_OUT_DIM\n",
    "\n",
    "for index in [0, BS-1]:\n",
    "    actual = pop.convert_idx_to_base_sequence(y[index], ALPHABET_VAL)\n",
    "    prediction = y_pred[index]\n",
    "    for pred, beam, accuracy in g.get_stats(prediction, actual, ALPHABET_STR, r):\n",
    "        print(pred, beam, accuracy)\n",
    "    print('')"
   ]
  },
  {
   "cell_type": "code",
   "execution_count": null,
   "metadata": {},
   "outputs": [],
   "source": [
    "g.get_stats(prediction, actual, ALPHABET_STR, r):"
   ]
  },
  {
   "cell_type": "code",
   "execution_count": 90,
   "metadata": {},
   "outputs": [],
   "source": [
    "# Run assemble only if data is not fetched from featherfile\n",
    "# TODO: Assembled should not be on a batch, but instead on a complete signal\n",
    "if STRIDE != WINDOW_SIZE:\n",
    "    decoded = pop.decode(y_pred, ALPHABET_STR, beam_size=15)\n",
    "    assembled = pop.assemble(decoded, WINDOW_SIZE, STRIDE, ALPHABET)\n",
    "    print('Assembled:', assembled)"
   ]
  },
  {
   "cell_type": "markdown",
   "metadata": {},
   "source": [
    "## Further Training!"
   ]
  },
  {
   "cell_type": "code",
   "execution_count": 243,
   "metadata": {},
   "outputs": [],
   "source": [
    "flatm = flatten_model(learner.model)"
   ]
  },
  {
   "cell_type": "code",
   "execution_count": 244,
   "metadata": {},
   "outputs": [],
   "source": [
    "g1 = flatm[0:40]\n",
    "g2 = flatm[40:100]\n",
    "g3 = flatm[100:]"
   ]
  },
  {
   "cell_type": "code",
   "execution_count": 245,
   "metadata": {},
   "outputs": [],
   "source": [
    "learner.split([g1,g2,g3]);"
   ]
  },
  {
   "cell_type": "code",
   "execution_count": 246,
   "metadata": {},
   "outputs": [],
   "source": [
    "learner.freeze()"
   ]
  },
  {
   "cell_type": "code",
   "execution_count": 262,
   "metadata": {},
   "outputs": [
    {
     "data": {
      "text/plain": [
       "Model\n",
       "======================================================================\n",
       "Layer (type)         Output Shape         Param #    Trainable \n",
       "======================================================================\n",
       "Conv1d               [256, 100]           8,448      False     \n",
       "______________________________________________________________________\n",
       "BatchNorm1d          [256, 100]           512        True      \n",
       "______________________________________________________________________\n",
       "ReLU                 [1024, 100]          0          False     \n",
       "______________________________________________________________________\n",
       "Dropout              [256, 100]           0          False     \n",
       "______________________________________________________________________\n",
       "Conv1d               [256, 100]           8,448      False     \n",
       "______________________________________________________________________\n",
       "Conv1d               [256, 100]           65,536     False     \n",
       "______________________________________________________________________\n",
       "BatchNorm1d          [256, 100]           512        True      \n",
       "______________________________________________________________________\n",
       "ReLU                 [1024, 100]          0          False     \n",
       "______________________________________________________________________\n",
       "Dropout              [256, 100]           0          False     \n",
       "______________________________________________________________________\n",
       "Conv1d               [256, 100]           8,448      False     \n",
       "______________________________________________________________________\n",
       "Conv1d               [256, 100]           65,536     False     \n",
       "______________________________________________________________________\n",
       "BatchNorm1d          [256, 100]           512        True      \n",
       "______________________________________________________________________\n",
       "Dropout              [256, 100]           0          False     \n",
       "______________________________________________________________________\n",
       "Conv1d               [256, 100]           8,448      False     \n",
       "______________________________________________________________________\n",
       "Conv1d               [256, 100]           65,536     False     \n",
       "______________________________________________________________________\n",
       "BatchNorm1d          [256, 100]           512        True      \n",
       "______________________________________________________________________\n",
       "Dropout              [256, 100]           0          False     \n",
       "______________________________________________________________________\n",
       "Conv1d               [256, 100]           8,448      False     \n",
       "______________________________________________________________________\n",
       "Conv1d               [256, 100]           65,536     False     \n",
       "______________________________________________________________________\n",
       "BatchNorm1d          [256, 100]           512        True      \n",
       "______________________________________________________________________\n",
       "Dropout              [256, 100]           0          False     \n",
       "______________________________________________________________________\n",
       "Conv1d               [256, 100]           8,448      False     \n",
       "______________________________________________________________________\n",
       "Conv1d               [256, 100]           65,536     False     \n",
       "______________________________________________________________________\n",
       "BatchNorm1d          [256, 100]           512        True      \n",
       "______________________________________________________________________\n",
       "Conv1d               [256, 100]           65,536     False     \n",
       "______________________________________________________________________\n",
       "BatchNorm1d          [256, 100]           512        True      \n",
       "______________________________________________________________________\n",
       "ReLU                 [1024, 100]          0          False     \n",
       "______________________________________________________________________\n",
       "Dropout              [256, 100]           0          False     \n",
       "______________________________________________________________________\n",
       "Conv1d               [256, 100]           9,984      False     \n",
       "______________________________________________________________________\n",
       "Conv1d               [256, 100]           65,536     False     \n",
       "______________________________________________________________________\n",
       "BatchNorm1d          [256, 100]           512        True      \n",
       "______________________________________________________________________\n",
       "ReLU                 [1024, 100]          0          False     \n",
       "______________________________________________________________________\n",
       "Dropout              [256, 100]           0          False     \n",
       "______________________________________________________________________\n",
       "Conv1d               [256, 100]           9,984      False     \n",
       "______________________________________________________________________\n",
       "Conv1d               [256, 100]           65,536     False     \n",
       "______________________________________________________________________\n",
       "BatchNorm1d          [256, 100]           512        True      \n",
       "______________________________________________________________________\n",
       "Dropout              [256, 100]           0          False     \n",
       "______________________________________________________________________\n",
       "Conv1d               [256, 100]           9,984      False     \n",
       "______________________________________________________________________\n",
       "Conv1d               [256, 100]           65,536     False     \n",
       "______________________________________________________________________\n",
       "BatchNorm1d          [256, 100]           512        True      \n",
       "______________________________________________________________________\n",
       "Dropout              [256, 100]           0          False     \n",
       "______________________________________________________________________\n",
       "Conv1d               [256, 100]           9,984      False     \n",
       "______________________________________________________________________\n",
       "Conv1d               [256, 100]           65,536     False     \n",
       "______________________________________________________________________\n",
       "BatchNorm1d          [256, 100]           512        True      \n",
       "______________________________________________________________________\n",
       "Dropout              [256, 100]           0          False     \n",
       "______________________________________________________________________\n",
       "Conv1d               [256, 100]           9,984      False     \n",
       "______________________________________________________________________\n",
       "Conv1d               [256, 100]           65,536     False     \n",
       "______________________________________________________________________\n",
       "BatchNorm1d          [256, 100]           512        True      \n",
       "______________________________________________________________________\n",
       "Conv1d               [256, 100]           65,536     False     \n",
       "______________________________________________________________________\n",
       "BatchNorm1d          [256, 100]           512        True      \n",
       "______________________________________________________________________\n",
       "ReLU                 [1024, 100]          0          False     \n",
       "______________________________________________________________________\n",
       "Dropout              [256, 100]           0          False     \n",
       "______________________________________________________________________\n",
       "Conv1d               [256, 100]           13,056     False     \n",
       "______________________________________________________________________\n",
       "Conv1d               [512, 100]           131,072    False     \n",
       "______________________________________________________________________\n",
       "BatchNorm1d          [512, 100]           1,024      True      \n",
       "______________________________________________________________________\n",
       "ReLU                 [1024, 100]          0          False     \n",
       "______________________________________________________________________\n",
       "Dropout              [512, 100]           0          False     \n",
       "______________________________________________________________________\n",
       "Conv1d               [512, 100]           26,112     False     \n",
       "______________________________________________________________________\n",
       "Conv1d               [512, 100]           262,144    False     \n",
       "______________________________________________________________________\n",
       "BatchNorm1d          [512, 100]           1,024      True      \n",
       "______________________________________________________________________\n",
       "Dropout              [512, 100]           0          False     \n",
       "______________________________________________________________________\n",
       "Conv1d               [512, 100]           26,112     False     \n",
       "______________________________________________________________________\n",
       "Conv1d               [512, 100]           262,144    False     \n",
       "______________________________________________________________________\n",
       "BatchNorm1d          [512, 100]           1,024      True      \n",
       "______________________________________________________________________\n",
       "Dropout              [512, 100]           0          False     \n",
       "______________________________________________________________________\n",
       "Conv1d               [512, 100]           26,112     False     \n",
       "______________________________________________________________________\n",
       "Conv1d               [512, 100]           262,144    False     \n",
       "______________________________________________________________________\n",
       "BatchNorm1d          [512, 100]           1,024      True      \n",
       "______________________________________________________________________\n",
       "Dropout              [512, 100]           0          False     \n",
       "______________________________________________________________________\n",
       "Conv1d               [512, 100]           26,112     False     \n",
       "______________________________________________________________________\n",
       "Conv1d               [512, 100]           262,144    False     \n",
       "______________________________________________________________________\n",
       "BatchNorm1d          [512, 100]           1,024      True      \n",
       "______________________________________________________________________\n",
       "Conv1d               [512, 100]           131,072    False     \n",
       "______________________________________________________________________\n",
       "BatchNorm1d          [512, 100]           1,024      True      \n",
       "______________________________________________________________________\n",
       "ReLU                 [1024, 100]          0          False     \n",
       "______________________________________________________________________\n",
       "Dropout              [512, 100]           0          False     \n",
       "______________________________________________________________________\n",
       "Conv1d               [512, 100]           32,256     False     \n",
       "______________________________________________________________________\n",
       "Conv1d               [512, 100]           262,144    False     \n",
       "______________________________________________________________________\n",
       "BatchNorm1d          [512, 100]           1,024      True      \n",
       "______________________________________________________________________\n",
       "ReLU                 [1024, 100]          0          False     \n",
       "______________________________________________________________________\n",
       "Dropout              [512, 100]           0          False     \n",
       "______________________________________________________________________\n",
       "Conv1d               [512, 100]           32,256     False     \n",
       "______________________________________________________________________\n",
       "Conv1d               [512, 100]           262,144    False     \n",
       "______________________________________________________________________\n",
       "BatchNorm1d          [512, 100]           1,024      True      \n",
       "______________________________________________________________________\n",
       "Dropout              [512, 100]           0          False     \n",
       "______________________________________________________________________\n",
       "Conv1d               [512, 100]           32,256     False     \n",
       "______________________________________________________________________\n",
       "Conv1d               [512, 100]           262,144    False     \n",
       "______________________________________________________________________\n",
       "BatchNorm1d          [512, 100]           1,024      True      \n",
       "______________________________________________________________________\n",
       "Dropout              [512, 100]           0          False     \n",
       "______________________________________________________________________\n",
       "Conv1d               [512, 100]           32,256     False     \n",
       "______________________________________________________________________\n",
       "Conv1d               [512, 100]           262,144    False     \n",
       "______________________________________________________________________\n",
       "BatchNorm1d          [512, 100]           1,024      True      \n",
       "______________________________________________________________________\n",
       "Dropout              [512, 100]           0          False     \n",
       "______________________________________________________________________\n",
       "Conv1d               [512, 100]           32,256     False     \n",
       "______________________________________________________________________\n",
       "Conv1d               [512, 100]           262,144    False     \n",
       "______________________________________________________________________\n",
       "BatchNorm1d          [512, 100]           1,024      True      \n",
       "______________________________________________________________________\n",
       "Conv1d               [512, 100]           262,144    False     \n",
       "______________________________________________________________________\n",
       "BatchNorm1d          [512, 100]           1,024      True      \n",
       "______________________________________________________________________\n",
       "ReLU                 [1024, 100]          0          False     \n",
       "______________________________________________________________________\n",
       "Dropout              [512, 100]           0          False     \n",
       "______________________________________________________________________\n",
       "Conv1d               [512, 100]           38,400     True      \n",
       "______________________________________________________________________\n",
       "Conv1d               [512, 100]           262,144    True      \n",
       "______________________________________________________________________\n",
       "BatchNorm1d          [512, 100]           1,024      True      \n",
       "______________________________________________________________________\n",
       "ReLU                 [1024, 100]          0          False     \n",
       "______________________________________________________________________\n",
       "Dropout              [512, 100]           0          False     \n",
       "______________________________________________________________________\n",
       "Conv1d               [512, 100]           38,400     True      \n",
       "______________________________________________________________________\n",
       "Conv1d               [512, 100]           262,144    True      \n",
       "______________________________________________________________________\n",
       "BatchNorm1d          [512, 100]           1,024      True      \n",
       "______________________________________________________________________\n",
       "Dropout              [512, 100]           0          False     \n",
       "______________________________________________________________________\n",
       "Conv1d               [512, 100]           38,400     True      \n",
       "______________________________________________________________________\n",
       "Conv1d               [512, 100]           262,144    True      \n",
       "______________________________________________________________________\n",
       "BatchNorm1d          [512, 100]           1,024      True      \n",
       "______________________________________________________________________\n",
       "Dropout              [512, 100]           0          False     \n",
       "______________________________________________________________________\n",
       "Conv1d               [512, 100]           38,400     True      \n",
       "______________________________________________________________________\n",
       "Conv1d               [512, 100]           262,144    True      \n",
       "______________________________________________________________________\n",
       "BatchNorm1d          [512, 100]           1,024      True      \n",
       "______________________________________________________________________\n",
       "Dropout              [512, 100]           0          False     \n",
       "______________________________________________________________________\n",
       "Conv1d               [512, 100]           38,400     True      \n",
       "______________________________________________________________________\n",
       "Conv1d               [512, 100]           262,144    True      \n",
       "______________________________________________________________________\n",
       "BatchNorm1d          [512, 100]           1,024      True      \n",
       "______________________________________________________________________\n",
       "Conv1d               [512, 100]           262,144    True      \n",
       "______________________________________________________________________\n",
       "BatchNorm1d          [512, 100]           1,024      True      \n",
       "______________________________________________________________________\n",
       "ReLU                 [1024, 100]          0          False     \n",
       "______________________________________________________________________\n",
       "Dropout              [512, 100]           0          False     \n",
       "______________________________________________________________________\n",
       "Conv1d               [512, 100]           44,544     True      \n",
       "______________________________________________________________________\n",
       "Conv1d               [512, 100]           262,144    True      \n",
       "______________________________________________________________________\n",
       "BatchNorm1d          [512, 100]           1,024      True      \n",
       "______________________________________________________________________\n",
       "ReLU                 [1024, 100]          0          False     \n",
       "______________________________________________________________________\n",
       "Dropout              [512, 100]           0          False     \n",
       "______________________________________________________________________\n",
       "Conv1d               [1024, 100]          524,288    True      \n",
       "______________________________________________________________________\n",
       "BatchNorm1d          [1024, 100]          2,048      True      \n",
       "______________________________________________________________________\n",
       "ReLU                 [1024, 100]          0          False     \n",
       "______________________________________________________________________\n",
       "Dropout              [1024, 100]          0          False     \n",
       "______________________________________________________________________\n",
       "Conv1d               [5, 100]             5,125      True      \n",
       "______________________________________________________________________\n",
       "\n",
       "Total params: 6,678,533\n",
       "Total trainable params: 2,629,125\n",
       "Total non-trainable params: 4,049,408\n",
       "Optimized with 'torch.optim.adam.Adam', betas=(0.9, 0.99)\n",
       "Using true weight decay as discussed in https://www.fast.ai/2018/07/02/adam-weight-decay/ \n",
       "Loss function : partial\n",
       "======================================================================\n",
       "Callbacks functions applied "
      ]
     },
     "execution_count": 262,
     "metadata": {},
     "output_type": "execute_result"
    }
   ],
   "source": [
    "learner.summary()"
   ]
  },
  {
   "cell_type": "code",
   "execution_count": null,
   "metadata": {},
   "outputs": [],
   "source": []
  }
 ],
 "metadata": {
  "jupytext": {
   "cell_metadata_filter": "-all",
   "notebook_metadata_filter": "-all"
  },
  "kernelspec": {
   "display_name": "jkbc",
   "language": "python",
   "name": "jkbc"
  },
  "language_info": {
   "codemirror_mode": {
    "name": "ipython",
    "version": 3
   },
   "file_extension": ".py",
   "mimetype": "text/x-python",
   "name": "python",
   "nbconvert_exporter": "python",
   "pygments_lexer": "ipython3",
   "version": "3.7.6"
  }
 },
 "nbformat": 4,
 "nbformat_minor": 4
}
