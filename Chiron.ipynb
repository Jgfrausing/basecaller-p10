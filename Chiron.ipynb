{
 "cells": [
  {
   "cell_type": "markdown",
   "metadata": {},
   "source": [
    "# Creating a Databunch for Basecalling"
   ]
  },
  {
   "cell_type": "code",
   "execution_count": 1,
   "metadata": {},
   "outputs": [],
   "source": [
    "%reload_ext autoreload\n",
    "%autoreload 2\n",
    "%matplotlib inline"
   ]
  },
  {
   "cell_type": "code",
   "execution_count": 2,
   "metadata": {
    "scrolled": true
   },
   "outputs": [],
   "source": [
    "from fastai.basics import *\n",
    "\n",
    "import jkbc.utils.preprocessing as prep\n",
    "import jkbc.utils.postprocessing as pop\n",
    "import jkbc.utils.files as f\n",
    "import jkbc.types as t"
   ]
  },
  {
   "cell_type": "markdown",
   "metadata": {},
   "source": [
    "## Constants"
   ]
  },
  {
   "cell_type": "code",
   "execution_count": 3,
   "metadata": {},
   "outputs": [],
   "source": [
    "BLANK_ID = prep.BLANK_ID\n",
    "C = 5\n",
    "D_in = 300\n",
    "D_out_max = 70\n",
    "n_hidden = 200\n",
    "BS = 64  # batch size\n",
    "LR = 0.05\n",
    "NF = 256 # features in residualblock\n",
    "\n",
    "#DEVICE = torch.device(\"cpu\")\n",
    "DEVICE = torch.device(\"cuda:0\")"
   ]
  },
  {
   "cell_type": "markdown",
   "metadata": {},
   "source": [
    "## Load Data"
   ]
  },
  {
   "cell_type": "code",
   "execution_count": 4,
   "metadata": {},
   "outputs": [],
   "source": [
    "base_dir = \"data/feather-files/\"\n",
    "path_data = Path(base_dir)\n",
    "data_set_name = f'Range0-100-FixLabelLen{D_out_max}'\n",
    "feather_folder = path_data/data_set_name"
   ]
  },
  {
   "cell_type": "code",
   "execution_count": 5,
   "metadata": {},
   "outputs": [],
   "source": [
    "# Read data from feather\n",
    "data = f.read_data_from_feather_file(feather_folder)\n",
    "x, y, y_lengths = data\n",
    "\n",
    "# Convert to databunch\n",
    "train, valid = prep.convert_to_datasets(data, split=.8)\n",
    "databunch = DataBunch.create(train, valid, bs=BS, device=DEVICE)"
   ]
  },
  {
   "cell_type": "markdown",
   "metadata": {},
   "source": [
    "## Model"
   ]
  },
  {
   "cell_type": "code",
   "execution_count": 6,
   "metadata": {},
   "outputs": [],
   "source": [
    "# Create lengths to be used in ctc_loss\n",
    "y_pred_lengths = prep.get_prediction_lengths(D_in, BS)"
   ]
  },
  {
   "cell_type": "code",
   "execution_count": 7,
   "metadata": {},
   "outputs": [],
   "source": [
    "ctc_loss = nn.CTCLoss()\n",
    "def ctc_loss_custom(y_pred_b: torch.Tensor, y_b: torch.Tensor, y_lengths) -> float:\n",
    "    if y_pred_lengths.shape[0] != y_pred_b.shape[0]:\n",
    "        new_len = y_pred_b.shape[0]\n",
    "        y_pred_lengths_ = y_pred_lengths[:new_len]\n",
    "    else:\n",
    "        y_pred_lengths_ = y_pred_lengths\n",
    "        \n",
    "    y_pred_b_ = y_pred_b.reshape((y_pred_b.shape[1], y_pred_b.shape[0], C))\n",
    "\n",
    "    return ctc_loss(y_pred_b_, y_b, y_pred_lengths_, y_lengths)    "
   ]
  },
  {
   "cell_type": "code",
   "execution_count": 8,
   "metadata": {},
   "outputs": [],
   "source": [
    "loss_func = ctc_loss_custom"
   ]
  },
  {
   "cell_type": "code",
   "execution_count": 9,
   "metadata": {},
   "outputs": [],
   "source": [
    "def _conv(ni, nf, ks=1, padding=0): return nn.Conv1d(ni, nf, kernel_size=ks, stride=1, padding=padding)\n",
    "def _conv_layers(ni, nf): \n",
    "    return nn.Sequential(\n",
    "        _conv(ni, NF)\n",
    "        ,nn.ReLU()\n",
    "        ,_conv(NF, NF, 3, padding=1)\n",
    "        ,nn.ReLU()\n",
    "        ,_conv(NF, nf)\n",
    "    )"
   ]
  },
  {
   "cell_type": "code",
   "execution_count": 10,
   "metadata": {},
   "outputs": [],
   "source": [
    "class ResidualBlock(nn.Module):\n",
    "    def __init__(self, ni, nf):\n",
    "        super().__init__()\n",
    "        self.module = _conv_layers(ni, nf)\n",
    "        self.residual = _conv(ni, nf)\n",
    "    \n",
    "    def forward(self, x):\n",
    "        out_a = self.module(x)\n",
    "        out_b = self.residual(x)\n",
    "        \n",
    "        return nn.ReLU()(out_a + out_b)\n",
    "\n",
    "class LstmBlock(nn.Module):\n",
    "    def __init__(self, input_size, window_size, output_size, no_of_layers):\n",
    "        super().__init__()\n",
    "        self.lstm = nn.LSTM(input_size, output_size, no_of_layers, bidirectional=True)\n",
    "        \n",
    "        ## Multiply by 2 because of bidirectional\n",
    "        h0 = torch.zeros(2*no_of_layers, window_size, output_size).cuda()\n",
    "        c0 = torch.zeros(2*no_of_layers, window_size, output_size).cuda()\n",
    "        self.hidden=(h0,c0)\n",
    "        \n",
    "    def forward(self, x):\n",
    "        (x1, x2, x3) = x.shape\n",
    "        x_ = x.reshape(x1, x3, x2)\n",
    "        ## res.shape = (batch_size, output_size, output_size*2)\n",
    "        res, _ = self.lstm(x_, self.hidden)\n",
    "        return res\n",
    "        \n",
    "    \n",
    "model = nn.Sequential(\n",
    "    ResidualBlock(1, NF)\n",
    "    ,ResidualBlock(NF, NF)\n",
    "    ,ResidualBlock(NF, NF)\n",
    "    ,ResidualBlock(NF, NF)\n",
    "    ,ResidualBlock(NF, NF)\n",
    "    ,nn.BatchNorm1d(NF)\n",
    "    \n",
    "    ,LstmBlock(NF, D_in, n_hidden, no_of_layers=4)\n",
    "    \n",
    "    ,nn.Linear(n_hidden*2,5)\n",
    "    ,nn.LogSoftmax(dim=2)\n",
    ").cuda()"
   ]
  },
  {
   "cell_type": "code",
   "execution_count": 11,
   "metadata": {},
   "outputs": [],
   "source": [
    "learner = Learner(databunch, model.cuda(), loss_func=loss_func)"
   ]
  },
  {
   "cell_type": "code",
   "execution_count": 12,
   "metadata": {},
   "outputs": [],
   "source": [
    "learner2 = learner.load('chiron')\n"
   ]
  },
  {
   "cell_type": "code",
   "execution_count": null,
   "metadata": {},
   "outputs": [],
   "source": [
    "learner.lr_find()\n",
    "learner.recorder.plot(suggestion=True)"
   ]
  },
  {
   "cell_type": "code",
   "execution_count": null,
   "metadata": {},
   "outputs": [],
   "source": [
    "learner.fit_one_cycle(1, max_lr=4.8e-4)"
   ]
  },
  {
   "cell_type": "code",
   "execution_count": null,
   "metadata": {},
   "outputs": [],
   "source": []
  },
  {
   "cell_type": "code",
   "execution_count": null,
   "metadata": {},
   "outputs": [],
   "source": [
    "learner.save('chiron')"
   ]
  },
  {
   "cell_type": "code",
   "execution_count": 13,
   "metadata": {},
   "outputs": [],
   "source": [
    "x, (y, _) = databunch.one_batch()\n",
    "y_pred = model(x.cuda()).detach().cpu().numpy()"
   ]
  },
  {
   "cell_type": "code",
   "execution_count": null,
   "metadata": {},
   "outputs": [],
   "source": []
  },
  {
   "cell_type": "code",
   "execution_count": 23,
   "metadata": {},
   "outputs": [
    {
     "name": "stdout",
     "output_type": "stream",
     "text": [
      "GGGACGCAGGAGGCTAAGCAAACCAGACGATTGGAA\n",
      "CCCCCC 5 0.9166666666666666\n",
      "CCCCCCCCCA 6 0.8055555555555556\n",
      "CACCCCCCACCAC 7 0.7222222222222223\n",
      "CACACCCCACCAC 8 0.7222222222222222\n",
      "CACACCCCACCAC 9 0.7222222222222222\n",
      "CACACCCCACCAC 10 0.7222222222222222\n",
      "CCCCACCCACCAC 11 0.75\n"
     ]
    }
   ],
   "source": [
    "index = 0\n",
    "actual = pop.convert_idx_to_base_sequence(y[index])\n",
    "print(actual)\n",
    "for beam in range(5,12):\n",
    "    decoded = pop.decode(y_pred, threshold=.01, beam_size=beam)   \n",
    "    predicted = decoded[index]\n",
    "    error = pop.calc_sequence_error_metrics(actual, predicted)\n",
    "    print(predicted, beam, error.error)\n",
    "    del predicted"
   ]
  },
  {
   "cell_type": "code",
   "execution_count": null,
   "metadata": {},
   "outputs": [],
   "source": []
  }
 ],
 "metadata": {
  "kernelspec": {
   "display_name": "Python 3",
   "language": "python",
   "name": "python3"
  },
  "language_info": {
   "codemirror_mode": {
    "name": "ipython",
    "version": 3
   },
   "file_extension": ".py",
   "mimetype": "text/x-python",
   "name": "python",
   "nbconvert_exporter": "python",
   "pygments_lexer": "ipython3",
   "version": "3.7.6"
  }
 },
 "nbformat": 4,
 "nbformat_minor": 2
}
