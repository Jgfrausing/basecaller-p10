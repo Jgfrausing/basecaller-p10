{
 "cells": [
  {
   "cell_type": "markdown",
   "metadata": {},
   "source": [
    "# Creating a Databunch for Basecalling"
   ]
  },
  {
   "cell_type": "code",
   "execution_count": 1,
   "metadata": {},
   "outputs": [],
   "source": [
    "%reload_ext autoreload\n",
    "%autoreload 2\n",
    "%matplotlib inline"
   ]
  },
  {
   "cell_type": "code",
   "execution_count": 2,
   "metadata": {
    "scrolled": true
   },
   "outputs": [],
   "source": [
    "from fastai.basics import *\n",
    "\n",
    "import jkbc.utils.preprocessing as prep\n",
    "import jkbc.utils.postprocessing as pop\n",
    "import jkbc.utils.files as f"
   ]
  },
  {
   "cell_type": "markdown",
   "metadata": {},
   "source": [
    "## Constants"
   ]
  },
  {
   "cell_type": "code",
   "execution_count": 3,
   "metadata": {},
   "outputs": [],
   "source": [
    "BLANK_ID = 4\n",
    "C = 5\n",
    "D_in = 300\n",
    "D_h = 201\n",
    "D_out_max = 60\n",
    "n_hidden = 200\n",
    "BS = 64  # batch size\n",
    "LR = 0.05\n",
    "NF = 256 # features in residualblock\n",
    "\n",
    "#DEVICE = torch.device(\"cpu\")\n",
    "DEVICE = torch.device(\"cuda:0\")"
   ]
  },
  {
   "cell_type": "markdown",
   "metadata": {},
   "source": [
    "## Load Data"
   ]
  },
  {
   "cell_type": "code",
   "execution_count": 4,
   "metadata": {},
   "outputs": [],
   "source": [
    "base_dir = \"data/feather-files/\"\n",
    "path_data = Path(base_dir)\n",
    "data_set_name = 'Range0-3-FixLabelLen60'\n",
    "feather_folder = path_data/data_set_name"
   ]
  },
  {
   "cell_type": "code",
   "execution_count": 6,
   "metadata": {},
   "outputs": [],
   "source": [
    "# Read data from feather\n",
    "data = f.read_data_from_feather_file(feather_folder)\n",
    "x, y_train = data\n",
    "\n",
    "# Convert to databunch\n",
    "train, valid = prep.convert_to_datasets(data, split=.8, window_size=D_in)\n",
    "databunch = DataBunch.create(train, valid, bs=BS, device=DEVICE)"
   ]
  },
  {
   "cell_type": "code",
   "execution_count": 8,
   "metadata": {},
   "outputs": [],
   "source": [
    "# Create lengths to be used in ctc_loss\n",
    "y_pred_lengths, y_lengths = prep.get_y_lengths(D_in, D_out_max, BS)"
   ]
  },
  {
   "cell_type": "markdown",
   "metadata": {},
   "source": [
    "## Model"
   ]
  },
  {
   "cell_type": "code",
   "execution_count": 9,
   "metadata": {},
   "outputs": [],
   "source": [
    "ctc_loss = nn.CTCLoss()\n",
    "def ctc_loss_custom(y_pred_b: torch.Tensor, y_b: torch.Tensor) -> float:\n",
    "    if y_pred_lengths.shape[0] != y_pred_b.shape[0]:\n",
    "        new_len = y_pred_b.shape[0]\n",
    "        y_pred_lengths_ = y_pred_lengths[:new_len]\n",
    "        y_lengths_ = y_lengths[:new_len]\n",
    "    else:\n",
    "        y_pred_lengths_ = y_pred_lengths\n",
    "        y_lengths_ = y_lengths\n",
    "    \n",
    "    y_pred_b_ = y_pred_b.reshape((y_pred_b.shape[1], y_pred_b.shape[0], C))\n",
    "\n",
    "    return ctc_loss(y_pred_b_, y_b, y_pred_lengths_, y_lengths_)    "
   ]
  },
  {
   "cell_type": "code",
   "execution_count": 10,
   "metadata": {},
   "outputs": [],
   "source": [
    "loss_func = ctc_loss_custom"
   ]
  },
  {
   "cell_type": "code",
   "execution_count": 11,
   "metadata": {},
   "outputs": [],
   "source": [
    "def _conv(ni, nf, ks=1, padding=0): return nn.Conv1d(ni, nf, kernel_size=ks, stride=1, padding=padding)\n",
    "def _conv_layers(ni, nf): \n",
    "    return nn.Sequential(\n",
    "        _conv(ni, NF)\n",
    "        ,nn.ReLU()\n",
    "        ,_conv(NF, NF, 3, padding=1)\n",
    "        ,nn.ReLU()\n",
    "        ,_conv(NF, nf)\n",
    "    )"
   ]
  },
  {
   "cell_type": "code",
   "execution_count": 12,
   "metadata": {},
   "outputs": [],
   "source": [
    "class ResidualBlock(nn.Module):\n",
    "    def __init__(self, ni, nf):\n",
    "        super().__init__()\n",
    "        self.module = _conv_layers(ni, nf)\n",
    "        self.residual = _conv(ni, nf)\n",
    "    \n",
    "    def forward(self, x):\n",
    "        out_a = self.module(x)\n",
    "        out_b = self.residual(x)\n",
    "        \n",
    "        return nn.ReLU()(out_a + out_b)\n",
    "\n",
    "class LstmBlock(nn.Module):\n",
    "    def __init__(self, input_size, window_size, output_size, no_of_layers):\n",
    "        super().__init__()\n",
    "        self.lstm = nn.LSTM(input_size, output_size, no_of_layers, bidirectional=True)\n",
    "        \n",
    "        ## Multiply by 2 because of bidirectional\n",
    "        h0 = torch.zeros(2*no_of_layers, window_size, output_size).cuda()\n",
    "        c0 = torch.zeros(2*no_of_layers, window_size, output_size).cuda()\n",
    "        self.hidden=(h0,c0)\n",
    "        \n",
    "    def forward(self, x):\n",
    "        (x1, x2, x3) = x.shape\n",
    "        x_ = x.reshape(x1, x3, x2)\n",
    "        ## res.shape = (batch_size, output_size, output_size*2)\n",
    "        res, _ = self.lstm(x_, self.hidden)\n",
    "        return res\n",
    "        \n",
    "    \n",
    "model = nn.Sequential(\n",
    "    ResidualBlock(1, NF)\n",
    "    ,ResidualBlock(NF, NF)\n",
    "    ,ResidualBlock(NF, NF)\n",
    "    ,ResidualBlock(NF, NF)\n",
    "    ,ResidualBlock(NF, NF)\n",
    "    ,nn.BatchNorm1d(NF)\n",
    "    \n",
    "    ,LstmBlock(NF, D_in, n_hidden, no_of_layers=4)\n",
    "    \n",
    "    ,nn.Linear(n_hidden*2,5)\n",
    "    ,nn.LogSoftmax(dim=2)\n",
    ").cuda()"
   ]
  },
  {
   "cell_type": "code",
   "execution_count": 13,
   "metadata": {},
   "outputs": [],
   "source": [
    "learner = Learner(databunch, model.cuda(), loss_func=loss_func)"
   ]
  },
  {
   "cell_type": "code",
   "execution_count": 14,
   "metadata": {},
   "outputs": [
    {
     "data": {
      "text/html": [
       "\n",
       "    <div>\n",
       "        <style>\n",
       "            /* Turns off some styling */\n",
       "            progress {\n",
       "                /* gets rid of default border in Firefox and Opera. */\n",
       "                border: none;\n",
       "                /* Needs to be in here for Safari polyfill so background images work as expected. */\n",
       "                background-size: auto;\n",
       "            }\n",
       "            .progress-bar-interrupted, .progress-bar-interrupted::-webkit-progress-bar {\n",
       "                background: #F44336;\n",
       "            }\n",
       "        </style>\n",
       "      <progress value='0' class='' max='1', style='width:300px; height:20px; vertical-align: middle;'></progress>\n",
       "      0.00% [0/1 00:00<00:00]\n",
       "    </div>\n",
       "    \n",
       "<table border=\"1\" class=\"dataframe\">\n",
       "  <thead>\n",
       "    <tr style=\"text-align: left;\">\n",
       "      <th>epoch</th>\n",
       "      <th>train_loss</th>\n",
       "      <th>valid_loss</th>\n",
       "      <th>time</th>\n",
       "    </tr>\n",
       "  </thead>\n",
       "  <tbody>\n",
       "  </tbody>\n",
       "</table><p>\n",
       "\n",
       "    <div>\n",
       "        <style>\n",
       "            /* Turns off some styling */\n",
       "            progress {\n",
       "                /* gets rid of default border in Firefox and Opera. */\n",
       "                border: none;\n",
       "                /* Needs to be in here for Safari polyfill so background images work as expected. */\n",
       "                background-size: auto;\n",
       "            }\n",
       "            .progress-bar-interrupted, .progress-bar-interrupted::-webkit-progress-bar {\n",
       "                background: #F44336;\n",
       "            }\n",
       "        </style>\n",
       "      <progress value='95' class='' max='228', style='width:300px; height:20px; vertical-align: middle;'></progress>\n",
       "      41.67% [95/228 00:09<00:13 6.5243]\n",
       "    </div>\n",
       "    "
      ],
      "text/plain": [
       "<IPython.core.display.HTML object>"
      ]
     },
     "metadata": {},
     "output_type": "display_data"
    },
    {
     "name": "stdout",
     "output_type": "stream",
     "text": [
      "LR Finder is complete, type {learner_name}.recorder.plot() to see the graph.\n",
      "Min numerical gradient: 6.92E-04\n",
      "Min loss divided by 10: 3.02E-02\n"
     ]
    },
    {
     "data": {
      "image/png": "[encoded data removed]",
      "text/plain": [
       "<Figure size 432x288 with 1 Axes>"
      ]
     },
     "metadata": {
      "needs_background": "light"
     },
     "output_type": "display_data"
    }
   ],
   "source": [
    "learner.lr_find()\n",
    "learner.recorder.plot(suggestion=True)"
   ]
  },
  {
   "cell_type": "code",
   "execution_count": 15,
   "metadata": {},
   "outputs": [
    {
     "data": {
      "text/html": [
       "<table border=\"1\" class=\"dataframe\">\n",
       "  <thead>\n",
       "    <tr style=\"text-align: left;\">\n",
       "      <th>epoch</th>\n",
       "      <th>train_loss</th>\n",
       "      <th>valid_loss</th>\n",
       "      <th>time</th>\n",
       "    </tr>\n",
       "  </thead>\n",
       "  <tbody>\n",
       "    <tr>\n",
       "      <td>0</td>\n",
       "      <td>0.203497</td>\n",
       "      <td>0.086462</td>\n",
       "      <td>00:24</td>\n",
       "    </tr>\n",
       "  </tbody>\n",
       "</table>"
      ],
      "text/plain": [
       "<IPython.core.display.HTML object>"
      ]
     },
     "metadata": {},
     "output_type": "display_data"
    }
   ],
   "source": [
    "learner.fit_one_cycle(1, max_lr=1e-3)"
   ]
  },
  {
   "cell_type": "code",
   "execution_count": 16,
   "metadata": {},
   "outputs": [],
   "source": [
    "learner.save('chiron')"
   ]
  },
  {
   "cell_type": "code",
   "execution_count": 17,
   "metadata": {},
   "outputs": [],
   "source": [
    "learner2 = learner.load('chiron')"
   ]
  },
  {
   "cell_type": "code",
   "execution_count": 18,
   "metadata": {},
   "outputs": [],
   "source": [
    "x, y = databunch.one_batch()\n",
    "y_pred = model(x.cuda())"
   ]
  },
  {
   "cell_type": "code",
   "execution_count": 19,
   "metadata": {},
   "outputs": [],
   "source": [
    "y_pred_0 = np.random.rand(64, 300, 5)\n",
    "y_pred_0.shape\n",
    "decoded = pop.decode(y_pred_0)"
   ]
  },
  {
   "cell_type": "code",
   "execution_count": 20,
   "metadata": {},
   "outputs": [
    {
     "data": {
      "text/plain": [
       "['GCGCGGTGCTCGTCGCGTCGTCTCGTTGCGGCCGTGTGTGCTGCCTCGGCGCTCTCCGTCTGGCGTGTCTCGTGCGCGCTGTTCTGGTGCTCG',\n",
       " 'TGCGTTGTGTGTCGCGTGCTTCTGCGCTTCGCTGTGCTCTGCTGCTTCTGTGTTTGCGCTCGTGTCCCGTGTCTCCTCGTCGGCTGTCCTCTTGCGCTCTG',\n",
       " 'CTTCTCTCCGCTGCGGCTGTCGCGCTGTGTCGCGTCTGTCTCGTGCTGCGCGCGCGCGTGTGTCGCTGTGTCTCGTGTCGTCGGCCTCGTCGTCTGCCTCTGC',\n",
       " 'GTCCGCTCGTGTCTGCTCGCTTGTCTCCGCGCCTGGCGCTGTTCTTGCGCTGCTCCGCTCTTCGTCCCGCTCGCTTCGTGCTTGGC',\n",
       " 'TGCTGCTGCGCTGTGGCCTCCCTGTGTGTGGGTCCTTGTTGGCGCGCTTCTCTTGTTGCGTTGCTCTGTCTCTTGCTGCGCGTGTCGCGCTGCTCGCTCGG',\n",
       " 'TCTCCTGTTGTGCTCTCTCTGTGTGCTCGCCGGTCTGCCTGTCGCCGGTGTGTCCGCCTGTGCTGTGTGCGCGTTCGCTTCGTGGGTGGGTTCTGCGCG',\n",
       " 'CGTGTCGTCGCTCCTGTGTGTGTCTCTCTCGTGCGCGTGTCGTCCGCTTCCGTGTGTCGGCGCTCCTGGCGTGCGTTCGCGCTGTGCGCTCTGTGTCGTGCGCGGTCGG',\n",
       " 'GTCGTGTCTCTGCCTGTCTCGCGCTGCGGTGCTGCTCTCGTGTCGTCTGCTCGTGCCGCTCGCTGTCTCGTCGTGGCGGCGCGCGCGTGTGTGTGGT',\n",
       " 'GTCGTTCTGGTGTCGCGTCCTCCGCGGCGGTGTCGCGTGGTCTCGTCGTTTCTGCGTGTCGGCGCGCTGTTGTGTCTCTCTCCGCTCTGCT',\n",
       " 'CTGCGCTGTCGCTTGTGTCTCTTTGCTGCTGTGTGGTCTCGCTGCGCTCTCGGTCGCTGTGTGTCTCTGTCGCGTCTGTCCTCGCGTGCGTGTCTCTGT',\n",
       " 'GTGTGCGTCGCCCTGCGTCTCGTGTGCTCGTCGTGCGTCTCTGTCTCGCTCTGCGCTGCGGTCGGCTCGCGTGTCGCTTCCCTCTGTG',\n",
       " 'TCTCGGGTCCGCGCCTCGCTGGTTCTCGTGCTGTGTGCGGCTGCGTCGTGCTTCTGCTGCTGTGTCTGTGCTGTGTGTGTCTGTT',\n",
       " 'CTCTGCTGCGTGTGTGCGTTCGTCCTCGTGCTCCTCGCGGCGTCTGCGTGTCTCGCTTGTTCGTCTCTGCCTCGTGTGTGTCTCTCGCGTGTG',\n",
       " 'CCTCGCTGCTCCGTTGTCGGCTGCCGCGCTGCGTGGTGGCCGCTCGCTCTGCTTGCGTCGTGCTGTCTGTGCTCGTGTCTGCTCTCTTGTGTC',\n",
       " 'TGGTGGCTGGCGTCGTCCGCTCTGTGCGCCGTCTCTGTGTCTCTTCTCTCTGTGTGCGCGGCTTGTTCGCGTCTTGCGTTTGCGTTGTGTCGTTCCGCGT',\n",
       " 'CGCGCTCTCTCGTGCGCGCTGTGTGGCTCTCTTCGTGCTCTCTGTCTCGCTCGCGTCGGCGTCGTCTCTGCGCGCGTGCTTGCTGTGTCTCCGTCTGC',\n",
       " 'GCCGCTTCCTTGCGTGTGTGCTGGTCTGCCTGCGTCTGGTCTGTGGCCGTCTGTTCTGTCCGGTGTTCTGCTGCGGTCTCGTCTTCGT',\n",
       " 'CGTCTCGTGTTGTTGGCTCCCGTCTGCTGTTGTCTGTGCGCTCGGTCCGCTCTGCTCGCTGTGTGCGGCGCTCTCGTCTTGTGGTGCTGCTCTGTTGCTGTGT',\n",
       " 'TGTGCGCGTCTCTTGTCGTCTGTCTTCTGTGTTCTTCGTCTCTCGTCCCGCTGTCGCGCGGTGTGCGGTTTCGCTTCGTGCTCGCCGTCTGCG',\n",
       " 'GTCGTCTGGTCTCTCGGTCGCTCCTGTCGGTGTCGCGTCGTCTCGTTCGCTCTTCTGCGTGCTCCTGTTCTGCGCTGCGCGTTGCGCGTGCGCGCTCGTCT',\n",
       " 'GGCGTGCTTCTCTGTCTCTCTGGCGCTCTGCGTGCTGCCCGTCGCTGCTCTCTGCGGGTGCGTGTCTGCTCTGCGCGCTCTCGGCTCGCCTCTC',\n",
       " 'CGTGCGGCCTGCTTGTCTGCGCGCTGTGTGCTTGCTGCTCTGGCGGCGTGTTGGTCGTGCGTCTCTCGCCTCTCGCGCTGCGTCTGCGGTGCGTCTGCT',\n",
       " 'CTCGCTCGGTGTCGCTCTCGGGCTCTGTGTCTGGCTGTCTCGTCGCTCCTCGCTCGCTGCTCCTTCCGTGCGGTGCCTCGTGTCGTCTGCGCTGCTGTGCTCGTTCT',\n",
       " 'GTGCCGTGTGCTTTGTCTGTCGTCGCTGTCGTGCTGTGTCTCGGGTCGTGTCGTGCGCTGCTCTGCGCGGTTCTGCGCTCTTCGCGTGGCGTG',\n",
       " 'TGCTGGTTGCGTCGCGGTCGTGGTCTGTCGTCGCTCCTGTGCTGCGCGCGCTGCTCTTGCGTGTCTGTTGTCTCTGCGCGTCGTCTGGCTGCTG',\n",
       " 'CTGTGTCTGTTGGTTCGCTGTGCCTCGTCCTGCGCTTGCTGCGTTGTGCTGTCGCCGTTCTCGTCTCGTTGCTGTGTCTCGTCTCTGGGCT',\n",
       " 'TCGCGCTGTCTGCGCTCGTGTGTCCGTCCGCTGCGCGCGCGTCTGCGCTGCGCGTCTGGTGCTGGTCTCGCTCTCTCTCGCGTCGTGGTCTCGG',\n",
       " 'CGGCGTTCCTCTCCTGTGTGCTCGCTCGTGTCGCGCGGCTCTGTGCTCTGGTCGGTCTCGTTCGCGTGGCGTCGTTGTTGTCGTTGCGTGTCTGTGTCTGT',\n",
       " 'CTGCTCGTGCGTGCGTGCGTCGCGTCTGTGTCTCTGTCGCTCTGGTGTCTGGTGCGTCGTGCCTCTCGTGCGCGCGCGTGTCCGTTCTCTCGTGCGCGCGC',\n",
       " 'TCTGTGCGCTCTGCGTCCGCGCTGTGCGTCGCTGTGTTGCGCTGCGTGCTCGCGCTCTGCTGTGTCTGCGCGCGCTCTCTGTGCTCTGTGTCGTCTG',\n",
       " 'CTCGTTGTGCCGCGTCTCGGCGCGTGTCTGGTCTCGTCGTTTCTGCTGTGTTGTCGGCGCGCCTTCGCGTTCGTCTGTGCTCGCCCGCTGTGTCTCGGT',\n",
       " 'TCTCCTCGCGTGGCGTCTCGCTGTCGTTGCCGCGTTCTGGCGGCCTGCTCGGGTGTGTGCTCTCTGTTGGCGCGTCCTCCGTCTCG',\n",
       " 'TGTCTGCTCGGCGGTGTGTGCTTGCCTTGCTCTTTGTGCGGTGCTCTGCGTGTGCGGTTCGCGTTGCGTGGTGTCTCTTCGCCGG',\n",
       " 'GCGTCCGTGCGCGTGCGGTCTGTGTCGCGCTCTGTCTGTCCTCCTCTGCTGCGCGGGCGCGTCCTGTGCGCTCGCGTCGTGCGTCTGCCTCTTC',\n",
       " 'TCCTCTCTGTGTGTCTGTGCGTCCTCTGTGCGCGCGTCTGGGTCTCTGCTGCGTGGGTGGTCTCTCTGCGGGGCTGTCGCTGTTGCTGGCT',\n",
       " 'CGTGCGCGTTCTCGTCTGGTCGCCTGCGCTCGGTGCTGCTCCGTGTCGTGGCGTCTCGGCTCGCGTCCTGCTTCCGTCTCGCGCCGCGTCTCTCGC',\n",
       " 'TGTGCCGCTCGCTCTTCTGCTCCGTGTCGTCTCTGGTGCTGCGCGGTGCTCTCGCCTCCTCCCTGTCGGCTTGTGCCCCGTCTCGCGTCGTCGCGCTC',\n",
       " 'CTCGCGTCTGCGTTGCGCTGGCGTCGCGCGTGCGCTCTTGCTGCCTCTGTGTGTGTGCGCCTCTGTGCGCGTCTCGCGTGCGCTGCTGTTGTGCTG',\n",
       " 'GTGCGTTGCTCTTCTGCTCTCGGTCGTCGTCGCTCTCTCCTTCGCTCGTGCTCCTGTCTGTTCCTCGTGTCTGCTTGCGTGTCTGTCGTGTCCGTCCTCGTTCTGCGCTC',\n",
       " 'GTGTGCTGGCTCCTCTCGCTCGCTCGCGCCGTGCTCTCGTCTCTCGCTCTCGTGGTGTCGTGCGCGCTGCGCTCGCTCGCCGCTGCGCTCTCTCTGTGCCTTCGCG',\n",
       " 'CGTCGTGCTCTGTGCCGGTGCTTTCGTGTCTCTGTCTGGTCGCGTTGTGTTTCCTCTCGCTCCGTGTGCGCTGCTGTCGTGCTTCTGCGT',\n",
       " 'CTTGCTGCGTCTTTGTCGCTCGTGCGGCCGGGCGCGCTCGTGTCTCCCTCCTGCGCTCGCGCTTCTCGCTGCTCGCGTGCTGCGCTCTCTTCT',\n",
       " 'TGGTGTCTGCTTGTGCTGTCGCGTGCTGTCGTTTCGTCTGCTCTGCGTTCTCTCTGTCCGCGCTGTCTCGCTGTCTCGCTCTCGTCCGTTTTGTCCGTGGCGTCGGCTG',\n",
       " 'GCGTCTTCGGGCGTCGGTCTCTGGCTTCCTTGTCGCCTTCGCGTGCTCTGTCTTGCTGGTGCCCTGTGTGCTCGCGGCGTTCGTGGCTCGGTC',\n",
       " 'TGCTTGCTGGCTCGCGTGCTCGTCTCTGTTCGCGCGTCGTCTGCGTCGTCTCCTGCTCGTGTCGGCGTCCCTTGCTGTTCGTGCGTCGCTCTCTGTGCGCGT',\n",
       " 'TTCTCCTCGCGGTCGCGGCGCGTCTCGTGGCGTGTCGCCCGCTTCGTGCGCGTTCTGCTGTCGCCTCGTGTCGCGTTCCGCGCGCGTCTGCGCGT',\n",
       " 'TTCGTCTCCTCCTCGCCTGGCTGCCGTCGCGCGCGCCTCTCGCGCGTGCGTCTCTGTGGCTGCTGTCTCGTCTCCGCTGGCCTGCGCGCGTGCGTGCGCTGTGC',\n",
       " 'CGCGTCTCGCCGCGCGGGCGCGTCGCTCGCTGTGCTCGCTCTCGCGTCTCCGCTGTTCTCTCTCTCGCTGTGTGCGCGTCGTGGTTGCTGCGTCGCGCTCT',\n",
       " 'TGCCTCGCTCGCGTGTGCTGTCTCTCGCTGTGCCCGGTCGCTCTGCTCTCTCGTGCGCTTGTGGTTCTGCGCCTGTGTGTCTCTCTCGCTGCT',\n",
       " 'TCCGTCTGCGCTCTTGCGTCGCGTCGCTGTCCGCTTTCTCTCTCCTCTGGTGTGTGGTTGCGCGTCGTTCGCTGCGGTGCGTGTCTCTCTGTCTCGTT',\n",
       " 'TGTGTCTCGTCTGTCTCTCGGCTCTGTCGCTGCTGCGTCGGCGCTCCCGTGTTGCGCTTCGTCGCGCTCTGTGGCTGTGTTCGTCTGCGTGTCTCC',\n",
       " 'GCTCGCTGTGGCGCTCTCTGGGGTCGTGTGCTGCTGTGCTCTGCTGTCGTGTCTCGCTGTGTGCGCTTGCCTCTGTGTTTCGCTCGTGGCTCTGCTCGTTCGTCT',\n",
       " 'GTCTGCTCTCGTCCTTCGTGCGTCGTCTCGTGCTCCGCTTGCGTGTGTCGTGCGTGTCGTCTCTGGCTGTCTCTGCCTGTCGCCGGTCTGCGTTTGCTT',\n",
       " 'GTGCTCTGTCTCTGCTCTGCTCTGTGCTGCCGCTCGTCTGTCTGCTCGTGCGCGCGCGCGTGTGTGTGCCTCTCTGCTTCTGTGGTGTCGTCTGCTCTGCGCGCGCGGT',\n",
       " 'CCTGCTGCGTGGGTCGCTCGGCCGTGTGTGCTCTCTCCTGTCGCCTCGCTCTGCGGTTTGCGTGCTCTCTGCGTCGTGCCTCCTCGCGCGTGCT',\n",
       " 'CTCGTTCGTCGCGCGTGTGCGTGCTGCGCTCGTCCGTCGCGCGTCGTGTCTGTCGTCTCGCCTGGCTTTGTTCTCCCTGTGCTGTTGCGCT',\n",
       " 'TCGTCTGCCTGCTGTCTCTCCTCTCGCTCGCTGCTCGTCGCGGCGTGTCTGTCCGCTGCGCGCCGTCGCCGGCGTCGGTTCTCTGGCTGGCGTGGT',\n",
       " 'TGCCTCGTGCTGTGTTGTCGCCCTGTCGTGTCTCTGCGCGCGTGGTGCGCGTGCCTCTCGTGTCTCGTCGTGGGCTGTCTCTCTCTCCGCTGTTCCGCGC',\n",
       " 'GTCGTGCTGTGTGTCGCGCTCCGTCGTGGCTCCGTCTCGGGCGTCTCTGTGTGGCCGCTCGTCGTTCGCTCCGCGCGCGTGCGCTCCCTGCCTCTGCGGT',\n",
       " 'TGTCCTGTGTCTCGTGGGCGTCGTGTGCTGCGGCCTGCTGTTCTCTTGCTGCGCTCTGTGCTTCTGCTGGCGTGCTTGTGCGTCGTGGCTGGCTCG',\n",
       " 'TGCGTCGTTGGTCGCTGCGCGCTCGCTGCGTTGTGTGCTGTCGCTGTTCGTCGTGTGTGTTCTGTGCGTGCTGTGCTCTGCGCCCTTGTGCTGGCGCTGGTGTGTGCT',\n",
       " 'TGGTTGCGTCCGTCTGCGCGCTCGCGCGCGTTGCTCGCTCGCTGTCGCGTGCTGGCTGTCTTCGCGCTCGTGTCTCTCTTGGTCTGCGGCTT',\n",
       " 'GTGGCCGCGGTCTTCTGTGTCCGTGTGCTGTCTCTGTCTCTCGCTGTTCCGCCCGTCTCGCCGGCGTGCTGGCCTCTTGCGTCTGTCCGGCGT',\n",
       " 'TGCTGCTGTCGCGTGCGTCGCTGTTGGCTGTCTTCCGTCTCTGCTGCTGCTCCTCTGCTCGTGCTTCTCTGTGCGTCGTCGTCCCGTGTGTGCTG']"
      ]
     },
     "execution_count": 20,
     "metadata": {},
     "output_type": "execute_result"
    }
   ],
   "source": [
    "decoded"
   ]
  }
 ],
 "metadata": {
  "kernelspec": {
   "display_name": "jkbc",
   "language": "python",
   "name": "jkbc"
  },
  "language_info": {
   "codemirror_mode": {
    "name": "ipython",
    "version": 3
   },
   "file_extension": ".py",
   "mimetype": "text/x-python",
   "name": "python",
   "nbconvert_exporter": "python",
   "pygments_lexer": "ipython3",
   "version": "3.7.6"
  }
 },
 "nbformat": 4,
 "nbformat_minor": 2
}
