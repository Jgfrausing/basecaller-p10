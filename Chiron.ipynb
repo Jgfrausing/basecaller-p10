{
 "cells": [
  {
   "cell_type": "markdown",
   "metadata": {},
   "source": [
    "# Creating a Databunch for Basecalling"
   ]
  },
  {
   "cell_type": "code",
   "execution_count": 1,
   "metadata": {},
   "outputs": [],
   "source": [
    "%reload_ext autoreload\n",
    "%autoreload 2\n",
    "%matplotlib inline"
   ]
  },
  {
   "cell_type": "code",
   "execution_count": 2,
   "metadata": {
    "scrolled": true
   },
   "outputs": [],
   "source": [
    "from fastai.basics import *\n",
    "\n",
    "import jkbc.utils.preprocessing as prep\n",
    "import jkbc.utils.postprocessing as pop\n",
    "import jkbc.utils.files as f\n",
    "import jkbc.types as t"
   ]
  },
  {
   "cell_type": "markdown",
   "metadata": {},
   "source": [
    "## Constants"
   ]
  },
  {
   "cell_type": "code",
   "execution_count": 3,
   "metadata": {},
   "outputs": [],
   "source": [
    "BLANK_ID = prep.BLANK_ID\n",
    "C = 5\n",
    "D_in = 300\n",
    "D_out_max = 70\n",
    "n_hidden = 200\n",
    "BS = 64  # batch size\n",
    "LR = 0.05\n",
    "NF = 256 # features in residualblock\n",
    "\n",
    "#DEVICE = torch.device(\"cpu\")\n",
    "DEVICE = torch.device(\"cuda:0\")"
   ]
  },
  {
   "cell_type": "markdown",
   "metadata": {},
   "source": [
    "## Load Data"
   ]
  },
  {
   "cell_type": "code",
   "execution_count": 4,
   "metadata": {},
   "outputs": [],
   "source": [
    "base_dir = \"data/feather-files/\"\n",
    "path_data = Path(base_dir)\n",
    "data_set_name = f'Range0-5000-FixLabelLen{D_out_max}'\n",
    "feather_folder = path_data/data_set_name"
   ]
  },
  {
   "cell_type": "code",
   "execution_count": 5,
   "metadata": {},
   "outputs": [],
   "source": [
    "# Read data from feather\n",
    "data = f.read_data_from_feather_file(feather_folder)\n",
    "x, y_train = data\n",
    "\n",
    "# Convert to databunch\n",
    "train, valid = prep.convert_to_datasets(data, split=.8)\n",
    "databunch = DataBunch.create(train, valid, bs=BS, device=DEVICE)"
   ]
  },
  {
   "cell_type": "markdown",
   "metadata": {},
   "source": [
    "## Model"
   ]
  },
  {
   "cell_type": "code",
   "execution_count": 22,
   "metadata": {},
   "outputs": [],
   "source": [
    "ctc_loss = nn.CTCLoss()\n",
    "def ctc_loss_custom(y_pred_b: torch.Tensor, y_b: torch.Tensor) -> float:\n",
    "    \n",
    "    y_pred_lengths_, y_lengths_ = get_y_lengths(300, y_b)\n",
    "    \n",
    "    y_pred_b_ = y_pred_b.reshape((y_pred_b.shape[1], y_pred_b.shape[0], C))\n",
    "\n",
    "    return ctc_loss(y_pred_b_, y_b, y_pred_lengths_, y_lengths_)    "
   ]
  },
  {
   "cell_type": "code",
   "execution_count": 23,
   "metadata": {},
   "outputs": [],
   "source": [
    "loss_func = ctc_loss_custom"
   ]
  },
  {
   "cell_type": "code",
   "execution_count": 24,
   "metadata": {},
   "outputs": [],
   "source": [
    "def _conv(ni, nf, ks=1, padding=0): return nn.Conv1d(ni, nf, kernel_size=ks, stride=1, padding=padding)\n",
    "def _conv_layers(ni, nf): \n",
    "    return nn.Sequential(\n",
    "        _conv(ni, NF)\n",
    "        ,nn.ReLU()\n",
    "        ,_conv(NF, NF, 3, padding=1)\n",
    "        ,nn.ReLU()\n",
    "        ,_conv(NF, nf)\n",
    "    )"
   ]
  },
  {
   "cell_type": "code",
   "execution_count": 28,
   "metadata": {},
   "outputs": [],
   "source": [
    "class ResidualBlock(nn.Module):\n",
    "    def __init__(self, ni, nf):\n",
    "        super().__init__()\n",
    "        self.module = _conv_layers(ni, nf)\n",
    "        self.residual = _conv(ni, nf)\n",
    "    \n",
    "    def forward(self, x):\n",
    "        out_a = self.module(x)\n",
    "        out_b = self.residual(x)\n",
    "        \n",
    "        return nn.ReLU()(out_a + out_b)\n",
    "\n",
    "class LstmBlock(nn.Module):\n",
    "    def __init__(self, input_size, window_size, output_size, no_of_layers):\n",
    "        super().__init__()\n",
    "        self.lstm = nn.LSTM(input_size, output_size, no_of_layers, bidirectional=True)\n",
    "        \n",
    "        ## Multiply by 2 because of bidirectional\n",
    "        h0 = torch.zeros(2*no_of_layers, window_size, output_size).cuda()\n",
    "        c0 = torch.zeros(2*no_of_layers, window_size, output_size).cuda()\n",
    "        self.hidden=(h0,c0)\n",
    "        \n",
    "    def forward(self, x):\n",
    "        (x1, x2, x3) = x.shape\n",
    "        x_ = x.reshape(x1, x3, x2)\n",
    "        ## res.shape = (batch_size, output_size, output_size*2)\n",
    "        res, _ = self.lstm(x_, self.hidden)\n",
    "        return res\n",
    "        \n",
    "    \n",
    "model = nn.Sequential(\n",
    "    ResidualBlock(1, NF)\n",
    "    ,ResidualBlock(NF, NF)\n",
    "    ,ResidualBlock(NF, NF)\n",
    "    ,ResidualBlock(NF, NF)\n",
    "    ,ResidualBlock(NF, NF)\n",
    "    ,nn.BatchNorm1d(NF)\n",
    "    \n",
    "    ,LstmBlock(NF, D_in, n_hidden, no_of_layers=4)\n",
    "    \n",
    "    ,nn.Linear(n_hidden*2,5)\n",
    "    ,nn.LogSoftmax(dim=2)\n",
    ").cuda()"
   ]
  },
  {
   "cell_type": "code",
   "execution_count": 29,
   "metadata": {},
   "outputs": [],
   "source": [
    "learner = Learner(databunch, model.cuda(), loss_func=loss_func)"
   ]
  },
  {
   "cell_type": "code",
   "execution_count": 12,
   "metadata": {},
   "outputs": [],
   "source": [
    "learner2 = learner.load('chiron')"
   ]
  },
  {
   "cell_type": "code",
   "execution_count": 49,
   "metadata": {},
   "outputs": [
    {
     "data": {
      "text/html": [
       "\n",
       "    <div>\n",
       "        <style>\n",
       "            /* Turns off some styling */\n",
       "            progress {\n",
       "                /* gets rid of default border in Firefox and Opera. */\n",
       "                border: none;\n",
       "                /* Needs to be in here for Safari polyfill so background images work as expected. */\n",
       "                background-size: auto;\n",
       "            }\n",
       "            .progress-bar-interrupted, .progress-bar-interrupted::-webkit-progress-bar {\n",
       "                background: #F44336;\n",
       "            }\n",
       "        </style>\n",
       "      <progress value='0' class='' max='1', style='width:300px; height:20px; vertical-align: middle;'></progress>\n",
       "      0.00% [0/1 00:00<00:00]\n",
       "    </div>\n",
       "    \n",
       "<table border=\"1\" class=\"dataframe\">\n",
       "  <thead>\n",
       "    <tr style=\"text-align: left;\">\n",
       "      <th>epoch</th>\n",
       "      <th>train_loss</th>\n",
       "      <th>valid_loss</th>\n",
       "      <th>time</th>\n",
       "    </tr>\n",
       "  </thead>\n",
       "  <tbody>\n",
       "  </tbody>\n",
       "</table><p>\n",
       "\n",
       "    <div>\n",
       "        <style>\n",
       "            /* Turns off some styling */\n",
       "            progress {\n",
       "                /* gets rid of default border in Firefox and Opera. */\n",
       "                border: none;\n",
       "                /* Needs to be in here for Safari polyfill so background images work as expected. */\n",
       "                background-size: auto;\n",
       "            }\n",
       "            .progress-bar-interrupted, .progress-bar-interrupted::-webkit-progress-bar {\n",
       "                background: #F44336;\n",
       "            }\n",
       "        </style>\n",
       "      <progress value='88' class='' max='10353', style='width:300px; height:20px; vertical-align: middle;'></progress>\n",
       "      0.85% [88/10353 00:18<36:21 5.9772]\n",
       "    </div>\n",
       "    "
      ],
      "text/plain": [
       "<IPython.core.display.HTML object>"
      ]
     },
     "metadata": {},
     "output_type": "display_data"
    },
    {
     "name": "stdout",
     "output_type": "stream",
     "text": [
      "LR Finder is complete, type {learner_name}.recorder.plot() to see the graph.\n",
      "Min numerical gradient: 2.29E-02\n",
      "Min loss divided by 10: 3.31E-07\n"
     ]
    },
    {
     "data": {
      "image/png": "[encoded data removed]",
      "text/plain": [
       "<Figure size 432x288 with 1 Axes>"
      ]
     },
     "metadata": {
      "needs_background": "light"
     },
     "output_type": "display_data"
    }
   ],
   "source": [
    "learner.lr_find()\n",
    "learner.recorder.plot(suggestion=True)"
   ]
  },
  {
   "cell_type": "code",
   "execution_count": null,
   "metadata": {},
   "outputs": [
    {
     "data": {
      "text/html": [
       "\n",
       "    <div>\n",
       "        <style>\n",
       "            /* Turns off some styling */\n",
       "            progress {\n",
       "                /* gets rid of default border in Firefox and Opera. */\n",
       "                border: none;\n",
       "                /* Needs to be in here for Safari polyfill so background images work as expected. */\n",
       "                background-size: auto;\n",
       "            }\n",
       "            .progress-bar-interrupted, .progress-bar-interrupted::-webkit-progress-bar {\n",
       "                background: #F44336;\n",
       "            }\n",
       "        </style>\n",
       "      <progress value='0' class='' max='1', style='width:300px; height:20px; vertical-align: middle;'></progress>\n",
       "      0.00% [0/1 00:00<00:00]\n",
       "    </div>\n",
       "    \n",
       "<table border=\"1\" class=\"dataframe\">\n",
       "  <thead>\n",
       "    <tr style=\"text-align: left;\">\n",
       "      <th>epoch</th>\n",
       "      <th>train_loss</th>\n",
       "      <th>valid_loss</th>\n",
       "      <th>time</th>\n",
       "    </tr>\n",
       "  </thead>\n",
       "  <tbody>\n",
       "  </tbody>\n",
       "</table><p>\n",
       "\n",
       "    <div>\n",
       "        <style>\n",
       "            /* Turns off some styling */\n",
       "            progress {\n",
       "                /* gets rid of default border in Firefox and Opera. */\n",
       "                border: none;\n",
       "                /* Needs to be in here for Safari polyfill so background images work as expected. */\n",
       "                background-size: auto;\n",
       "            }\n",
       "            .progress-bar-interrupted, .progress-bar-interrupted::-webkit-progress-bar {\n",
       "                background: #F44336;\n",
       "            }\n",
       "        </style>\n",
       "      <progress value='3653' class='' max='10353', style='width:300px; height:20px; vertical-align: middle;'></progress>\n",
       "      35.28% [3653/10353 12:44<23:22 1.5271]\n",
       "    </div>\n",
       "    "
      ],
      "text/plain": [
       "<IPython.core.display.HTML object>"
      ]
     },
     "metadata": {},
     "output_type": "display_data"
    }
   ],
   "source": [
    "learner.fit_one_cycle(1, max_lr=5e-4)"
   ]
  },
  {
   "cell_type": "code",
   "execution_count": 31,
   "metadata": {},
   "outputs": [],
   "source": [
    "learner.save('chiron')"
   ]
  },
  {
   "cell_type": "code",
   "execution_count": 32,
   "metadata": {},
   "outputs": [
    {
     "data": {
      "text/plain": [
       "array([-0.393254, -2.543035, -2.394301, -2.547822, -2.563601], dtype=float32)"
      ]
     },
     "execution_count": 32,
     "metadata": {},
     "output_type": "execute_result"
    }
   ],
   "source": [
    "x, y = databunch.one_batch()\n",
    "y_pred = model(x.cuda()).detach().cpu().numpy()\n",
    "y_pred[0,0]"
   ]
  },
  {
   "cell_type": "code",
   "execution_count": 47,
   "metadata": {},
   "outputs": [],
   "source": [
    "decoded = pop.decode(y_pred, threshold=.01, beam_size=10)"
   ]
  },
  {
   "cell_type": "code",
   "execution_count": 48,
   "metadata": {},
   "outputs": [
    {
     "data": {
      "text/plain": [
       "('CTAAAGCTATTTCGGAGAGAA',\n",
       " 'CG',\n",
       " tensor([2, 4, 1, 1, 1, 3, 2, 4, 1, 4, 4, 4, 2, 3, 3, 1, 3, 1, 3, 1, 1, 0, 0, 0,\n",
       "         0, 0, 0, 0, 0, 0, 0, 0, 0, 0, 0, 0, 0, 0, 0, 0, 0, 0, 0, 0, 0, 0, 0, 0,\n",
       "         0, 0, 0, 0, 0, 0, 0, 0, 0, 0, 0, 0, 0, 0, 0, 0, 0, 0, 0, 0, 0, 0]),\n",
       " 0.9047619047619048)"
      ]
     },
     "execution_count": 48,
     "metadata": {},
     "output_type": "execute_result"
    }
   ],
   "source": [
    "index = 9\n",
    "predicted = decoded[index]\n",
    "actual = pop.convert_idx_to_base_sequence(y[index])\n",
    "error = pop.calc_sequence_error_metrics(actual, predicted)\n",
    "actual, predicted, y[index], error.error"
   ]
  },
  {
   "cell_type": "code",
   "execution_count": 20,
   "metadata": {},
   "outputs": [],
   "source": [
    "def index_or_last(lst, value):\n",
    "    if value not in lst:\n",
    "        return len(lst)-1\n",
    "    else:\n",
    "        return lst.index(value)"
   ]
  },
  {
   "cell_type": "code",
   "execution_count": 21,
   "metadata": {},
   "outputs": [],
   "source": [
    "def get_y_lengths(y_pred_len: int, labels: int) -> t.Tuple[np.ndarray, np.ndarray]:\n",
    "    batch_size = len(labels)\n",
    "    prediction_lengths = torch.ones(batch_size, dtype=torch.long)*y_pred_len\n",
    "    label_lengths = torch.LongTensor([index_or_last(list(x),0) for x in labels])\n",
    "    \n",
    "    return prediction_lengths, label_lengths"
   ]
  },
  {
   "cell_type": "code",
   "execution_count": null,
   "metadata": {},
   "outputs": [],
   "source": []
  }
 ],
 "metadata": {
  "kernelspec": {
   "display_name": "jkbc",
   "language": "python",
   "name": "jkbc"
  },
  "language_info": {
   "codemirror_mode": {
    "name": "ipython",
    "version": 3
   },
   "file_extension": ".py",
   "mimetype": "text/x-python",
   "name": "python",
   "nbconvert_exporter": "python",
   "pygments_lexer": "ipython3",
   "version": "3.7.6"
  }
 },
 "nbformat": 4,
 "nbformat_minor": 2
}
