{
 "cells": [
  {
   "cell_type": "markdown",
   "metadata": {},
   "source": [
    "# Creating a Databunch for Basecalling"
   ]
  },
  {
   "cell_type": "code",
   "execution_count": 2,
   "metadata": {},
   "outputs": [],
   "source": [
    "%reload_ext autoreload\n",
    "%autoreload 2\n",
    "%matplotlib inline"
   ]
  },
  {
   "cell_type": "code",
   "execution_count": 3,
   "metadata": {
    "scrolled": true
   },
   "outputs": [],
   "source": [
    "from fastai.basics import *\n",
    "\n",
    "import jkbc.utils.preprocessing as prep\n",
    "import jkbc.utils.postprocessing as pop\n",
    "import jkbc.utils.files as f"
   ]
  },
  {
   "cell_type": "markdown",
   "metadata": {},
   "source": [
    "## Constants"
   ]
  },
  {
   "cell_type": "code",
   "execution_count": 4,
   "metadata": {},
   "outputs": [],
   "source": [
    "BLANK_ID = 4\n",
    "C = 5\n",
    "D_in = 300\n",
    "D_h = 201\n",
    "D_out_max = 60\n",
    "n_hidden = 400\n",
    "BS = 64 #64 # batch size\n",
    "LR = 0.05\n",
    "\n",
    "#DEVICE = torch.device(\"cpu\")\n",
    "DEVICE = torch.device(\"cuda:0\")"
   ]
  },
  {
   "cell_type": "markdown",
   "metadata": {},
   "source": [
    "## Load Data"
   ]
  },
  {
   "cell_type": "code",
   "execution_count": 5,
   "metadata": {},
   "outputs": [],
   "source": [
    "base_dir = \"data/feather-files/\"\n",
    "path_data = Path(base_dir)\n",
    "data_set_name = 'Range0-100-FixLabelLen60'\n",
    "feather_folder = path_data/data_set_name"
   ]
  },
  {
   "cell_type": "code",
   "execution_count": 6,
   "metadata": {},
   "outputs": [],
   "source": [
    "# Read data from feather\n",
    "data = f.read_data_from_feather_file(feather_folder)\n",
    "x, y_train = data\n",
    "\n",
    "# Convert to databunch\n",
    "train, valid = prep.convert_to_datasets(data, split=.8, window_size=D_in)\n",
    "databunch = DataBunch.create(train, valid, bs=BS, device=DEVICE)"
   ]
  },
  {
   "cell_type": "code",
   "execution_count": 7,
   "metadata": {},
   "outputs": [],
   "source": [
    "# Create lengths to be used in ctc_loss\n",
    "y_pred_lengths, y_lengths = prep.get_y_lengths(D_in, D_out_max, BS)"
   ]
  },
  {
   "cell_type": "markdown",
   "metadata": {},
   "source": [
    "## Model"
   ]
  },
  {
   "cell_type": "code",
   "execution_count": 8,
   "metadata": {},
   "outputs": [],
   "source": [
    "ctc_loss = nn.CTCLoss()\n",
    "def ctc_loss_custom(y_pred_b: torch.Tensor, y_b: torch.Tensor) -> float:\n",
    "    if y_pred_lengths.shape[0] != y_pred_b.shape[0]:\n",
    "        new_len = y_pred_b.shape[0]\n",
    "        y_pred_lengths_ = y_pred_lengths[:new_len]\n",
    "        y_lengths_ = y_lengths[:new_len]\n",
    "    else:\n",
    "        y_pred_lengths_ = y_pred_lengths\n",
    "        y_lengths_ = y_lengths\n",
    "    \n",
    "    y_pred_b_ = y_pred_b.reshape((y_pred_b.shape[1], y_pred_b.shape[0], C))\n",
    "\n",
    "    return ctc_loss(y_pred_b_, y_b, y_pred_lengths_, y_lengths_)    "
   ]
  },
  {
   "cell_type": "code",
   "execution_count": 9,
   "metadata": {},
   "outputs": [],
   "source": [
    "loss_func = ctc_loss_custom"
   ]
  },
  {
   "cell_type": "code",
   "execution_count": 10,
   "metadata": {},
   "outputs": [],
   "source": [
    "def conv(ni, nf): return nn.Conv1d(ni, nf, kernel_size=3, stride=2, padding=1)\n",
    "\n",
    "model = nn.Sequential(\n",
    "    nn.Linear(300, 500)\n",
    "    ,nn.ReLU()\n",
    "    ,nn.Linear(500, 300)\n",
    "    ,conv(1, 8) # 150\n",
    "    ,nn.BatchNorm1d(8)\n",
    "    ,conv(8,16) # 75\n",
    "    ,nn.BatchNorm1d(16)\n",
    "    ,conv(16,32) # 37\n",
    "    ,nn.BatchNorm1d(32)\n",
    "    ,conv(32,64) # 19\n",
    "    ,nn.BatchNorm1d(64)\n",
    "    ,conv(64,128) # 10\n",
    "    ,nn.BatchNorm1d(128)\n",
    "    ,conv(128,D_in) # 5\n",
    "    ,nn.BatchNorm1d(D_in)\n",
    "    ,nn.LogSoftmax(dim=0)\n",
    ")"
   ]
  },
  {
   "cell_type": "code",
   "execution_count": 11,
   "metadata": {},
   "outputs": [
    {
     "data": {
      "text/plain": [
       "<bound method Module.modules of Sequential(\n",
       "  (0): Linear(in_features=300, out_features=500, bias=True)\n",
       "  (1): ReLU()\n",
       "  (2): Linear(in_features=500, out_features=300, bias=True)\n",
       "  (3): Conv1d(1, 8, kernel_size=(3,), stride=(2,), padding=(1,))\n",
       "  (4): BatchNorm1d(8, eps=1e-05, momentum=0.1, affine=True, track_running_stats=True)\n",
       "  (5): Conv1d(8, 16, kernel_size=(3,), stride=(2,), padding=(1,))\n",
       "  (6): BatchNorm1d(16, eps=1e-05, momentum=0.1, affine=True, track_running_stats=True)\n",
       "  (7): Conv1d(16, 32, kernel_size=(3,), stride=(2,), padding=(1,))\n",
       "  (8): BatchNorm1d(32, eps=1e-05, momentum=0.1, affine=True, track_running_stats=True)\n",
       "  (9): Conv1d(32, 64, kernel_size=(3,), stride=(2,), padding=(1,))\n",
       "  (10): BatchNorm1d(64, eps=1e-05, momentum=0.1, affine=True, track_running_stats=True)\n",
       "  (11): Conv1d(64, 128, kernel_size=(3,), stride=(2,), padding=(1,))\n",
       "  (12): BatchNorm1d(128, eps=1e-05, momentum=0.1, affine=True, track_running_stats=True)\n",
       "  (13): Conv1d(128, 300, kernel_size=(3,), stride=(2,), padding=(1,))\n",
       "  (14): BatchNorm1d(300, eps=1e-05, momentum=0.1, affine=True, track_running_stats=True)\n",
       "  (15): Softmax(dim=0)\n",
       ")>"
      ]
     },
     "execution_count": 11,
     "metadata": {},
     "output_type": "execute_result"
    }
   ],
   "source": [
    "model.modules"
   ]
  },
  {
   "cell_type": "code",
   "execution_count": 12,
   "metadata": {},
   "outputs": [],
   "source": [
    "learner = Learner(databunch, model.cuda(), loss_func=loss_func)"
   ]
  },
  {
   "cell_type": "code",
   "execution_count": 13,
   "metadata": {},
   "outputs": [
    {
     "data": {
      "text/plain": [
       "Learner(data=DataBunch;\n",
       "\n",
       "Train: <torch.utils.data.dataset.TensorDataset object at 0x7f6efc065710>;\n",
       "\n",
       "Valid: <torch.utils.data.dataset.TensorDataset object at 0x7f6f824c4110>;\n",
       "\n",
       "Test: None, model=Sequential(\n",
       "  (0): Linear(in_features=300, out_features=500, bias=True)\n",
       "  (1): ReLU()\n",
       "  (2): Linear(in_features=500, out_features=300, bias=True)\n",
       "  (3): Conv1d(1, 8, kernel_size=(3,), stride=(2,), padding=(1,))\n",
       "  (4): BatchNorm1d(8, eps=1e-05, momentum=0.1, affine=True, track_running_stats=True)\n",
       "  (5): Conv1d(8, 16, kernel_size=(3,), stride=(2,), padding=(1,))\n",
       "  (6): BatchNorm1d(16, eps=1e-05, momentum=0.1, affine=True, track_running_stats=True)\n",
       "  (7): Conv1d(16, 32, kernel_size=(3,), stride=(2,), padding=(1,))\n",
       "  (8): BatchNorm1d(32, eps=1e-05, momentum=0.1, affine=True, track_running_stats=True)\n",
       "  (9): Conv1d(32, 64, kernel_size=(3,), stride=(2,), padding=(1,))\n",
       "  (10): BatchNorm1d(64, eps=1e-05, momentum=0.1, affine=True, track_running_stats=True)\n",
       "  (11): Conv1d(64, 128, kernel_size=(3,), stride=(2,), padding=(1,))\n",
       "  (12): BatchNorm1d(128, eps=1e-05, momentum=0.1, affine=True, track_running_stats=True)\n",
       "  (13): Conv1d(128, 300, kernel_size=(3,), stride=(2,), padding=(1,))\n",
       "  (14): BatchNorm1d(300, eps=1e-05, momentum=0.1, affine=True, track_running_stats=True)\n",
       "  (15): Softmax(dim=0)\n",
       "), opt_func=functools.partial(<class 'torch.optim.adam.Adam'>, betas=(0.9, 0.99)), loss_func=<function ctc_loss_custom at 0x7f6ef52d3440>, metrics=[], true_wd=True, bn_wd=True, wd=0.01, train_bn=True, path=PosixPath('.'), model_dir='models', callback_fns=[functools.partial(<class 'fastai.basic_train.Recorder'>, add_time=True, silent=False)], callbacks=[], layer_groups=[Sequential(\n",
       "  (0): Linear(in_features=300, out_features=500, bias=True)\n",
       "  (1): ReLU()\n",
       "  (2): Linear(in_features=500, out_features=300, bias=True)\n",
       "  (3): Conv1d(1, 8, kernel_size=(3,), stride=(2,), padding=(1,))\n",
       "  (4): BatchNorm1d(8, eps=1e-05, momentum=0.1, affine=True, track_running_stats=True)\n",
       "  (5): Conv1d(8, 16, kernel_size=(3,), stride=(2,), padding=(1,))\n",
       "  (6): BatchNorm1d(16, eps=1e-05, momentum=0.1, affine=True, track_running_stats=True)\n",
       "  (7): Conv1d(16, 32, kernel_size=(3,), stride=(2,), padding=(1,))\n",
       "  (8): BatchNorm1d(32, eps=1e-05, momentum=0.1, affine=True, track_running_stats=True)\n",
       "  (9): Conv1d(32, 64, kernel_size=(3,), stride=(2,), padding=(1,))\n",
       "  (10): BatchNorm1d(64, eps=1e-05, momentum=0.1, affine=True, track_running_stats=True)\n",
       "  (11): Conv1d(64, 128, kernel_size=(3,), stride=(2,), padding=(1,))\n",
       "  (12): BatchNorm1d(128, eps=1e-05, momentum=0.1, affine=True, track_running_stats=True)\n",
       "  (13): Conv1d(128, 300, kernel_size=(3,), stride=(2,), padding=(1,))\n",
       "  (14): BatchNorm1d(300, eps=1e-05, momentum=0.1, affine=True, track_running_stats=True)\n",
       "  (15): Softmax(dim=0)\n",
       ")], add_time=True, silent=False)"
      ]
     },
     "execution_count": 13,
     "metadata": {},
     "output_type": "execute_result"
    }
   ],
   "source": [
    "learner.load('Simple-CNN')"
   ]
  },
  {
   "cell_type": "code",
   "execution_count": 14,
   "metadata": {},
   "outputs": [
    {
     "data": {
      "text/html": [
       "\n",
       "    <div>\n",
       "        <style>\n",
       "            /* Turns off some styling */\n",
       "            progress {\n",
       "                /* gets rid of default border in Firefox and Opera. */\n",
       "                border: none;\n",
       "                /* Needs to be in here for Safari polyfill so background images work as expected. */\n",
       "                background-size: auto;\n",
       "            }\n",
       "            .progress-bar-interrupted, .progress-bar-interrupted::-webkit-progress-bar {\n",
       "                background: #F44336;\n",
       "            }\n",
       "        </style>\n",
       "      <progress value='0' class='' max='1', style='width:300px; height:20px; vertical-align: middle;'></progress>\n",
       "      0.00% [0/1 00:00<00:00]\n",
       "    </div>\n",
       "    \n",
       "<table border=\"1\" class=\"dataframe\">\n",
       "  <thead>\n",
       "    <tr style=\"text-align: left;\">\n",
       "      <th>epoch</th>\n",
       "      <th>train_loss</th>\n",
       "      <th>valid_loss</th>\n",
       "      <th>time</th>\n",
       "    </tr>\n",
       "  </thead>\n",
       "  <tbody>\n",
       "  </tbody>\n",
       "</table><p>\n",
       "\n",
       "    <div>\n",
       "        <style>\n",
       "            /* Turns off some styling */\n",
       "            progress {\n",
       "                /* gets rid of default border in Firefox and Opera. */\n",
       "                border: none;\n",
       "                /* Needs to be in here for Safari polyfill so background images work as expected. */\n",
       "                background-size: auto;\n",
       "            }\n",
       "            .progress-bar-interrupted, .progress-bar-interrupted::-webkit-progress-bar {\n",
       "                background: #F44336;\n",
       "            }\n",
       "        </style>\n",
       "      <progress value='96' class='' max='9775', style='width:300px; height:20px; vertical-align: middle;'></progress>\n",
       "      0.98% [96/9775 00:02<03:35 17.4378]\n",
       "    </div>\n",
       "    "
      ],
      "text/plain": [
       "<IPython.core.display.HTML object>"
      ]
     },
     "metadata": {},
     "output_type": "display_data"
    },
    {
     "name": "stdout",
     "output_type": "stream",
     "text": [
      "LR Finder is complete, type {learner_name}.recorder.plot() to see the graph.\n",
      "Min numerical gradient: 4.79E-04\n",
      "Min loss divided by 10: 3.31E-01\n"
     ]
    },
    {
     "data": {
      "image/png": "[encoded data removed]",
      "text/plain": [
       "<Figure size 432x288 with 1 Axes>"
      ]
     },
     "metadata": {
      "needs_background": "light"
     },
     "output_type": "display_data"
    }
   ],
   "source": [
    "learner.lr_find()\n",
    "learner.recorder.plot(suggestion=True)"
   ]
  },
  {
   "cell_type": "code",
   "execution_count": 15,
   "metadata": {},
   "outputs": [
    {
     "data": {
      "text/html": [
       "<table border=\"1\" class=\"dataframe\">\n",
       "  <thead>\n",
       "    <tr style=\"text-align: left;\">\n",
       "      <th>epoch</th>\n",
       "      <th>train_loss</th>\n",
       "      <th>valid_loss</th>\n",
       "      <th>time</th>\n",
       "    </tr>\n",
       "  </thead>\n",
       "  <tbody>\n",
       "    <tr>\n",
       "      <td>0</td>\n",
       "      <td>16.816484</td>\n",
       "      <td>17.013346</td>\n",
       "      <td>02:15</td>\n",
       "    </tr>\n",
       "  </tbody>\n",
       "</table>"
      ],
      "text/plain": [
       "<IPython.core.display.HTML object>"
      ]
     },
     "metadata": {},
     "output_type": "display_data"
    }
   ],
   "source": [
    "learner.fit_one_cycle(1, max_lr=5e-4)"
   ]
  },
  {
   "cell_type": "code",
   "execution_count": 17,
   "metadata": {},
   "outputs": [],
   "source": [
    "learner.save('Simple-CNN')"
   ]
  },
  {
   "cell_type": "code",
   "execution_count": 14,
   "metadata": {},
   "outputs": [],
   "source": [
    "x, y = databunch.one_batch()\n",
    "y_pred = model(x.cuda()).cpu().detach().numpy()"
   ]
  },
  {
   "cell_type": "code",
   "execution_count": null,
   "metadata": {},
   "outputs": [],
   "source": [
    "one_example = list(y_pred) #[0][None,:,:]\n",
    "decoded = pop.decode(one_example)\n",
    "decoded"
   ]
  },
  {
   "cell_type": "code",
   "execution_count": null,
   "metadata": {},
   "outputs": [],
   "source": []
  }
 ],
 "metadata": {
  "kernelspec": {
   "display_name": "jkbc",
   "language": "python",
   "name": "jkbc"
  },
  "language_info": {
   "codemirror_mode": {
    "name": "ipython",
    "version": 3
   },
   "file_extension": ".py",
   "mimetype": "text/x-python",
   "name": "python",
   "nbconvert_exporter": "python",
   "pygments_lexer": "ipython3",
   "version": "3.7.6"
  }
 },
 "nbformat": 4,
 "nbformat_minor": 2
}
