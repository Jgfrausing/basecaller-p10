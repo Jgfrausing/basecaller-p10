{
 "cells": [
  {
   "cell_type": "markdown",
   "metadata": {},
   "source": [
    "# Creating a Databunch for Basecalling"
   ]
  },
  {
   "cell_type": "code",
   "execution_count": 1,
   "metadata": {},
   "outputs": [],
   "source": [
    "%reload_ext autoreload\n",
    "%autoreload 2\n",
    "%matplotlib inline"
   ]
  },
  {
   "cell_type": "code",
   "execution_count": 2,
   "metadata": {
    "scrolled": true
   },
   "outputs": [],
   "source": [
    "from fastai.basics import *\n",
    "\n",
    "import jkbc.utils.preprocessing as prep\n",
    "import jkbc.utils.files as f"
   ]
  },
  {
   "cell_type": "code",
   "execution_count": 3,
   "metadata": {},
   "outputs": [],
   "source": [
    "RANGE_FROM     = 0\n",
    "RANGE_TO       = 100\n",
    "FIX_LABEL_LEN  = 60  # Needed to avoid issues with jacked arrays\n",
    "BLANK_ID       = 4\n",
    "FOLDERPATH     = 'feather-files/'\n",
    "FOLDERNAME     = f'{FOLDERPATH}Range{RANGE_FROM}-{RANGE_TO}-FixLabelLen{FIX_LABEL_LEN}'"
   ]
  },
  {
   "cell_type": "markdown",
   "metadata": {},
   "source": [
    "## Load Data"
   ]
  },
  {
   "cell_type": "code",
   "execution_count": 4,
   "metadata": {},
   "outputs": [],
   "source": [
    "base_dir = \"/mnt/sdb/taiyaki_mapped/\"\n",
    "path_data = Path(base_dir)\n",
    "\n",
    "data_set_name = 'small_umi16to9.hdf5'\n",
    "collection = prep.SignalCollection(path_data/data_set_name)"
   ]
  },
  {
   "cell_type": "markdown",
   "metadata": {},
   "source": [
    "## Preprocess Data"
   ]
  },
  {
   "cell_type": "code",
   "execution_count": 5,
   "metadata": {},
   "outputs": [],
   "source": [
    "def get_range(collection: prep.SignalCollection, ran: range)-> Tuple[np.ndarray, np.ndarray]:\n",
    "    x = None\n",
    "    y = None\n",
    "    for i in ran:\n",
    "        # Getting data\n",
    "        data = collection[i]\n",
    "        data_fields = np.array(data.x), np.array(data.y), data.reference\n",
    "        _x, _y, _ = data_fields # we don't use the full reference while training\n",
    "\n",
    "        # Concating into a single collection\n",
    "        x = _x if x is None else np.concatenate((x, _x))\n",
    "        y = _y if y is None else np.concatenate((y, _y))\n",
    "    \n",
    "    # Adding padding\n",
    "    y_padded = prep.add_label_padding(labels = y, fixed_label_len = FIX_LABEL_LEN, padding_id = BLANK_ID)\n",
    "    \n",
    "    return (x, y_padded)"
   ]
  },
  {
   "cell_type": "code",
   "execution_count": 6,
   "metadata": {},
   "outputs": [
    {
     "name": "stdout",
     "output_type": "stream",
     "text": [
      "Processing 0000b441-4cc6-42a7-bdfe-310f9e560e57 (0)\n",
      "Processing 00016f22-28b9-4c1a-93ac-da73e66bab27 (1)\n",
      "Processing 0001e785-de10-4ec3-80d7-310d6ce0af3e (2)\n",
      "Processing 0002e2a3-d3b5-417b-8df6-2bb246c246e2 (3)\n",
      "Processing 000367d6-8c24-4a35-8f26-9af6f3fdc513 (4)\n",
      "Processing 0003854d-8576-4199-b7f9-5effedad36a8 (5)\n",
      "Processing 0003ae19-5d14-4935-960b-747157bc58bc (6)\n",
      "Processing 0003bddb-4bdf-4888-a31a-a131a846ff65 (7)\n",
      "Processing 0004d0df-be8d-4302-a0f4-63334422e561 (8)\n",
      "Processing 00054cec-632d-4754-b610-afe3743b51f8 (9)\n",
      "Processing 00055b21-193e-4c2c-953a-74cf189f248f (10)\n",
      "Processing 0005808e-0f97-4abe-ab57-68553255f980 (11)\n",
      "Processing 0005ff17-fcb5-443a-9a0f-5a854e3c1f30 (12)\n",
      "Processing 0006f86c-9a4a-47b0-b6c0-390c790fe0c4 (13)\n",
      "Processing 0007dd8d-14bc-4385-a541-9d799075688e (14)\n",
      "Processing 0009d90b-63d9-4688-9c29-822eb34481be (15)\n",
      "Processing 000a9c32-a6f8-48d2-833b-025123d28d09 (16)\n",
      "Processing 000aa87c-7bce-4fe4-9c00-6389a12904c1 (17)\n",
      "Processing 000ba577-f903-4f26-8104-143cfce0fc52 (18)\n",
      "Processing 000c43a4-b223-42b5-b520-dbc6653f1056 (19)\n",
      "Processing 000e20a4-b621-434f-8ba2-bbeb1ea954ec (20)\n",
      "Processing 000eed97-4732-4a59-adf5-2c604371bb0e (21)\n",
      "Processing 000f694e-28c4-473d-8083-80bb5e1d42a4 (22)\n",
      "Processing 00105d4c-220e-432d-bef8-9c7d4f37603e (23)\n",
      "Processing 0010d9e3-6530-4655-8648-8dec179b777d (24)\n",
      "Processing 00135aba-9dd3-4486-a071-f22e5c81b1e5 (25)\n",
      "Processing 0016592d-a3c7-482a-bff9-28a705bcca81 (26)\n",
      "Processing 001698e6-60c3-4186-8939-563b6c557e11 (27)\n",
      "Processing 0016ced6-0018-4808-bb27-5daa544aa930 (28)\n",
      "Processing 001840e3-512d-4bee-8dd2-cba385f88e4f (29)\n",
      "Processing 001ab186-669b-4b74-bdd3-24b05f152fc3 (30)\n",
      "Processing 001d0153-0636-4b5b-b70f-ce9720b97be6 (31)\n",
      "Processing 001d55d6-e474-4fab-8195-c4ec78e68cdd (32)\n",
      "Processing 001db063-4e0b-407a-83e6-46a445a008e3 (33)\n",
      "Processing 001eb321-54ec-4c08-bc18-e438687a0fea (34)\n",
      "Processing 001fa3bf-9d25-4201-a02e-9d88554ae786 (35)\n",
      "Processing 0020a6b0-6e9f-4365-9e42-8985114c0d9b (36)\n",
      "Processing 0020b223-9d51-428a-992b-100b7e5ed4c0 (37)\n",
      "Processing 0020d794-b9a0-498b-a11e-7f549dc61396 (38)\n",
      "Processing 0021cf33-c030-4a82-98c0-020bc17bda5d (39)\n",
      "Processing 00224d30-a4e4-4b7a-887a-908ee1b6b2e2 (40)\n",
      "Processing 0023d57b-c582-42e1-b791-2e3062a4d898 (41)\n",
      "Processing 002526ac-1252-4167-9a89-878d1f1f2b93 (42)\n",
      "Processing 00260c0b-0d04-4fc9-9ede-60e57ecc141d (43)\n",
      "Processing 0026c27f-033e-4a0e-badf-21d9fcbf980a (44)\n",
      "Processing 0026e5b8-5a65-44fe-986d-889fc0729abd (45)\n",
      "Processing 002746b5-9a62-44ee-88f4-6488325cbd59 (46)\n",
      "Processing 002866ab-002d-4a01-91db-a3a99b885085 (47)\n",
      "Processing 0028c834-e0f6-4b43-a37f-0bf2ae8638dc (48)\n",
      "Processing 0029b4f4-b149-4bb2-b177-f87c38f85e4b (49)\n",
      "Processing 0029d9f2-da27-4406-a794-fe38ae08605d (50)\n",
      "Processing 0029df0b-9cc3-4f88-bbdf-bf25d89122e1 (51)\n",
      "Processing 002a01e9-3bb3-48e4-a239-681a6b74ef4d (52)\n",
      "Processing 002b09e7-5d27-4fb0-990c-09528fceda17 (53)\n",
      "Processing 002ba26b-6cad-4619-89e8-c8ac69f6c7ce (54)\n",
      "Processing 002c0e37-b608-4da8-93f8-6563aaaf6fee (55)\n",
      "Processing 002c1bbe-ed32-404b-9841-3c44ed955ba3 (56)\n",
      "Processing 002db935-28c8-40a9-8014-24c995cbf4d1 (57)\n",
      "Processing 002e1eee-8964-45bc-85f7-78ce51c6de68 (58)\n",
      "Processing 002efccd-f565-47f2-926a-37dd8db3d4e6 (59)\n",
      "Processing 002fff4a-4e34-4181-95f5-6da581b18724 (60)\n",
      "Processing 0030dec7-cc17-4db4-9509-2fb4ade3b2cf (61)\n",
      "Processing 0030e003-1d2c-41a8-bd02-1986fc443597 (62)\n",
      "Processing 0031863c-8bbd-4e3b-968b-918b339a5380 (63)\n",
      "Processing 0031ca50-fd5d-4eb7-9b4a-ca9202fbeb15 (64)\n",
      "Processing 0032d018-5795-4129-b059-dedf742775e5 (65)\n",
      "Processing 00332d41-f363-41fb-a8c6-746cdcf8eb96 (66)\n",
      "Processing 0033a43b-62fd-4028-bfad-8b4706bca94b (67)\n",
      "Processing 003476ce-4c68-47aa-9b7d-5f25e68ac377 (68)\n",
      "Processing 0035138c-4332-47d4-b9fe-3d79ecb4193a (69)\n",
      "Processing 00351894-a699-483a-81f9-b0b9ab49727a (70)\n",
      "Processing 0036d83e-c20e-4991-b4bc-e21fed782fce (71)\n",
      "Processing 00398cf1-5117-4b73-a877-329f8a6db3bd (72)\n",
      "Processing 003aba78-0768-44d0-8bd9-88d78cef6bcc (73)\n",
      "Processing 003bb54c-e18a-4754-a432-33082c2c793f (74)\n",
      "Processing 003c641b-562d-4db5-9ba7-e5db83a47bbb (75)\n",
      "Processing 003ca7a0-6b16-4cf9-9b61-9ed86d4cf099 (76)\n",
      "Processing 003e185c-d7c3-4752-a3f8-8682f76bcfd4 (77)\n",
      "Processing 003e3686-2982-4a01-a4f1-aa24a75b9f45 (78)\n",
      "Processing 003e49fc-9c32-4765-adde-f8cf338c5557 (79)\n",
      "Processing 003fb729-abf6-4ff8-9b73-6c019355724d (80)\n",
      "Processing 0040ad70-407d-428b-95bc-1c5d23fbbf04 (81)\n",
      "Processing 00414de1-ba4b-48bd-9037-c04e04261429 (82)\n",
      "Processing 00418e41-5e53-4a0e-af1b-bde8c4bf01f6 (83)\n",
      "Processing 0041abb5-d3d4-4eb7-baa8-1746d525927d (84)\n",
      "Processing 0042f934-d4cc-438b-8420-5ea9d99cc344 (85)\n",
      "Processing 00440606-6403-4bf7-9b35-64f324f54b25 (86)\n",
      "Processing 00470c17-0e44-416b-9c9c-f992a2cccee3 (87)\n",
      "Processing 0047de0f-ace0-4538-8d9b-3bfabebd2139 (88)\n",
      "Processing 0047f551-2911-46bc-9cf7-854bf8f35b4c (89)\n",
      "Processing 0049e67b-698c-45c2-b104-66cd131341ef (90)\n",
      "Processing 004a3698-b25d-46fb-bfd0-f855f1348cf8 (91)\n",
      "Processing 004a4edf-a614-44bb-8d2f-f42a9b072205 (92)\n",
      "Processing 004dba40-e7df-4378-b3ce-a45f5bb9fa8c (93)\n",
      "Processing 004dfa3f-b298-4aee-ac68-d9e29c852c59 (94)\n",
      "Processing 004e05ea-946d-4d21-93b5-80f889cde2ac (95)\n",
      "Processing 004e428a-a92f-4b79-8dcb-c6227b715fd4 (96)\n",
      "Processing 004e4ff8-f77f-46c1-9970-a4bf40063d3f (97)\n",
      "Processing 004e9143-72fc-45ce-887f-b42556eec1c3 (98)\n",
      "Processing 0050fc90-1c69-4078-862e-d9efb44b5324 (99)\n"
     ]
    }
   ],
   "source": [
    "# Get data range\n",
    "data = get_range(collection, range(RANGE_FROM, RANGE_TO));\n",
    "x, y = data "
   ]
  },
  {
   "cell_type": "code",
   "execution_count": 7,
   "metadata": {},
   "outputs": [],
   "source": [
    "f.write_data_to_feather_file(FOLDERNAME, data)"
   ]
  },
  {
   "cell_type": "markdown",
   "metadata": {},
   "source": [
    "## TEST\n",
    "Used when changes are made to test that `data > write > read == data`"
   ]
  },
  {
   "cell_type": "code",
   "execution_count": 8,
   "metadata": {},
   "outputs": [],
   "source": [
    "x_, y_ = f.read_data_from_feather_file(FOLDERNAME)"
   ]
  },
  {
   "cell_type": "code",
   "execution_count": 9,
   "metadata": {},
   "outputs": [],
   "source": [
    "assert x_.shape == x.shape\n",
    "assert y_.shape == y.shape\n",
    "assert x_.dtype == x.dtype\n",
    "assert y_.dtype == y.dtype"
   ]
  },
  {
   "cell_type": "code",
   "execution_count": 10,
   "metadata": {},
   "outputs": [],
   "source": [
    "def equal_sum(a, b):\n",
    "    assert sum([sum(x) for x in a]) == sum([sum(x) for x in b])"
   ]
  },
  {
   "cell_type": "code",
   "execution_count": 11,
   "metadata": {},
   "outputs": [],
   "source": [
    "equal_sum(x, x_), equal_sum(y, y_);"
   ]
  },
  {
   "cell_type": "code",
   "execution_count": null,
   "metadata": {},
   "outputs": [],
   "source": []
  }
 ],
 "metadata": {
  "kernelspec": {
   "display_name": "Python 3",
   "language": "python",
   "name": "python3"
  },
  "language_info": {
   "codemirror_mode": {
    "name": "ipython",
    "version": 3
   },
   "file_extension": ".py",
   "mimetype": "text/x-python",
   "name": "python",
   "nbconvert_exporter": "python",
   "pygments_lexer": "ipython3",
   "version": "3.7.4"
  }
 },
 "nbformat": 4,
 "nbformat_minor": 2
}
