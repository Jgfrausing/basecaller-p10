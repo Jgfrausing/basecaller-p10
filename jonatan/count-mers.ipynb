{
 "cells": [
  {
   "cell_type": "code",
   "execution_count": 1,
   "metadata": {},
   "outputs": [],
   "source": [
    "from matplotlib import pyplot as plt\n",
    "import F5Utils\n",
    "from collections import Counter\n",
    "import itertools\n",
    "import re"
   ]
  },
  {
   "cell_type": "code",
   "execution_count": 2,
   "metadata": {},
   "outputs": [],
   "source": [
    "#TODO: Add more files\n",
    "#TODO: Get filepath smarter\n",
    "files = [\"../somedata/multifast5/umi10000bins/batch0.fast5\", \"../somedata/multifast5/umi10001bins/batch0.fast5\", \"../somedata/multifast5/umi10002bins/batch0.fast5\"]\n",
    "reads = []\n",
    "for f in files:\n",
    "    n = next(F5Utils.getReads(f))\n",
    "    reads.append(str(n[0]).split(\"\\\\n\")[1])   "
   ]
  },
  {
   "cell_type": "code",
   "execution_count": 3,
   "metadata": {},
   "outputs": [],
   "source": [
    "file = \"../useful_files/zymo-ref-uniq_2019-03-15.fa\"\n",
    "with open(file, 'r') as f:\n",
    "    data = f.read()\n",
    "regex = re.compile('>.*\\\\n')\n",
    "data = regex.split(data)\n",
    "ref_data = [d.replace('\\n', '') for d in data[1:]]"
   ]
  },
  {
   "cell_type": "code",
   "execution_count": 4,
   "metadata": {},
   "outputs": [],
   "source": [
    "def get_mers(mer_size, reads):\n",
    "    all_mers = itertools.product([\"A\", \"C\", \"G\", \"T\"], repeat=mer_size)\n",
    "    all_mers = [''.join(item) for item in all_mers]\n",
    "    possible_mers_count = len(all_mers)\n",
    "    \n",
    "    mers = []\n",
    "    for read in reads:\n",
    "        mers.extend(read[i:i+mer_size] for i in range(0, len(read)-mer_size))\n",
    "\n",
    "    mer_dict = dict(Counter(mers))\n",
    "    unseen = set(all_mers)-set(mer_dict.keys())\n",
    "    \n",
    "    sorted_mer_list = sorted(mer_dict.items(), key=lambda item: item[1], reverse=True)\n",
    "    \n",
    "    return all_mers, possible_mers_count, sorted_mer_list, unseen"
   ]
  },
  {
   "cell_type": "code",
   "execution_count": 5,
   "metadata": {},
   "outputs": [],
   "source": [
    "def plot_mers(sorted_mer_list, mer_size, unseen, possible_mers_count):\n",
    "    names = [i[0] for i in sorted_mer_list]\n",
    "    values = [i[1] for i in sorted_mer_list]  \n",
    "    \n",
    "    plt.bar(names, values)\n",
    "    plt.savefig('curve.png')\n",
    "    plt.show()\n",
    "    print(f\"Unseen {mer_size}-mers = {len(unseen)} of {possible_mers_count} ({len(unseen)/possible_mers_count*100}%)\")\n",
    "    print(unseen)\n",
    "    print(f\"Most seen {mer_size}-mers\")\n",
    "    print(sorted_mer_list[:10])\n",
    "    print(f\"Least seen {mer_size}-mers\")\n",
    "    print(list(reversed(sorted_mer_list[-10:])))\n",
    "    "
   ]
  },
  {
   "cell_type": "code",
   "execution_count": 6,
   "metadata": {},
   "outputs": [
    {
     "data": {
      "image/png": "[encoded data removed]",
      "text/plain": [
       "<Figure size 432x288 with 1 Axes>"
      ]
     },
     "metadata": {
      "needs_background": "light"
     },
     "output_type": "display_data"
    },
    {
     "name": "stdout",
     "output_type": "stream",
     "text": [
      "Unseen 5-mers = 0 of 1024 (0.0%)\n",
      "set()\n",
      "Most seen 5-mers\n",
      "[('AAGGT', 716), ('GTGAA', 705), ('GGGGA', 652), ('GAAGG', 644), ('GAAAG', 643), ('GGTGA', 636), ('TGAAA', 617), ('GGGAG', 598), ('CGAAA', 582), ('GGAGG', 565)]\n",
      "Least seen 5-mers\n",
      "[('TACGC', 12), ('CAATA', 15), ('CCTAT', 19), ('CTATG', 23), ('TCAAT', 25), ('GTCTA', 26), ('TCTAT', 31), ('CTCAT', 32), ('CTATT', 34), ('TTGCG', 35)]\n"
     ]
    }
   ],
   "source": [
    "mer_size = 5\n",
    "\n",
    "all_mers, possible_mers_count, sorted_mer_list, unseen = get_mers(mer_size, ref_data)\n",
    "plot_mers(sorted_mer_list, mer_size, unseen, possible_mers_count)"
   ]
  },
  {
   "cell_type": "code",
   "execution_count": 7,
   "metadata": {},
   "outputs": [
    {
     "data": {
      "image/png": "[encoded data removed]",
      "text/plain": [
       "<Figure size 432x288 with 1 Axes>"
      ]
     },
     "metadata": {
      "needs_background": "light"
     },
     "output_type": "display_data"
    },
    {
     "name": "stdout",
     "output_type": "stream",
     "text": [
      "Unseen 1-mers = 0 of 4 (0.0%)\n",
      "set()\n",
      "Most seen 1-mers\n",
      "[('G', 58413), ('A', 52266), ('C', 42290), ('T', 41047)]\n",
      "Least seen 1-mers\n",
      "[('T', 41047), ('C', 42290), ('A', 52266), ('G', 58413)]\n"
     ]
    }
   ],
   "source": [
    "mer_size = 1\n",
    "\n",
    "all_mers, possible_mers_count, sorted_mer_list, unseen = get_mers(mer_size, ref_data)\n",
    "plot_mers(sorted_mer_list, mer_size, unseen, possible_mers_count)"
   ]
  },
  {
   "cell_type": "code",
   "execution_count": 10,
   "metadata": {},
   "outputs": [
    {
     "data": {
      "text/plain": [
       "44"
      ]
     },
     "execution_count": 10,
     "metadata": {},
     "output_type": "execute_result"
    }
   ],
   "source": [
    "len(ref_data)\n"
   ]
  },
  {
   "cell_type": "code",
   "execution_count": 9,
   "metadata": {},
   "outputs": [
    {
     "data": {
      "text/plain": [
       "3"
      ]
     },
     "execution_count": 9,
     "metadata": {},
     "output_type": "execute_result"
    }
   ],
   "source": [
    "len(reads)"
   ]
  }
 ],
 "metadata": {
  "kernelspec": {
   "display_name": "Python 3",
   "language": "python",
   "name": "python3"
  },
  "language_info": {
   "codemirror_mode": {
    "name": "ipython",
    "version": 3
   },
   "file_extension": ".py",
   "mimetype": "text/x-python",
   "name": "python",
   "nbconvert_exporter": "python",
   "pygments_lexer": "ipython3",
   "version": "3.7.3"
  }
 },
 "nbformat": 4,
 "nbformat_minor": 4
}
